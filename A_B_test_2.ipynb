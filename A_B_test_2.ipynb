{
 "cells": [
  {
   "cell_type": "markdown",
   "metadata": {},
   "source": [
    "# Проект - Принятие решений в бизнесе"
   ]
  },
  {
   "cell_type": "markdown",
   "metadata": {},
   "source": [
    "Контекст\n",
    "\n",
    "Вы — аналитик крупного интернет-магазина. Вместе с отделом маркетинга вы подготовили список гипотез для увеличения выручки. \n",
    "\n",
    "Приоритизируйте гипотезы, запустите A/B-тест и проанализируйте результаты."
   ]
  },
  {
   "cell_type": "markdown",
   "metadata": {},
   "source": [
    "# Часть 1. Приоритизация гипотез"
   ]
  },
  {
   "cell_type": "markdown",
   "metadata": {},
   "source": [
    "В файле /datasets/hypothesis.csv 9 гипотез по увеличению выручки интернет-магазина с указанными параметрами Reach, Impact, Confidence, Effort.\n"
   ]
  },
  {
   "cell_type": "markdown",
   "metadata": {},
   "source": [
    "## Задача\n",
    "1. Примените фреймворк ICE для приоритизации гипотез. Отсортируйте их по убыванию приоритета.\n",
    "2. Примените фреймворк RICE для приоритизации гипотез. Отсортируйте их по убыванию приоритета.\n",
    "3. Укажите, как изменилась приоритизация гипотез при применении RICE вместо ICE. Объясните, почему так произошло."
   ]
  },
  {
   "cell_type": "code",
   "execution_count": 1,
   "metadata": {},
   "outputs": [],
   "source": [
    "import pandas as pd #импортируем все необходимые библиотеки\n",
    "import numpy as np\n",
    "import datetime as dt\n",
    "import scipy.stats as stats\n",
    "import matplotlib.pyplot as plt\n",
    "pd.options.display.max_colwidth = 300"
   ]
  },
  {
   "cell_type": "code",
   "execution_count": 2,
   "metadata": {},
   "outputs": [
    {
     "data": {
      "text/html": [
       "<div>\n",
       "<style scoped>\n",
       "    .dataframe tbody tr th:only-of-type {\n",
       "        vertical-align: middle;\n",
       "    }\n",
       "\n",
       "    .dataframe tbody tr th {\n",
       "        vertical-align: top;\n",
       "    }\n",
       "\n",
       "    .dataframe thead th {\n",
       "        text-align: right;\n",
       "    }\n",
       "</style>\n",
       "<table border=\"1\" class=\"dataframe\">\n",
       "  <thead>\n",
       "    <tr style=\"text-align: right;\">\n",
       "      <th></th>\n",
       "      <th>Hypothesis</th>\n",
       "      <th>Reach</th>\n",
       "      <th>Impact</th>\n",
       "      <th>Confidence</th>\n",
       "      <th>Efforts</th>\n",
       "    </tr>\n",
       "  </thead>\n",
       "  <tbody>\n",
       "    <tr>\n",
       "      <th>0</th>\n",
       "      <td>Добавить два новых канала привлечения трафика, что позволит привлекать на 30% больше пользователей</td>\n",
       "      <td>3</td>\n",
       "      <td>10</td>\n",
       "      <td>8</td>\n",
       "      <td>6</td>\n",
       "    </tr>\n",
       "    <tr>\n",
       "      <th>1</th>\n",
       "      <td>Запустить собственную службу доставки, что сократит срок доставки заказов</td>\n",
       "      <td>2</td>\n",
       "      <td>5</td>\n",
       "      <td>4</td>\n",
       "      <td>10</td>\n",
       "    </tr>\n",
       "    <tr>\n",
       "      <th>2</th>\n",
       "      <td>Добавить блоки рекомендаций товаров на сайт интернет магазина, чтобы повысить конверсию и средний чек заказа</td>\n",
       "      <td>8</td>\n",
       "      <td>3</td>\n",
       "      <td>7</td>\n",
       "      <td>3</td>\n",
       "    </tr>\n",
       "    <tr>\n",
       "      <th>3</th>\n",
       "      <td>Изменить структура категорий, что увеличит конверсию, т.к. пользователи быстрее найдут нужный товар</td>\n",
       "      <td>8</td>\n",
       "      <td>3</td>\n",
       "      <td>3</td>\n",
       "      <td>8</td>\n",
       "    </tr>\n",
       "    <tr>\n",
       "      <th>4</th>\n",
       "      <td>Изменить цвет фона главной страницы, чтобы увеличить вовлеченность пользователей</td>\n",
       "      <td>3</td>\n",
       "      <td>1</td>\n",
       "      <td>1</td>\n",
       "      <td>1</td>\n",
       "    </tr>\n",
       "    <tr>\n",
       "      <th>5</th>\n",
       "      <td>Добавить страницу отзывов клиентов о магазине, что позволит увеличить количество заказов</td>\n",
       "      <td>3</td>\n",
       "      <td>2</td>\n",
       "      <td>2</td>\n",
       "      <td>3</td>\n",
       "    </tr>\n",
       "    <tr>\n",
       "      <th>6</th>\n",
       "      <td>Показать на главной странице баннеры с актуальными акциями и распродажами, чтобы увеличить конверсию</td>\n",
       "      <td>5</td>\n",
       "      <td>3</td>\n",
       "      <td>8</td>\n",
       "      <td>3</td>\n",
       "    </tr>\n",
       "    <tr>\n",
       "      <th>7</th>\n",
       "      <td>Добавить форму подписки на все основные страницы, чтобы собрать базу клиентов для email-рассылок</td>\n",
       "      <td>10</td>\n",
       "      <td>7</td>\n",
       "      <td>8</td>\n",
       "      <td>5</td>\n",
       "    </tr>\n",
       "    <tr>\n",
       "      <th>8</th>\n",
       "      <td>Запустить акцию, дающую скидку на товар в день рождения</td>\n",
       "      <td>1</td>\n",
       "      <td>9</td>\n",
       "      <td>9</td>\n",
       "      <td>5</td>\n",
       "    </tr>\n",
       "  </tbody>\n",
       "</table>\n",
       "</div>"
      ],
      "text/plain": [
       "                                                                                                     Hypothesis  \\\n",
       "0            Добавить два новых канала привлечения трафика, что позволит привлекать на 30% больше пользователей   \n",
       "1                                     Запустить собственную службу доставки, что сократит срок доставки заказов   \n",
       "2  Добавить блоки рекомендаций товаров на сайт интернет магазина, чтобы повысить конверсию и средний чек заказа   \n",
       "3           Изменить структура категорий, что увеличит конверсию, т.к. пользователи быстрее найдут нужный товар   \n",
       "4                              Изменить цвет фона главной страницы, чтобы увеличить вовлеченность пользователей   \n",
       "5                      Добавить страницу отзывов клиентов о магазине, что позволит увеличить количество заказов   \n",
       "6          Показать на главной странице баннеры с актуальными акциями и распродажами, чтобы увеличить конверсию   \n",
       "7              Добавить форму подписки на все основные страницы, чтобы собрать базу клиентов для email-рассылок   \n",
       "8                                                       Запустить акцию, дающую скидку на товар в день рождения   \n",
       "\n",
       "   Reach  Impact  Confidence  Efforts  \n",
       "0      3      10           8        6  \n",
       "1      2       5           4       10  \n",
       "2      8       3           7        3  \n",
       "3      8       3           3        8  \n",
       "4      3       1           1        1  \n",
       "5      3       2           2        3  \n",
       "6      5       3           8        3  \n",
       "7     10       7           8        5  \n",
       "8      1       9           9        5  "
      ]
     },
     "execution_count": 2,
     "metadata": {},
     "output_type": "execute_result"
    }
   ],
   "source": [
    "try: # откроем файл\n",
    "    data = pd.read_csv('/Users/evgeniyakoreshilova/Desktop/hypothesis.csv')\n",
    "except:\n",
    "    data = pd.read_csv('https://code.s3.yandex.net/datasets/hypothesis.csv')\n",
    "data"
   ]
  },
  {
   "cell_type": "code",
   "execution_count": 3,
   "metadata": {},
   "outputs": [],
   "source": [
    "data.columns = data.columns.str.lower() #приведем названия колонок к нижнему регистру"
   ]
  },
  {
   "cell_type": "markdown",
   "metadata": {},
   "source": [
    "ICE и RICE\n",
    "ICE (от англ. impact, confidence, effort / ease «влияние, уверенность, усилия / простота») — один из самых популярных способов приоритизации гипотез. Расчитывается так:\n",
    "\n",
    "ICE = Impact * Confidence / Efforts\n"
   ]
  },
  {
   "cell_type": "markdown",
   "metadata": {},
   "source": [
    "Применим фреймворк ICE для приоритизации гипотез"
   ]
  },
  {
   "cell_type": "code",
   "execution_count": 4,
   "metadata": {},
   "outputs": [
    {
     "data": {
      "text/html": [
       "<div>\n",
       "<style scoped>\n",
       "    .dataframe tbody tr th:only-of-type {\n",
       "        vertical-align: middle;\n",
       "    }\n",
       "\n",
       "    .dataframe tbody tr th {\n",
       "        vertical-align: top;\n",
       "    }\n",
       "\n",
       "    .dataframe thead th {\n",
       "        text-align: right;\n",
       "    }\n",
       "</style>\n",
       "<table border=\"1\" class=\"dataframe\">\n",
       "  <thead>\n",
       "    <tr style=\"text-align: right;\">\n",
       "      <th></th>\n",
       "      <th>hypothesis</th>\n",
       "      <th>ICE</th>\n",
       "    </tr>\n",
       "  </thead>\n",
       "  <tbody>\n",
       "    <tr>\n",
       "      <th>8</th>\n",
       "      <td>Запустить акцию, дающую скидку на товар в день рождения</td>\n",
       "      <td>16.200000</td>\n",
       "    </tr>\n",
       "    <tr>\n",
       "      <th>0</th>\n",
       "      <td>Добавить два новых канала привлечения трафика, что позволит привлекать на 30% больше пользователей</td>\n",
       "      <td>13.333333</td>\n",
       "    </tr>\n",
       "    <tr>\n",
       "      <th>7</th>\n",
       "      <td>Добавить форму подписки на все основные страницы, чтобы собрать базу клиентов для email-рассылок</td>\n",
       "      <td>11.200000</td>\n",
       "    </tr>\n",
       "    <tr>\n",
       "      <th>6</th>\n",
       "      <td>Показать на главной странице баннеры с актуальными акциями и распродажами, чтобы увеличить конверсию</td>\n",
       "      <td>8.000000</td>\n",
       "    </tr>\n",
       "    <tr>\n",
       "      <th>2</th>\n",
       "      <td>Добавить блоки рекомендаций товаров на сайт интернет магазина, чтобы повысить конверсию и средний чек заказа</td>\n",
       "      <td>7.000000</td>\n",
       "    </tr>\n",
       "    <tr>\n",
       "      <th>1</th>\n",
       "      <td>Запустить собственную службу доставки, что сократит срок доставки заказов</td>\n",
       "      <td>2.000000</td>\n",
       "    </tr>\n",
       "    <tr>\n",
       "      <th>5</th>\n",
       "      <td>Добавить страницу отзывов клиентов о магазине, что позволит увеличить количество заказов</td>\n",
       "      <td>1.333333</td>\n",
       "    </tr>\n",
       "    <tr>\n",
       "      <th>3</th>\n",
       "      <td>Изменить структура категорий, что увеличит конверсию, т.к. пользователи быстрее найдут нужный товар</td>\n",
       "      <td>1.125000</td>\n",
       "    </tr>\n",
       "    <tr>\n",
       "      <th>4</th>\n",
       "      <td>Изменить цвет фона главной страницы, чтобы увеличить вовлеченность пользователей</td>\n",
       "      <td>1.000000</td>\n",
       "    </tr>\n",
       "  </tbody>\n",
       "</table>\n",
       "</div>"
      ],
      "text/plain": [
       "                                                                                                     hypothesis  \\\n",
       "8                                                       Запустить акцию, дающую скидку на товар в день рождения   \n",
       "0            Добавить два новых канала привлечения трафика, что позволит привлекать на 30% больше пользователей   \n",
       "7              Добавить форму подписки на все основные страницы, чтобы собрать базу клиентов для email-рассылок   \n",
       "6          Показать на главной странице баннеры с актуальными акциями и распродажами, чтобы увеличить конверсию   \n",
       "2  Добавить блоки рекомендаций товаров на сайт интернет магазина, чтобы повысить конверсию и средний чек заказа   \n",
       "1                                     Запустить собственную службу доставки, что сократит срок доставки заказов   \n",
       "5                      Добавить страницу отзывов клиентов о магазине, что позволит увеличить количество заказов   \n",
       "3           Изменить структура категорий, что увеличит конверсию, т.к. пользователи быстрее найдут нужный товар   \n",
       "4                              Изменить цвет фона главной страницы, чтобы увеличить вовлеченность пользователей   \n",
       "\n",
       "         ICE  \n",
       "8  16.200000  \n",
       "0  13.333333  \n",
       "7  11.200000  \n",
       "6   8.000000  \n",
       "2   7.000000  \n",
       "1   2.000000  \n",
       "5   1.333333  \n",
       "3   1.125000  \n",
       "4   1.000000  "
      ]
     },
     "execution_count": 4,
     "metadata": {},
     "output_type": "execute_result"
    }
   ],
   "source": [
    "data['ICE'] = data['impact'] * data['confidence'] / data['efforts']\n",
    "data[['hypothesis', 'ICE']].sort_values(by='ICE', ascending=False)"
   ]
  },
  {
   "cell_type": "markdown",
   "metadata": {},
   "source": [
    "Наиболее перспективными гипотезами по ICE являются - 8, 0, 7 и 6. Теперь применим фреймворк RICE. RICE - это модификация метода ICE (R от англ. reach, «охват»). Расчитывается по формуле: RICE = Reach * Impact * Confidence / Efforts"
   ]
  },
  {
   "cell_type": "code",
   "execution_count": 5,
   "metadata": {},
   "outputs": [
    {
     "data": {
      "text/html": [
       "<div>\n",
       "<style scoped>\n",
       "    .dataframe tbody tr th:only-of-type {\n",
       "        vertical-align: middle;\n",
       "    }\n",
       "\n",
       "    .dataframe tbody tr th {\n",
       "        vertical-align: top;\n",
       "    }\n",
       "\n",
       "    .dataframe thead th {\n",
       "        text-align: right;\n",
       "    }\n",
       "</style>\n",
       "<table border=\"1\" class=\"dataframe\">\n",
       "  <thead>\n",
       "    <tr style=\"text-align: right;\">\n",
       "      <th></th>\n",
       "      <th>hypothesis</th>\n",
       "      <th>RICE</th>\n",
       "    </tr>\n",
       "  </thead>\n",
       "  <tbody>\n",
       "    <tr>\n",
       "      <th>7</th>\n",
       "      <td>Добавить форму подписки на все основные страницы, чтобы собрать базу клиентов для email-рассылок</td>\n",
       "      <td>112.0</td>\n",
       "    </tr>\n",
       "    <tr>\n",
       "      <th>2</th>\n",
       "      <td>Добавить блоки рекомендаций товаров на сайт интернет магазина, чтобы повысить конверсию и средний чек заказа</td>\n",
       "      <td>56.0</td>\n",
       "    </tr>\n",
       "    <tr>\n",
       "      <th>0</th>\n",
       "      <td>Добавить два новых канала привлечения трафика, что позволит привлекать на 30% больше пользователей</td>\n",
       "      <td>40.0</td>\n",
       "    </tr>\n",
       "    <tr>\n",
       "      <th>6</th>\n",
       "      <td>Показать на главной странице баннеры с актуальными акциями и распродажами, чтобы увеличить конверсию</td>\n",
       "      <td>40.0</td>\n",
       "    </tr>\n",
       "    <tr>\n",
       "      <th>8</th>\n",
       "      <td>Запустить акцию, дающую скидку на товар в день рождения</td>\n",
       "      <td>16.2</td>\n",
       "    </tr>\n",
       "    <tr>\n",
       "      <th>3</th>\n",
       "      <td>Изменить структура категорий, что увеличит конверсию, т.к. пользователи быстрее найдут нужный товар</td>\n",
       "      <td>9.0</td>\n",
       "    </tr>\n",
       "    <tr>\n",
       "      <th>1</th>\n",
       "      <td>Запустить собственную службу доставки, что сократит срок доставки заказов</td>\n",
       "      <td>4.0</td>\n",
       "    </tr>\n",
       "    <tr>\n",
       "      <th>5</th>\n",
       "      <td>Добавить страницу отзывов клиентов о магазине, что позволит увеличить количество заказов</td>\n",
       "      <td>4.0</td>\n",
       "    </tr>\n",
       "    <tr>\n",
       "      <th>4</th>\n",
       "      <td>Изменить цвет фона главной страницы, чтобы увеличить вовлеченность пользователей</td>\n",
       "      <td>3.0</td>\n",
       "    </tr>\n",
       "  </tbody>\n",
       "</table>\n",
       "</div>"
      ],
      "text/plain": [
       "                                                                                                     hypothesis  \\\n",
       "7              Добавить форму подписки на все основные страницы, чтобы собрать базу клиентов для email-рассылок   \n",
       "2  Добавить блоки рекомендаций товаров на сайт интернет магазина, чтобы повысить конверсию и средний чек заказа   \n",
       "0            Добавить два новых канала привлечения трафика, что позволит привлекать на 30% больше пользователей   \n",
       "6          Показать на главной странице баннеры с актуальными акциями и распродажами, чтобы увеличить конверсию   \n",
       "8                                                       Запустить акцию, дающую скидку на товар в день рождения   \n",
       "3           Изменить структура категорий, что увеличит конверсию, т.к. пользователи быстрее найдут нужный товар   \n",
       "1                                     Запустить собственную службу доставки, что сократит срок доставки заказов   \n",
       "5                      Добавить страницу отзывов клиентов о магазине, что позволит увеличить количество заказов   \n",
       "4                              Изменить цвет фона главной страницы, чтобы увеличить вовлеченность пользователей   \n",
       "\n",
       "    RICE  \n",
       "7  112.0  \n",
       "2   56.0  \n",
       "0   40.0  \n",
       "6   40.0  \n",
       "8   16.2  \n",
       "3    9.0  \n",
       "1    4.0  \n",
       "5    4.0  \n",
       "4    3.0  "
      ]
     },
     "execution_count": 5,
     "metadata": {},
     "output_type": "execute_result"
    }
   ],
   "source": [
    "data['RICE'] = data['reach'] * data['impact'] * data['confidence'] / data['efforts']\n",
    "\n",
    "data[['hypothesis', 'RICE']].sort_values(by='RICE', ascending=False)"
   ]
  },
  {
   "cell_type": "markdown",
   "metadata": {},
   "source": [
    "Только гипотеза 6 осталась на своем месте. Гипотезы 7 и 0 поменяли свои места, но остались перспективными. Гипотеза 8 с первого места спустилась на пятое, поменявшись с гипотезой 2.\n",
    "\n"
   ]
  },
  {
   "cell_type": "markdown",
   "metadata": {},
   "source": [
    "## Вывод\n",
    "\n",
    "Согласно полученным результатам наиболее приоритетными гипотезами являются - 7 и 0. Также перспективной является гипотеза 2, так как вносимые изменения затронут большое число пользователей. Показатель reach (скольких пользователей затронет изменение), применяемый в фреймворке RICE, сильно влияет на место гипотезы среди остальных. Следовательно, его необходимо учитывать при определении иерархии перспективных гипотез."
   ]
  },
  {
   "cell_type": "markdown",
   "metadata": {},
   "source": [
    "# Часть 2. Анализ A/B-теста"
   ]
  },
  {
   "cell_type": "markdown",
   "metadata": {},
   "source": [
    "Вы провели A/B-тест и получили результаты, которые описаны в файлах /datasets/orders.csv и /datasets/visitors.csv."
   ]
  },
  {
   "cell_type": "markdown",
   "metadata": {},
   "source": [
    "## Задача - Проанализируйте A/B-тест"
   ]
  },
  {
   "cell_type": "markdown",
   "metadata": {},
   "source": [
    "### Постройте график кумулятивной выручки по группам. Сделайте выводы и предположения."
   ]
  },
  {
   "cell_type": "code",
   "execution_count": 6,
   "metadata": {},
   "outputs": [
    {
     "data": {
      "text/html": [
       "<div>\n",
       "<style scoped>\n",
       "    .dataframe tbody tr th:only-of-type {\n",
       "        vertical-align: middle;\n",
       "    }\n",
       "\n",
       "    .dataframe tbody tr th {\n",
       "        vertical-align: top;\n",
       "    }\n",
       "\n",
       "    .dataframe thead th {\n",
       "        text-align: right;\n",
       "    }\n",
       "</style>\n",
       "<table border=\"1\" class=\"dataframe\">\n",
       "  <thead>\n",
       "    <tr style=\"text-align: right;\">\n",
       "      <th></th>\n",
       "      <th>transactionId</th>\n",
       "      <th>visitorId</th>\n",
       "      <th>date</th>\n",
       "      <th>revenue</th>\n",
       "      <th>group</th>\n",
       "    </tr>\n",
       "  </thead>\n",
       "  <tbody>\n",
       "    <tr>\n",
       "      <th>0</th>\n",
       "      <td>3667963787</td>\n",
       "      <td>3312258926</td>\n",
       "      <td>2019-08-15</td>\n",
       "      <td>1650</td>\n",
       "      <td>B</td>\n",
       "    </tr>\n",
       "    <tr>\n",
       "      <th>1</th>\n",
       "      <td>2804400009</td>\n",
       "      <td>3642806036</td>\n",
       "      <td>2019-08-15</td>\n",
       "      <td>730</td>\n",
       "      <td>B</td>\n",
       "    </tr>\n",
       "    <tr>\n",
       "      <th>2</th>\n",
       "      <td>2961555356</td>\n",
       "      <td>4069496402</td>\n",
       "      <td>2019-08-15</td>\n",
       "      <td>400</td>\n",
       "      <td>A</td>\n",
       "    </tr>\n",
       "    <tr>\n",
       "      <th>3</th>\n",
       "      <td>3797467345</td>\n",
       "      <td>1196621759</td>\n",
       "      <td>2019-08-15</td>\n",
       "      <td>9759</td>\n",
       "      <td>B</td>\n",
       "    </tr>\n",
       "    <tr>\n",
       "      <th>4</th>\n",
       "      <td>2282983706</td>\n",
       "      <td>2322279887</td>\n",
       "      <td>2019-08-15</td>\n",
       "      <td>2308</td>\n",
       "      <td>B</td>\n",
       "    </tr>\n",
       "    <tr>\n",
       "      <th>...</th>\n",
       "      <td>...</td>\n",
       "      <td>...</td>\n",
       "      <td>...</td>\n",
       "      <td>...</td>\n",
       "      <td>...</td>\n",
       "    </tr>\n",
       "    <tr>\n",
       "      <th>1192</th>\n",
       "      <td>2662137336</td>\n",
       "      <td>3733762160</td>\n",
       "      <td>2019-08-14</td>\n",
       "      <td>6490</td>\n",
       "      <td>B</td>\n",
       "    </tr>\n",
       "    <tr>\n",
       "      <th>1193</th>\n",
       "      <td>2203539145</td>\n",
       "      <td>370388673</td>\n",
       "      <td>2019-08-14</td>\n",
       "      <td>3190</td>\n",
       "      <td>A</td>\n",
       "    </tr>\n",
       "    <tr>\n",
       "      <th>1194</th>\n",
       "      <td>1807773912</td>\n",
       "      <td>573423106</td>\n",
       "      <td>2019-08-14</td>\n",
       "      <td>10550</td>\n",
       "      <td>A</td>\n",
       "    </tr>\n",
       "    <tr>\n",
       "      <th>1195</th>\n",
       "      <td>1947021204</td>\n",
       "      <td>1614305549</td>\n",
       "      <td>2019-08-14</td>\n",
       "      <td>100</td>\n",
       "      <td>A</td>\n",
       "    </tr>\n",
       "    <tr>\n",
       "      <th>1196</th>\n",
       "      <td>3936777065</td>\n",
       "      <td>2108080724</td>\n",
       "      <td>2019-08-15</td>\n",
       "      <td>202740</td>\n",
       "      <td>B</td>\n",
       "    </tr>\n",
       "  </tbody>\n",
       "</table>\n",
       "<p>1197 rows × 5 columns</p>\n",
       "</div>"
      ],
      "text/plain": [
       "      transactionId   visitorId       date  revenue group\n",
       "0        3667963787  3312258926 2019-08-15     1650     B\n",
       "1        2804400009  3642806036 2019-08-15      730     B\n",
       "2        2961555356  4069496402 2019-08-15      400     A\n",
       "3        3797467345  1196621759 2019-08-15     9759     B\n",
       "4        2282983706  2322279887 2019-08-15     2308     B\n",
       "...             ...         ...        ...      ...   ...\n",
       "1192     2662137336  3733762160 2019-08-14     6490     B\n",
       "1193     2203539145   370388673 2019-08-14     3190     A\n",
       "1194     1807773912   573423106 2019-08-14    10550     A\n",
       "1195     1947021204  1614305549 2019-08-14      100     A\n",
       "1196     3936777065  2108080724 2019-08-15   202740     B\n",
       "\n",
       "[1197 rows x 5 columns]"
      ]
     },
     "execution_count": 6,
     "metadata": {},
     "output_type": "execute_result"
    }
   ],
   "source": [
    "try: # откроем файл\n",
    "    orders = pd.read_csv('/Users/evgeniyakoreshilova/Desktop/orders.csv')\n",
    "except:\n",
    "    orders = pd.read_csv('https://code.s3.yandex.net/datasets/orders.csv')\n",
    "orders['date'] = orders['date'].map(\n",
    "    lambda x: dt.datetime.strptime(x, '%Y-%m-%d') #изменим тип данных в столбце date на datetime\n",
    ")\n",
    "orders"
   ]
  },
  {
   "cell_type": "code",
   "execution_count": 7,
   "metadata": {},
   "outputs": [
    {
     "data": {
      "text/plain": [
       "0"
      ]
     },
     "execution_count": 7,
     "metadata": {},
     "output_type": "execute_result"
    }
   ],
   "source": [
    "orders.duplicated().sum() #Поищем явные дубликаты"
   ]
  },
  {
   "cell_type": "code",
   "execution_count": 8,
   "metadata": {},
   "outputs": [
    {
     "name": "stdout",
     "output_type": "stream",
     "text": [
      "<class 'pandas.core.frame.DataFrame'>\n",
      "RangeIndex: 62 entries, 0 to 61\n",
      "Data columns (total 3 columns):\n",
      " #   Column    Non-Null Count  Dtype         \n",
      "---  ------    --------------  -----         \n",
      " 0   date      62 non-null     datetime64[ns]\n",
      " 1   group     62 non-null     object        \n",
      " 2   visitors  62 non-null     int64         \n",
      "dtypes: datetime64[ns](1), int64(1), object(1)\n",
      "memory usage: 1.6+ KB\n"
     ]
    }
   ],
   "source": [
    "try:\n",
    "    visitors = pd.read_csv('/Users/evgeniyakoreshilova/Desktop/visitors.csv')\n",
    "except:\n",
    "    visitors = pd.read_csv('https://code.s3.yandex.net/datasets/visitors.csv')\n",
    "\n",
    "visitors['date'] = visitors['date'].map(\n",
    "    lambda x: dt.datetime.strptime(x, '%Y-%m-%d')\n",
    ")\n",
    "visitors.info()"
   ]
  },
  {
   "cell_type": "code",
   "execution_count": 9,
   "metadata": {},
   "outputs": [
    {
     "data": {
      "text/plain": [
       "0"
      ]
     },
     "execution_count": 9,
     "metadata": {},
     "output_type": "execute_result"
    }
   ],
   "source": [
    "visitors.duplicated().sum()"
   ]
  },
  {
   "cell_type": "code",
   "execution_count": 10,
   "metadata": {},
   "outputs": [
    {
     "name": "stdout",
     "output_type": "stream",
     "text": [
      "<class 'pandas.core.frame.DataFrame'>\n",
      "Int64Index: 557 entries, 2 to 1195\n",
      "Data columns (total 5 columns):\n",
      " #   Column         Non-Null Count  Dtype         \n",
      "---  ------         --------------  -----         \n",
      " 0   transactionId  557 non-null    int64         \n",
      " 1   visitorId      557 non-null    int64         \n",
      " 2   date           557 non-null    datetime64[ns]\n",
      " 3   revenue        557 non-null    int64         \n",
      " 4   group          557 non-null    object        \n",
      "dtypes: datetime64[ns](1), int64(3), object(1)\n",
      "memory usage: 26.1+ KB\n"
     ]
    }
   ],
   "source": [
    "ordersA = orders.query('group == \"A\"')\n",
    "ordersA.info()"
   ]
  },
  {
   "cell_type": "code",
   "execution_count": 11,
   "metadata": {},
   "outputs": [
    {
     "name": "stdout",
     "output_type": "stream",
     "text": [
      "<class 'pandas.core.frame.DataFrame'>\n",
      "Int64Index: 31 entries, 0 to 30\n",
      "Data columns (total 3 columns):\n",
      " #   Column    Non-Null Count  Dtype         \n",
      "---  ------    --------------  -----         \n",
      " 0   date      31 non-null     datetime64[ns]\n",
      " 1   group     31 non-null     object        \n",
      " 2   visitors  31 non-null     int64         \n",
      "dtypes: datetime64[ns](1), int64(1), object(1)\n",
      "memory usage: 992.0+ bytes\n"
     ]
    }
   ],
   "source": [
    "visitorsA = visitors.query('group == \"A\"')\n",
    "visitorsA.info()"
   ]
  },
  {
   "cell_type": "markdown",
   "metadata": {},
   "source": [
    "Анализ распределение по группам А и В показывает, что пользователи распределены неравномерно. В группе В на 83 пользователя больше чем в группе А, разница больше 1%, следовательно к результатам теста будем относится осторожно."
   ]
  },
  {
   "cell_type": "markdown",
   "metadata": {},
   "source": [
    "Проверим, есть ли пользователи, попавшие в обе группы."
   ]
  },
  {
   "cell_type": "code",
   "execution_count": 12,
   "metadata": {},
   "outputs": [],
   "source": [
    "orders_group = orders.groupby('visitorId').nunique().query('group == 2').reset_index()\n",
    "orders_group_list = orders_group['visitorId']"
   ]
  },
  {
   "cell_type": "markdown",
   "metadata": {},
   "source": [
    "58 пользователей есть в обеих группах. Их безболезненно можно удалить"
   ]
  },
  {
   "cell_type": "code",
   "execution_count": 13,
   "metadata": {},
   "outputs": [],
   "source": [
    "orders = orders.query('visitorId not in @orders_group_list') #удалим этих пользователей"
   ]
  },
  {
   "cell_type": "markdown",
   "metadata": {},
   "source": [
    "Чтобы построить графики, нужно собрать кумулятивные данные. \n",
    "Объявим датафрейм cumulativeData со столбцами: \n",
    "- date — дата;\n",
    "- group — группа A/B-теста (A или B);\n",
    "- orders — кумулятивное количество заказов на указанную дату в указанной группе;\n",
    "- buyers — кумулятивное количество пользователей, совершивших хотя бы один заказ, на указанную дату в указанной группе;\n",
    "- revenue — кумулятивная выручка на указанную дату в указанной группе (средний чек);\n",
    "- visitors — кумулятивное количество посетителей интернет-магазина на указанную дату в определённой группе.\n"
   ]
  },
  {
   "cell_type": "markdown",
   "metadata": {},
   "source": [
    "Создадим массив уникальных пар значений дат и групп теста, удалим дубликаты"
   ]
  },
  {
   "cell_type": "code",
   "execution_count": 14,
   "metadata": {},
   "outputs": [],
   "source": [
    "datesGroups = orders[['date','group']].drop_duplicates()"
   ]
  },
  {
   "cell_type": "markdown",
   "metadata": {},
   "source": [
    "Агрегируем значения"
   ]
  },
  {
   "cell_type": "code",
   "execution_count": 15,
   "metadata": {},
   "outputs": [],
   "source": [
    "ordersAggregated = datesGroups.apply(\n",
    "    lambda x: orders[np.logical_and(orders['date'] <= x['date'], orders['group'] == x['group'])].agg({\n",
    "        'date' : 'max',\n",
    "        'group' : 'max',\n",
    "        'transactionId' : 'nunique',\n",
    "        'visitorId' : 'nunique',\n",
    "        'revenue' : 'sum'}), axis=1).sort_values(by=['date','group'])"
   ]
  },
  {
   "cell_type": "markdown",
   "metadata": {},
   "source": [
    "Аналогично получим агрегированные кумулятивные по дням данные о посетителях"
   ]
  },
  {
   "cell_type": "code",
   "execution_count": 16,
   "metadata": {},
   "outputs": [],
   "source": [
    "visitorsAggregated = datesGroups.apply(\n",
    "    lambda x: visitors[np.logical_and(visitors['date'] <= x['date'], visitors['group'] == x['group'])].agg({\n",
    "        'date' : 'max',\n",
    "        'group' : 'max',\n",
    "        'visitors' : 'sum'}), axis=1).sort_values(by=['date', 'group'])"
   ]
  },
  {
   "cell_type": "markdown",
   "metadata": {},
   "source": [
    "Объединим кумулятивные данные в одной таблице и переименуем столбцы"
   ]
  },
  {
   "cell_type": "code",
   "execution_count": 17,
   "metadata": {},
   "outputs": [],
   "source": [
    "cumulativeData = ordersAggregated.merge(visitorsAggregated, left_on=['date', 'group'], right_on=['date', 'group'])\n",
    "cumulativeData.columns = ['date', 'group', 'orders', 'buyers', 'revenue', 'visitors']"
   ]
  },
  {
   "cell_type": "markdown",
   "metadata": {},
   "source": [
    "Построим графики кумулятивной выручки по группам A/B-тестирования: "
   ]
  },
  {
   "cell_type": "code",
   "execution_count": 18,
   "metadata": {},
   "outputs": [
    {
     "data": {
      "image/png": "[encoded data removed]",
      "text/plain": [
       "<Figure size 1080x504 with 1 Axes>"
      ]
     },
     "metadata": {
      "needs_background": "light"
     },
     "output_type": "display_data"
    }
   ],
   "source": [
    "cumulativeRevenueA = cumulativeData[cumulativeData['group']=='A'][['date','revenue', 'orders']] #группа А\n",
    "cumulativeRevenueB = cumulativeData[cumulativeData['group']=='B'][['date','revenue', 'orders']] #группа В\n",
    "plt.figure(figsize=(15, 7))\n",
    "plt.plot(cumulativeRevenueA['date'], cumulativeRevenueA['revenue'], label='A')# график выручки группы А\n",
    "plt.plot(cumulativeRevenueB['date'], cumulativeRevenueB['revenue'], label='B')# график выручки группы B\n",
    "plt.title('Кумулятивная выручка по группам')\n",
    "plt.xlabel('Дата')\n",
    "plt.ylabel('Выручка')\n",
    "plt.legend()\n",
    "plt.show()"
   ]
  },
  {
   "cell_type": "markdown",
   "metadata": {},
   "source": [
    "**Вывод:**\n",
    "Выручка почти равномерно увеличивается в течение всего теста.\n",
    "Однако график выручки группы В в одной точке резко растет. Это может сигнализировать о большом числе заказов, либо о появлении дорогих заказов в выборке."
   ]
  },
  {
   "cell_type": "markdown",
   "metadata": {},
   "source": [
    "### Постройте график кумулятивного среднего чека по группам. Сделайте выводы и предположения."
   ]
  },
  {
   "cell_type": "markdown",
   "metadata": {},
   "source": [
    "Построим графики среднего чека по группам — разделим кумулятивную выручку на кумулятивное число заказов:"
   ]
  },
  {
   "cell_type": "code",
   "execution_count": 19,
   "metadata": {},
   "outputs": [
    {
     "data": {
      "image/png": "[encoded data removed]",
      "text/plain": [
       "<Figure size 1080x504 with 1 Axes>"
      ]
     },
     "metadata": {
      "needs_background": "light"
     },
     "output_type": "display_data"
    }
   ],
   "source": [
    "plt.figure(figsize=(15, 7))\n",
    "plt.plot(cumulativeRevenueA['date'], cumulativeRevenueA['revenue']/cumulativeRevenueA['orders'], label='A')\n",
    "plt.plot(cumulativeRevenueB['date'], cumulativeRevenueB['revenue']/cumulativeRevenueB['orders'], label='B')\n",
    "plt.title('Кумулятивный средний чек по группам')\n",
    "plt.xlabel('Дата')\n",
    "plt.ylabel('Средний чек')\n",
    "plt.legend() \n",
    "plt.show()"
   ]
  },
  {
   "cell_type": "markdown",
   "metadata": {},
   "source": [
    "**Вывод:**\n",
    "Кумулятивное значение среднего чека в обеих группах сильно колеблется. Только ближе к концу он становится равномерным. Возможно, в группах попали крупные заказы (резкие всплески на графике). Показатели группы В превосходят показатели группы А"
   ]
  },
  {
   "cell_type": "markdown",
   "metadata": {},
   "source": [
    "### Постройте график относительного изменения кумулятивного среднего чека группы B к группе A. Сделайте выводы и предположения."
   ]
  },
  {
   "cell_type": "markdown",
   "metadata": {},
   "source": [
    "Построим график относительного различия для среднего чека.\n",
    "Объединим таблицы cumulativeRevenueA и cumulativeRevenueB методом merge() так, чтобы она содержала столбцы: ['date', 'revenueA', 'revenueB', 'ordersA', 'ordersB']."
   ]
  },
  {
   "cell_type": "code",
   "execution_count": 20,
   "metadata": {},
   "outputs": [
    {
     "data": {
      "image/png": "[encoded data removed]",
      "text/plain": [
       "<Figure size 1080x504 with 1 Axes>"
      ]
     },
     "metadata": {
      "needs_background": "light"
     },
     "output_type": "display_data"
    }
   ],
   "source": [
    "mergedCumulativeRevenue = cumulativeRevenueA.merge(cumulativeRevenueB,\\\n",
    "                                                   left_on='date', right_on='date', how='left', suffixes=['A', 'B'])\n",
    "plt.figure(figsize=(15, 7))\n",
    "\n",
    "plt.plot(mergedCumulativeRevenue['date'],\\\n",
    "         (mergedCumulativeRevenue['revenueB']/mergedCumulativeRevenue['ordersB'])\\\n",
    "         /(mergedCumulativeRevenue['revenueA']/mergedCumulativeRevenue['ordersA'])-1)\n",
    "\n",
    "plt.axhline(y=0, color='black', linestyle='--')\n",
    "plt.title('Относительное изменение кумулятивного среднего чека группы B к группе A')\n",
    "plt.xlabel('Дата')\n",
    "plt.ylabel('Средний чек')\n",
    "plt.show()"
   ]
  },
  {
   "cell_type": "markdown",
   "metadata": {},
   "source": [
    "**Вывод:** в нескольких точках график различия между сегментами резко «скачет». Наверное, это влияние крупных заказов и выбросов."
   ]
  },
  {
   "cell_type": "markdown",
   "metadata": {},
   "source": [
    "### Постройте график кумулятивного среднего количества заказов на посетителя по группам. Сделайте выводы и предположения."
   ]
  },
  {
   "cell_type": "code",
   "execution_count": 21,
   "metadata": {},
   "outputs": [
    {
     "data": {
      "image/png": "[encoded data removed]",
      "text/plain": [
       "<Figure size 1080x504 with 1 Axes>"
      ]
     },
     "metadata": {
      "needs_background": "light"
     },
     "output_type": "display_data"
    }
   ],
   "source": [
    "# считаем кумулятивную конверсию\n",
    "cumulativeData['conversion'] = cumulativeData['orders']/cumulativeData['visitors']\n",
    "\n",
    "# отделяем данные по группе A\n",
    "cumulativeDataA = cumulativeData[cumulativeData['group']=='A']\n",
    "\n",
    "# отделяем данные по группе B\n",
    "cumulativeDataB = cumulativeData[cumulativeData['group']=='B']\n",
    "\n",
    "# строим графики\n",
    "plt.figure(figsize=(15, 7))\n",
    "plt.plot(cumulativeDataA['date'], cumulativeDataA['conversion'], label='A')\n",
    "plt.plot(cumulativeDataB['date'], cumulativeDataB['conversion'], label='B')\n",
    "plt.title('Среднее количество заказов на посетителя по группам')\n",
    "plt.xlabel('Дата')\n",
    "plt.ylabel('Среднее число заказов')\n",
    "plt.legend()\n",
    "plt.axis([dt.datetime(2019, 8, 1), dt.datetime(2019, 9, 1), 0.02, 0.04])\n",
    "plt.show()"
   ]
  },
  {
   "cell_type": "markdown",
   "metadata": {},
   "source": [
    "**Вывод:** в начале группа А имела более высокий уровень конверсии, затем группа В вырвалась вперед. В обеих группа во второй половине теста колебания несильные, в начале - есть резкие скачки."
   ]
  },
  {
   "cell_type": "markdown",
   "metadata": {},
   "source": [
    "### Постройте график относительного изменения кумулятивного среднего количества заказов на посетителя группы B к группе A. Сделайте выводы и предположения."
   ]
  },
  {
   "cell_type": "code",
   "execution_count": 22,
   "metadata": {},
   "outputs": [
    {
     "data": {
      "image/png": "[encoded data removed]",
      "text/plain": [
       "<Figure size 1080x504 with 1 Axes>"
      ]
     },
     "metadata": {
      "needs_background": "light"
     },
     "output_type": "display_data"
    }
   ],
   "source": [
    "mergedCumulativeConversions = cumulativeDataA[['date','conversion']]\\\n",
    ".merge(cumulativeDataB[['date','conversion']], left_on='date', right_on='date', how='left', suffixes=['A', 'B'])\n",
    "plt.figure(figsize=(15, 7))\n",
    "plt.plot(mergedCumulativeConversions['date'], mergedCumulativeConversions['conversionB']\\\n",
    "         /mergedCumulativeConversions['conversionA']-1,\\\n",
    "         label=\"Относительный прирост конверсии группы B относительно группы A\")\n",
    "plt.title('Относительное изменение кумулятивного среднего количества заказов на посетителя группы B к группе A')\n",
    "plt.xlabel('Дата')\n",
    "plt.ylabel('Среднее число заказов')\n",
    "plt.legend()\n",
    "plt.axhline(y=0, color='black', linestyle='--')\n",
    "plt.axhline(y=0.1, color='grey', linestyle='--')\n",
    "plt.axis([dt.datetime(2019, 8, 1), dt.datetime(2019, 8, 30), -0.3, 0.4])\n",
    "plt.show()"
   ]
  },
  {
   "cell_type": "markdown",
   "metadata": {},
   "source": [
    "**Вывод:** В начале теста группа B проигрывала группе A. Потом её конверсия постепенно рoсла и остановилась около отметки в 10% относительно группы А.\n",
    "В целом отношение конверсии ещё не установилось, и сейчас делать какие-либо выводы по тесту нельзя. Сперва нужно проанализировать имеющиеся аномалии."
   ]
  },
  {
   "cell_type": "markdown",
   "metadata": {},
   "source": [
    "### Постройте точечный график количества заказов по пользователям. Сделайте выводы и предположения."
   ]
  },
  {
   "cell_type": "code",
   "execution_count": 23,
   "metadata": {},
   "outputs": [],
   "source": [
    "#Найдем число заказов по пользователям. \n",
    "ordersByVisitors = (\n",
    "    orders[['visitorId', 'transactionId']]\n",
    "    .groupby('visitorId', as_index=False).agg({'transactionId': 'nunique'})\n",
    ")"
   ]
  },
  {
   "cell_type": "code",
   "execution_count": 24,
   "metadata": {},
   "outputs": [],
   "source": [
    "ordersByVisitors.columns = ['visitorId','orders']"
   ]
  },
  {
   "cell_type": "code",
   "execution_count": 25,
   "metadata": {},
   "outputs": [
    {
     "data": {
      "image/png": "[encoded data removed]",
      "text/plain": [
       "<Figure size 1080x504 with 1 Axes>"
      ]
     },
     "metadata": {
      "needs_background": "light"
     },
     "output_type": "display_data"
    }
   ],
   "source": [
    "plt.figure(figsize=(15,7))\n",
    "x_values = pd.Series(range(0, len(ordersByVisitors)))\n",
    "plt.scatter(x_values, ordersByVisitors['orders'])\n",
    "plt.title('Количество заказов по пользователям')\n",
    "plt.xlabel('Количество наблюденй')\n",
    "plt.ylabel('Количество заказов')\n",
    "plt.show()"
   ]
  },
  {
   "cell_type": "markdown",
   "metadata": {},
   "source": [
    "**Вывод:** пользователей, сделавших 2 и 3 заказа, совсем мало. Они могут быть аномальными."
   ]
  },
  {
   "cell_type": "markdown",
   "metadata": {},
   "source": [
    "### Посчитайте 95-й и 99-й перцентили количества заказов на пользователя. Выберите границу для определения аномальных пользователей."
   ]
  },
  {
   "cell_type": "code",
   "execution_count": 26,
   "metadata": {},
   "outputs": [
    {
     "data": {
      "text/plain": [
       "array([1., 2.])"
      ]
     },
     "execution_count": 26,
     "metadata": {},
     "output_type": "execute_result"
    }
   ],
   "source": [
    "np.percentile(ordersByVisitors['orders'], [95, 99])"
   ]
  },
  {
   "cell_type": "markdown",
   "metadata": {},
   "source": [
    "**Вывод:** всего 1% пользователей, сделавших 2 заказа и более, их будем считать аномальными"
   ]
  },
  {
   "cell_type": "markdown",
   "metadata": {},
   "source": [
    "### Постройте точечный график стоимостей заказов. Сделайте выводы и предположения."
   ]
  },
  {
   "cell_type": "code",
   "execution_count": 27,
   "metadata": {},
   "outputs": [
    {
     "data": {
      "image/png": "[encoded data removed]",
      "text/plain": [
       "<Figure size 1080x504 with 1 Axes>"
      ]
     },
     "metadata": {
      "needs_background": "light"
     },
     "output_type": "display_data"
    }
   ],
   "source": [
    "plt.figure(figsize=(15,7))\n",
    "x_values = pd.Series(range(0, len(orders['revenue'])))\n",
    "plt.scatter(x_values, orders['revenue'])\n",
    "plt.title('Стоимость заказов')\n",
    "plt.xlabel('Количество наблюденй')\n",
    "plt.ylabel('млн руб')\n",
    "plt.show()"
   ]
  },
  {
   "cell_type": "markdown",
   "metadata": {},
   "source": [
    "**Вывод:** всего два аномально дорогих заказа. Большинство - не превышает отметку в 100 тыс рублей."
   ]
  },
  {
   "cell_type": "markdown",
   "metadata": {},
   "source": [
    "### Посчитайте 95-й и 99-й перцентили стоимости заказов. Выберите границу для определения аномальных заказов."
   ]
  },
  {
   "cell_type": "code",
   "execution_count": 28,
   "metadata": {},
   "outputs": [
    {
     "data": {
      "text/plain": [
       "array([26785., 53904.])"
      ]
     },
     "execution_count": 28,
     "metadata": {},
     "output_type": "execute_result"
    }
   ],
   "source": [
    "np.percentile(orders['revenue'], [95, 99])"
   ]
  },
  {
   "cell_type": "markdown",
   "metadata": {},
   "source": [
    "**Вывод:** 1% заказов дороже 53904 рублей, 5% заказов дороже 26785 рублей. Установим границу для аномальных данных > 30 тыс рублей, все, что меньше, возьмем в выборку."
   ]
  },
  {
   "cell_type": "markdown",
   "metadata": {},
   "source": [
    "### Посчитайте статистическую значимость различий в среднем количестве заказов на посетителя между группами по «сырым» данным. Сделайте выводы и предположения."
   ]
  },
  {
   "cell_type": "markdown",
   "metadata": {},
   "source": [
    "Сформулируем гипотезы: \n",
    "- Н0: Нет различий в среднем количестве заказов между группами А и В, \n",
    "- Н1: Есть различия в среднем количестве заказов между группами А и В."
   ]
  },
  {
   "cell_type": "code",
   "execution_count": 29,
   "metadata": {},
   "outputs": [],
   "source": [
    "# посетили по дням в группе А\n",
    "visitorsADaily = visitors[visitors['group'] == 'A'][['date', 'visitors']]\n",
    "visitorsADaily.columns = ['date', 'visitorsPerDateA']\n",
    "\n",
    "# кумулятивные данные по посетителям в группе А\n",
    "visitorsACummulative = visitorsADaily.apply(\n",
    "    lambda x: visitorsADaily[visitorsADaily['date'] <= x['date']].agg(\n",
    "        {'date': 'max', 'visitorsPerDateA': 'sum'}\n",
    "    ),\n",
    "    axis=1,\n",
    ")\n",
    "# переименуем столбцы\n",
    "visitorsACummulative.columns = ['date', 'visitorsCummulativeA']\n",
    "\n",
    "# аналогичные операции с посетителями в группе В\n",
    "visitorsBDaily = visitors[visitors['group'] == 'B'][['date', 'visitors']]\n",
    "visitorsBDaily.columns = ['date', 'visitorsPerDateB']\n",
    "\n",
    "visitorsBCummulative = visitorsBDaily.apply(\n",
    "    lambda x: visitorsBDaily[visitorsBDaily['date'] <= x['date']].agg(\n",
    "        {'date': 'max', 'visitorsPerDateB': 'sum'}\n",
    "    ),\n",
    "    axis=1,\n",
    ")\n",
    "visitorsBCummulative.columns = ['date', 'visitorsCummulativeB']"
   ]
  },
  {
   "cell_type": "code",
   "execution_count": 30,
   "metadata": {},
   "outputs": [],
   "source": [
    "# заказы по дням в группе А \n",
    "ordersADaily = (\n",
    "    orders[orders['group'] == 'A'][['date', 'transactionId', 'visitorId', 'revenue']]\n",
    "    .groupby('date', as_index=False)\n",
    "    .agg({'transactionId': 'nunique', 'revenue': 'sum'})\n",
    ")\n",
    "ordersADaily.columns = ['date', 'ordersPerDateA', 'revenuePerDateA']\n",
    "\n",
    "# кумулятивные данные по заказам по дням в группе А\n",
    "ordersACummulative = ordersADaily.apply(\n",
    "    lambda x: ordersADaily[ordersADaily['date'] <= x['date']].agg(\n",
    "        {'date': 'max', 'ordersPerDateA': 'sum', 'revenuePerDateA': 'sum'}\n",
    "    ),\n",
    "    axis=1,\n",
    ").sort_values(by=['date'])\n",
    "ordersACummulative.columns = [\n",
    "    'date',\n",
    "    'ordersCummulativeA',\n",
    "    'revenueCummulativeA',\n",
    "]\n",
    "# аналогично для группы В\n",
    "ordersBDaily = (\n",
    "    orders[orders['group'] == 'B'][['date', 'transactionId', 'visitorId', 'revenue']]\n",
    "    .groupby('date', as_index=False)\n",
    "    .agg({'transactionId': pd.Series.nunique, 'revenue': 'sum'})\n",
    ")\n",
    "ordersBDaily.columns = ['date', 'ordersPerDateB', 'revenuePerDateB']\n",
    "\n",
    "ordersBCummulative = ordersBDaily.apply(\n",
    "    lambda x: ordersBDaily[ordersBDaily['date'] <= x['date']].agg(\n",
    "        {'date': 'max', 'ordersPerDateB': 'sum', 'revenuePerDateB': 'sum'}\n",
    "    ),\n",
    "    axis=1,\n",
    ").sort_values(by=['date'])\n",
    "ordersBCummulative.columns = [\n",
    "    'date',\n",
    "    'ordersCummulativeB',\n",
    "    'revenueCummulativeB',\n",
    "]\n",
    "# соединяем все данные\n",
    "data = (\n",
    "    ordersADaily.merge(\n",
    "        ordersBDaily, left_on='date', right_on='date', how='left'\n",
    "    )\n",
    "    .merge(ordersACummulative, left_on='date', right_on='date', how='left')\n",
    "    .merge(ordersBCummulative, left_on='date', right_on='date', how='left')\n",
    "    .merge(visitorsADaily, left_on='date', right_on='date', how='left')\n",
    "    .merge(visitorsBDaily, left_on='date', right_on='date', how='left')\n",
    "    .merge(visitorsACummulative, left_on='date', right_on='date', how='left')\n",
    "    .merge(visitorsBCummulative, left_on='date', right_on='date', how='left')\n",
    ")"
   ]
  },
  {
   "cell_type": "code",
   "execution_count": 31,
   "metadata": {},
   "outputs": [
    {
     "data": {
      "text/html": [
       "<div>\n",
       "<style scoped>\n",
       "    .dataframe tbody tr th:only-of-type {\n",
       "        vertical-align: middle;\n",
       "    }\n",
       "\n",
       "    .dataframe tbody tr th {\n",
       "        vertical-align: top;\n",
       "    }\n",
       "\n",
       "    .dataframe thead th {\n",
       "        text-align: right;\n",
       "    }\n",
       "</style>\n",
       "<table border=\"1\" class=\"dataframe\">\n",
       "  <thead>\n",
       "    <tr style=\"text-align: right;\">\n",
       "      <th></th>\n",
       "      <th>date</th>\n",
       "      <th>ordersPerDateA</th>\n",
       "      <th>revenuePerDateA</th>\n",
       "      <th>ordersPerDateB</th>\n",
       "      <th>revenuePerDateB</th>\n",
       "      <th>ordersCummulativeA</th>\n",
       "      <th>revenueCummulativeA</th>\n",
       "      <th>ordersCummulativeB</th>\n",
       "      <th>revenueCummulativeB</th>\n",
       "      <th>visitorsPerDateA</th>\n",
       "      <th>visitorsPerDateB</th>\n",
       "      <th>visitorsCummulativeA</th>\n",
       "      <th>visitorsCummulativeB</th>\n",
       "    </tr>\n",
       "  </thead>\n",
       "  <tbody>\n",
       "    <tr>\n",
       "      <th>0</th>\n",
       "      <td>2019-08-01</td>\n",
       "      <td>23</td>\n",
       "      <td>142779</td>\n",
       "      <td>17</td>\n",
       "      <td>59758</td>\n",
       "      <td>23</td>\n",
       "      <td>142779</td>\n",
       "      <td>17</td>\n",
       "      <td>59758</td>\n",
       "      <td>719</td>\n",
       "      <td>713</td>\n",
       "      <td>719</td>\n",
       "      <td>713</td>\n",
       "    </tr>\n",
       "    <tr>\n",
       "      <th>1</th>\n",
       "      <td>2019-08-02</td>\n",
       "      <td>19</td>\n",
       "      <td>91602</td>\n",
       "      <td>23</td>\n",
       "      <td>162043</td>\n",
       "      <td>42</td>\n",
       "      <td>234381</td>\n",
       "      <td>40</td>\n",
       "      <td>221801</td>\n",
       "      <td>619</td>\n",
       "      <td>581</td>\n",
       "      <td>1338</td>\n",
       "      <td>1294</td>\n",
       "    </tr>\n",
       "    <tr>\n",
       "      <th>2</th>\n",
       "      <td>2019-08-03</td>\n",
       "      <td>24</td>\n",
       "      <td>112473</td>\n",
       "      <td>14</td>\n",
       "      <td>67049</td>\n",
       "      <td>66</td>\n",
       "      <td>346854</td>\n",
       "      <td>54</td>\n",
       "      <td>288850</td>\n",
       "      <td>507</td>\n",
       "      <td>509</td>\n",
       "      <td>1845</td>\n",
       "      <td>1803</td>\n",
       "    </tr>\n",
       "    <tr>\n",
       "      <th>3</th>\n",
       "      <td>2019-08-04</td>\n",
       "      <td>11</td>\n",
       "      <td>41176</td>\n",
       "      <td>14</td>\n",
       "      <td>96890</td>\n",
       "      <td>77</td>\n",
       "      <td>388030</td>\n",
       "      <td>68</td>\n",
       "      <td>385740</td>\n",
       "      <td>717</td>\n",
       "      <td>770</td>\n",
       "      <td>2562</td>\n",
       "      <td>2573</td>\n",
       "    </tr>\n",
       "    <tr>\n",
       "      <th>4</th>\n",
       "      <td>2019-08-05</td>\n",
       "      <td>22</td>\n",
       "      <td>86383</td>\n",
       "      <td>21</td>\n",
       "      <td>89908</td>\n",
       "      <td>99</td>\n",
       "      <td>474413</td>\n",
       "      <td>89</td>\n",
       "      <td>475648</td>\n",
       "      <td>756</td>\n",
       "      <td>707</td>\n",
       "      <td>3318</td>\n",
       "      <td>3280</td>\n",
       "    </tr>\n",
       "  </tbody>\n",
       "</table>\n",
       "</div>"
      ],
      "text/plain": [
       "        date  ordersPerDateA  revenuePerDateA  ordersPerDateB  \\\n",
       "0 2019-08-01              23           142779              17   \n",
       "1 2019-08-02              19            91602              23   \n",
       "2 2019-08-03              24           112473              14   \n",
       "3 2019-08-04              11            41176              14   \n",
       "4 2019-08-05              22            86383              21   \n",
       "\n",
       "   revenuePerDateB  ordersCummulativeA  revenueCummulativeA  \\\n",
       "0            59758                  23               142779   \n",
       "1           162043                  42               234381   \n",
       "2            67049                  66               346854   \n",
       "3            96890                  77               388030   \n",
       "4            89908                  99               474413   \n",
       "\n",
       "   ordersCummulativeB  revenueCummulativeB  visitorsPerDateA  \\\n",
       "0                  17                59758               719   \n",
       "1                  40               221801               619   \n",
       "2                  54               288850               507   \n",
       "3                  68               385740               717   \n",
       "4                  89               475648               756   \n",
       "\n",
       "   visitorsPerDateB  visitorsCummulativeA  visitorsCummulativeB  \n",
       "0               713                   719                   713  \n",
       "1               581                  1338                  1294  \n",
       "2               509                  1845                  1803  \n",
       "3               770                  2562                  2573  \n",
       "4               707                  3318                  3280  "
      ]
     },
     "execution_count": 31,
     "metadata": {},
     "output_type": "execute_result"
    }
   ],
   "source": [
    "data.head()"
   ]
  },
  {
   "cell_type": "markdown",
   "metadata": {},
   "source": [
    "Посчитаем статистическую значимость различия в среднем количестве заказов между группами.\n",
    "Создадим переменные ordersByUsersA и ordersByUsersB. В них для пользователей, которые заказывали хотя бы 1 раз, укажем число совершённых заказов. "
   ]
  },
  {
   "cell_type": "code",
   "execution_count": 32,
   "metadata": {},
   "outputs": [],
   "source": [
    "ordersByUsersA = (\n",
    "    orders[orders['group'] == 'A']\n",
    "    .groupby('visitorId', as_index=False)\n",
    "    .agg({'transactionId': 'nunique'})\n",
    ")\n",
    "ordersByUsersA.columns = ['userId', 'orders']\n",
    "\n",
    "ordersByUsersB = (\n",
    "    orders[orders['group'] == 'B']\n",
    "    .groupby('visitorId', as_index=False)\n",
    "    .agg({'transactionId': 'nunique'})\n",
    ")\n",
    "ordersByUsersB.columns = ['userId', 'orders'] "
   ]
  },
  {
   "cell_type": "markdown",
   "metadata": {},
   "source": [
    "Объявим переменные sampleA и sampleB, в которых пользователям из разных групп будет соответствовать количество заказов. Тем, кто ничего не заказал, будут соответствовать нули."
   ]
  },
  {
   "cell_type": "code",
   "execution_count": 33,
   "metadata": {},
   "outputs": [],
   "source": [
    "sampleA = pd.concat([ordersByUsersA['orders'],\\\n",
    "                     pd.Series(0, index=np.arange(data['visitorsPerDateA']\\\n",
    "                                                  .sum() - len(ordersByUsersA['orders'])), name='orders')],axis=0)\n",
    "\n",
    "sampleB = pd.concat([ordersByUsersB['orders'],\\\n",
    "                     pd.Series(0, index=np.arange(data['visitorsPerDateB']\\\n",
    "                                                  .sum() - len(ordersByUsersB['orders'])), name='orders')],axis=0) "
   ]
  },
  {
   "cell_type": "code",
   "execution_count": 34,
   "metadata": {},
   "outputs": [
    {
     "name": "stdout",
     "output_type": "stream",
     "text": [
      "Нулевую гипотезу можно отвергнуть: p-value 0.011\n"
     ]
    }
   ],
   "source": [
    "pvalue = \"{0:.3f}\".format(stats.mannwhitneyu(sampleA, sampleB)[1]) #p-value\n",
    "if pvalue < '0.05':\n",
    "    print(\"Нулевую гипотезу можно отвергнуть:\", 'p-value', pvalue)\n",
    "else:\n",
    "    print(\"Нулевая гипотеза верна\", 'p-value', pvalue)"
   ]
  },
  {
   "cell_type": "markdown",
   "metadata": {},
   "source": [
    "**Вывод:** p-value меньше 0.05. По \"сырым\" данным нулевую гипотезу можно отвергнуть, между группами есть статистически значимые отличия по количеству заказов."
   ]
  },
  {
   "cell_type": "markdown",
   "metadata": {},
   "source": [
    "Посчитаем разницу между группами"
   ]
  },
  {
   "cell_type": "code",
   "execution_count": 35,
   "metadata": {},
   "outputs": [
    {
     "data": {
      "text/plain": [
       "'0.160'"
      ]
     },
     "execution_count": 35,
     "metadata": {},
     "output_type": "execute_result"
    }
   ],
   "source": [
    "\"{0:.3f}\".format(sampleB.mean() / sampleA.mean() - 1)"
   ]
  },
  {
   "cell_type": "markdown",
   "metadata": {},
   "source": [
    "Разница между группами А и В по среднему числу заказов - 16%. Показатели группы В выше."
   ]
  },
  {
   "cell_type": "markdown",
   "metadata": {},
   "source": [
    "### Посчитайте статистическую значимость различий в среднем чеке заказа между группами по «сырым» данным. Сделайте выводы и предположения."
   ]
  },
  {
   "cell_type": "markdown",
   "metadata": {},
   "source": [
    "Сформулируем гипотезы:\n",
    "\n",
    " - Н0: Нет различий в среднем чеке заказа между группами А и В,\n",
    " - Н1: Есть различия в среднем чеке заказа между группами А и В."
   ]
  },
  {
   "cell_type": "code",
   "execution_count": 36,
   "metadata": {},
   "outputs": [
    {
     "name": "stdout",
     "output_type": "stream",
     "text": [
      "Нулевая гипотеза верна: p-value 0.829\n"
     ]
    }
   ],
   "source": [
    "pvalue = '{0:.3f}'.format(stats.mannwhitneyu(orders[orders['group']=='A']['revenue']\\\n",
    "                                    , orders[orders['group']=='B']['revenue'])[1])\n",
    "if pvalue < '0.05':\n",
    "    print(\"Нулевую гипотезу можно отвергнуть:\", 'p-value', pvalue)\n",
    "else:\n",
    "    print(\"Нулевая гипотеза верна:\", 'p-value', pvalue)"
   ]
  },
  {
   "cell_type": "code",
   "execution_count": 37,
   "metadata": {},
   "outputs": [
    {
     "data": {
      "text/plain": [
       "'0.287'"
      ]
     },
     "execution_count": 37,
     "metadata": {},
     "output_type": "execute_result"
    }
   ],
   "source": [
    "'{0:.3f}'.format(orders[orders['group']=='B']['revenue'].mean()/orders[orders['group']=='A']['revenue'].mean()-1)"
   ]
  },
  {
   "cell_type": "markdown",
   "metadata": {},
   "source": [
    "**Вывод:** по неочищенным данным P-value значительно больше 0.05. Значит, причин отвергать нулевую гипотезу и считать, что в среднем чеке есть различия, нет. Наблюдаемое различие между группами в 28.7% не является статистически значимым."
   ]
  },
  {
   "cell_type": "markdown",
   "metadata": {},
   "source": [
    "### Посчитайте статистическую значимость различий в среднем количестве заказов на посетителя между группами по «очищенным» данным. Сделайте выводы и предположения."
   ]
  },
  {
   "cell_type": "markdown",
   "metadata": {},
   "source": [
    "Сформулируем гипотезы: \n",
    "- Н0: Нет различий в среднем количестве заказов между группами А и В по очищенным данным, \n",
    "- Н1: Есть различия в среднем количестве заказов между группами А и В по очищенным данным."
   ]
  },
  {
   "cell_type": "markdown",
   "metadata": {},
   "source": [
    "Сделаем срезы пользователей с числом заказов больше либо равно 2 — usersWithManyOrders и пользователей, совершивших заказы дороже 30 000 — usersWithExpensiveOrders. Объединим их в таблице abnormalUsers."
   ]
  },
  {
   "cell_type": "code",
   "execution_count": 38,
   "metadata": {},
   "outputs": [],
   "source": [
    "orders_lim = 1\n",
    "usersWithManyOrders = pd.concat(\n",
    "    [\n",
    "        ordersByUsersA[ordersByUsersA['orders'] > orders_lim]['userId'],\n",
    "        ordersByUsersB[ordersByUsersB['orders'] > orders_lim]['userId'],\n",
    "    ],\n",
    "    axis=0,\n",
    ")\n",
    "revenue_lim = 30000\n",
    "usersWithExpensiveOrders = orders[orders['revenue'] > revenue_lim]['visitorId']"
   ]
  },
  {
   "cell_type": "code",
   "execution_count": 39,
   "metadata": {},
   "outputs": [
    {
     "name": "stdout",
     "output_type": "stream",
     "text": [
      "1099    148427295\n",
      "928     204675465\n",
      "33      249864742\n",
      "684     358944393\n",
      "36      366673373\n",
      "dtype: int64\n"
     ]
    },
    {
     "data": {
      "text/plain": [
       "77"
      ]
     },
     "execution_count": 39,
     "metadata": {},
     "output_type": "execute_result"
    }
   ],
   "source": [
    "abnormalUsers = (\n",
    "    pd.concat([usersWithManyOrders, usersWithExpensiveOrders], axis=0)\n",
    "    .drop_duplicates()\n",
    "    .sort_values()\n",
    ")\n",
    "print(abnormalUsers.head(5))\n",
    "abnormalUsers.shape[0] #сколько всего аномальных пользователей"
   ]
  },
  {
   "cell_type": "markdown",
   "metadata": {},
   "source": [
    "Всего 77 аномальных пользователей"
   ]
  },
  {
   "cell_type": "markdown",
   "metadata": {},
   "source": [
    "Объявим переменные sampleAFiltered и sampleBFiltered, в которых пользователям из разных групп будет соответствовать количество заказов. Тем, кто ничего не заказал, будут соответствовать нули."
   ]
  },
  {
   "cell_type": "code",
   "execution_count": 40,
   "metadata": {},
   "outputs": [],
   "source": [
    "sampleAFiltered = pd.concat(\n",
    "    [\n",
    "        ordersByUsersA[\n",
    "            np.logical_not(ordersByUsersA['userId'].isin(abnormalUsers))\n",
    "        ]['orders'],\n",
    "        pd.Series(\n",
    "            0,\n",
    "            index=np.arange(\n",
    "                data['visitorsPerDateA'].sum() - len(ordersByUsersA['orders'])\n",
    "            ),\n",
    "            name='orders',\n",
    "        ),\n",
    "    ],\n",
    "    axis=0,\n",
    ")\n",
    "\n",
    "sampleBFiltered = pd.concat(\n",
    "    [\n",
    "        ordersByUsersB[\n",
    "            np.logical_not(ordersByUsersB['userId'].isin(abnormalUsers))\n",
    "        ]['orders'],\n",
    "        pd.Series(\n",
    "            0,\n",
    "            index=np.arange(\n",
    "                data['visitorsPerDateB'].sum() - len(ordersByUsersB['orders'])\n",
    "            ),\n",
    "            name='orders',\n",
    "        ),\n",
    "    ],\n",
    "    axis=0,\n",
    ") \n"
   ]
  },
  {
   "cell_type": "code",
   "execution_count": 41,
   "metadata": {},
   "outputs": [
    {
     "name": "stdout",
     "output_type": "stream",
     "text": [
      "Нулевую гипотезу можно отвергнуть: p-value 0.013\n"
     ]
    }
   ],
   "source": [
    "pvalue = '{0:.3f}'.format(stats.mannwhitneyu(sampleAFiltered, sampleBFiltered)[1])\n",
    "if pvalue < '0.05':\n",
    "    print(\"Нулевую гипотезу можно отвергнуть:\", 'p-value', pvalue)\n",
    "else:\n",
    "    print(\"Нулевая гипотеза верна:\", 'p-value', pvalue)"
   ]
  },
  {
   "cell_type": "code",
   "execution_count": 42,
   "metadata": {},
   "outputs": [
    {
     "data": {
      "text/plain": [
       "'0.180'"
      ]
     },
     "execution_count": 42,
     "metadata": {},
     "output_type": "execute_result"
    }
   ],
   "source": [
    "# проверим различия между группами\n",
    "'{0:.3f}'.format(sampleBFiltered.mean()/sampleAFiltered.mean()-1)"
   ]
  },
  {
   "cell_type": "markdown",
   "metadata": {},
   "source": [
    "**Вывод:** p-value меньше 0.05 - нулевую гипотезу можно отвергнуть. Между группами в среднем количестве заказов на посетителя есть статистически значимые различия. Группа В превосходит группу А на 18%"
   ]
  },
  {
   "cell_type": "markdown",
   "metadata": {},
   "source": [
    "### Посчитайте статистическую значимость различий в среднем чеке заказа между группами по «очищенным» данным. Сделайте выводы и предположения."
   ]
  },
  {
   "cell_type": "markdown",
   "metadata": {},
   "source": [
    "Сформулируем гипотезы:\n",
    "\n",
    " - Н0: Нет различий в среднем чеке заказа между группами А и В по очищенным данным,\n",
    " - Н1: Есть различия в среднем чеке заказа между группами А и В по очищенным данным."
   ]
  },
  {
   "cell_type": "code",
   "execution_count": 43,
   "metadata": {},
   "outputs": [
    {
     "name": "stdout",
     "output_type": "stream",
     "text": [
      "Нулевая гипотеза верна: p-value 0.829\n"
     ]
    }
   ],
   "source": [
    "pvalue = '{0:.3f}'.format(\n",
    "        stats.mannwhitneyu(\n",
    "            orders[\n",
    "                np.logical_and(\n",
    "                    orders['group'] == 'A',\n",
    "                    np.logical_not(orders['visitorId'].isin(abnormalUsers)),\n",
    "                )\n",
    "            ]['revenue'],\n",
    "            orders[\n",
    "                np.logical_and(\n",
    "                    orders['group'] == 'B',\n",
    "                    np.logical_not(orders['visitorId'].isin(abnormalUsers)),\n",
    "                )\n",
    "            ]['revenue'],\n",
    "        )[1]\n",
    "    )\n",
    "if pvalue < '0.05':\n",
    "    print(\"Нулевую гипотезу можно отвергнуть:\", 'p-value', pvalue)\n",
    "else:\n",
    "    print(\"Нулевая гипотеза верна:\", 'p-value', pvalue)"
   ]
  },
  {
   "cell_type": "code",
   "execution_count": 44,
   "metadata": {},
   "outputs": [
    {
     "data": {
      "text/plain": [
       "'-0.011'"
      ]
     },
     "execution_count": 44,
     "metadata": {},
     "output_type": "execute_result"
    }
   ],
   "source": [
    "# прирост среднего чека группы В относительно группы А по очищенным данным\n",
    "\"{0:.3f}\".format(\n",
    "        orders[\n",
    "            np.logical_and(\n",
    "                orders['group'] == 'B',\n",
    "                np.logical_not(orders['visitorId'].isin(abnormalUsers)),\n",
    "            )\n",
    "        ]['revenue'].mean()\n",
    "        / orders[\n",
    "            np.logical_and(\n",
    "                orders['group'] == 'A',\n",
    "                np.logical_not(orders['visitorId'].isin(abnormalUsers)),\n",
    "            )\n",
    "        ]['revenue'].mean()\n",
    "        - 1\n",
    "    )"
   ]
  },
  {
   "cell_type": "markdown",
   "metadata": {},
   "source": [
    "**Вывод:** В группе В показатель среднего чека на 1% ниже чем в группе А. Статистически значимых различий по \"очищенным\" данным в среднем чеке между группами нет, нулевую гипотезу не отвергаем. "
   ]
  },
  {
   "cell_type": "markdown",
   "metadata": {},
   "source": [
    "### Примите решение по результатам теста и объясните его. Варианты решений:\n",
    "1. Остановить тест, зафиксировать победу одной из групп.\n",
    "2. Остановить тест, зафиксировать отсутствие различий между группами.\n",
    "3. Продолжить тест."
   ]
  },
  {
   "cell_type": "markdown",
   "metadata": {},
   "source": [
    "Решение - остановить тест, зафиксировать преимущество группы В\n",
    "\n",
    "1. Есть статистически значимое различие по конверсии между группами как по сырым данным, так и после фильтрации аномалий. Так же при сравнении групп - по сырым данным разница между ними 16%, по очищенным - 18%, что свидетельствует о преимуществе показателей группы В над группой А.\n",
    "2. Нет статистически значимого различия по среднему чеку между группами как по сырым, так и по очищенным данным.\n",
    "3. График различия конверсии между группами сообщает, что результаты группы B лучше группы А, в конце наблюдается стабилизация.\n",
    "4. График различия среднего чека колеблется. Сделать из этого графика определённые выводы нельзя."
   ]
  }
 ],
 "metadata": {
  "ExecuteTimeLog": [
   {
    "duration": 545,
    "start_time": "2023-05-22T09:50:29.156Z"
   },
   {
    "duration": 50,
    "start_time": "2023-05-22T09:50:57.705Z"
   },
   {
    "duration": 5,
    "start_time": "2023-05-22T10:21:52.238Z"
   },
   {
    "duration": 71,
    "start_time": "2023-05-22T10:22:04.043Z"
   },
   {
    "duration": 71,
    "start_time": "2023-05-22T10:22:24.051Z"
   },
   {
    "duration": 6,
    "start_time": "2023-05-22T10:22:25.642Z"
   },
   {
    "duration": 12,
    "start_time": "2023-05-22T10:23:00.743Z"
   },
   {
    "duration": 11,
    "start_time": "2023-05-22T10:23:31.242Z"
   },
   {
    "duration": 13,
    "start_time": "2023-05-22T10:24:25.865Z"
   },
   {
    "duration": 13,
    "start_time": "2023-05-22T10:24:36.101Z"
   },
   {
    "duration": 9,
    "start_time": "2023-05-22T10:25:26.570Z"
   },
   {
    "duration": 9,
    "start_time": "2023-05-22T10:25:46.224Z"
   },
   {
    "duration": 54,
    "start_time": "2023-05-22T10:25:58.496Z"
   },
   {
    "duration": 14,
    "start_time": "2023-05-22T10:25:59.587Z"
   },
   {
    "duration": 11,
    "start_time": "2023-05-22T10:26:06.653Z"
   },
   {
    "duration": 10,
    "start_time": "2023-05-22T10:28:03.596Z"
   },
   {
    "duration": 59,
    "start_time": "2023-05-22T10:28:10.773Z"
   },
   {
    "duration": 13,
    "start_time": "2023-05-22T10:28:12.010Z"
   },
   {
    "duration": 8,
    "start_time": "2023-05-22T10:28:30.643Z"
   },
   {
    "duration": 57,
    "start_time": "2023-05-22T10:28:45.064Z"
   },
   {
    "duration": 13,
    "start_time": "2023-05-22T10:28:45.124Z"
   },
   {
    "duration": 32,
    "start_time": "2023-05-22T10:28:45.139Z"
   },
   {
    "duration": 9,
    "start_time": "2023-05-22T10:29:23.248Z"
   },
   {
    "duration": 39,
    "start_time": "2023-05-22T10:29:26.949Z"
   },
   {
    "duration": 10,
    "start_time": "2023-05-22T10:29:26.990Z"
   },
   {
    "duration": 0,
    "start_time": "2023-05-22T10:29:27.002Z"
   },
   {
    "duration": 11,
    "start_time": "2023-05-22T10:30:18.495Z"
   },
   {
    "duration": 72,
    "start_time": "2023-05-22T10:30:30.461Z"
   },
   {
    "duration": 63,
    "start_time": "2023-05-22T10:30:30.535Z"
   },
   {
    "duration": 2301,
    "start_time": "2023-05-22T10:30:30.601Z"
   },
   {
    "duration": 10,
    "start_time": "2023-05-22T10:30:54.252Z"
   },
   {
    "duration": 13,
    "start_time": "2023-05-22T10:31:04.002Z"
   },
   {
    "duration": 16,
    "start_time": "2023-05-22T10:35:12.903Z"
   },
   {
    "duration": 53,
    "start_time": "2023-05-22T10:44:15.790Z"
   },
   {
    "duration": 1079,
    "start_time": "2023-05-22T10:44:19.410Z"
   },
   {
    "duration": 183,
    "start_time": "2023-05-22T10:45:41.945Z"
   },
   {
    "duration": 105,
    "start_time": "2023-05-22T10:46:30.175Z"
   },
   {
    "duration": 450,
    "start_time": "2023-05-22T14:09:18.848Z"
   },
   {
    "duration": 4,
    "start_time": "2023-05-22T14:09:51.350Z"
   },
   {
    "duration": 125,
    "start_time": "2023-05-22T14:09:57.291Z"
   },
   {
    "duration": 121,
    "start_time": "2023-05-22T14:10:18.643Z"
   },
   {
    "duration": 150,
    "start_time": "2023-05-22T14:10:31.009Z"
   },
   {
    "duration": 632,
    "start_time": "2023-05-22T14:16:29.787Z"
   },
   {
    "duration": 164,
    "start_time": "2023-05-22T14:17:50.736Z"
   },
   {
    "duration": 92,
    "start_time": "2023-05-22T14:18:26.842Z"
   },
   {
    "duration": 8,
    "start_time": "2023-05-22T14:34:02.880Z"
   },
   {
    "duration": 28,
    "start_time": "2023-05-22T14:39:31.249Z"
   },
   {
    "duration": 205,
    "start_time": "2023-05-22T14:41:00.307Z"
   },
   {
    "duration": 177,
    "start_time": "2023-05-22T14:43:12.746Z"
   },
   {
    "duration": 184,
    "start_time": "2023-05-22T14:53:49.852Z"
   },
   {
    "duration": 133,
    "start_time": "2023-05-22T14:56:12.943Z"
   },
   {
    "duration": 19,
    "start_time": "2023-05-22T15:01:19.802Z"
   },
   {
    "duration": 8,
    "start_time": "2023-05-22T15:02:44.245Z"
   },
   {
    "duration": 312,
    "start_time": "2023-05-22T15:11:47.471Z"
   },
   {
    "duration": 172,
    "start_time": "2023-05-22T15:16:36.938Z"
   },
   {
    "duration": 179,
    "start_time": "2023-05-22T15:16:48.719Z"
   },
   {
    "duration": 230,
    "start_time": "2023-05-22T15:17:50.642Z"
   },
   {
    "duration": 211,
    "start_time": "2023-05-22T15:18:02.462Z"
   },
   {
    "duration": 205,
    "start_time": "2023-05-22T15:18:10.552Z"
   },
   {
    "duration": 58,
    "start_time": "2023-05-23T08:29:28.166Z"
   },
   {
    "duration": 1444,
    "start_time": "2023-05-23T08:29:34.429Z"
   },
   {
    "duration": 180,
    "start_time": "2023-05-23T08:29:35.887Z"
   },
   {
    "duration": 12,
    "start_time": "2023-05-23T08:29:36.069Z"
   },
   {
    "duration": 34,
    "start_time": "2023-05-23T08:29:36.083Z"
   },
   {
    "duration": 13,
    "start_time": "2023-05-23T08:29:36.119Z"
   },
   {
    "duration": 363,
    "start_time": "2023-05-23T08:29:36.136Z"
   },
   {
    "duration": 82,
    "start_time": "2023-05-23T08:29:36.501Z"
   },
   {
    "duration": 7,
    "start_time": "2023-05-23T08:29:36.585Z"
   },
   {
    "duration": 182,
    "start_time": "2023-05-23T08:29:36.595Z"
   },
   {
    "duration": 145,
    "start_time": "2023-05-23T08:29:36.779Z"
   },
   {
    "duration": 25,
    "start_time": "2023-05-23T08:29:36.925Z"
   },
   {
    "duration": 314,
    "start_time": "2023-05-23T08:29:36.953Z"
   },
   {
    "duration": 200,
    "start_time": "2023-05-23T08:29:37.269Z"
   },
   {
    "duration": 386,
    "start_time": "2023-05-23T08:33:17.043Z"
   },
   {
    "duration": 201,
    "start_time": "2023-05-23T08:42:40.069Z"
   },
   {
    "duration": 296,
    "start_time": "2023-05-23T08:45:18.903Z"
   },
   {
    "duration": 177,
    "start_time": "2023-05-23T08:46:17.639Z"
   },
   {
    "duration": 188,
    "start_time": "2023-05-23T08:46:30.825Z"
   },
   {
    "duration": 281,
    "start_time": "2023-05-23T08:46:59.737Z"
   },
   {
    "duration": 188,
    "start_time": "2023-05-23T08:47:34.473Z"
   },
   {
    "duration": 205,
    "start_time": "2023-05-23T08:47:55.585Z"
   },
   {
    "duration": 219,
    "start_time": "2023-05-23T08:48:10.491Z"
   },
   {
    "duration": 310,
    "start_time": "2023-05-23T08:51:50.666Z"
   },
   {
    "duration": 358,
    "start_time": "2023-05-23T08:53:22.243Z"
   },
   {
    "duration": 263,
    "start_time": "2023-05-23T08:54:09.171Z"
   },
   {
    "duration": 331,
    "start_time": "2023-05-23T08:59:32.922Z"
   },
   {
    "duration": 272,
    "start_time": "2023-05-23T09:00:13.670Z"
   },
   {
    "duration": 13,
    "start_time": "2023-05-23T11:29:06.836Z"
   },
   {
    "duration": 221,
    "start_time": "2023-05-23T11:29:30.899Z"
   },
   {
    "duration": 202,
    "start_time": "2023-05-23T11:29:56.539Z"
   },
   {
    "duration": 211,
    "start_time": "2023-05-23T11:30:18.815Z"
   },
   {
    "duration": 279,
    "start_time": "2023-05-23T11:30:29.120Z"
   },
   {
    "duration": 297,
    "start_time": "2023-05-23T11:31:33.683Z"
   },
   {
    "duration": 192,
    "start_time": "2023-05-23T11:32:22.665Z"
   },
   {
    "duration": 281,
    "start_time": "2023-05-23T11:33:27.455Z"
   },
   {
    "duration": 327,
    "start_time": "2023-05-23T11:33:35.741Z"
   },
   {
    "duration": 11,
    "start_time": "2023-05-23T11:42:17.638Z"
   },
   {
    "duration": 9,
    "start_time": "2023-05-23T11:44:05.930Z"
   },
   {
    "duration": 96,
    "start_time": "2023-05-23T11:48:15.001Z"
   },
   {
    "duration": 18,
    "start_time": "2023-05-23T11:48:37.557Z"
   },
   {
    "duration": 15,
    "start_time": "2023-05-23T11:48:51.091Z"
   },
   {
    "duration": 9,
    "start_time": "2023-05-23T11:49:12.618Z"
   },
   {
    "duration": 11,
    "start_time": "2023-05-23T11:49:32.917Z"
   },
   {
    "duration": 12,
    "start_time": "2023-05-23T11:50:14.083Z"
   },
   {
    "duration": 11,
    "start_time": "2023-05-23T11:51:09.534Z"
   },
   {
    "duration": 4,
    "start_time": "2023-05-23T11:52:18.298Z"
   },
   {
    "duration": 126,
    "start_time": "2023-05-23T11:54:33.850Z"
   },
   {
    "duration": 186,
    "start_time": "2023-05-23T11:55:14.024Z"
   },
   {
    "duration": 6,
    "start_time": "2023-05-23T11:57:44.314Z"
   },
   {
    "duration": 5,
    "start_time": "2023-05-23T11:57:59.875Z"
   },
   {
    "duration": 136,
    "start_time": "2023-05-23T12:00:56.198Z"
   },
   {
    "duration": 201,
    "start_time": "2023-05-23T12:01:27.103Z"
   },
   {
    "duration": 10,
    "start_time": "2023-05-23T12:03:49.685Z"
   },
   {
    "duration": 12,
    "start_time": "2023-05-23T12:03:58.035Z"
   },
   {
    "duration": 13,
    "start_time": "2023-05-23T12:04:10.971Z"
   },
   {
    "duration": 12,
    "start_time": "2023-05-23T12:05:29.844Z"
   },
   {
    "duration": 10,
    "start_time": "2023-05-23T12:07:00.388Z"
   },
   {
    "duration": 6,
    "start_time": "2023-05-23T12:08:33.304Z"
   },
   {
    "duration": 3,
    "start_time": "2023-05-23T12:13:03.089Z"
   },
   {
    "duration": 14,
    "start_time": "2023-05-23T12:19:20.256Z"
   },
   {
    "duration": 22,
    "start_time": "2023-05-23T12:23:44.744Z"
   },
   {
    "duration": 13,
    "start_time": "2023-05-23T12:24:28.524Z"
   },
   {
    "duration": 21,
    "start_time": "2023-05-23T12:24:47.444Z"
   },
   {
    "duration": 12,
    "start_time": "2023-05-23T12:26:02.077Z"
   },
   {
    "duration": 133,
    "start_time": "2023-05-23T12:26:06.504Z"
   },
   {
    "duration": 99,
    "start_time": "2023-05-23T12:26:59.268Z"
   },
   {
    "duration": 12,
    "start_time": "2023-05-23T12:28:33.990Z"
   },
   {
    "duration": 20,
    "start_time": "2023-05-23T12:28:53.621Z"
   },
   {
    "duration": 30,
    "start_time": "2023-05-23T12:29:19.285Z"
   },
   {
    "duration": 20,
    "start_time": "2023-05-23T12:29:43.979Z"
   },
   {
    "duration": 90,
    "start_time": "2023-05-23T12:30:18.745Z"
   },
   {
    "duration": 134,
    "start_time": "2023-05-23T12:30:30.567Z"
   },
   {
    "duration": 13,
    "start_time": "2023-05-23T12:31:30.245Z"
   },
   {
    "duration": 12,
    "start_time": "2023-05-23T12:33:10.967Z"
   },
   {
    "duration": 9,
    "start_time": "2023-05-23T12:33:56.270Z"
   },
   {
    "duration": 14,
    "start_time": "2023-05-23T12:37:01.196Z"
   },
   {
    "duration": 1219,
    "start_time": "2023-05-23T12:38:28.098Z"
   },
   {
    "duration": 1246,
    "start_time": "2023-05-23T12:38:40.193Z"
   },
   {
    "duration": 1278,
    "start_time": "2023-05-23T12:39:39.570Z"
   },
   {
    "duration": 5,
    "start_time": "2023-05-23T12:40:46.711Z"
   },
   {
    "duration": 5,
    "start_time": "2023-05-23T12:41:27.780Z"
   },
   {
    "duration": 10,
    "start_time": "2023-05-23T12:41:57.869Z"
   },
   {
    "duration": 10,
    "start_time": "2023-05-23T12:42:17.431Z"
   },
   {
    "duration": 12,
    "start_time": "2023-05-23T12:43:10.386Z"
   },
   {
    "duration": 12,
    "start_time": "2023-05-23T12:43:16.496Z"
   },
   {
    "duration": 60,
    "start_time": "2023-05-23T12:44:16.469Z"
   },
   {
    "duration": 8,
    "start_time": "2023-05-23T12:45:13.090Z"
   },
   {
    "duration": 129,
    "start_time": "2023-05-23T12:47:11.075Z"
   },
   {
    "duration": 10,
    "start_time": "2023-05-23T12:47:55.372Z"
   },
   {
    "duration": 11,
    "start_time": "2023-05-23T12:50:48.424Z"
   },
   {
    "duration": 11,
    "start_time": "2023-05-23T12:51:46.835Z"
   },
   {
    "duration": 9,
    "start_time": "2023-05-23T12:55:12.766Z"
   },
   {
    "duration": 21,
    "start_time": "2023-05-23T13:00:27.074Z"
   },
   {
    "duration": 23,
    "start_time": "2023-05-23T13:00:46.325Z"
   },
   {
    "duration": 5,
    "start_time": "2023-05-23T13:02:24.953Z"
   },
   {
    "duration": 9,
    "start_time": "2023-05-23T13:17:59.447Z"
   },
   {
    "duration": 220,
    "start_time": "2023-05-23T13:26:45.788Z"
   },
   {
    "duration": 1359,
    "start_time": "2023-05-23T13:33:31.128Z"
   },
   {
    "duration": 9,
    "start_time": "2023-05-23T13:35:21.367Z"
   },
   {
    "duration": 13,
    "start_time": "2023-05-23T13:36:23.886Z"
   },
   {
    "duration": 8,
    "start_time": "2023-05-23T13:38:56.618Z"
   },
   {
    "duration": 20,
    "start_time": "2023-05-23T13:39:23.300Z"
   },
   {
    "duration": 12,
    "start_time": "2023-05-23T13:43:02.230Z"
   },
   {
    "duration": 800,
    "start_time": "2023-05-24T07:53:28.006Z"
   },
   {
    "duration": 100,
    "start_time": "2023-05-24T07:53:28.808Z"
   },
   {
    "duration": 4,
    "start_time": "2023-05-24T07:54:37.762Z"
   },
   {
    "duration": 78,
    "start_time": "2023-05-24T07:57:55.565Z"
   },
   {
    "duration": 3,
    "start_time": "2023-05-24T08:22:10.551Z"
   },
   {
    "duration": 85,
    "start_time": "2023-05-24T08:36:56.150Z"
   },
   {
    "duration": 148,
    "start_time": "2023-05-24T08:37:06.067Z"
   },
   {
    "duration": 7,
    "start_time": "2023-05-24T08:37:08.498Z"
   },
   {
    "duration": 49,
    "start_time": "2023-05-24T08:37:17.270Z"
   },
   {
    "duration": 6,
    "start_time": "2023-05-24T08:37:40.366Z"
   },
   {
    "duration": 10,
    "start_time": "2023-05-24T08:49:46.207Z"
   },
   {
    "duration": 5,
    "start_time": "2023-05-24T08:49:54.989Z"
   },
   {
    "duration": 76,
    "start_time": "2023-05-24T08:49:54.997Z"
   },
   {
    "duration": 8,
    "start_time": "2023-05-24T08:49:55.075Z"
   },
   {
    "duration": 24,
    "start_time": "2023-05-24T08:49:55.085Z"
   },
   {
    "duration": 16,
    "start_time": "2023-05-24T08:49:55.110Z"
   },
   {
    "duration": 74,
    "start_time": "2023-05-24T08:49:55.128Z"
   },
   {
    "duration": 6,
    "start_time": "2023-05-24T08:49:55.203Z"
   },
   {
    "duration": 49,
    "start_time": "2023-05-24T08:49:55.210Z"
   },
   {
    "duration": 5,
    "start_time": "2023-05-24T08:49:55.261Z"
   },
   {
    "duration": 23,
    "start_time": "2023-05-24T08:49:55.268Z"
   },
   {
    "duration": 197,
    "start_time": "2023-05-24T08:49:55.292Z"
   },
   {
    "duration": 166,
    "start_time": "2023-05-24T08:49:55.491Z"
   },
   {
    "duration": 7,
    "start_time": "2023-05-24T08:49:55.659Z"
   },
   {
    "duration": 26,
    "start_time": "2023-05-24T08:49:55.680Z"
   },
   {
    "duration": 465,
    "start_time": "2023-05-24T08:51:05.439Z"
   },
   {
    "duration": 280,
    "start_time": "2023-05-24T08:51:19.830Z"
   },
   {
    "duration": 200,
    "start_time": "2023-05-24T08:51:28.602Z"
   },
   {
    "duration": 392,
    "start_time": "2023-05-24T09:01:34.649Z"
   },
   {
    "duration": 240,
    "start_time": "2023-05-24T09:07:30.676Z"
   },
   {
    "duration": 253,
    "start_time": "2023-05-24T09:08:39.370Z"
   },
   {
    "duration": 224,
    "start_time": "2023-05-24T09:16:24.788Z"
   },
   {
    "duration": 321,
    "start_time": "2023-05-24T09:18:52.807Z"
   },
   {
    "duration": 71,
    "start_time": "2023-05-24T09:26:32.368Z"
   },
   {
    "duration": 20,
    "start_time": "2023-05-24T09:26:49.115Z"
   },
   {
    "duration": 7,
    "start_time": "2023-05-24T09:26:56.161Z"
   },
   {
    "duration": 3,
    "start_time": "2023-05-24T09:26:56.667Z"
   },
   {
    "duration": 242,
    "start_time": "2023-05-24T09:26:57.198Z"
   },
   {
    "duration": 148,
    "start_time": "2023-05-24T09:27:35.954Z"
   },
   {
    "duration": 162,
    "start_time": "2023-05-24T09:39:35.338Z"
   },
   {
    "duration": 156,
    "start_time": "2023-05-24T09:41:23.298Z"
   },
   {
    "duration": 16,
    "start_time": "2023-05-24T09:42:41.366Z"
   },
   {
    "duration": 12,
    "start_time": "2023-05-24T09:43:21.579Z"
   },
   {
    "duration": 5,
    "start_time": "2023-05-24T09:44:53.554Z"
   },
   {
    "duration": 5,
    "start_time": "2023-05-24T09:45:07.403Z"
   },
   {
    "duration": 9,
    "start_time": "2023-05-24T12:10:03.381Z"
   },
   {
    "duration": 3,
    "start_time": "2023-05-24T12:10:13.166Z"
   },
   {
    "duration": 117,
    "start_time": "2023-05-24T12:10:13.171Z"
   },
   {
    "duration": 3,
    "start_time": "2023-05-24T12:10:13.290Z"
   },
   {
    "duration": 33,
    "start_time": "2023-05-24T12:10:13.294Z"
   },
   {
    "duration": 20,
    "start_time": "2023-05-24T12:10:13.329Z"
   },
   {
    "duration": 73,
    "start_time": "2023-05-24T12:10:13.350Z"
   },
   {
    "duration": 5,
    "start_time": "2023-05-24T12:10:13.424Z"
   },
   {
    "duration": 99,
    "start_time": "2023-05-24T12:10:13.430Z"
   },
   {
    "duration": 4,
    "start_time": "2023-05-24T12:10:13.531Z"
   },
   {
    "duration": 6,
    "start_time": "2023-05-24T12:10:13.536Z"
   },
   {
    "duration": 147,
    "start_time": "2023-05-24T12:10:13.544Z"
   },
   {
    "duration": 124,
    "start_time": "2023-05-24T12:10:13.693Z"
   },
   {
    "duration": 9,
    "start_time": "2023-05-24T12:10:13.818Z"
   },
   {
    "duration": 205,
    "start_time": "2023-05-24T12:10:13.830Z"
   },
   {
    "duration": 218,
    "start_time": "2023-05-24T12:10:14.036Z"
   },
   {
    "duration": 334,
    "start_time": "2023-05-24T12:10:14.255Z"
   },
   {
    "duration": 219,
    "start_time": "2023-05-24T12:10:14.590Z"
   },
   {
    "duration": 319,
    "start_time": "2023-05-24T12:10:14.811Z"
   },
   {
    "duration": 7,
    "start_time": "2023-05-24T12:10:15.131Z"
   },
   {
    "duration": 4,
    "start_time": "2023-05-24T12:10:15.139Z"
   },
   {
    "duration": 167,
    "start_time": "2023-05-24T12:10:15.144Z"
   },
   {
    "duration": 5,
    "start_time": "2023-05-24T12:10:15.313Z"
   },
   {
    "duration": 170,
    "start_time": "2023-05-24T12:10:15.319Z"
   },
   {
    "duration": 5,
    "start_time": "2023-05-24T12:10:15.491Z"
   },
   {
    "duration": 147,
    "start_time": "2023-05-24T12:10:15.498Z"
   },
   {
    "duration": 0,
    "start_time": "2023-05-24T12:10:15.647Z"
   },
   {
    "duration": 0,
    "start_time": "2023-05-24T12:10:15.648Z"
   },
   {
    "duration": 0,
    "start_time": "2023-05-24T12:10:15.649Z"
   },
   {
    "duration": 0,
    "start_time": "2023-05-24T12:10:15.650Z"
   },
   {
    "duration": 0,
    "start_time": "2023-05-24T12:10:15.651Z"
   },
   {
    "duration": 11,
    "start_time": "2023-05-24T12:10:16.980Z"
   },
   {
    "duration": 11,
    "start_time": "2023-05-24T12:10:45.826Z"
   },
   {
    "duration": 13,
    "start_time": "2023-05-24T12:10:49.066Z"
   },
   {
    "duration": 1389,
    "start_time": "2023-05-24T12:10:51.674Z"
   },
   {
    "duration": 2055,
    "start_time": "2023-05-24T12:10:56.558Z"
   },
   {
    "duration": 3,
    "start_time": "2023-05-24T12:11:19.066Z"
   },
   {
    "duration": 58,
    "start_time": "2023-05-24T12:11:19.071Z"
   },
   {
    "duration": 3,
    "start_time": "2023-05-24T12:11:19.131Z"
   },
   {
    "duration": 34,
    "start_time": "2023-05-24T12:11:19.137Z"
   },
   {
    "duration": 13,
    "start_time": "2023-05-24T12:11:19.173Z"
   },
   {
    "duration": 83,
    "start_time": "2023-05-24T12:11:19.188Z"
   },
   {
    "duration": 7,
    "start_time": "2023-05-24T12:11:19.274Z"
   },
   {
    "duration": 40,
    "start_time": "2023-05-24T12:11:19.283Z"
   },
   {
    "duration": 6,
    "start_time": "2023-05-24T12:11:19.325Z"
   },
   {
    "duration": 7,
    "start_time": "2023-05-24T12:11:19.334Z"
   },
   {
    "duration": 183,
    "start_time": "2023-05-24T12:11:19.343Z"
   },
   {
    "duration": 139,
    "start_time": "2023-05-24T12:11:19.528Z"
   },
   {
    "duration": 7,
    "start_time": "2023-05-24T12:11:19.678Z"
   },
   {
    "duration": 321,
    "start_time": "2023-05-24T12:11:19.687Z"
   },
   {
    "duration": 243,
    "start_time": "2023-05-24T12:11:20.009Z"
   },
   {
    "duration": 355,
    "start_time": "2023-05-24T12:11:20.254Z"
   },
   {
    "duration": 249,
    "start_time": "2023-05-24T12:11:20.611Z"
   },
   {
    "duration": 368,
    "start_time": "2023-05-24T12:11:20.862Z"
   },
   {
    "duration": 7,
    "start_time": "2023-05-24T12:11:21.231Z"
   },
   {
    "duration": 3,
    "start_time": "2023-05-24T12:11:21.240Z"
   },
   {
    "duration": 179,
    "start_time": "2023-05-24T12:11:21.244Z"
   },
   {
    "duration": 5,
    "start_time": "2023-05-24T12:11:21.424Z"
   },
   {
    "duration": 181,
    "start_time": "2023-05-24T12:11:21.431Z"
   },
   {
    "duration": 5,
    "start_time": "2023-05-24T12:11:21.613Z"
   },
   {
    "duration": 132,
    "start_time": "2023-05-24T12:11:21.620Z"
   },
   {
    "duration": 0,
    "start_time": "2023-05-24T12:11:21.754Z"
   },
   {
    "duration": 0,
    "start_time": "2023-05-24T12:11:21.754Z"
   },
   {
    "duration": 0,
    "start_time": "2023-05-24T12:11:21.755Z"
   },
   {
    "duration": 0,
    "start_time": "2023-05-24T12:11:21.756Z"
   },
   {
    "duration": 0,
    "start_time": "2023-05-24T12:11:21.757Z"
   },
   {
    "duration": 0,
    "start_time": "2023-05-24T12:11:21.759Z"
   },
   {
    "duration": 0,
    "start_time": "2023-05-24T12:11:21.759Z"
   },
   {
    "duration": 0,
    "start_time": "2023-05-24T12:11:21.760Z"
   },
   {
    "duration": 0,
    "start_time": "2023-05-24T12:11:21.761Z"
   },
   {
    "duration": 0,
    "start_time": "2023-05-24T12:11:21.762Z"
   },
   {
    "duration": 0,
    "start_time": "2023-05-24T12:11:21.778Z"
   },
   {
    "duration": 97,
    "start_time": "2023-05-24T12:14:10.109Z"
   },
   {
    "duration": 123,
    "start_time": "2023-05-24T12:14:14.058Z"
   },
   {
    "duration": 11,
    "start_time": "2023-05-24T12:14:26.811Z"
   },
   {
    "duration": 11,
    "start_time": "2023-05-24T12:14:36.862Z"
   },
   {
    "duration": 12,
    "start_time": "2023-05-24T12:32:59.397Z"
   },
   {
    "duration": 7,
    "start_time": "2023-05-24T12:33:00.975Z"
   },
   {
    "duration": 23,
    "start_time": "2023-05-24T12:33:03.851Z"
   },
   {
    "duration": 4,
    "start_time": "2023-05-24T12:33:17.249Z"
   },
   {
    "duration": 9,
    "start_time": "2023-05-24T12:33:29.356Z"
   },
   {
    "duration": 12,
    "start_time": "2023-05-24T12:33:49.297Z"
   },
   {
    "duration": 8,
    "start_time": "2023-05-24T12:33:58.385Z"
   },
   {
    "duration": 19,
    "start_time": "2023-05-24T12:33:59.115Z"
   },
   {
    "duration": 11,
    "start_time": "2023-05-24T12:34:16.497Z"
   },
   {
    "duration": 10,
    "start_time": "2023-05-24T12:39:38.983Z"
   },
   {
    "duration": 7,
    "start_time": "2023-05-24T13:01:39.181Z"
   },
   {
    "duration": 6,
    "start_time": "2023-05-24T13:02:33.483Z"
   },
   {
    "duration": 6,
    "start_time": "2023-05-24T13:02:38.107Z"
   },
   {
    "duration": 11,
    "start_time": "2023-05-24T13:03:03.014Z"
   },
   {
    "duration": 12,
    "start_time": "2023-05-24T13:03:51.199Z"
   },
   {
    "duration": 6,
    "start_time": "2023-05-24T13:04:34.083Z"
   },
   {
    "duration": 9,
    "start_time": "2023-05-24T13:06:06.897Z"
   },
   {
    "duration": 78,
    "start_time": "2023-05-24T13:06:25.707Z"
   },
   {
    "duration": 9,
    "start_time": "2023-05-24T13:06:35.351Z"
   },
   {
    "duration": 9,
    "start_time": "2023-05-24T13:06:52.394Z"
   },
   {
    "duration": 5,
    "start_time": "2023-05-24T13:08:08.682Z"
   },
   {
    "duration": 15,
    "start_time": "2023-05-24T13:08:27.363Z"
   },
   {
    "duration": 13,
    "start_time": "2023-05-24T13:09:28.583Z"
   },
   {
    "duration": 4,
    "start_time": "2023-05-24T13:22:42.521Z"
   },
   {
    "duration": 113,
    "start_time": "2023-05-24T13:22:42.527Z"
   },
   {
    "duration": 4,
    "start_time": "2023-05-24T13:22:42.642Z"
   },
   {
    "duration": 23,
    "start_time": "2023-05-24T13:22:42.648Z"
   },
   {
    "duration": 18,
    "start_time": "2023-05-24T13:22:42.673Z"
   },
   {
    "duration": 526,
    "start_time": "2023-05-24T13:22:42.694Z"
   },
   {
    "duration": 9,
    "start_time": "2023-05-24T13:22:43.222Z"
   },
   {
    "duration": 77,
    "start_time": "2023-05-24T13:22:43.234Z"
   },
   {
    "duration": 6,
    "start_time": "2023-05-24T13:22:43.314Z"
   },
   {
    "duration": 35,
    "start_time": "2023-05-24T13:22:43.321Z"
   },
   {
    "duration": 43,
    "start_time": "2023-05-24T13:22:43.357Z"
   },
   {
    "duration": 10,
    "start_time": "2023-05-24T13:22:43.402Z"
   },
   {
    "duration": 233,
    "start_time": "2023-05-24T13:22:43.414Z"
   },
   {
    "duration": 169,
    "start_time": "2023-05-24T13:22:43.650Z"
   },
   {
    "duration": 10,
    "start_time": "2023-05-24T13:22:43.821Z"
   },
   {
    "duration": 356,
    "start_time": "2023-05-24T13:22:43.832Z"
   },
   {
    "duration": 297,
    "start_time": "2023-05-24T13:22:44.190Z"
   },
   {
    "duration": 406,
    "start_time": "2023-05-24T13:22:44.488Z"
   },
   {
    "duration": 361,
    "start_time": "2023-05-24T13:22:44.896Z"
   },
   {
    "duration": 463,
    "start_time": "2023-05-24T13:22:45.259Z"
   },
   {
    "duration": 10,
    "start_time": "2023-05-24T13:22:45.725Z"
   },
   {
    "duration": 4,
    "start_time": "2023-05-24T13:22:45.736Z"
   },
   {
    "duration": 248,
    "start_time": "2023-05-24T13:22:45.742Z"
   },
   {
    "duration": 10,
    "start_time": "2023-05-24T13:22:45.995Z"
   },
   {
    "duration": 405,
    "start_time": "2023-05-24T13:22:46.007Z"
   },
   {
    "duration": 8,
    "start_time": "2023-05-24T13:22:46.415Z"
   },
   {
    "duration": 144,
    "start_time": "2023-05-24T13:22:46.424Z"
   },
   {
    "duration": 200,
    "start_time": "2023-05-24T13:22:46.578Z"
   },
   {
    "duration": 16,
    "start_time": "2023-05-24T13:22:46.780Z"
   },
   {
    "duration": 38,
    "start_time": "2023-05-24T13:22:46.798Z"
   },
   {
    "duration": 11,
    "start_time": "2023-05-24T13:22:46.839Z"
   },
   {
    "duration": 47,
    "start_time": "2023-05-24T13:22:46.852Z"
   },
   {
    "duration": 13,
    "start_time": "2023-05-24T13:22:46.902Z"
   },
   {
    "duration": 15,
    "start_time": "2023-05-24T13:22:46.917Z"
   },
   {
    "duration": 11,
    "start_time": "2023-05-24T13:22:46.934Z"
   },
   {
    "duration": 62,
    "start_time": "2023-05-24T13:22:46.947Z"
   },
   {
    "duration": 16,
    "start_time": "2023-05-24T13:22:47.011Z"
   },
   {
    "duration": 1244,
    "start_time": "2023-05-24T15:48:37.801Z"
   },
   {
    "duration": 138,
    "start_time": "2023-05-24T15:48:39.047Z"
   },
   {
    "duration": 3,
    "start_time": "2023-05-24T15:48:39.186Z"
   },
   {
    "duration": 21,
    "start_time": "2023-05-24T15:48:39.191Z"
   },
   {
    "duration": 39,
    "start_time": "2023-05-24T15:48:39.214Z"
   },
   {
    "duration": 114,
    "start_time": "2023-05-24T15:48:39.255Z"
   },
   {
    "duration": 7,
    "start_time": "2023-05-24T15:48:39.370Z"
   },
   {
    "duration": 79,
    "start_time": "2023-05-24T15:48:39.378Z"
   },
   {
    "duration": 5,
    "start_time": "2023-05-24T15:48:39.459Z"
   },
   {
    "duration": 30,
    "start_time": "2023-05-24T15:48:39.465Z"
   },
   {
    "duration": 18,
    "start_time": "2023-05-24T15:48:39.497Z"
   },
   {
    "duration": 55,
    "start_time": "2023-05-24T15:48:39.517Z"
   },
   {
    "duration": 178,
    "start_time": "2023-05-24T15:48:39.573Z"
   },
   {
    "duration": 133,
    "start_time": "2023-05-24T15:48:39.754Z"
   },
   {
    "duration": 7,
    "start_time": "2023-05-24T15:48:39.888Z"
   },
   {
    "duration": 401,
    "start_time": "2023-05-24T15:48:39.897Z"
   },
   {
    "duration": 250,
    "start_time": "2023-05-24T15:48:40.301Z"
   },
   {
    "duration": 386,
    "start_time": "2023-05-24T15:48:40.552Z"
   },
   {
    "duration": 266,
    "start_time": "2023-05-24T15:48:40.940Z"
   },
   {
    "duration": 392,
    "start_time": "2023-05-24T15:48:41.208Z"
   },
   {
    "duration": 7,
    "start_time": "2023-05-24T15:48:41.601Z"
   },
   {
    "duration": 56,
    "start_time": "2023-05-24T15:48:41.609Z"
   },
   {
    "duration": 193,
    "start_time": "2023-05-24T15:48:41.666Z"
   },
   {
    "duration": 7,
    "start_time": "2023-05-24T15:48:41.860Z"
   },
   {
    "duration": 205,
    "start_time": "2023-05-24T15:48:41.868Z"
   },
   {
    "duration": 5,
    "start_time": "2023-05-24T15:48:42.074Z"
   },
   {
    "duration": 121,
    "start_time": "2023-05-24T15:48:42.081Z"
   },
   {
    "duration": 158,
    "start_time": "2023-05-24T15:48:42.203Z"
   },
   {
    "duration": 11,
    "start_time": "2023-05-24T15:48:42.363Z"
   },
   {
    "duration": 28,
    "start_time": "2023-05-24T15:48:42.375Z"
   },
   {
    "duration": 10,
    "start_time": "2023-05-24T15:48:42.405Z"
   },
   {
    "duration": 52,
    "start_time": "2023-05-24T15:48:42.423Z"
   },
   {
    "duration": 12,
    "start_time": "2023-05-24T15:48:42.477Z"
   },
   {
    "duration": 21,
    "start_time": "2023-05-24T15:48:42.491Z"
   },
   {
    "duration": 64,
    "start_time": "2023-05-24T15:48:42.514Z"
   },
   {
    "duration": 206,
    "start_time": "2023-05-24T15:48:42.580Z"
   },
   {
    "duration": 9,
    "start_time": "2023-05-24T15:48:42.788Z"
   },
   {
    "duration": 83,
    "start_time": "2023-05-25T07:56:35.469Z"
   },
   {
    "duration": 72,
    "start_time": "2023-05-25T07:57:33.196Z"
   },
   {
    "duration": 48,
    "start_time": "2023-05-25T07:58:39.781Z"
   },
   {
    "duration": 1183,
    "start_time": "2023-05-25T07:58:54.006Z"
   },
   {
    "duration": 193,
    "start_time": "2023-05-25T07:58:55.191Z"
   },
   {
    "duration": 3,
    "start_time": "2023-05-25T07:58:55.386Z"
   },
   {
    "duration": 20,
    "start_time": "2023-05-25T07:58:55.392Z"
   },
   {
    "duration": 14,
    "start_time": "2023-05-25T07:58:55.414Z"
   },
   {
    "duration": 160,
    "start_time": "2023-05-25T07:58:55.430Z"
   },
   {
    "duration": 7,
    "start_time": "2023-05-25T07:58:55.591Z"
   },
   {
    "duration": 121,
    "start_time": "2023-05-25T07:58:55.599Z"
   },
   {
    "duration": 5,
    "start_time": "2023-05-25T07:58:55.722Z"
   },
   {
    "duration": 27,
    "start_time": "2023-05-25T07:58:55.730Z"
   },
   {
    "duration": 22,
    "start_time": "2023-05-25T07:58:55.759Z"
   },
   {
    "duration": 14,
    "start_time": "2023-05-25T07:58:55.782Z"
   },
   {
    "duration": 185,
    "start_time": "2023-05-25T07:58:55.799Z"
   },
   {
    "duration": 137,
    "start_time": "2023-05-25T07:58:55.986Z"
   },
   {
    "duration": 7,
    "start_time": "2023-05-25T07:58:56.124Z"
   },
   {
    "duration": 338,
    "start_time": "2023-05-25T07:58:56.132Z"
   },
   {
    "duration": 245,
    "start_time": "2023-05-25T07:58:56.472Z"
   },
   {
    "duration": 411,
    "start_time": "2023-05-25T07:58:56.718Z"
   },
   {
    "duration": 259,
    "start_time": "2023-05-25T07:58:57.131Z"
   },
   {
    "duration": 349,
    "start_time": "2023-05-25T07:58:57.392Z"
   },
   {
    "duration": 7,
    "start_time": "2023-05-25T07:58:57.742Z"
   },
   {
    "duration": 9,
    "start_time": "2023-05-25T07:58:57.751Z"
   },
   {
    "duration": 167,
    "start_time": "2023-05-25T07:58:57.762Z"
   },
   {
    "duration": 5,
    "start_time": "2023-05-25T07:58:57.931Z"
   },
   {
    "duration": 184,
    "start_time": "2023-05-25T07:58:57.946Z"
   },
   {
    "duration": 5,
    "start_time": "2023-05-25T07:58:58.132Z"
   },
   {
    "duration": 105,
    "start_time": "2023-05-25T07:58:58.147Z"
   },
   {
    "duration": 142,
    "start_time": "2023-05-25T07:58:58.255Z"
   },
   {
    "duration": 11,
    "start_time": "2023-05-25T07:58:58.399Z"
   },
   {
    "duration": 19,
    "start_time": "2023-05-25T07:58:58.412Z"
   },
   {
    "duration": 16,
    "start_time": "2023-05-25T07:58:58.433Z"
   },
   {
    "duration": 30,
    "start_time": "2023-05-25T07:58:58.451Z"
   },
   {
    "duration": 8,
    "start_time": "2023-05-25T07:58:58.483Z"
   },
   {
    "duration": 13,
    "start_time": "2023-05-25T07:58:58.493Z"
   },
   {
    "duration": 9,
    "start_time": "2023-05-25T07:58:58.508Z"
   },
   {
    "duration": 46,
    "start_time": "2023-05-25T07:58:58.519Z"
   },
   {
    "duration": 17,
    "start_time": "2023-05-25T07:58:58.567Z"
   },
   {
    "duration": 1075,
    "start_time": "2023-05-25T07:59:15.592Z"
   },
   {
    "duration": 1301,
    "start_time": "2023-05-25T07:59:49.962Z"
   },
   {
    "duration": 44,
    "start_time": "2023-05-25T08:00:02.966Z"
   },
   {
    "duration": 4,
    "start_time": "2023-05-25T08:00:04.733Z"
   },
   {
    "duration": 11,
    "start_time": "2023-05-25T08:00:10.391Z"
   },
   {
    "duration": 236,
    "start_time": "2023-05-25T08:03:25.176Z"
   },
   {
    "duration": 4,
    "start_time": "2023-05-25T08:50:21.942Z"
   },
   {
    "duration": 42,
    "start_time": "2023-05-25T08:50:24.600Z"
   },
   {
    "duration": 51,
    "start_time": "2023-05-25T08:50:31.896Z"
   },
   {
    "duration": 4,
    "start_time": "2023-05-25T08:50:33.188Z"
   },
   {
    "duration": 12,
    "start_time": "2023-05-25T08:50:48.114Z"
   },
   {
    "duration": 14,
    "start_time": "2023-05-25T09:13:02.086Z"
   },
   {
    "duration": 15,
    "start_time": "2023-05-25T09:13:39.723Z"
   },
   {
    "duration": 14,
    "start_time": "2023-05-25T09:15:12.775Z"
   },
   {
    "duration": 13,
    "start_time": "2023-05-25T09:25:21.920Z"
   },
   {
    "duration": 4,
    "start_time": "2023-05-25T09:29:29.192Z"
   },
   {
    "duration": 103,
    "start_time": "2023-05-25T09:29:29.199Z"
   },
   {
    "duration": 4,
    "start_time": "2023-05-25T09:29:29.304Z"
   },
   {
    "duration": 22,
    "start_time": "2023-05-25T09:29:29.310Z"
   },
   {
    "duration": 34,
    "start_time": "2023-05-25T09:29:29.334Z"
   },
   {
    "duration": 156,
    "start_time": "2023-05-25T09:29:29.370Z"
   },
   {
    "duration": 6,
    "start_time": "2023-05-25T09:29:29.528Z"
   },
   {
    "duration": 54,
    "start_time": "2023-05-25T09:29:29.535Z"
   },
   {
    "duration": 5,
    "start_time": "2023-05-25T09:29:29.592Z"
   },
   {
    "duration": 23,
    "start_time": "2023-05-25T09:29:29.599Z"
   },
   {
    "duration": 13,
    "start_time": "2023-05-25T09:29:29.623Z"
   },
   {
    "duration": 14,
    "start_time": "2023-05-25T09:29:29.638Z"
   },
   {
    "duration": 0,
    "start_time": "2023-05-25T09:29:29.654Z"
   },
   {
    "duration": 0,
    "start_time": "2023-05-25T09:29:29.656Z"
   },
   {
    "duration": 0,
    "start_time": "2023-05-25T09:29:29.657Z"
   },
   {
    "duration": 0,
    "start_time": "2023-05-25T09:29:29.658Z"
   },
   {
    "duration": 0,
    "start_time": "2023-05-25T09:29:29.659Z"
   },
   {
    "duration": 0,
    "start_time": "2023-05-25T09:29:29.661Z"
   },
   {
    "duration": 0,
    "start_time": "2023-05-25T09:29:29.663Z"
   },
   {
    "duration": 0,
    "start_time": "2023-05-25T09:29:29.664Z"
   },
   {
    "duration": 0,
    "start_time": "2023-05-25T09:29:29.666Z"
   },
   {
    "duration": 0,
    "start_time": "2023-05-25T09:29:29.668Z"
   },
   {
    "duration": 0,
    "start_time": "2023-05-25T09:29:29.669Z"
   },
   {
    "duration": 0,
    "start_time": "2023-05-25T09:29:29.671Z"
   },
   {
    "duration": 0,
    "start_time": "2023-05-25T09:29:29.672Z"
   },
   {
    "duration": 0,
    "start_time": "2023-05-25T09:29:29.674Z"
   },
   {
    "duration": 0,
    "start_time": "2023-05-25T09:29:29.676Z"
   },
   {
    "duration": 0,
    "start_time": "2023-05-25T09:29:29.677Z"
   },
   {
    "duration": 0,
    "start_time": "2023-05-25T09:29:29.679Z"
   },
   {
    "duration": 0,
    "start_time": "2023-05-25T09:29:29.681Z"
   },
   {
    "duration": 0,
    "start_time": "2023-05-25T09:29:29.682Z"
   },
   {
    "duration": 0,
    "start_time": "2023-05-25T09:29:29.684Z"
   },
   {
    "duration": 0,
    "start_time": "2023-05-25T09:29:29.685Z"
   },
   {
    "duration": 0,
    "start_time": "2023-05-25T09:29:29.687Z"
   },
   {
    "duration": 0,
    "start_time": "2023-05-25T09:29:29.689Z"
   },
   {
    "duration": 0,
    "start_time": "2023-05-25T09:29:29.747Z"
   },
   {
    "duration": 0,
    "start_time": "2023-05-25T09:29:29.749Z"
   },
   {
    "duration": 0,
    "start_time": "2023-05-25T09:29:29.751Z"
   },
   {
    "duration": 87,
    "start_time": "2023-05-25T09:31:08.280Z"
   },
   {
    "duration": 17,
    "start_time": "2023-05-25T09:31:42.686Z"
   },
   {
    "duration": 6,
    "start_time": "2023-05-25T09:32:22.309Z"
   },
   {
    "duration": 11,
    "start_time": "2023-05-25T09:32:47.463Z"
   },
   {
    "duration": 12,
    "start_time": "2023-05-25T09:33:22.846Z"
   },
   {
    "duration": 10,
    "start_time": "2023-05-25T09:34:03.965Z"
   },
   {
    "duration": 12,
    "start_time": "2023-05-25T09:34:54.603Z"
   },
   {
    "duration": 1159,
    "start_time": "2023-05-25T09:37:01.684Z"
   },
   {
    "duration": 15,
    "start_time": "2023-05-25T09:37:24.140Z"
   },
   {
    "duration": 9,
    "start_time": "2023-05-25T09:37:56.607Z"
   },
   {
    "duration": 241,
    "start_time": "2023-05-25T09:38:34.519Z"
   },
   {
    "duration": 8,
    "start_time": "2023-05-25T09:40:00.743Z"
   },
   {
    "duration": 13,
    "start_time": "2023-05-25T09:40:12.037Z"
   },
   {
    "duration": 8,
    "start_time": "2023-05-25T09:43:55.141Z"
   },
   {
    "duration": 8,
    "start_time": "2023-05-25T09:43:59.323Z"
   },
   {
    "duration": 14,
    "start_time": "2023-05-25T09:44:09.305Z"
   },
   {
    "duration": 16,
    "start_time": "2023-05-25T09:45:16.422Z"
   },
   {
    "duration": 17,
    "start_time": "2023-05-25T09:45:59.397Z"
   },
   {
    "duration": 17,
    "start_time": "2023-05-25T09:46:28.672Z"
   },
   {
    "duration": 15,
    "start_time": "2023-05-25T10:02:02.936Z"
   },
   {
    "duration": 17,
    "start_time": "2023-05-25T10:05:26.336Z"
   },
   {
    "duration": 15,
    "start_time": "2023-05-25T10:05:38.136Z"
   },
   {
    "duration": 17,
    "start_time": "2023-05-25T10:07:05.576Z"
   },
   {
    "duration": 6,
    "start_time": "2023-05-25T10:08:02.569Z"
   },
   {
    "duration": 4,
    "start_time": "2023-05-25T10:08:18.285Z"
   },
   {
    "duration": 10,
    "start_time": "2023-05-25T10:08:50.631Z"
   },
   {
    "duration": 17,
    "start_time": "2023-05-25T10:09:08.055Z"
   },
   {
    "duration": 83,
    "start_time": "2023-05-25T10:11:11.093Z"
   },
   {
    "duration": 7,
    "start_time": "2023-05-25T10:11:29.167Z"
   },
   {
    "duration": 8,
    "start_time": "2023-05-25T10:13:22.625Z"
   },
   {
    "duration": 5,
    "start_time": "2023-05-25T10:13:33.347Z"
   },
   {
    "duration": 166,
    "start_time": "2023-05-25T10:13:35.506Z"
   },
   {
    "duration": 125,
    "start_time": "2023-05-25T10:13:38.858Z"
   },
   {
    "duration": 9,
    "start_time": "2023-05-25T10:13:41.099Z"
   },
   {
    "duration": 237,
    "start_time": "2023-05-25T10:13:43.111Z"
   },
   {
    "duration": 255,
    "start_time": "2023-05-25T10:38:37.236Z"
   },
   {
    "duration": 338,
    "start_time": "2023-05-25T10:40:56.300Z"
   },
   {
    "duration": 356,
    "start_time": "2023-05-25T10:41:14.460Z"
   },
   {
    "duration": 290,
    "start_time": "2023-05-25T10:41:33.135Z"
   },
   {
    "duration": 376,
    "start_time": "2023-05-25T10:42:14.309Z"
   },
   {
    "duration": 372,
    "start_time": "2023-05-25T10:42:27.428Z"
   },
   {
    "duration": 8,
    "start_time": "2023-05-25T10:43:01.437Z"
   },
   {
    "duration": 3,
    "start_time": "2023-05-25T10:43:02.908Z"
   },
   {
    "duration": 167,
    "start_time": "2023-05-25T10:43:19.660Z"
   },
   {
    "duration": 155,
    "start_time": "2023-05-25T10:43:33.153Z"
   },
   {
    "duration": 4,
    "start_time": "2023-05-25T10:44:03.434Z"
   },
   {
    "duration": 207,
    "start_time": "2023-05-25T10:45:44.844Z"
   },
   {
    "duration": 183,
    "start_time": "2023-05-25T10:46:03.013Z"
   },
   {
    "duration": 6,
    "start_time": "2023-05-25T10:46:21.826Z"
   },
   {
    "duration": 63,
    "start_time": "2023-05-25T10:47:41.025Z"
   },
   {
    "duration": 43,
    "start_time": "2023-05-25T10:47:51.712Z"
   },
   {
    "duration": 97,
    "start_time": "2023-05-25T10:48:23.991Z"
   },
   {
    "duration": 135,
    "start_time": "2023-05-25T10:48:26.535Z"
   },
   {
    "duration": 11,
    "start_time": "2023-05-25T10:48:29.379Z"
   },
   {
    "duration": 12,
    "start_time": "2023-05-25T10:48:33.609Z"
   },
   {
    "duration": 7,
    "start_time": "2023-05-25T10:48:37.581Z"
   },
   {
    "duration": 25,
    "start_time": "2023-05-25T10:48:38.773Z"
   },
   {
    "duration": 29,
    "start_time": "2023-05-25T10:53:15.370Z"
   },
   {
    "duration": 30,
    "start_time": "2023-05-25T10:53:55.690Z"
   },
   {
    "duration": 30,
    "start_time": "2023-05-25T10:54:35.043Z"
   },
   {
    "duration": 30,
    "start_time": "2023-05-25T10:55:29.436Z"
   },
   {
    "duration": 29,
    "start_time": "2023-05-25T10:57:42.290Z"
   },
   {
    "duration": 25,
    "start_time": "2023-05-25T10:58:12.781Z"
   },
   {
    "duration": 25,
    "start_time": "2023-05-25T10:58:22.994Z"
   },
   {
    "duration": 24,
    "start_time": "2023-05-25T10:58:34.504Z"
   },
   {
    "duration": 5,
    "start_time": "2023-05-25T11:02:18.965Z"
   },
   {
    "duration": 11,
    "start_time": "2023-05-25T11:04:50.290Z"
   },
   {
    "duration": 10,
    "start_time": "2023-05-25T11:05:04.917Z"
   },
   {
    "duration": 1226,
    "start_time": "2023-05-25T11:06:27.280Z"
   },
   {
    "duration": 9,
    "start_time": "2023-05-25T11:07:03.661Z"
   },
   {
    "duration": 3,
    "start_time": "2023-05-25T11:11:12.788Z"
   },
   {
    "duration": 10,
    "start_time": "2023-05-25T11:11:21.279Z"
   },
   {
    "duration": 7,
    "start_time": "2023-05-25T11:12:50.828Z"
   },
   {
    "duration": 62,
    "start_time": "2023-05-25T11:14:50.737Z"
   },
   {
    "duration": 13,
    "start_time": "2023-05-25T11:15:07.653Z"
   },
   {
    "duration": 8,
    "start_time": "2023-05-25T11:20:21.079Z"
   },
   {
    "duration": 25,
    "start_time": "2023-05-25T11:20:27.816Z"
   },
   {
    "duration": 23,
    "start_time": "2023-05-25T11:21:17.785Z"
   },
   {
    "duration": 5,
    "start_time": "2023-05-25T11:22:44.850Z"
   },
   {
    "duration": 12,
    "start_time": "2023-05-25T11:25:19.629Z"
   },
   {
    "duration": 12,
    "start_time": "2023-05-25T11:26:00.637Z"
   },
   {
    "duration": 4,
    "start_time": "2023-05-25T11:27:40.561Z"
   },
   {
    "duration": 1639,
    "start_time": "2023-05-25T11:27:48.015Z"
   },
   {
    "duration": 10,
    "start_time": "2023-05-25T11:28:19.046Z"
   },
   {
    "duration": 70,
    "start_time": "2023-05-25T11:39:55.525Z"
   },
   {
    "duration": 4,
    "start_time": "2023-05-25T11:48:58.690Z"
   },
   {
    "duration": 101,
    "start_time": "2023-05-25T11:48:58.696Z"
   },
   {
    "duration": 5,
    "start_time": "2023-05-25T11:48:58.799Z"
   },
   {
    "duration": 16,
    "start_time": "2023-05-25T11:48:58.806Z"
   },
   {
    "duration": 16,
    "start_time": "2023-05-25T11:48:58.824Z"
   },
   {
    "duration": 269,
    "start_time": "2023-05-25T11:48:58.842Z"
   },
   {
    "duration": 10,
    "start_time": "2023-05-25T11:48:59.113Z"
   },
   {
    "duration": 110,
    "start_time": "2023-05-25T11:48:59.125Z"
   },
   {
    "duration": 7,
    "start_time": "2023-05-25T11:48:59.238Z"
   },
   {
    "duration": 41,
    "start_time": "2023-05-25T11:48:59.247Z"
   },
   {
    "duration": 16,
    "start_time": "2023-05-25T11:48:59.290Z"
   },
   {
    "duration": 27,
    "start_time": "2023-05-25T11:48:59.308Z"
   },
   {
    "duration": 67,
    "start_time": "2023-05-25T11:48:59.337Z"
   },
   {
    "duration": 56,
    "start_time": "2023-05-25T11:48:59.407Z"
   },
   {
    "duration": 46,
    "start_time": "2023-05-25T11:48:59.465Z"
   },
   {
    "duration": 211,
    "start_time": "2023-05-25T11:48:59.514Z"
   },
   {
    "duration": 132,
    "start_time": "2023-05-25T11:48:59.726Z"
   },
   {
    "duration": 9,
    "start_time": "2023-05-25T11:48:59.860Z"
   },
   {
    "duration": 354,
    "start_time": "2023-05-25T11:48:59.871Z"
   },
   {
    "duration": 258,
    "start_time": "2023-05-25T11:49:00.227Z"
   },
   {
    "duration": 322,
    "start_time": "2023-05-25T11:49:00.487Z"
   },
   {
    "duration": 284,
    "start_time": "2023-05-25T11:49:00.811Z"
   },
   {
    "duration": 417,
    "start_time": "2023-05-25T11:49:01.097Z"
   },
   {
    "duration": 8,
    "start_time": "2023-05-25T11:49:01.517Z"
   },
   {
    "duration": 95,
    "start_time": "2023-05-25T11:49:01.527Z"
   },
   {
    "duration": 236,
    "start_time": "2023-05-25T11:49:01.624Z"
   },
   {
    "duration": 6,
    "start_time": "2023-05-25T11:49:01.862Z"
   },
   {
    "duration": 244,
    "start_time": "2023-05-25T11:49:01.870Z"
   },
   {
    "duration": 6,
    "start_time": "2023-05-25T11:49:02.117Z"
   },
   {
    "duration": 146,
    "start_time": "2023-05-25T11:49:02.125Z"
   },
   {
    "duration": 198,
    "start_time": "2023-05-25T11:49:02.273Z"
   },
   {
    "duration": 14,
    "start_time": "2023-05-25T11:49:02.473Z"
   },
   {
    "duration": 34,
    "start_time": "2023-05-25T11:49:02.489Z"
   },
   {
    "duration": 53,
    "start_time": "2023-05-25T11:49:02.526Z"
   },
   {
    "duration": 53,
    "start_time": "2023-05-25T11:49:02.581Z"
   },
   {
    "duration": 39,
    "start_time": "2023-05-25T11:49:02.637Z"
   },
   {
    "duration": 52,
    "start_time": "2023-05-25T11:49:02.678Z"
   },
   {
    "duration": 47,
    "start_time": "2023-05-25T11:49:02.731Z"
   },
   {
    "duration": 29,
    "start_time": "2023-05-25T11:49:02.780Z"
   },
   {
    "duration": 43,
    "start_time": "2023-05-25T11:49:02.811Z"
   },
   {
    "duration": 68,
    "start_time": "2023-05-25T11:49:02.856Z"
   },
   {
    "duration": 6,
    "start_time": "2023-05-25T11:49:02.926Z"
   },
   {
    "duration": 39,
    "start_time": "2023-05-25T11:49:02.933Z"
   },
   {
    "duration": 40,
    "start_time": "2023-05-25T11:49:02.975Z"
   },
   {
    "duration": 28,
    "start_time": "2023-05-25T11:55:13.168Z"
   },
   {
    "duration": 12,
    "start_time": "2023-05-25T11:55:30.716Z"
   },
   {
    "duration": 34,
    "start_time": "2023-05-25T11:56:11.745Z"
   },
   {
    "duration": 14,
    "start_time": "2023-05-25T11:56:26.003Z"
   },
   {
    "duration": 1302,
    "start_time": "2023-05-25T15:22:40.181Z"
   },
   {
    "duration": 228,
    "start_time": "2023-05-25T15:22:41.485Z"
   },
   {
    "duration": 4,
    "start_time": "2023-05-25T15:22:41.715Z"
   },
   {
    "duration": 16,
    "start_time": "2023-05-25T15:22:41.721Z"
   },
   {
    "duration": 13,
    "start_time": "2023-05-25T15:22:41.739Z"
   },
   {
    "duration": 276,
    "start_time": "2023-05-25T15:22:41.753Z"
   },
   {
    "duration": 8,
    "start_time": "2023-05-25T15:22:42.031Z"
   },
   {
    "duration": 80,
    "start_time": "2023-05-25T15:22:42.040Z"
   },
   {
    "duration": 5,
    "start_time": "2023-05-25T15:22:42.122Z"
   },
   {
    "duration": 15,
    "start_time": "2023-05-25T15:22:42.130Z"
   },
   {
    "duration": 11,
    "start_time": "2023-05-25T15:22:42.147Z"
   },
   {
    "duration": 17,
    "start_time": "2023-05-25T15:22:42.160Z"
   },
   {
    "duration": 19,
    "start_time": "2023-05-25T15:22:42.179Z"
   },
   {
    "duration": 8,
    "start_time": "2023-05-25T15:22:42.200Z"
   },
   {
    "duration": 190,
    "start_time": "2023-05-25T15:22:42.210Z"
   },
   {
    "duration": 123,
    "start_time": "2023-05-25T15:22:42.402Z"
   },
   {
    "duration": 6,
    "start_time": "2023-05-25T15:22:42.526Z"
   },
   {
    "duration": 351,
    "start_time": "2023-05-25T15:22:42.534Z"
   },
   {
    "duration": 273,
    "start_time": "2023-05-25T15:22:42.887Z"
   },
   {
    "duration": 440,
    "start_time": "2023-05-25T15:22:43.163Z"
   },
   {
    "duration": 271,
    "start_time": "2023-05-25T15:22:43.605Z"
   },
   {
    "duration": 404,
    "start_time": "2023-05-25T15:22:43.878Z"
   },
   {
    "duration": 9,
    "start_time": "2023-05-25T15:22:44.284Z"
   },
   {
    "duration": 18,
    "start_time": "2023-05-25T15:22:44.294Z"
   },
   {
    "duration": 161,
    "start_time": "2023-05-25T15:22:44.314Z"
   },
   {
    "duration": 6,
    "start_time": "2023-05-25T15:22:44.477Z"
   },
   {
    "duration": 184,
    "start_time": "2023-05-25T15:22:44.485Z"
   },
   {
    "duration": 4,
    "start_time": "2023-05-25T15:22:44.673Z"
   },
   {
    "duration": 97,
    "start_time": "2023-05-25T15:22:44.678Z"
   },
   {
    "duration": 124,
    "start_time": "2023-05-25T15:22:44.777Z"
   },
   {
    "duration": 9,
    "start_time": "2023-05-25T15:22:44.902Z"
   },
   {
    "duration": 18,
    "start_time": "2023-05-25T15:22:44.913Z"
   },
   {
    "duration": 8,
    "start_time": "2023-05-25T15:22:44.932Z"
   },
   {
    "duration": 26,
    "start_time": "2023-05-25T15:22:44.941Z"
   },
   {
    "duration": 5,
    "start_time": "2023-05-25T15:22:44.968Z"
   },
   {
    "duration": 28,
    "start_time": "2023-05-25T15:22:44.974Z"
   },
   {
    "duration": 28,
    "start_time": "2023-05-25T15:22:45.003Z"
   },
   {
    "duration": 24,
    "start_time": "2023-05-25T15:22:45.033Z"
   },
   {
    "duration": 17,
    "start_time": "2023-05-25T15:22:45.058Z"
   },
   {
    "duration": 41,
    "start_time": "2023-05-25T15:22:45.076Z"
   },
   {
    "duration": 5,
    "start_time": "2023-05-25T15:22:45.119Z"
   },
   {
    "duration": 19,
    "start_time": "2023-05-25T15:22:45.126Z"
   },
   {
    "duration": 47,
    "start_time": "2023-05-25T15:22:45.148Z"
   },
   {
    "duration": 10,
    "start_time": "2023-05-25T15:24:18.341Z"
   },
   {
    "duration": 57,
    "start_time": "2023-05-26T08:22:00.185Z"
   },
   {
    "duration": 1404,
    "start_time": "2023-05-26T08:22:06.505Z"
   },
   {
    "duration": 219,
    "start_time": "2023-05-26T08:22:07.911Z"
   },
   {
    "duration": 4,
    "start_time": "2023-05-26T08:22:08.132Z"
   },
   {
    "duration": 14,
    "start_time": "2023-05-26T08:22:08.138Z"
   },
   {
    "duration": 14,
    "start_time": "2023-05-26T08:22:08.155Z"
   },
   {
    "duration": 263,
    "start_time": "2023-05-26T08:22:08.171Z"
   },
   {
    "duration": 6,
    "start_time": "2023-05-26T08:22:08.436Z"
   },
   {
    "duration": 78,
    "start_time": "2023-05-26T08:22:08.444Z"
   },
   {
    "duration": 6,
    "start_time": "2023-05-26T08:22:08.523Z"
   },
   {
    "duration": 13,
    "start_time": "2023-05-26T08:22:08.531Z"
   },
   {
    "duration": 13,
    "start_time": "2023-05-26T08:22:08.546Z"
   },
   {
    "duration": 73,
    "start_time": "2023-05-26T08:22:08.561Z"
   },
   {
    "duration": 0,
    "start_time": "2023-05-26T08:22:08.637Z"
   },
   {
    "duration": 0,
    "start_time": "2023-05-26T08:22:08.638Z"
   },
   {
    "duration": 0,
    "start_time": "2023-05-26T08:22:08.640Z"
   },
   {
    "duration": 0,
    "start_time": "2023-05-26T08:22:08.642Z"
   },
   {
    "duration": 0,
    "start_time": "2023-05-26T08:22:08.644Z"
   },
   {
    "duration": 0,
    "start_time": "2023-05-26T08:22:08.645Z"
   },
   {
    "duration": 0,
    "start_time": "2023-05-26T08:22:08.647Z"
   },
   {
    "duration": 0,
    "start_time": "2023-05-26T08:22:08.648Z"
   },
   {
    "duration": 0,
    "start_time": "2023-05-26T08:22:08.650Z"
   },
   {
    "duration": 0,
    "start_time": "2023-05-26T08:22:08.652Z"
   },
   {
    "duration": 0,
    "start_time": "2023-05-26T08:22:08.678Z"
   },
   {
    "duration": 0,
    "start_time": "2023-05-26T08:22:08.680Z"
   },
   {
    "duration": 0,
    "start_time": "2023-05-26T08:22:08.681Z"
   },
   {
    "duration": 0,
    "start_time": "2023-05-26T08:22:08.682Z"
   },
   {
    "duration": 0,
    "start_time": "2023-05-26T08:22:08.683Z"
   },
   {
    "duration": 0,
    "start_time": "2023-05-26T08:22:08.684Z"
   },
   {
    "duration": 1,
    "start_time": "2023-05-26T08:22:08.686Z"
   },
   {
    "duration": 0,
    "start_time": "2023-05-26T08:22:08.688Z"
   },
   {
    "duration": 0,
    "start_time": "2023-05-26T08:22:08.689Z"
   },
   {
    "duration": 0,
    "start_time": "2023-05-26T08:22:08.690Z"
   },
   {
    "duration": 0,
    "start_time": "2023-05-26T08:22:08.691Z"
   },
   {
    "duration": 0,
    "start_time": "2023-05-26T08:22:08.692Z"
   },
   {
    "duration": 1,
    "start_time": "2023-05-26T08:22:08.692Z"
   },
   {
    "duration": 0,
    "start_time": "2023-05-26T08:22:08.694Z"
   },
   {
    "duration": 0,
    "start_time": "2023-05-26T08:22:08.696Z"
   },
   {
    "duration": 0,
    "start_time": "2023-05-26T08:22:08.697Z"
   },
   {
    "duration": 0,
    "start_time": "2023-05-26T08:22:08.698Z"
   },
   {
    "duration": 0,
    "start_time": "2023-05-26T08:22:08.699Z"
   },
   {
    "duration": 0,
    "start_time": "2023-05-26T08:22:08.700Z"
   },
   {
    "duration": 0,
    "start_time": "2023-05-26T08:22:08.702Z"
   },
   {
    "duration": 0,
    "start_time": "2023-05-26T08:22:08.703Z"
   },
   {
    "duration": 14,
    "start_time": "2023-05-26T08:22:45.996Z"
   },
   {
    "duration": 6,
    "start_time": "2023-05-26T08:22:56.107Z"
   },
   {
    "duration": 18,
    "start_time": "2023-05-26T08:23:10.034Z"
   },
   {
    "duration": 3,
    "start_time": "2023-05-26T08:23:44.607Z"
   },
   {
    "duration": 47,
    "start_time": "2023-05-26T08:23:44.612Z"
   },
   {
    "duration": 4,
    "start_time": "2023-05-26T08:23:44.660Z"
   },
   {
    "duration": 22,
    "start_time": "2023-05-26T08:23:44.666Z"
   },
   {
    "duration": 24,
    "start_time": "2023-05-26T08:23:44.690Z"
   },
   {
    "duration": 81,
    "start_time": "2023-05-26T08:23:44.715Z"
   },
   {
    "duration": 10,
    "start_time": "2023-05-26T08:23:44.801Z"
   },
   {
    "duration": 57,
    "start_time": "2023-05-26T08:23:44.813Z"
   },
   {
    "duration": 5,
    "start_time": "2023-05-26T08:23:44.871Z"
   },
   {
    "duration": 38,
    "start_time": "2023-05-26T08:23:44.878Z"
   },
   {
    "duration": 11,
    "start_time": "2023-05-26T08:23:44.917Z"
   },
   {
    "duration": 18,
    "start_time": "2023-05-26T08:23:48.606Z"
   },
   {
    "duration": 5,
    "start_time": "2023-05-26T08:23:57.606Z"
   },
   {
    "duration": 18,
    "start_time": "2023-05-26T08:24:09.206Z"
   },
   {
    "duration": 6,
    "start_time": "2023-05-26T08:24:37.151Z"
   },
   {
    "duration": 11,
    "start_time": "2023-05-26T08:25:35.706Z"
   },
   {
    "duration": 6,
    "start_time": "2023-05-26T08:25:57.656Z"
   },
   {
    "duration": 87,
    "start_time": "2023-05-26T08:25:57.665Z"
   },
   {
    "duration": 5,
    "start_time": "2023-05-26T08:25:57.754Z"
   },
   {
    "duration": 12,
    "start_time": "2023-05-26T08:25:57.761Z"
   },
   {
    "duration": 55,
    "start_time": "2023-05-26T08:25:57.775Z"
   },
   {
    "duration": 82,
    "start_time": "2023-05-26T08:25:57.832Z"
   },
   {
    "duration": 6,
    "start_time": "2023-05-26T08:25:57.918Z"
   },
   {
    "duration": 62,
    "start_time": "2023-05-26T08:25:57.926Z"
   },
   {
    "duration": 30,
    "start_time": "2023-05-26T08:25:57.989Z"
   },
   {
    "duration": 13,
    "start_time": "2023-05-26T08:25:58.021Z"
   },
   {
    "duration": 17,
    "start_time": "2023-05-26T08:25:58.035Z"
   },
   {
    "duration": 12,
    "start_time": "2023-05-26T08:25:58.053Z"
   },
   {
    "duration": 5,
    "start_time": "2023-05-26T08:25:58.067Z"
   },
   {
    "duration": 15,
    "start_time": "2023-05-26T08:25:58.073Z"
   },
   {
    "duration": 173,
    "start_time": "2023-05-26T08:25:58.091Z"
   },
   {
    "duration": 121,
    "start_time": "2023-05-26T08:25:58.266Z"
   },
   {
    "duration": 8,
    "start_time": "2023-05-26T08:25:58.390Z"
   },
   {
    "duration": 340,
    "start_time": "2023-05-26T08:25:58.402Z"
   },
   {
    "duration": 252,
    "start_time": "2023-05-26T08:25:58.744Z"
   },
   {
    "duration": 338,
    "start_time": "2023-05-26T08:25:59.004Z"
   },
   {
    "duration": 275,
    "start_time": "2023-05-26T08:25:59.343Z"
   },
   {
    "duration": 330,
    "start_time": "2023-05-26T08:25:59.620Z"
   },
   {
    "duration": 7,
    "start_time": "2023-05-26T08:25:59.952Z"
   },
   {
    "duration": 5,
    "start_time": "2023-05-26T08:25:59.960Z"
   },
   {
    "duration": 196,
    "start_time": "2023-05-26T08:25:59.966Z"
   },
   {
    "duration": 29,
    "start_time": "2023-05-26T08:26:00.164Z"
   },
   {
    "duration": 189,
    "start_time": "2023-05-26T08:26:00.206Z"
   },
   {
    "duration": 12,
    "start_time": "2023-05-26T08:26:00.397Z"
   },
   {
    "duration": 117,
    "start_time": "2023-05-26T08:26:00.411Z"
   },
   {
    "duration": 136,
    "start_time": "2023-05-26T08:26:00.529Z"
   },
   {
    "duration": 11,
    "start_time": "2023-05-26T08:26:00.667Z"
   },
   {
    "duration": 25,
    "start_time": "2023-05-26T08:26:00.689Z"
   },
   {
    "duration": 28,
    "start_time": "2023-05-26T08:26:00.715Z"
   },
   {
    "duration": 34,
    "start_time": "2023-05-26T08:26:00.745Z"
   },
   {
    "duration": 23,
    "start_time": "2023-05-26T08:26:00.781Z"
   },
   {
    "duration": 28,
    "start_time": "2023-05-26T08:26:00.813Z"
   },
   {
    "duration": 47,
    "start_time": "2023-05-26T08:26:00.844Z"
   },
   {
    "duration": 31,
    "start_time": "2023-05-26T08:26:00.897Z"
   },
   {
    "duration": 46,
    "start_time": "2023-05-26T08:26:00.930Z"
   },
   {
    "duration": 33,
    "start_time": "2023-05-26T08:26:00.993Z"
   },
   {
    "duration": 4,
    "start_time": "2023-05-26T08:26:01.027Z"
   },
   {
    "duration": 34,
    "start_time": "2023-05-26T08:26:01.033Z"
   },
   {
    "duration": 44,
    "start_time": "2023-05-26T08:26:01.069Z"
   },
   {
    "duration": 233,
    "start_time": "2023-05-26T08:27:48.010Z"
   },
   {
    "duration": 327,
    "start_time": "2023-05-26T08:28:01.278Z"
   },
   {
    "duration": 11,
    "start_time": "2023-05-26T08:45:04.122Z"
   },
   {
    "duration": 73,
    "start_time": "2023-05-26T08:48:17.715Z"
   },
   {
    "duration": 4,
    "start_time": "2023-05-26T08:48:24.568Z"
   },
   {
    "duration": 8,
    "start_time": "2023-05-26T08:52:43.472Z"
   },
   {
    "duration": 10,
    "start_time": "2023-05-26T08:53:14.873Z"
   },
   {
    "duration": 8,
    "start_time": "2023-05-26T08:54:02.532Z"
   },
   {
    "duration": 33,
    "start_time": "2023-05-26T08:54:04.396Z"
   },
   {
    "duration": 5,
    "start_time": "2023-05-26T08:54:11.722Z"
   },
   {
    "duration": 10,
    "start_time": "2023-05-26T08:54:34.414Z"
   },
   {
    "duration": 8,
    "start_time": "2023-05-26T08:54:35.161Z"
   },
   {
    "duration": 1144,
    "start_time": "2023-05-26T16:07:15.134Z"
   },
   {
    "duration": 206,
    "start_time": "2023-05-26T16:07:16.280Z"
   },
   {
    "duration": 3,
    "start_time": "2023-05-26T16:07:16.488Z"
   },
   {
    "duration": 20,
    "start_time": "2023-05-26T16:07:16.493Z"
   },
   {
    "duration": 12,
    "start_time": "2023-05-26T16:07:16.516Z"
   },
   {
    "duration": 272,
    "start_time": "2023-05-26T16:07:16.530Z"
   },
   {
    "duration": 7,
    "start_time": "2023-05-26T16:07:16.804Z"
   },
   {
    "duration": 173,
    "start_time": "2023-05-26T16:07:16.813Z"
   },
   {
    "duration": 6,
    "start_time": "2023-05-26T16:07:16.987Z"
   },
   {
    "duration": 28,
    "start_time": "2023-05-26T16:07:16.994Z"
   },
   {
    "duration": 17,
    "start_time": "2023-05-26T16:07:17.024Z"
   },
   {
    "duration": 43,
    "start_time": "2023-05-26T16:07:17.042Z"
   },
   {
    "duration": 10,
    "start_time": "2023-05-26T16:07:17.087Z"
   },
   {
    "duration": 10,
    "start_time": "2023-05-26T16:07:17.101Z"
   },
   {
    "duration": 196,
    "start_time": "2023-05-26T16:07:17.113Z"
   },
   {
    "duration": 139,
    "start_time": "2023-05-26T16:07:17.311Z"
   },
   {
    "duration": 13,
    "start_time": "2023-05-26T16:07:17.452Z"
   },
   {
    "duration": 403,
    "start_time": "2023-05-26T16:07:17.467Z"
   },
   {
    "duration": 254,
    "start_time": "2023-05-26T16:07:17.873Z"
   },
   {
    "duration": 385,
    "start_time": "2023-05-26T16:07:18.130Z"
   },
   {
    "duration": 300,
    "start_time": "2023-05-26T16:07:18.517Z"
   },
   {
    "duration": 391,
    "start_time": "2023-05-26T16:07:18.819Z"
   },
   {
    "duration": 7,
    "start_time": "2023-05-26T16:07:19.212Z"
   },
   {
    "duration": 104,
    "start_time": "2023-05-26T16:07:19.220Z"
   },
   {
    "duration": 211,
    "start_time": "2023-05-26T16:07:19.326Z"
   },
   {
    "duration": 18,
    "start_time": "2023-05-26T16:07:19.539Z"
   },
   {
    "duration": 224,
    "start_time": "2023-05-26T16:07:19.561Z"
   },
   {
    "duration": 6,
    "start_time": "2023-05-26T16:07:19.787Z"
   },
   {
    "duration": 123,
    "start_time": "2023-05-26T16:07:19.796Z"
   },
   {
    "duration": 166,
    "start_time": "2023-05-26T16:07:19.921Z"
   },
   {
    "duration": 16,
    "start_time": "2023-05-26T16:07:20.089Z"
   },
   {
    "duration": 87,
    "start_time": "2023-05-26T16:07:20.108Z"
   },
   {
    "duration": 43,
    "start_time": "2023-05-26T16:07:20.197Z"
   },
   {
    "duration": 72,
    "start_time": "2023-05-26T16:07:20.242Z"
   },
   {
    "duration": 25,
    "start_time": "2023-05-26T16:07:20.317Z"
   },
   {
    "duration": 76,
    "start_time": "2023-05-26T16:07:20.345Z"
   },
   {
    "duration": 63,
    "start_time": "2023-05-26T16:07:20.423Z"
   },
   {
    "duration": 80,
    "start_time": "2023-05-26T16:07:20.488Z"
   },
   {
    "duration": 37,
    "start_time": "2023-05-26T16:07:20.573Z"
   },
   {
    "duration": 40,
    "start_time": "2023-05-26T16:07:20.612Z"
   },
   {
    "duration": 116,
    "start_time": "2023-05-26T16:07:20.659Z"
   },
   {
    "duration": 63,
    "start_time": "2023-05-26T16:07:20.777Z"
   },
   {
    "duration": 88,
    "start_time": "2023-05-26T16:07:20.841Z"
   },
   {
    "duration": 91,
    "start_time": "2023-05-26T16:07:20.930Z"
   },
   {
    "duration": 60,
    "start_time": "2023-05-28T13:46:04.862Z"
   },
   {
    "duration": 1196,
    "start_time": "2023-05-28T13:46:14.814Z"
   },
   {
    "duration": 467,
    "start_time": "2023-05-28T13:46:16.012Z"
   },
   {
    "duration": 4,
    "start_time": "2023-05-28T13:46:16.480Z"
   },
   {
    "duration": 30,
    "start_time": "2023-05-28T13:46:16.486Z"
   },
   {
    "duration": 78,
    "start_time": "2023-05-28T13:46:16.517Z"
   },
   {
    "duration": 126,
    "start_time": "2023-05-28T13:46:16.596Z"
   },
   {
    "duration": 11,
    "start_time": "2023-05-28T13:46:16.740Z"
   },
   {
    "duration": 161,
    "start_time": "2023-05-28T13:46:16.755Z"
   },
   {
    "duration": 5,
    "start_time": "2023-05-28T13:46:16.918Z"
   },
   {
    "duration": 67,
    "start_time": "2023-05-28T13:46:16.933Z"
   },
   {
    "duration": 66,
    "start_time": "2023-05-28T13:46:17.002Z"
   },
   {
    "duration": 22,
    "start_time": "2023-05-28T13:46:17.071Z"
   },
   {
    "duration": 13,
    "start_time": "2023-05-28T13:46:17.094Z"
   },
   {
    "duration": 66,
    "start_time": "2023-05-28T13:46:17.109Z"
   },
   {
    "duration": 237,
    "start_time": "2023-05-28T13:46:17.177Z"
   },
   {
    "duration": 150,
    "start_time": "2023-05-28T13:46:17.415Z"
   },
   {
    "duration": 15,
    "start_time": "2023-05-28T13:46:17.566Z"
   },
   {
    "duration": 379,
    "start_time": "2023-05-28T13:46:17.584Z"
   },
   {
    "duration": 322,
    "start_time": "2023-05-28T13:46:17.965Z"
   },
   {
    "duration": 318,
    "start_time": "2023-05-28T13:46:18.288Z"
   },
   {
    "duration": 306,
    "start_time": "2023-05-28T13:46:18.608Z"
   },
   {
    "duration": 429,
    "start_time": "2023-05-28T13:46:18.915Z"
   },
   {
    "duration": 15,
    "start_time": "2023-05-28T13:46:19.346Z"
   },
   {
    "duration": 30,
    "start_time": "2023-05-28T13:46:19.363Z"
   },
   {
    "duration": 244,
    "start_time": "2023-05-28T13:46:19.395Z"
   },
   {
    "duration": 8,
    "start_time": "2023-05-28T13:46:19.641Z"
   },
   {
    "duration": 258,
    "start_time": "2023-05-28T13:46:19.651Z"
   },
   {
    "duration": 5,
    "start_time": "2023-05-28T13:46:19.913Z"
   },
   {
    "duration": 166,
    "start_time": "2023-05-28T13:46:19.919Z"
   },
   {
    "duration": 146,
    "start_time": "2023-05-28T13:46:20.086Z"
   },
   {
    "duration": 14,
    "start_time": "2023-05-28T13:46:20.234Z"
   },
   {
    "duration": 44,
    "start_time": "2023-05-28T13:46:20.250Z"
   },
   {
    "duration": 6,
    "start_time": "2023-05-28T13:46:20.295Z"
   },
   {
    "duration": 35,
    "start_time": "2023-05-28T13:46:20.303Z"
   },
   {
    "duration": 7,
    "start_time": "2023-05-28T13:46:20.339Z"
   },
   {
    "duration": 39,
    "start_time": "2023-05-28T13:46:20.347Z"
   },
   {
    "duration": 13,
    "start_time": "2023-05-28T13:46:20.387Z"
   },
   {
    "duration": 36,
    "start_time": "2023-05-28T13:46:20.401Z"
   },
   {
    "duration": 46,
    "start_time": "2023-05-28T13:46:20.440Z"
   },
   {
    "duration": 10,
    "start_time": "2023-05-28T13:46:20.488Z"
   },
   {
    "duration": 38,
    "start_time": "2023-05-28T13:46:20.499Z"
   },
   {
    "duration": 9,
    "start_time": "2023-05-28T13:46:20.539Z"
   },
   {
    "duration": 45,
    "start_time": "2023-05-28T13:46:20.549Z"
   },
   {
    "duration": 19,
    "start_time": "2023-05-28T13:46:20.597Z"
   },
   {
    "duration": 1256,
    "start_time": "2023-08-03T13:40:44.755Z"
   },
   {
    "duration": 219,
    "start_time": "2023-08-03T13:40:46.014Z"
   },
   {
    "duration": 5,
    "start_time": "2023-08-03T13:40:46.236Z"
   },
   {
    "duration": 30,
    "start_time": "2023-08-03T13:40:46.243Z"
   },
   {
    "duration": 20,
    "start_time": "2023-08-03T13:40:46.275Z"
   },
   {
    "duration": 120,
    "start_time": "2023-08-03T13:40:46.298Z"
   },
   {
    "duration": 7,
    "start_time": "2023-08-03T13:40:46.421Z"
   },
   {
    "duration": 121,
    "start_time": "2023-08-03T13:40:46.430Z"
   },
   {
    "duration": 7,
    "start_time": "2023-08-03T13:40:46.554Z"
   },
   {
    "duration": 32,
    "start_time": "2023-08-03T13:40:46.564Z"
   },
   {
    "duration": 37,
    "start_time": "2023-08-03T13:40:46.600Z"
   },
   {
    "duration": 30,
    "start_time": "2023-08-03T13:40:46.639Z"
   },
   {
    "duration": 29,
    "start_time": "2023-08-03T13:40:46.672Z"
   },
   {
    "duration": 26,
    "start_time": "2023-08-03T13:40:46.704Z"
   },
   {
    "duration": 243,
    "start_time": "2023-08-03T13:40:46.732Z"
   },
   {
    "duration": 190,
    "start_time": "2023-08-03T13:40:46.979Z"
   },
   {
    "duration": 11,
    "start_time": "2023-08-03T13:40:47.171Z"
   },
   {
    "duration": 440,
    "start_time": "2023-08-03T13:40:47.185Z"
   },
   {
    "duration": 308,
    "start_time": "2023-08-03T13:40:47.627Z"
   },
   {
    "duration": 452,
    "start_time": "2023-08-03T13:40:47.937Z"
   },
   {
    "duration": 386,
    "start_time": "2023-08-03T13:40:48.393Z"
   },
   {
    "duration": 452,
    "start_time": "2023-08-03T13:40:48.782Z"
   },
   {
    "duration": 11,
    "start_time": "2023-08-03T13:40:49.236Z"
   },
   {
    "duration": 23,
    "start_time": "2023-08-03T13:40:49.249Z"
   },
   {
    "duration": 272,
    "start_time": "2023-08-03T13:40:49.276Z"
   },
   {
    "duration": 7,
    "start_time": "2023-08-03T13:40:49.551Z"
   },
   {
    "duration": 255,
    "start_time": "2023-08-03T13:40:49.567Z"
   },
   {
    "duration": 7,
    "start_time": "2023-08-03T13:40:49.827Z"
   },
   {
    "duration": 148,
    "start_time": "2023-08-03T13:40:49.838Z"
   },
   {
    "duration": 247,
    "start_time": "2023-08-03T13:40:49.989Z"
   },
   {
    "duration": 30,
    "start_time": "2023-08-03T13:40:50.239Z"
   },
   {
    "duration": 21,
    "start_time": "2023-08-03T13:40:50.272Z"
   },
   {
    "duration": 15,
    "start_time": "2023-08-03T13:40:50.296Z"
   },
   {
    "duration": 56,
    "start_time": "2023-08-03T13:40:50.313Z"
   },
   {
    "duration": 7,
    "start_time": "2023-08-03T13:40:50.371Z"
   },
   {
    "duration": 33,
    "start_time": "2023-08-03T13:40:50.379Z"
   },
   {
    "duration": 18,
    "start_time": "2023-08-03T13:40:50.414Z"
   },
   {
    "duration": 13,
    "start_time": "2023-08-03T13:40:50.434Z"
   },
   {
    "duration": 19,
    "start_time": "2023-08-03T13:40:50.449Z"
   },
   {
    "duration": 15,
    "start_time": "2023-08-03T13:40:50.471Z"
   },
   {
    "duration": 49,
    "start_time": "2023-08-03T13:40:50.489Z"
   },
   {
    "duration": 8,
    "start_time": "2023-08-03T13:40:50.540Z"
   },
   {
    "duration": 48,
    "start_time": "2023-08-03T13:40:50.550Z"
   },
   {
    "duration": 27,
    "start_time": "2023-08-03T13:40:50.600Z"
   }
  ],
  "kernelspec": {
   "display_name": "Python 3 (ipykernel)",
   "language": "python",
   "name": "python3"
  },
  "language_info": {
   "codemirror_mode": {
    "name": "ipython",
    "version": 3
   },
   "file_extension": ".py",
   "mimetype": "text/x-python",
   "name": "python",
   "nbconvert_exporter": "python",
   "pygments_lexer": "ipython3",
   "version": "3.9.5"
  },
  "toc": {
   "base_numbering": 1,
   "nav_menu": {},
   "number_sections": true,
   "sideBar": true,
   "skip_h1_title": true,
   "title_cell": "Table of Contents",
   "title_sidebar": "Contents",
   "toc_cell": false,
   "toc_position": {},
   "toc_section_display": true,
   "toc_window_display": true
  },
  "widgets": {
   "application/vnd.jupyter.widget-state+json": {
    "state": {},
    "version_major": 2,
    "version_minor": 0
   }
  }
 },
 "nbformat": 4,
 "nbformat_minor": 4
}
