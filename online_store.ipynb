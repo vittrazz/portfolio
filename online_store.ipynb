{
 "cells": [
  {
   "cell_type": "markdown",
   "metadata": {},
   "source": [
    "# Сборный проект №1 \"Исследование успешности компьютерных игр, продаваемых интернет-магазином\""
   ]
  },
  {
   "cell_type": "markdown",
   "metadata": {},
   "source": [
    "Вы работаете в интернет-магазине «Стримчик», который продаёт по всему миру компьютерные игры. Из открытых источников доступны исторические данные о продажах игр, оценки пользователей и экспертов, жанры и платформы (например, Xbox или PlayStation). Вам нужно выявить определяющие успешность игры закономерности. Это позволит сделать ставку на потенциально популярный продукт и спланировать рекламные кампании.\n",
    "Перед вами данные до 2016 года. Представим, что сейчас декабрь 2016 г., и вы планируете кампанию на 2017-й. Нужно отработать принцип работы с данными. Неважно, прогнозируете ли вы продажи на 2017 год по данным 2016-го или же 2027-й — по данным 2026 года.\n",
    "В наборе данных попадается аббревиатура ESRB (Entertainment Software Rating Board) — это ассоциация, определяющая возрастной рейтинг компьютерных игр. ESRB оценивает игровой контент и присваивает ему подходящую возрастную категорию, например, «Для взрослых», «Для детей младшего возраста» или «Для подростков»."
   ]
  },
  {
   "cell_type": "markdown",
   "metadata": {},
   "source": [
    "### Откроем таблицу и изучим общую информацию"
   ]
  },
  {
   "cell_type": "code",
   "execution_count": 1,
   "metadata": {},
   "outputs": [],
   "source": [
    "import matplotlib.pyplot as plt #загрузим библиотеки\n",
    "import pandas as pd\n",
    "import numpy as np\n",
    "import seaborn as sns"
   ]
  },
  {
   "cell_type": "code",
   "execution_count": 2,
   "metadata": {},
   "outputs": [],
   "source": [
    "#открываем файл\n",
    "try:\n",
    "    games = pd.read_csv('/Users/evgeniyakoreshilova/Desktop/games.csv')\n",
    "except:\n",
    "    games = pd.read_csv('https://code.s3.yandex.net/datasets/games.csv')"
   ]
  },
  {
   "cell_type": "code",
   "execution_count": 3,
   "metadata": {},
   "outputs": [
    {
     "data": {
      "text/html": [
       "<div>\n",
       "<style scoped>\n",
       "    .dataframe tbody tr th:only-of-type {\n",
       "        vertical-align: middle;\n",
       "    }\n",
       "\n",
       "    .dataframe tbody tr th {\n",
       "        vertical-align: top;\n",
       "    }\n",
       "\n",
       "    .dataframe thead th {\n",
       "        text-align: right;\n",
       "    }\n",
       "</style>\n",
       "<table border=\"1\" class=\"dataframe\">\n",
       "  <thead>\n",
       "    <tr style=\"text-align: right;\">\n",
       "      <th></th>\n",
       "      <th>Name</th>\n",
       "      <th>Platform</th>\n",
       "      <th>Year_of_Release</th>\n",
       "      <th>Genre</th>\n",
       "      <th>NA_sales</th>\n",
       "      <th>EU_sales</th>\n",
       "      <th>JP_sales</th>\n",
       "      <th>Other_sales</th>\n",
       "      <th>Critic_Score</th>\n",
       "      <th>User_Score</th>\n",
       "      <th>Rating</th>\n",
       "    </tr>\n",
       "  </thead>\n",
       "  <tbody>\n",
       "    <tr>\n",
       "      <th>0</th>\n",
       "      <td>Wii Sports</td>\n",
       "      <td>Wii</td>\n",
       "      <td>2006.0</td>\n",
       "      <td>Sports</td>\n",
       "      <td>41.36</td>\n",
       "      <td>28.96</td>\n",
       "      <td>3.77</td>\n",
       "      <td>8.45</td>\n",
       "      <td>76.0</td>\n",
       "      <td>8</td>\n",
       "      <td>E</td>\n",
       "    </tr>\n",
       "    <tr>\n",
       "      <th>1</th>\n",
       "      <td>Super Mario Bros.</td>\n",
       "      <td>NES</td>\n",
       "      <td>1985.0</td>\n",
       "      <td>Platform</td>\n",
       "      <td>29.08</td>\n",
       "      <td>3.58</td>\n",
       "      <td>6.81</td>\n",
       "      <td>0.77</td>\n",
       "      <td>NaN</td>\n",
       "      <td>NaN</td>\n",
       "      <td>NaN</td>\n",
       "    </tr>\n",
       "    <tr>\n",
       "      <th>2</th>\n",
       "      <td>Mario Kart Wii</td>\n",
       "      <td>Wii</td>\n",
       "      <td>2008.0</td>\n",
       "      <td>Racing</td>\n",
       "      <td>15.68</td>\n",
       "      <td>12.76</td>\n",
       "      <td>3.79</td>\n",
       "      <td>3.29</td>\n",
       "      <td>82.0</td>\n",
       "      <td>8.3</td>\n",
       "      <td>E</td>\n",
       "    </tr>\n",
       "    <tr>\n",
       "      <th>3</th>\n",
       "      <td>Wii Sports Resort</td>\n",
       "      <td>Wii</td>\n",
       "      <td>2009.0</td>\n",
       "      <td>Sports</td>\n",
       "      <td>15.61</td>\n",
       "      <td>10.93</td>\n",
       "      <td>3.28</td>\n",
       "      <td>2.95</td>\n",
       "      <td>80.0</td>\n",
       "      <td>8</td>\n",
       "      <td>E</td>\n",
       "    </tr>\n",
       "    <tr>\n",
       "      <th>4</th>\n",
       "      <td>Pokemon Red/Pokemon Blue</td>\n",
       "      <td>GB</td>\n",
       "      <td>1996.0</td>\n",
       "      <td>Role-Playing</td>\n",
       "      <td>11.27</td>\n",
       "      <td>8.89</td>\n",
       "      <td>10.22</td>\n",
       "      <td>1.00</td>\n",
       "      <td>NaN</td>\n",
       "      <td>NaN</td>\n",
       "      <td>NaN</td>\n",
       "    </tr>\n",
       "    <tr>\n",
       "      <th>5</th>\n",
       "      <td>Tetris</td>\n",
       "      <td>GB</td>\n",
       "      <td>1989.0</td>\n",
       "      <td>Puzzle</td>\n",
       "      <td>23.20</td>\n",
       "      <td>2.26</td>\n",
       "      <td>4.22</td>\n",
       "      <td>0.58</td>\n",
       "      <td>NaN</td>\n",
       "      <td>NaN</td>\n",
       "      <td>NaN</td>\n",
       "    </tr>\n",
       "    <tr>\n",
       "      <th>6</th>\n",
       "      <td>New Super Mario Bros.</td>\n",
       "      <td>DS</td>\n",
       "      <td>2006.0</td>\n",
       "      <td>Platform</td>\n",
       "      <td>11.28</td>\n",
       "      <td>9.14</td>\n",
       "      <td>6.50</td>\n",
       "      <td>2.88</td>\n",
       "      <td>89.0</td>\n",
       "      <td>8.5</td>\n",
       "      <td>E</td>\n",
       "    </tr>\n",
       "    <tr>\n",
       "      <th>7</th>\n",
       "      <td>Wii Play</td>\n",
       "      <td>Wii</td>\n",
       "      <td>2006.0</td>\n",
       "      <td>Misc</td>\n",
       "      <td>13.96</td>\n",
       "      <td>9.18</td>\n",
       "      <td>2.93</td>\n",
       "      <td>2.84</td>\n",
       "      <td>58.0</td>\n",
       "      <td>6.6</td>\n",
       "      <td>E</td>\n",
       "    </tr>\n",
       "    <tr>\n",
       "      <th>8</th>\n",
       "      <td>New Super Mario Bros. Wii</td>\n",
       "      <td>Wii</td>\n",
       "      <td>2009.0</td>\n",
       "      <td>Platform</td>\n",
       "      <td>14.44</td>\n",
       "      <td>6.94</td>\n",
       "      <td>4.70</td>\n",
       "      <td>2.24</td>\n",
       "      <td>87.0</td>\n",
       "      <td>8.4</td>\n",
       "      <td>E</td>\n",
       "    </tr>\n",
       "    <tr>\n",
       "      <th>9</th>\n",
       "      <td>Duck Hunt</td>\n",
       "      <td>NES</td>\n",
       "      <td>1984.0</td>\n",
       "      <td>Shooter</td>\n",
       "      <td>26.93</td>\n",
       "      <td>0.63</td>\n",
       "      <td>0.28</td>\n",
       "      <td>0.47</td>\n",
       "      <td>NaN</td>\n",
       "      <td>NaN</td>\n",
       "      <td>NaN</td>\n",
       "    </tr>\n",
       "    <tr>\n",
       "      <th>10</th>\n",
       "      <td>Nintendogs</td>\n",
       "      <td>DS</td>\n",
       "      <td>2005.0</td>\n",
       "      <td>Simulation</td>\n",
       "      <td>9.05</td>\n",
       "      <td>10.95</td>\n",
       "      <td>1.93</td>\n",
       "      <td>2.74</td>\n",
       "      <td>NaN</td>\n",
       "      <td>NaN</td>\n",
       "      <td>NaN</td>\n",
       "    </tr>\n",
       "    <tr>\n",
       "      <th>11</th>\n",
       "      <td>Mario Kart DS</td>\n",
       "      <td>DS</td>\n",
       "      <td>2005.0</td>\n",
       "      <td>Racing</td>\n",
       "      <td>9.71</td>\n",
       "      <td>7.47</td>\n",
       "      <td>4.13</td>\n",
       "      <td>1.90</td>\n",
       "      <td>91.0</td>\n",
       "      <td>8.6</td>\n",
       "      <td>E</td>\n",
       "    </tr>\n",
       "    <tr>\n",
       "      <th>12</th>\n",
       "      <td>Pokemon Gold/Pokemon Silver</td>\n",
       "      <td>GB</td>\n",
       "      <td>1999.0</td>\n",
       "      <td>Role-Playing</td>\n",
       "      <td>9.00</td>\n",
       "      <td>6.18</td>\n",
       "      <td>7.20</td>\n",
       "      <td>0.71</td>\n",
       "      <td>NaN</td>\n",
       "      <td>NaN</td>\n",
       "      <td>NaN</td>\n",
       "    </tr>\n",
       "    <tr>\n",
       "      <th>13</th>\n",
       "      <td>Wii Fit</td>\n",
       "      <td>Wii</td>\n",
       "      <td>2007.0</td>\n",
       "      <td>Sports</td>\n",
       "      <td>8.92</td>\n",
       "      <td>8.03</td>\n",
       "      <td>3.60</td>\n",
       "      <td>2.15</td>\n",
       "      <td>80.0</td>\n",
       "      <td>7.7</td>\n",
       "      <td>E</td>\n",
       "    </tr>\n",
       "    <tr>\n",
       "      <th>14</th>\n",
       "      <td>Kinect Adventures!</td>\n",
       "      <td>X360</td>\n",
       "      <td>2010.0</td>\n",
       "      <td>Misc</td>\n",
       "      <td>15.00</td>\n",
       "      <td>4.89</td>\n",
       "      <td>0.24</td>\n",
       "      <td>1.69</td>\n",
       "      <td>61.0</td>\n",
       "      <td>6.3</td>\n",
       "      <td>E</td>\n",
       "    </tr>\n",
       "    <tr>\n",
       "      <th>15</th>\n",
       "      <td>Wii Fit Plus</td>\n",
       "      <td>Wii</td>\n",
       "      <td>2009.0</td>\n",
       "      <td>Sports</td>\n",
       "      <td>9.01</td>\n",
       "      <td>8.49</td>\n",
       "      <td>2.53</td>\n",
       "      <td>1.77</td>\n",
       "      <td>80.0</td>\n",
       "      <td>7.4</td>\n",
       "      <td>E</td>\n",
       "    </tr>\n",
       "    <tr>\n",
       "      <th>16</th>\n",
       "      <td>Grand Theft Auto V</td>\n",
       "      <td>PS3</td>\n",
       "      <td>2013.0</td>\n",
       "      <td>Action</td>\n",
       "      <td>7.02</td>\n",
       "      <td>9.09</td>\n",
       "      <td>0.98</td>\n",
       "      <td>3.96</td>\n",
       "      <td>97.0</td>\n",
       "      <td>8.2</td>\n",
       "      <td>M</td>\n",
       "    </tr>\n",
       "    <tr>\n",
       "      <th>17</th>\n",
       "      <td>Grand Theft Auto: San Andreas</td>\n",
       "      <td>PS2</td>\n",
       "      <td>2004.0</td>\n",
       "      <td>Action</td>\n",
       "      <td>9.43</td>\n",
       "      <td>0.40</td>\n",
       "      <td>0.41</td>\n",
       "      <td>10.57</td>\n",
       "      <td>95.0</td>\n",
       "      <td>9</td>\n",
       "      <td>M</td>\n",
       "    </tr>\n",
       "    <tr>\n",
       "      <th>18</th>\n",
       "      <td>Super Mario World</td>\n",
       "      <td>SNES</td>\n",
       "      <td>1990.0</td>\n",
       "      <td>Platform</td>\n",
       "      <td>12.78</td>\n",
       "      <td>3.75</td>\n",
       "      <td>3.54</td>\n",
       "      <td>0.55</td>\n",
       "      <td>NaN</td>\n",
       "      <td>NaN</td>\n",
       "      <td>NaN</td>\n",
       "    </tr>\n",
       "    <tr>\n",
       "      <th>19</th>\n",
       "      <td>Brain Age: Train Your Brain in Minutes a Day</td>\n",
       "      <td>DS</td>\n",
       "      <td>2005.0</td>\n",
       "      <td>Misc</td>\n",
       "      <td>4.74</td>\n",
       "      <td>9.20</td>\n",
       "      <td>4.16</td>\n",
       "      <td>2.04</td>\n",
       "      <td>77.0</td>\n",
       "      <td>7.9</td>\n",
       "      <td>E</td>\n",
       "    </tr>\n",
       "  </tbody>\n",
       "</table>\n",
       "</div>"
      ],
      "text/plain": [
       "                                            Name Platform  Year_of_Release  \\\n",
       "0                                     Wii Sports      Wii           2006.0   \n",
       "1                              Super Mario Bros.      NES           1985.0   \n",
       "2                                 Mario Kart Wii      Wii           2008.0   \n",
       "3                              Wii Sports Resort      Wii           2009.0   \n",
       "4                       Pokemon Red/Pokemon Blue       GB           1996.0   \n",
       "5                                         Tetris       GB           1989.0   \n",
       "6                          New Super Mario Bros.       DS           2006.0   \n",
       "7                                       Wii Play      Wii           2006.0   \n",
       "8                      New Super Mario Bros. Wii      Wii           2009.0   \n",
       "9                                      Duck Hunt      NES           1984.0   \n",
       "10                                    Nintendogs       DS           2005.0   \n",
       "11                                 Mario Kart DS       DS           2005.0   \n",
       "12                   Pokemon Gold/Pokemon Silver       GB           1999.0   \n",
       "13                                       Wii Fit      Wii           2007.0   \n",
       "14                            Kinect Adventures!     X360           2010.0   \n",
       "15                                  Wii Fit Plus      Wii           2009.0   \n",
       "16                            Grand Theft Auto V      PS3           2013.0   \n",
       "17                 Grand Theft Auto: San Andreas      PS2           2004.0   \n",
       "18                             Super Mario World     SNES           1990.0   \n",
       "19  Brain Age: Train Your Brain in Minutes a Day       DS           2005.0   \n",
       "\n",
       "           Genre  NA_sales  EU_sales  JP_sales  Other_sales  Critic_Score  \\\n",
       "0         Sports     41.36     28.96      3.77         8.45          76.0   \n",
       "1       Platform     29.08      3.58      6.81         0.77           NaN   \n",
       "2         Racing     15.68     12.76      3.79         3.29          82.0   \n",
       "3         Sports     15.61     10.93      3.28         2.95          80.0   \n",
       "4   Role-Playing     11.27      8.89     10.22         1.00           NaN   \n",
       "5         Puzzle     23.20      2.26      4.22         0.58           NaN   \n",
       "6       Platform     11.28      9.14      6.50         2.88          89.0   \n",
       "7           Misc     13.96      9.18      2.93         2.84          58.0   \n",
       "8       Platform     14.44      6.94      4.70         2.24          87.0   \n",
       "9        Shooter     26.93      0.63      0.28         0.47           NaN   \n",
       "10    Simulation      9.05     10.95      1.93         2.74           NaN   \n",
       "11        Racing      9.71      7.47      4.13         1.90          91.0   \n",
       "12  Role-Playing      9.00      6.18      7.20         0.71           NaN   \n",
       "13        Sports      8.92      8.03      3.60         2.15          80.0   \n",
       "14          Misc     15.00      4.89      0.24         1.69          61.0   \n",
       "15        Sports      9.01      8.49      2.53         1.77          80.0   \n",
       "16        Action      7.02      9.09      0.98         3.96          97.0   \n",
       "17        Action      9.43      0.40      0.41        10.57          95.0   \n",
       "18      Platform     12.78      3.75      3.54         0.55           NaN   \n",
       "19          Misc      4.74      9.20      4.16         2.04          77.0   \n",
       "\n",
       "   User_Score Rating  \n",
       "0           8      E  \n",
       "1         NaN    NaN  \n",
       "2         8.3      E  \n",
       "3           8      E  \n",
       "4         NaN    NaN  \n",
       "5         NaN    NaN  \n",
       "6         8.5      E  \n",
       "7         6.6      E  \n",
       "8         8.4      E  \n",
       "9         NaN    NaN  \n",
       "10        NaN    NaN  \n",
       "11        8.6      E  \n",
       "12        NaN    NaN  \n",
       "13        7.7      E  \n",
       "14        6.3      E  \n",
       "15        7.4      E  \n",
       "16        8.2      M  \n",
       "17          9      M  \n",
       "18        NaN    NaN  \n",
       "19        7.9      E  "
      ]
     },
     "execution_count": 3,
     "metadata": {},
     "output_type": "execute_result"
    }
   ],
   "source": [
    "games.head(20) #выведем первые 20 строчек таблицы"
   ]
  },
  {
   "cell_type": "code",
   "execution_count": 4,
   "metadata": {},
   "outputs": [
    {
     "name": "stdout",
     "output_type": "stream",
     "text": [
      "<class 'pandas.core.frame.DataFrame'>\n",
      "RangeIndex: 16715 entries, 0 to 16714\n",
      "Data columns (total 11 columns):\n",
      " #   Column           Non-Null Count  Dtype  \n",
      "---  ------           --------------  -----  \n",
      " 0   Name             16713 non-null  object \n",
      " 1   Platform         16715 non-null  object \n",
      " 2   Year_of_Release  16446 non-null  float64\n",
      " 3   Genre            16713 non-null  object \n",
      " 4   NA_sales         16715 non-null  float64\n",
      " 5   EU_sales         16715 non-null  float64\n",
      " 6   JP_sales         16715 non-null  float64\n",
      " 7   Other_sales      16715 non-null  float64\n",
      " 8   Critic_Score     8137 non-null   float64\n",
      " 9   User_Score       10014 non-null  object \n",
      " 10  Rating           9949 non-null   object \n",
      "dtypes: float64(6), object(5)\n",
      "memory usage: 1.4+ MB\n"
     ]
    }
   ],
   "source": [
    "games.info() #Посмотрим общую информацию"
   ]
  },
  {
   "cell_type": "code",
   "execution_count": 5,
   "metadata": {},
   "outputs": [
    {
     "data": {
      "text/plain": [
       "array([[<AxesSubplot:title={'center':'Year_of_Release'}>,\n",
       "        <AxesSubplot:title={'center':'NA_sales'}>],\n",
       "       [<AxesSubplot:title={'center':'EU_sales'}>,\n",
       "        <AxesSubplot:title={'center':'JP_sales'}>],\n",
       "       [<AxesSubplot:title={'center':'Other_sales'}>,\n",
       "        <AxesSubplot:title={'center':'Critic_Score'}>]], dtype=object)"
      ]
     },
     "execution_count": 5,
     "metadata": {},
     "output_type": "execute_result"
    },
    {
     "data": {
      "image/png": "[encoded data removed]",
      "text/plain": [
       "<Figure size 1080x1440 with 6 Axes>"
      ]
     },
     "metadata": {
      "needs_background": "light"
     },
     "output_type": "display_data"
    }
   ],
   "source": [
    "games.hist(figsize=(15, 20))"
   ]
  },
  {
   "cell_type": "markdown",
   "metadata": {},
   "source": [
    "Пропуски есть в столбцах Name, Year_of_Release, Genre, Critic_Score, User_Score, Rating. Названия столбцов лучше привести к нижнему регистру. В столбцах Name, Platform, Year_of_Release, Genre, User_Score - по возможности изменить тип данных. Так как в столбце 'name' пропущено две строки, то их можно удалить, как и в столбце 'genre'.\n",
    "Столбцы с пропущенными значениями Critic_Score, User_Score, Rating считаю, что нет необходимости заполнять. Данные могли быть пропущены, потому что о них нет информации в виду низкой популярности игр, или был сбой при выгрузке данных."
   ]
  },
  {
   "cell_type": "code",
   "execution_count": 6,
   "metadata": {},
   "outputs": [
    {
     "data": {
      "text/plain": [
       "0"
      ]
     },
     "execution_count": 6,
     "metadata": {},
     "output_type": "execute_result"
    }
   ],
   "source": [
    "games.duplicated().sum() #Поищем явные дубликаты"
   ]
  },
  {
   "cell_type": "code",
   "execution_count": 7,
   "metadata": {},
   "outputs": [],
   "source": [
    "games.columns = games.columns.str.lower() #Переименуем названия колонок: Приведем все к нижнему регистру"
   ]
  },
  {
   "cell_type": "markdown",
   "metadata": {},
   "source": [
    "**Преобразуем данные в нужные типы**"
   ]
  },
  {
   "cell_type": "code",
   "execution_count": 8,
   "metadata": {
    "scrolled": true
   },
   "outputs": [
    {
     "data": {
      "text/html": [
       "<div>\n",
       "<style scoped>\n",
       "    .dataframe tbody tr th:only-of-type {\n",
       "        vertical-align: middle;\n",
       "    }\n",
       "\n",
       "    .dataframe tbody tr th {\n",
       "        vertical-align: top;\n",
       "    }\n",
       "\n",
       "    .dataframe thead th {\n",
       "        text-align: right;\n",
       "    }\n",
       "</style>\n",
       "<table border=\"1\" class=\"dataframe\">\n",
       "  <thead>\n",
       "    <tr style=\"text-align: right;\">\n",
       "      <th></th>\n",
       "      <th>name</th>\n",
       "      <th>platform</th>\n",
       "      <th>year_of_release</th>\n",
       "      <th>genre</th>\n",
       "      <th>na_sales</th>\n",
       "      <th>eu_sales</th>\n",
       "      <th>jp_sales</th>\n",
       "      <th>other_sales</th>\n",
       "      <th>critic_score</th>\n",
       "      <th>user_score</th>\n",
       "      <th>rating</th>\n",
       "    </tr>\n",
       "  </thead>\n",
       "  <tbody>\n",
       "    <tr>\n",
       "      <th>659</th>\n",
       "      <td>NaN</td>\n",
       "      <td>GEN</td>\n",
       "      <td>1993.0</td>\n",
       "      <td>NaN</td>\n",
       "      <td>1.78</td>\n",
       "      <td>0.53</td>\n",
       "      <td>0.00</td>\n",
       "      <td>0.08</td>\n",
       "      <td>NaN</td>\n",
       "      <td>NaN</td>\n",
       "      <td>NaN</td>\n",
       "    </tr>\n",
       "    <tr>\n",
       "      <th>14244</th>\n",
       "      <td>NaN</td>\n",
       "      <td>GEN</td>\n",
       "      <td>1993.0</td>\n",
       "      <td>NaN</td>\n",
       "      <td>0.00</td>\n",
       "      <td>0.00</td>\n",
       "      <td>0.03</td>\n",
       "      <td>0.00</td>\n",
       "      <td>NaN</td>\n",
       "      <td>NaN</td>\n",
       "      <td>NaN</td>\n",
       "    </tr>\n",
       "  </tbody>\n",
       "</table>\n",
       "</div>"
      ],
      "text/plain": [
       "      name platform  year_of_release genre  na_sales  eu_sales  jp_sales  \\\n",
       "659    NaN      GEN           1993.0   NaN      1.78      0.53      0.00   \n",
       "14244  NaN      GEN           1993.0   NaN      0.00      0.00      0.03   \n",
       "\n",
       "       other_sales  critic_score user_score rating  \n",
       "659           0.08           NaN        NaN    NaN  \n",
       "14244         0.00           NaN        NaN    NaN  "
      ]
     },
     "execution_count": 8,
     "metadata": {},
     "output_type": "execute_result"
    }
   ],
   "source": [
    "games.query('name.isna()') # посмотрим в каких строках пропущено название"
   ]
  },
  {
   "cell_type": "markdown",
   "metadata": {},
   "source": [
    "Навание и жанр - пропущено в двух строках, их можно будет безболезненно удалить"
   ]
  },
  {
   "cell_type": "code",
   "execution_count": 9,
   "metadata": {},
   "outputs": [],
   "source": [
    "games = games.dropna(subset=['name'])"
   ]
  },
  {
   "cell_type": "markdown",
   "metadata": {},
   "source": [
    "Посмотрим на уникальные значения в столбце 'user_score'"
   ]
  },
  {
   "cell_type": "code",
   "execution_count": 10,
   "metadata": {},
   "outputs": [
    {
     "data": {
      "text/plain": [
       "array(['0', '0.2', '0.3', '0.5', '0.6', '0.7', '0.9', '1', '1.1', '1.2',\n",
       "       '1.3', '1.4', '1.5', '1.6', '1.7', '1.8', '1.9', '2', '2.1', '2.2',\n",
       "       '2.3', '2.4', '2.5', '2.6', '2.7', '2.8', '2.9', '3', '3.1', '3.2',\n",
       "       '3.3', '3.4', '3.5', '3.6', '3.7', '3.8', '3.9', '4', '4.1', '4.2',\n",
       "       '4.3', '4.4', '4.5', '4.6', '4.7', '4.8', '4.9', '5', '5.1', '5.2',\n",
       "       '5.3', '5.4', '5.5', '5.6', '5.7', '5.8', '5.9', '6', '6.1', '6.2',\n",
       "       '6.3', '6.4', '6.5', '6.6', '6.7', '6.8', '6.9', '7', '7.1', '7.2',\n",
       "       '7.3', '7.4', '7.5', '7.6', '7.7', '7.8', '7.9', '8', '8.1', '8.2',\n",
       "       '8.3', '8.4', '8.5', '8.6', '8.7', '8.8', '8.9', '9', '9.1', '9.2',\n",
       "       '9.3', '9.4', '9.5', '9.6', '9.7', 'tbd', nan], dtype=object)"
      ]
     },
     "execution_count": 10,
     "metadata": {},
     "output_type": "execute_result"
    }
   ],
   "source": [
    "games['user_score'].sort_values().unique()"
   ]
  },
  {
   "cell_type": "code",
   "execution_count": 11,
   "metadata": {},
   "outputs": [
    {
     "data": {
      "text/plain": [
       "2424"
      ]
     },
     "execution_count": 11,
     "metadata": {},
     "output_type": "execute_result"
    }
   ],
   "source": [
    "len(games.query('user_score == \"tbd\"')) #Посмотрим сколько строк со значением tbd"
   ]
  },
  {
   "cell_type": "markdown",
   "metadata": {},
   "source": [
    "Гугл подсказывает, что сокращение tbd означает, что оценка пользователей будет определена. в данном случае ее можно заменить на Nan, при переводе данных в вещественный тип. Этот тип данных необходим для дальнейшей исследовательской работы."
   ]
  },
  {
   "cell_type": "code",
   "execution_count": 12,
   "metadata": {},
   "outputs": [],
   "source": [
    "games['user_score'] = pd.to_numeric(games['user_score'], errors='coerce')"
   ]
  },
  {
   "cell_type": "markdown",
   "metadata": {},
   "source": [
    "Переведем значения столбца 'year_of_release' в целое число. Так как значения содержат только год, переводить в дату - нецелесообразно. Тип int и визуально, и для исследования будет удобным."
   ]
  },
  {
   "cell_type": "code",
   "execution_count": 13,
   "metadata": {},
   "outputs": [],
   "source": [
    "games['year_of_release'] = games['year_of_release'].fillna(0).astype('int') "
   ]
  },
  {
   "cell_type": "markdown",
   "metadata": {},
   "source": [
    "Создадим столбец в котором просуммируем все продажи"
   ]
  },
  {
   "cell_type": "code",
   "execution_count": 14,
   "metadata": {},
   "outputs": [],
   "source": [
    "games['sales'] = games['na_sales'] + games['eu_sales'] + games['jp_sales'] + games['other_sales']"
   ]
  },
  {
   "cell_type": "code",
   "execution_count": 15,
   "metadata": {},
   "outputs": [],
   "source": [
    "games['sales'] = games[['na_sales', 'eu_sales', 'jp_sales', 'other_sales']].sum(axis=1)"
   ]
  },
  {
   "cell_type": "markdown",
   "metadata": {},
   "source": [
    "**Проведем иследовательский анализ данных**"
   ]
  },
  {
   "cell_type": "markdown",
   "metadata": {},
   "source": [
    "Посмотрим, сколько игр выпускалось в разные годы"
   ]
  },
  {
   "cell_type": "code",
   "execution_count": 16,
   "metadata": {},
   "outputs": [
    {
     "data": {
      "text/plain": [
       "<AxesSubplot:title={'center':'Количество выпущенных игр'}, xlabel='year_of_release'>"
      ]
     },
     "execution_count": 16,
     "metadata": {},
     "output_type": "execute_result"
    },
    {
     "data": {
      "image/png": "[encoded data removed]",
      "text/plain": [
       "<Figure size 720x360 with 1 Axes>"
      ]
     },
     "metadata": {
      "needs_background": "light"
     },
     "output_type": "display_data"
    }
   ],
   "source": [
    "games.groupby('year_of_release')['name'].count().plot(style='o-', xlim=(1980, 2016), grid=True, figsize=(10, 5),\\\n",
    "                                                      title=('Количество выпущенных игр'))"
   ]
  },
  {
   "cell_type": "markdown",
   "metadata": {},
   "source": [
    "Возьмем для анализа данные за период с 2000 по 2016 гг. Пик по выпуску игр приходится на период с 2007 по 2010 гг. С 2000 наблюдается рост, с 2010 по 2016 - спад."
   ]
  },
  {
   "cell_type": "code",
   "execution_count": 17,
   "metadata": {},
   "outputs": [
    {
     "name": "stdout",
     "output_type": "stream",
     "text": [
      "<class 'pandas.core.frame.DataFrame'>\n",
      "Int64Index: 16713 entries, 0 to 16714\n",
      "Data columns (total 12 columns):\n",
      " #   Column           Non-Null Count  Dtype  \n",
      "---  ------           --------------  -----  \n",
      " 0   name             16713 non-null  object \n",
      " 1   platform         16713 non-null  object \n",
      " 2   year_of_release  16713 non-null  int64  \n",
      " 3   genre            16713 non-null  object \n",
      " 4   na_sales         16713 non-null  float64\n",
      " 5   eu_sales         16713 non-null  float64\n",
      " 6   jp_sales         16713 non-null  float64\n",
      " 7   other_sales      16713 non-null  float64\n",
      " 8   critic_score     8137 non-null   float64\n",
      " 9   user_score       7590 non-null   float64\n",
      " 10  rating           9949 non-null   object \n",
      " 11  sales            16713 non-null  float64\n",
      "dtypes: float64(7), int64(1), object(4)\n",
      "memory usage: 1.7+ MB\n"
     ]
    }
   ],
   "source": [
    "games.info()"
   ]
  },
  {
   "cell_type": "code",
   "execution_count": 18,
   "metadata": {},
   "outputs": [],
   "source": [
    "games_norm = games.query('year_of_release > 1999')"
   ]
  },
  {
   "cell_type": "markdown",
   "metadata": {},
   "source": [
    "Выберем платформы с наибольшими суммарными продажами"
   ]
  },
  {
   "cell_type": "code",
   "execution_count": 19,
   "metadata": {},
   "outputs": [
    {
     "data": {
      "text/plain": [
       "array([<AxesSubplot:ylabel='sales'>], dtype=object)"
      ]
     },
     "execution_count": 19,
     "metadata": {},
     "output_type": "execute_result"
    },
    {
     "data": {
      "image/png": "[encoded data removed]",
      "text/plain": [
       "<Figure size 576x576 with 1 Axes>"
      ]
     },
     "metadata": {},
     "output_type": "display_data"
    }
   ],
   "source": [
    "games_norm.pivot_table(index='platform', values='sales', aggfunc='sum')\\\n",
    ".sort_values('sales').plot(kind='pie', subplots=True, figsize=(8, 8),\\\n",
    "                           title=\"Платформы с наибольшими продажами с 2000 по 2016 гг\", legend=False)\n"
   ]
  },
  {
   "cell_type": "markdown",
   "metadata": {},
   "source": [
    "Посмотрим платформы PS по годам, чтобы увидеть, есть ли какая-то зависимость между ними"
   ]
  },
  {
   "cell_type": "code",
   "execution_count": 20,
   "metadata": {},
   "outputs": [],
   "source": [
    "games_norm_all_ps = games_norm.query('platform == \"PS\" or platform == \"PS2\" or platform == \"PS3\" or platform == \"PS4\"\\\n",
    "                            or platform == \"PSV\"')"
   ]
  },
  {
   "cell_type": "code",
   "execution_count": 21,
   "metadata": {},
   "outputs": [
    {
     "data": {
      "text/plain": [
       "<AxesSubplot:xlabel='year_of_release'>"
      ]
     },
     "execution_count": 21,
     "metadata": {},
     "output_type": "execute_result"
    },
    {
     "data": {
      "image/png": "[encoded data removed]",
      "text/plain": [
       "<Figure size 1080x720 with 1 Axes>"
      ]
     },
     "metadata": {
      "needs_background": "light"
     },
     "output_type": "display_data"
    }
   ],
   "source": [
    "games_norm_all_ps.pivot_table(index='year_of_release', columns='platform',\\\n",
    "                                                values='sales', aggfunc='sum')\\\n",
    ".plot(style='o-', figsize=(15, 10), grid=True)"
   ]
  },
  {
   "cell_type": "markdown",
   "metadata": {},
   "source": [
    "Посмотрим top-6 платформ по продажам по годам"
   ]
  },
  {
   "cell_type": "code",
   "execution_count": 22,
   "metadata": {},
   "outputs": [
    {
     "data": {
      "image/png": "[encoded data removed]",
      "text/plain": [
       "<Figure size 1080x1080 with 6 Axes>"
      ]
     },
     "metadata": {
      "needs_background": "light"
     },
     "output_type": "display_data"
    }
   ],
   "source": [
    "games_norm_ps2 = games_norm.query('platform == \"PS2\"').pivot_table(index='year_of_release',\\\n",
    "                                                values='sales', aggfunc='sum')\n",
    "games_norm_x360 = games_norm.query('platform == \"X360\"').pivot_table(index='year_of_release',\\\n",
    "                                                values='sales', aggfunc='sum')\n",
    "games_norm_ps3 = games_norm.query('platform == \"PS3\"').pivot_table(index='year_of_release',\\\n",
    "                                                values='sales', aggfunc='sum')\n",
    "games_norm_wii = games_norm.query('platform == \"Wii\"').pivot_table(index='year_of_release',\\\n",
    "                                                values='sales', aggfunc='sum')\n",
    "games_norm_ds = games_norm.query('platform == \"DS\"').pivot_table(index='year_of_release',\\\n",
    "                                                values='sales', aggfunc='sum')\n",
    "games_norm_ps4 = games_norm.query('platform == \"PS4\"').pivot_table(index='year_of_release',\\\n",
    "                                                values='sales', aggfunc='sum')\n",
    "\n",
    "\n",
    "fig, axs = plt.subplots(3, 2)\n",
    "axs[0, 0].plot(games_norm_ps2, 'tab:green')\n",
    "axs[0, 0].set_title('Продажи платформы PS2')\n",
    "axs[0, 1].plot(games_norm_x360, 'tab:red')\n",
    "axs[0, 1].set_title('Продажи платформы X360')\n",
    "axs[1, 0].plot(games_norm_wii, 'tab:orange')\n",
    "axs[1, 0].set_title('Продажи платформы Wii')\n",
    "axs[1, 1].plot(games_norm_ps3)\n",
    "axs[1, 1].set_title('Продажи платформы PS3')\n",
    "axs[2, 0].plot(games_norm_ds, 'tab:pink')\n",
    "axs[2, 0].set_title('Продажи платформы DS')\n",
    "axs[2, 1].plot(games_norm_ps4, 'tab:grey')\n",
    "axs[2, 1].set_title('Продажи платформы PS4')\n",
    "fig.set_size_inches(15, 15)\n",
    "#fig.tight_layout()\n",
    "for ax in axs.flat:\n",
    "    ax.set(xlabel='год релиза', ylabel='кол-во проданных копий')\n",
    "for ax in axs.flat:\n",
    "    ax.grid()\n",
    "\n",
    "    "
   ]
  },
  {
   "cell_type": "markdown",
   "metadata": {},
   "source": [
    "График показывает, что платформы быстро стартуют, потом пик на год или два , спад и исчезновение. Исключение - платформа РС, не было ярко выраженного пика, только в период популярности компьютерных игр в период с 2010 по 2012. Платформа продолжает существовать.\n",
    "Родственные платформы PS, PS2, PS3, PS4 - очень хорошо видно, что после пика одной платформы на следующий год появляется новая. Исключение - PSV. Может быть она не является частью глобальной системы PS. Продолжительность существования платформ - около 10 лет.\n",
    "Учитывая эти данные, плюс тот факт, что пик продаж приходится на период с 2007 по 2010, для анализа возьмем актуальные данные, начиная с 2004 года.\n",
    "    Посмотрим, какие платформы выпускали игры с 2004 года и какие активны в 2016 году."
   ]
  },
  {
   "cell_type": "code",
   "execution_count": 23,
   "metadata": {},
   "outputs": [
    {
     "data": {
      "text/html": [
       "<div>\n",
       "<style scoped>\n",
       "    .dataframe tbody tr th:only-of-type {\n",
       "        vertical-align: middle;\n",
       "    }\n",
       "\n",
       "    .dataframe tbody tr th {\n",
       "        vertical-align: top;\n",
       "    }\n",
       "\n",
       "    .dataframe thead th {\n",
       "        text-align: right;\n",
       "    }\n",
       "</style>\n",
       "<table border=\"1\" class=\"dataframe\">\n",
       "  <thead>\n",
       "    <tr style=\"text-align: right;\">\n",
       "      <th>platform</th>\n",
       "      <th>3DS</th>\n",
       "      <th>DC</th>\n",
       "      <th>DS</th>\n",
       "      <th>GBA</th>\n",
       "      <th>GC</th>\n",
       "      <th>PC</th>\n",
       "      <th>PS2</th>\n",
       "      <th>PS3</th>\n",
       "      <th>PS4</th>\n",
       "      <th>PSP</th>\n",
       "      <th>PSV</th>\n",
       "      <th>Wii</th>\n",
       "      <th>WiiU</th>\n",
       "      <th>X360</th>\n",
       "      <th>XB</th>\n",
       "      <th>XOne</th>\n",
       "    </tr>\n",
       "    <tr>\n",
       "      <th>year_of_release</th>\n",
       "      <th></th>\n",
       "      <th></th>\n",
       "      <th></th>\n",
       "      <th></th>\n",
       "      <th></th>\n",
       "      <th></th>\n",
       "      <th></th>\n",
       "      <th></th>\n",
       "      <th></th>\n",
       "      <th></th>\n",
       "      <th></th>\n",
       "      <th></th>\n",
       "      <th></th>\n",
       "      <th></th>\n",
       "      <th></th>\n",
       "      <th></th>\n",
       "    </tr>\n",
       "  </thead>\n",
       "  <tbody>\n",
       "    <tr>\n",
       "      <th>2004</th>\n",
       "      <td>NaN</td>\n",
       "      <td>NaN</td>\n",
       "      <td>17.27</td>\n",
       "      <td>77.91</td>\n",
       "      <td>28.82</td>\n",
       "      <td>10.39</td>\n",
       "      <td>211.81</td>\n",
       "      <td>NaN</td>\n",
       "      <td>NaN</td>\n",
       "      <td>7.06</td>\n",
       "      <td>NaN</td>\n",
       "      <td>NaN</td>\n",
       "      <td>NaN</td>\n",
       "      <td>NaN</td>\n",
       "      <td>65.42</td>\n",
       "      <td>NaN</td>\n",
       "    </tr>\n",
       "    <tr>\n",
       "      <th>2005</th>\n",
       "      <td>NaN</td>\n",
       "      <td>NaN</td>\n",
       "      <td>130.14</td>\n",
       "      <td>33.86</td>\n",
       "      <td>27.62</td>\n",
       "      <td>4.37</td>\n",
       "      <td>160.66</td>\n",
       "      <td>NaN</td>\n",
       "      <td>NaN</td>\n",
       "      <td>43.84</td>\n",
       "      <td>NaN</td>\n",
       "      <td>NaN</td>\n",
       "      <td>NaN</td>\n",
       "      <td>8.25</td>\n",
       "      <td>49.08</td>\n",
       "      <td>NaN</td>\n",
       "    </tr>\n",
       "    <tr>\n",
       "      <th>2006</th>\n",
       "      <td>NaN</td>\n",
       "      <td>NaN</td>\n",
       "      <td>119.81</td>\n",
       "      <td>5.28</td>\n",
       "      <td>11.26</td>\n",
       "      <td>2.85</td>\n",
       "      <td>103.42</td>\n",
       "      <td>20.96</td>\n",
       "      <td>NaN</td>\n",
       "      <td>55.32</td>\n",
       "      <td>NaN</td>\n",
       "      <td>137.15</td>\n",
       "      <td>NaN</td>\n",
       "      <td>51.62</td>\n",
       "      <td>10.04</td>\n",
       "      <td>NaN</td>\n",
       "    </tr>\n",
       "    <tr>\n",
       "      <th>2007</th>\n",
       "      <td>NaN</td>\n",
       "      <td>0.02</td>\n",
       "      <td>146.94</td>\n",
       "      <td>3.40</td>\n",
       "      <td>0.27</td>\n",
       "      <td>9.28</td>\n",
       "      <td>75.99</td>\n",
       "      <td>73.19</td>\n",
       "      <td>NaN</td>\n",
       "      <td>46.93</td>\n",
       "      <td>NaN</td>\n",
       "      <td>152.77</td>\n",
       "      <td>NaN</td>\n",
       "      <td>95.41</td>\n",
       "      <td>0.55</td>\n",
       "      <td>NaN</td>\n",
       "    </tr>\n",
       "    <tr>\n",
       "      <th>2008</th>\n",
       "      <td>NaN</td>\n",
       "      <td>0.04</td>\n",
       "      <td>145.31</td>\n",
       "      <td>NaN</td>\n",
       "      <td>NaN</td>\n",
       "      <td>12.42</td>\n",
       "      <td>53.90</td>\n",
       "      <td>118.52</td>\n",
       "      <td>NaN</td>\n",
       "      <td>34.55</td>\n",
       "      <td>NaN</td>\n",
       "      <td>171.32</td>\n",
       "      <td>NaN</td>\n",
       "      <td>135.26</td>\n",
       "      <td>0.18</td>\n",
       "      <td>NaN</td>\n",
       "    </tr>\n",
       "    <tr>\n",
       "      <th>2009</th>\n",
       "      <td>NaN</td>\n",
       "      <td>NaN</td>\n",
       "      <td>119.54</td>\n",
       "      <td>NaN</td>\n",
       "      <td>NaN</td>\n",
       "      <td>16.91</td>\n",
       "      <td>26.40</td>\n",
       "      <td>130.93</td>\n",
       "      <td>NaN</td>\n",
       "      <td>37.78</td>\n",
       "      <td>NaN</td>\n",
       "      <td>206.97</td>\n",
       "      <td>NaN</td>\n",
       "      <td>120.29</td>\n",
       "      <td>NaN</td>\n",
       "      <td>NaN</td>\n",
       "    </tr>\n",
       "    <tr>\n",
       "      <th>2010</th>\n",
       "      <td>NaN</td>\n",
       "      <td>NaN</td>\n",
       "      <td>85.02</td>\n",
       "      <td>NaN</td>\n",
       "      <td>NaN</td>\n",
       "      <td>24.28</td>\n",
       "      <td>5.64</td>\n",
       "      <td>142.17</td>\n",
       "      <td>NaN</td>\n",
       "      <td>35.04</td>\n",
       "      <td>NaN</td>\n",
       "      <td>127.95</td>\n",
       "      <td>NaN</td>\n",
       "      <td>170.03</td>\n",
       "      <td>NaN</td>\n",
       "      <td>NaN</td>\n",
       "    </tr>\n",
       "    <tr>\n",
       "      <th>2011</th>\n",
       "      <td>63.20</td>\n",
       "      <td>NaN</td>\n",
       "      <td>26.18</td>\n",
       "      <td>NaN</td>\n",
       "      <td>NaN</td>\n",
       "      <td>35.03</td>\n",
       "      <td>0.45</td>\n",
       "      <td>156.78</td>\n",
       "      <td>NaN</td>\n",
       "      <td>17.82</td>\n",
       "      <td>4.63</td>\n",
       "      <td>59.65</td>\n",
       "      <td>NaN</td>\n",
       "      <td>143.84</td>\n",
       "      <td>NaN</td>\n",
       "      <td>NaN</td>\n",
       "    </tr>\n",
       "    <tr>\n",
       "      <th>2012</th>\n",
       "      <td>51.36</td>\n",
       "      <td>NaN</td>\n",
       "      <td>11.01</td>\n",
       "      <td>NaN</td>\n",
       "      <td>NaN</td>\n",
       "      <td>23.22</td>\n",
       "      <td>NaN</td>\n",
       "      <td>107.36</td>\n",
       "      <td>NaN</td>\n",
       "      <td>7.69</td>\n",
       "      <td>16.19</td>\n",
       "      <td>21.71</td>\n",
       "      <td>17.56</td>\n",
       "      <td>99.74</td>\n",
       "      <td>NaN</td>\n",
       "      <td>NaN</td>\n",
       "    </tr>\n",
       "    <tr>\n",
       "      <th>2013</th>\n",
       "      <td>56.57</td>\n",
       "      <td>NaN</td>\n",
       "      <td>1.54</td>\n",
       "      <td>NaN</td>\n",
       "      <td>NaN</td>\n",
       "      <td>12.38</td>\n",
       "      <td>NaN</td>\n",
       "      <td>113.25</td>\n",
       "      <td>25.99</td>\n",
       "      <td>3.14</td>\n",
       "      <td>10.59</td>\n",
       "      <td>8.59</td>\n",
       "      <td>21.65</td>\n",
       "      <td>88.58</td>\n",
       "      <td>NaN</td>\n",
       "      <td>18.96</td>\n",
       "    </tr>\n",
       "    <tr>\n",
       "      <th>2014</th>\n",
       "      <td>43.76</td>\n",
       "      <td>NaN</td>\n",
       "      <td>NaN</td>\n",
       "      <td>NaN</td>\n",
       "      <td>NaN</td>\n",
       "      <td>13.28</td>\n",
       "      <td>NaN</td>\n",
       "      <td>47.76</td>\n",
       "      <td>100.00</td>\n",
       "      <td>0.24</td>\n",
       "      <td>11.90</td>\n",
       "      <td>3.75</td>\n",
       "      <td>22.03</td>\n",
       "      <td>34.74</td>\n",
       "      <td>NaN</td>\n",
       "      <td>54.07</td>\n",
       "    </tr>\n",
       "    <tr>\n",
       "      <th>2015</th>\n",
       "      <td>27.78</td>\n",
       "      <td>NaN</td>\n",
       "      <td>NaN</td>\n",
       "      <td>NaN</td>\n",
       "      <td>NaN</td>\n",
       "      <td>8.52</td>\n",
       "      <td>NaN</td>\n",
       "      <td>16.82</td>\n",
       "      <td>118.90</td>\n",
       "      <td>0.12</td>\n",
       "      <td>6.25</td>\n",
       "      <td>1.14</td>\n",
       "      <td>16.35</td>\n",
       "      <td>11.96</td>\n",
       "      <td>NaN</td>\n",
       "      <td>60.14</td>\n",
       "    </tr>\n",
       "    <tr>\n",
       "      <th>2016</th>\n",
       "      <td>15.14</td>\n",
       "      <td>NaN</td>\n",
       "      <td>NaN</td>\n",
       "      <td>NaN</td>\n",
       "      <td>NaN</td>\n",
       "      <td>5.25</td>\n",
       "      <td>NaN</td>\n",
       "      <td>3.60</td>\n",
       "      <td>69.25</td>\n",
       "      <td>NaN</td>\n",
       "      <td>4.25</td>\n",
       "      <td>0.18</td>\n",
       "      <td>4.60</td>\n",
       "      <td>1.52</td>\n",
       "      <td>NaN</td>\n",
       "      <td>26.15</td>\n",
       "    </tr>\n",
       "  </tbody>\n",
       "</table>\n",
       "</div>"
      ],
      "text/plain": [
       "platform           3DS    DC      DS    GBA     GC     PC     PS2     PS3  \\\n",
       "year_of_release                                                             \n",
       "2004               NaN   NaN   17.27  77.91  28.82  10.39  211.81     NaN   \n",
       "2005               NaN   NaN  130.14  33.86  27.62   4.37  160.66     NaN   \n",
       "2006               NaN   NaN  119.81   5.28  11.26   2.85  103.42   20.96   \n",
       "2007               NaN  0.02  146.94   3.40   0.27   9.28   75.99   73.19   \n",
       "2008               NaN  0.04  145.31    NaN    NaN  12.42   53.90  118.52   \n",
       "2009               NaN   NaN  119.54    NaN    NaN  16.91   26.40  130.93   \n",
       "2010               NaN   NaN   85.02    NaN    NaN  24.28    5.64  142.17   \n",
       "2011             63.20   NaN   26.18    NaN    NaN  35.03    0.45  156.78   \n",
       "2012             51.36   NaN   11.01    NaN    NaN  23.22     NaN  107.36   \n",
       "2013             56.57   NaN    1.54    NaN    NaN  12.38     NaN  113.25   \n",
       "2014             43.76   NaN     NaN    NaN    NaN  13.28     NaN   47.76   \n",
       "2015             27.78   NaN     NaN    NaN    NaN   8.52     NaN   16.82   \n",
       "2016             15.14   NaN     NaN    NaN    NaN   5.25     NaN    3.60   \n",
       "\n",
       "platform            PS4    PSP    PSV     Wii   WiiU    X360     XB   XOne  \n",
       "year_of_release                                                             \n",
       "2004                NaN   7.06    NaN     NaN    NaN     NaN  65.42    NaN  \n",
       "2005                NaN  43.84    NaN     NaN    NaN    8.25  49.08    NaN  \n",
       "2006                NaN  55.32    NaN  137.15    NaN   51.62  10.04    NaN  \n",
       "2007                NaN  46.93    NaN  152.77    NaN   95.41   0.55    NaN  \n",
       "2008                NaN  34.55    NaN  171.32    NaN  135.26   0.18    NaN  \n",
       "2009                NaN  37.78    NaN  206.97    NaN  120.29    NaN    NaN  \n",
       "2010                NaN  35.04    NaN  127.95    NaN  170.03    NaN    NaN  \n",
       "2011                NaN  17.82   4.63   59.65    NaN  143.84    NaN    NaN  \n",
       "2012                NaN   7.69  16.19   21.71  17.56   99.74    NaN    NaN  \n",
       "2013              25.99   3.14  10.59    8.59  21.65   88.58    NaN  18.96  \n",
       "2014             100.00   0.24  11.90    3.75  22.03   34.74    NaN  54.07  \n",
       "2015             118.90   0.12   6.25    1.14  16.35   11.96    NaN  60.14  \n",
       "2016              69.25    NaN   4.25    0.18   4.60    1.52    NaN  26.15  "
      ]
     },
     "execution_count": 23,
     "metadata": {},
     "output_type": "execute_result"
    }
   ],
   "source": [
    "games_norm_2004 = games_norm.query('year_of_release > 2003')\n",
    "games_norm_2004.pivot_table(index='year_of_release', columns='platform',values='sales', aggfunc='sum')\n"
   ]
  },
  {
   "cell_type": "markdown",
   "metadata": {},
   "source": [
    "Получается, что наиболее перспективными на 2017 год можно считать платформы PS4, XOne, 3DS,PC. Продажи у всех платформ падают. Построим график \"ящик с усами\" по продажам игр в разбивке по этим платформам."
   ]
  },
  {
   "cell_type": "markdown",
   "metadata": {},
   "source": [
    "PS4"
   ]
  },
  {
   "cell_type": "code",
   "execution_count": 24,
   "metadata": {},
   "outputs": [
    {
     "name": "stdout",
     "output_type": "stream",
     "text": [
      "count    392.000000\n",
      "mean       0.801378\n",
      "std        1.609456\n",
      "min        0.010000\n",
      "25%        0.060000\n",
      "50%        0.200000\n",
      "75%        0.730000\n",
      "max       14.630000\n",
      "Name: sales, dtype: float64\n"
     ]
    },
    {
     "data": {
      "text/plain": [
       "(0.0, 2.0)"
      ]
     },
     "execution_count": 24,
     "metadata": {},
     "output_type": "execute_result"
    },
    {
     "data": {
      "image/png": "[encoded data removed]",
      "text/plain": [
       "<Figure size 1080x360 with 1 Axes>"
      ]
     },
     "metadata": {
      "needs_background": "light"
     },
     "output_type": "display_data"
    }
   ],
   "source": [
    "games_norm_2004_ps4 = games_norm_2004.query('platform == \"PS4\"')\n",
    "print(games_norm_2004_ps4['sales'].describe())\n",
    "games_norm_2004_ps4.boxplot(column='sales', figsize=(15, 5), vert=False)\n",
    "plt.title('Диаграмма размаха PS4')\n",
    "plt.xlim(0, 2)"
   ]
  },
  {
   "cell_type": "markdown",
   "metadata": {},
   "source": [
    "Среднее значение - 0.8, медиана - 0.2 - это значит, что выбросы (значения выше 1.75) влияют на показатель среднего."
   ]
  },
  {
   "cell_type": "code",
   "execution_count": 25,
   "metadata": {},
   "outputs": [
    {
     "name": "stdout",
     "output_type": "stream",
     "text": [
      "count    247.000000\n",
      "mean       0.645020\n",
      "std        1.036139\n",
      "min        0.010000\n",
      "25%        0.060000\n",
      "50%        0.220000\n",
      "75%        0.685000\n",
      "max        7.390000\n",
      "Name: sales, dtype: float64\n"
     ]
    },
    {
     "data": {
      "text/plain": [
       "(0.0, 2.0)"
      ]
     },
     "execution_count": 25,
     "metadata": {},
     "output_type": "execute_result"
    },
    {
     "data": {
      "image/png": "[encoded data removed]",
      "text/plain": [
       "<Figure size 1080x360 with 1 Axes>"
      ]
     },
     "metadata": {
      "needs_background": "light"
     },
     "output_type": "display_data"
    }
   ],
   "source": [
    "games_norm_2004_xone = games_norm_2004.query('platform == \"XOne\"')\n",
    "print(games_norm_2004_xone['sales'].describe())\n",
    "games_norm_2004_xone.boxplot(column='sales', figsize=(15, 5), vert=False)\n",
    "plt.title('Диаграмма размаха XOne')\n",
    "plt.xlim(0, 2)"
   ]
  },
  {
   "cell_type": "markdown",
   "metadata": {},
   "source": [
    "Показатели аналогичны показателям предыдущего графика. Выбросы (значения выше 1.6) влияют на показатель среднего"
   ]
  },
  {
   "cell_type": "code",
   "execution_count": 26,
   "metadata": {},
   "outputs": [
    {
     "name": "stdout",
     "output_type": "stream",
     "text": [
      "count    512.000000\n",
      "mean       0.503535\n",
      "std        1.441271\n",
      "min        0.010000\n",
      "25%        0.050000\n",
      "50%        0.120000\n",
      "75%        0.332500\n",
      "max       14.600000\n",
      "Name: sales, dtype: float64\n"
     ]
    },
    {
     "data": {
      "text/plain": [
       "(0.0, 1.0)"
      ]
     },
     "execution_count": 26,
     "metadata": {},
     "output_type": "execute_result"
    },
    {
     "data": {
      "image/png": "[encoded data removed]",
      "text/plain": [
       "<Figure size 1080x360 with 1 Axes>"
      ]
     },
     "metadata": {
      "needs_background": "light"
     },
     "output_type": "display_data"
    }
   ],
   "source": [
    "games_norm_2004_3ds = games_norm_2004.query('platform == \"3DS\"')\n",
    "print(games_norm_2004_3ds['sales'].describe())\n",
    "games_norm_2004_3ds.boxplot(column='sales', figsize=(15, 5), vert=False)\n",
    "plt.title('Диаграмма размаха 3DS')\n",
    "plt.xlim(0, 1)"
   ]
  },
  {
   "cell_type": "markdown",
   "metadata": {},
   "source": [
    "Выбросы - значения больше 0.7"
   ]
  },
  {
   "cell_type": "code",
   "execution_count": 27,
   "metadata": {},
   "outputs": [
    {
     "name": "stdout",
     "output_type": "stream",
     "text": [
      "count    843.000000\n",
      "mean       0.211364\n",
      "std        0.570698\n",
      "min        0.010000\n",
      "25%        0.020000\n",
      "50%        0.050000\n",
      "75%        0.160000\n",
      "max        8.010000\n",
      "Name: sales, dtype: float64\n"
     ]
    },
    {
     "data": {
      "text/plain": [
       "(0.0, 0.5)"
      ]
     },
     "execution_count": 27,
     "metadata": {},
     "output_type": "execute_result"
    },
    {
     "data": {
      "image/png": "[encoded data removed]",
      "text/plain": [
       "<Figure size 1080x360 with 1 Axes>"
      ]
     },
     "metadata": {
      "needs_background": "light"
     },
     "output_type": "display_data"
    }
   ],
   "source": [
    "games_norm_2004_pc = games_norm_2004.query('platform == \"PC\"')\n",
    "print(games_norm_2004_pc['sales'].describe())\n",
    "games_norm_2004_pc.boxplot(column='sales', figsize=(15, 5), vert=False)\n",
    "plt.title('Диаграмма размаха PC')\n",
    "plt.xlim(0, 0.5)"
   ]
  },
  {
   "cell_type": "markdown",
   "metadata": {},
   "source": [
    "Выбросы - значения больше 0.4"
   ]
  },
  {
   "cell_type": "markdown",
   "metadata": {},
   "source": [
    "Посмотрим на корреляцию между отзывами и продажами на примере платформы - PS4"
   ]
  },
  {
   "cell_type": "code",
   "execution_count": 28,
   "metadata": {},
   "outputs": [
    {
     "name": "stdout",
     "output_type": "stream",
     "text": [
      "                 sales  critic_score  user_score\n",
      "sales         1.000000      0.406568   -0.031957\n",
      "critic_score  0.406568      1.000000    0.557654\n",
      "user_score   -0.031957      0.557654    1.000000\n"
     ]
    },
    {
     "data": {
      "text/plain": [
       "Text(0.5, 0.98, 'График рассеивания PS4')"
      ]
     },
     "execution_count": 28,
     "metadata": {},
     "output_type": "execute_result"
    },
    {
     "data": {
      "image/png": "[encoded data removed]",
      "text/plain": [
       "<Figure size 540x540 with 12 Axes>"
      ]
     },
     "metadata": {
      "needs_background": "light"
     },
     "output_type": "display_data"
    }
   ],
   "source": [
    "print(games_norm_2004_ps4[['sales', 'critic_score', 'user_score']].corr())\n",
    "sns.pairplot(games_norm_2004_ps4[['sales', 'critic_score', 'user_score']].query('sales < 2'))\n",
    "plt.suptitle('График рассеивания PS4')"
   ]
  },
  {
   "cell_type": "markdown",
   "metadata": {},
   "source": [
    "Есть зависимость между отзывами критиков и продажами - почти 0.3. Корреляция между оценкой пользователей и продажами отсутствует.\n",
    "На графиках - без учета выбросов - корреляция между продажами и отзывами как критиков, так и пользователей есть, но не слишком высокая."
   ]
  },
  {
   "cell_type": "markdown",
   "metadata": {},
   "source": [
    "Посмотрим на корреляцию между отзывами и продажами на примере платформы - XOne"
   ]
  },
  {
   "cell_type": "code",
   "execution_count": 29,
   "metadata": {},
   "outputs": [
    {
     "name": "stdout",
     "output_type": "stream",
     "text": [
      "                 sales  critic_score  user_score\n",
      "sales         1.000000      0.416998   -0.068925\n",
      "critic_score  0.416998      1.000000    0.472462\n",
      "user_score   -0.068925      0.472462    1.000000\n"
     ]
    },
    {
     "data": {
      "text/plain": [
       "Text(0.5, 0.98, 'График рассеивания XOne')"
      ]
     },
     "execution_count": 29,
     "metadata": {},
     "output_type": "execute_result"
    },
    {
     "data": {
      "image/png": "[encoded data removed]",
      "text/plain": [
       "<Figure size 540x540 with 12 Axes>"
      ]
     },
     "metadata": {
      "needs_background": "light"
     },
     "output_type": "display_data"
    }
   ],
   "source": [
    "print(games_norm_2004_xone[['sales', 'critic_score', 'user_score']].corr())\n",
    "sns.pairplot(games_norm_2004_xone[['sales', 'critic_score', 'user_score']].query('sales < 2'))\n",
    "plt.suptitle('График рассеивания XOne')"
   ]
  },
  {
   "cell_type": "markdown",
   "metadata": {},
   "source": [
    "Корреляция между отзывами критиков и продажами - 0.4, выше чем по предыдущей платформе. Оценки пользователей также не влияют на продажи.\n",
    "Посмотрим на корреляцию между отзывами и продажами на примере платформы 3DS"
   ]
  },
  {
   "cell_type": "code",
   "execution_count": 30,
   "metadata": {},
   "outputs": [
    {
     "name": "stdout",
     "output_type": "stream",
     "text": [
      "                 sales  critic_score  user_score\n",
      "sales         1.000000      0.348740    0.222078\n",
      "critic_score  0.348740      1.000000    0.745222\n",
      "user_score    0.222078      0.745222    1.000000\n"
     ]
    },
    {
     "data": {
      "text/plain": [
       "Text(0.5, 0.98, 'График рассеивания 3DS')"
      ]
     },
     "execution_count": 30,
     "metadata": {},
     "output_type": "execute_result"
    },
    {
     "data": {
      "image/png": "[encoded data removed]",
      "text/plain": [
       "<Figure size 540x540 with 12 Axes>"
      ]
     },
     "metadata": {
      "needs_background": "light"
     },
     "output_type": "display_data"
    }
   ],
   "source": [
    "print(games_norm_2004_3ds[['sales', 'critic_score', 'user_score']].corr())\n",
    "sns.pairplot(games_norm_2004_3ds[['sales', 'critic_score', 'user_score']].query('sales < 1'))\n",
    "plt.suptitle('График рассеивания 3DS')"
   ]
  },
  {
   "cell_type": "raw",
   "metadata": {},
   "source": [
    "Корреляция оценок критиков и продаж как и корреляция оценок пользователей и продаж незначительна. Графики _без учета выбросов - показывают аналогичную информацию.\n",
    "Посмотрим на корреляцию платформ PC."
   ]
  },
  {
   "cell_type": "code",
   "execution_count": 31,
   "metadata": {},
   "outputs": [
    {
     "name": "stdout",
     "output_type": "stream",
     "text": [
      "                 sales  critic_score  user_score\n",
      "sales         1.000000      0.275124   -0.020402\n",
      "critic_score  0.275124      1.000000    0.530679\n",
      "user_score   -0.020402      0.530679    1.000000\n"
     ]
    },
    {
     "data": {
      "image/png": "[encoded data removed]",
      "text/plain": [
       "<Figure size 540x540 with 12 Axes>"
      ]
     },
     "metadata": {
      "needs_background": "light"
     },
     "output_type": "display_data"
    }
   ],
   "source": [
    "print(games_norm_2004_pc[['sales', 'critic_score', 'user_score']].corr())\n",
    "sns.pairplot(games_norm_2004_pc[['sales', 'critic_score', 'user_score']].query('sales < 0.4'))\n",
    "plt.suptitle('График рассеивания PC')\n",
    "plt.show()"
   ]
  },
  {
   "cell_type": "markdown",
   "metadata": {},
   "source": [
    "Корреляция аналогична примерам выше.\n",
    "Таким образом, можно предположить, что отзывы критиков влияют на продажи, но не сильно. Отзывы пользователей чаще всего никак не влияют на продажи."
   ]
  },
  {
   "cell_type": "markdown",
   "metadata": {},
   "source": [
    "Посмотрим, как выглядят продажи по жанрам игр"
   ]
  },
  {
   "cell_type": "code",
   "execution_count": 32,
   "metadata": {},
   "outputs": [
    {
     "data": {
      "text/html": [
       "<div>\n",
       "<style scoped>\n",
       "    .dataframe tbody tr th:only-of-type {\n",
       "        vertical-align: middle;\n",
       "    }\n",
       "\n",
       "    .dataframe tbody tr th {\n",
       "        vertical-align: top;\n",
       "    }\n",
       "\n",
       "    .dataframe thead th {\n",
       "        text-align: right;\n",
       "    }\n",
       "</style>\n",
       "<table border=\"1\" class=\"dataframe\">\n",
       "  <thead>\n",
       "    <tr style=\"text-align: right;\">\n",
       "      <th></th>\n",
       "      <th>sales</th>\n",
       "    </tr>\n",
       "    <tr>\n",
       "      <th>genre</th>\n",
       "      <th></th>\n",
       "    </tr>\n",
       "  </thead>\n",
       "  <tbody>\n",
       "    <tr>\n",
       "      <th>Shooter</th>\n",
       "      <td>0.26</td>\n",
       "    </tr>\n",
       "    <tr>\n",
       "      <th>Platform</th>\n",
       "      <td>0.21</td>\n",
       "    </tr>\n",
       "    <tr>\n",
       "      <th>Sports</th>\n",
       "      <td>0.21</td>\n",
       "    </tr>\n",
       "    <tr>\n",
       "      <th>Action</th>\n",
       "      <td>0.17</td>\n",
       "    </tr>\n",
       "    <tr>\n",
       "      <th>Fighting</th>\n",
       "      <td>0.17</td>\n",
       "    </tr>\n",
       "    <tr>\n",
       "      <th>Racing</th>\n",
       "      <td>0.17</td>\n",
       "    </tr>\n",
       "    <tr>\n",
       "      <th>Role-Playing</th>\n",
       "      <td>0.15</td>\n",
       "    </tr>\n",
       "    <tr>\n",
       "      <th>Misc</th>\n",
       "      <td>0.14</td>\n",
       "    </tr>\n",
       "    <tr>\n",
       "      <th>Simulation</th>\n",
       "      <td>0.13</td>\n",
       "    </tr>\n",
       "    <tr>\n",
       "      <th>Puzzle</th>\n",
       "      <td>0.09</td>\n",
       "    </tr>\n",
       "    <tr>\n",
       "      <th>Strategy</th>\n",
       "      <td>0.08</td>\n",
       "    </tr>\n",
       "    <tr>\n",
       "      <th>Adventure</th>\n",
       "      <td>0.04</td>\n",
       "    </tr>\n",
       "  </tbody>\n",
       "</table>\n",
       "</div>"
      ],
      "text/plain": [
       "              sales\n",
       "genre              \n",
       "Shooter        0.26\n",
       "Platform       0.21\n",
       "Sports         0.21\n",
       "Action         0.17\n",
       "Fighting       0.17\n",
       "Racing         0.17\n",
       "Role-Playing   0.15\n",
       "Misc           0.14\n",
       "Simulation     0.13\n",
       "Puzzle         0.09\n",
       "Strategy       0.08\n",
       "Adventure      0.04"
      ]
     },
     "execution_count": 32,
     "metadata": {},
     "output_type": "execute_result"
    }
   ],
   "source": [
    "games_norm_2004_genre_sum = games_norm_2004\\\n",
    ".pivot_table(index='genre', values='sales', aggfunc='median')\\\n",
    ".sort_values(by='sales', ascending=False)\n",
    "games_norm_2004_genre_sum"
   ]
  },
  {
   "cell_type": "markdown",
   "metadata": {},
   "source": [
    "Игры с высокими продажами - это жанры - Shuter, Platform and Sports. Игры с самыми низкими продажами - это Adventure, Puzzle, Strategy"
   ]
  },
  {
   "cell_type": "code",
   "execution_count": 33,
   "metadata": {},
   "outputs": [
    {
     "data": {
      "text/html": [
       "<div>\n",
       "<style scoped>\n",
       "    .dataframe tbody tr th:only-of-type {\n",
       "        vertical-align: middle;\n",
       "    }\n",
       "\n",
       "    .dataframe tbody tr th {\n",
       "        vertical-align: top;\n",
       "    }\n",
       "\n",
       "    .dataframe thead th {\n",
       "        text-align: right;\n",
       "    }\n",
       "</style>\n",
       "<table border=\"1\" class=\"dataframe\">\n",
       "  <thead>\n",
       "    <tr style=\"text-align: right;\">\n",
       "      <th></th>\n",
       "      <th>sales</th>\n",
       "    </tr>\n",
       "    <tr>\n",
       "      <th>genre</th>\n",
       "      <th></th>\n",
       "    </tr>\n",
       "  </thead>\n",
       "  <tbody>\n",
       "    <tr>\n",
       "      <th>Action</th>\n",
       "      <td>2699</td>\n",
       "    </tr>\n",
       "    <tr>\n",
       "      <th>Sports</th>\n",
       "      <td>1489</td>\n",
       "    </tr>\n",
       "    <tr>\n",
       "      <th>Misc</th>\n",
       "      <td>1453</td>\n",
       "    </tr>\n",
       "    <tr>\n",
       "      <th>Role-Playing</th>\n",
       "      <td>1127</td>\n",
       "    </tr>\n",
       "    <tr>\n",
       "      <th>Adventure</th>\n",
       "      <td>1103</td>\n",
       "    </tr>\n",
       "    <tr>\n",
       "      <th>Shooter</th>\n",
       "      <td>921</td>\n",
       "    </tr>\n",
       "    <tr>\n",
       "      <th>Racing</th>\n",
       "      <td>709</td>\n",
       "    </tr>\n",
       "    <tr>\n",
       "      <th>Simulation</th>\n",
       "      <td>671</td>\n",
       "    </tr>\n",
       "    <tr>\n",
       "      <th>Fighting</th>\n",
       "      <td>495</td>\n",
       "    </tr>\n",
       "    <tr>\n",
       "      <th>Platform</th>\n",
       "      <td>489</td>\n",
       "    </tr>\n",
       "    <tr>\n",
       "      <th>Strategy</th>\n",
       "      <td>454</td>\n",
       "    </tr>\n",
       "    <tr>\n",
       "      <th>Puzzle</th>\n",
       "      <td>424</td>\n",
       "    </tr>\n",
       "  </tbody>\n",
       "</table>\n",
       "</div>"
      ],
      "text/plain": [
       "              sales\n",
       "genre              \n",
       "Action         2699\n",
       "Sports         1489\n",
       "Misc           1453\n",
       "Role-Playing   1127\n",
       "Adventure      1103\n",
       "Shooter         921\n",
       "Racing          709\n",
       "Simulation      671\n",
       "Fighting        495\n",
       "Platform        489\n",
       "Strategy        454\n",
       "Puzzle          424"
      ]
     },
     "execution_count": 33,
     "metadata": {},
     "output_type": "execute_result"
    }
   ],
   "source": [
    "games_norm_2004_genre_count = games_norm_2004\\\n",
    ".pivot_table(index='genre', values='sales', aggfunc='count')\\\n",
    ".sort_values(by='sales', ascending=False)\n",
    "games_norm_2004_genre_count"
   ]
  },
  {
   "cell_type": "markdown",
   "metadata": {},
   "source": [
    "Эти данные показывают, что больше всего выпускают игр Action. Игры жанра Adventure можно назвать самыми непопулярными - выпускают игр много, продажи не высокие."
   ]
  },
  {
   "cell_type": "markdown",
   "metadata": {},
   "source": [
    "**Составим портрет пользователя каждого региона**"
   ]
  },
  {
   "cell_type": "markdown",
   "metadata": {},
   "source": [
    "NA"
   ]
  },
  {
   "cell_type": "markdown",
   "metadata": {},
   "source": [
    "Возьмем данные за 2015 и 2016 год"
   ]
  },
  {
   "cell_type": "code",
   "execution_count": 34,
   "metadata": {},
   "outputs": [],
   "source": [
    "games_norm_2015 = games_norm.query('year_of_release > 2014')"
   ]
  },
  {
   "cell_type": "markdown",
   "metadata": {},
   "source": [
    "Определим 5 наиболее популярных платформ и жанров в Северной Америке"
   ]
  },
  {
   "cell_type": "code",
   "execution_count": 35,
   "metadata": {},
   "outputs": [
    {
     "data": {
      "text/html": [
       "<div>\n",
       "<style scoped>\n",
       "    .dataframe tbody tr th:only-of-type {\n",
       "        vertical-align: middle;\n",
       "    }\n",
       "\n",
       "    .dataframe tbody tr th {\n",
       "        vertical-align: top;\n",
       "    }\n",
       "\n",
       "    .dataframe thead th {\n",
       "        text-align: right;\n",
       "    }\n",
       "</style>\n",
       "<table border=\"1\" class=\"dataframe\">\n",
       "  <thead>\n",
       "    <tr style=\"text-align: right;\">\n",
       "      <th></th>\n",
       "      <th>na_sales</th>\n",
       "    </tr>\n",
       "    <tr>\n",
       "      <th>platform</th>\n",
       "      <th></th>\n",
       "    </tr>\n",
       "  </thead>\n",
       "  <tbody>\n",
       "    <tr>\n",
       "      <th>PS4</th>\n",
       "      <td>63.86</td>\n",
       "    </tr>\n",
       "    <tr>\n",
       "      <th>XOne</th>\n",
       "      <td>50.30</td>\n",
       "    </tr>\n",
       "    <tr>\n",
       "      <th>3DS</th>\n",
       "      <td>10.31</td>\n",
       "    </tr>\n",
       "    <tr>\n",
       "      <th>WiiU</th>\n",
       "      <td>8.86</td>\n",
       "    </tr>\n",
       "    <tr>\n",
       "      <th>X360</th>\n",
       "      <td>8.05</td>\n",
       "    </tr>\n",
       "  </tbody>\n",
       "</table>\n",
       "</div>"
      ],
      "text/plain": [
       "          na_sales\n",
       "platform          \n",
       "PS4          63.86\n",
       "XOne         50.30\n",
       "3DS          10.31\n",
       "WiiU          8.86\n",
       "X360          8.05"
      ]
     },
     "execution_count": 35,
     "metadata": {},
     "output_type": "execute_result"
    }
   ],
   "source": [
    "games_norm_2015.pivot_table(index='platform', values='na_sales', aggfunc='sum')\\\n",
    "    .sort_values(by='na_sales', ascending=False)\\\n",
    "    .head()"
   ]
  },
  {
   "cell_type": "code",
   "execution_count": 36,
   "metadata": {},
   "outputs": [
    {
     "data": {
      "text/plain": [
       "<AxesSubplot:title={'center':'Популяpные жанры в Северной Америке'}, xlabel='genre'>"
      ]
     },
     "execution_count": 36,
     "metadata": {},
     "output_type": "execute_result"
    },
    {
     "data": {
      "image/png": "[encoded data removed]",
      "text/plain": [
       "<Figure size 432x288 with 1 Axes>"
      ]
     },
     "metadata": {
      "needs_background": "light"
     },
     "output_type": "display_data"
    }
   ],
   "source": [
    "games_norm_2015.pivot_table(index='genre', values='na_sales', aggfunc='median')\\\n",
    "    .sort_values(by='na_sales', ascending=False)\\\n",
    "    .plot(title=('Популяpные жанры в Северной Америке'))"
   ]
  },
  {
   "cell_type": "code",
   "execution_count": 37,
   "metadata": {},
   "outputs": [
    {
     "data": {
      "text/html": [
       "<div>\n",
       "<style scoped>\n",
       "    .dataframe tbody tr th:only-of-type {\n",
       "        vertical-align: middle;\n",
       "    }\n",
       "\n",
       "    .dataframe tbody tr th {\n",
       "        vertical-align: top;\n",
       "    }\n",
       "\n",
       "    .dataframe thead th {\n",
       "        text-align: right;\n",
       "    }\n",
       "</style>\n",
       "<table border=\"1\" class=\"dataframe\">\n",
       "  <thead>\n",
       "    <tr style=\"text-align: right;\">\n",
       "      <th></th>\n",
       "      <th>na_sales</th>\n",
       "    </tr>\n",
       "    <tr>\n",
       "      <th>rating</th>\n",
       "      <th></th>\n",
       "    </tr>\n",
       "  </thead>\n",
       "  <tbody>\n",
       "    <tr>\n",
       "      <th>M</th>\n",
       "      <td>0.08</td>\n",
       "    </tr>\n",
       "    <tr>\n",
       "      <th>E10+</th>\n",
       "      <td>0.05</td>\n",
       "    </tr>\n",
       "    <tr>\n",
       "      <th>E</th>\n",
       "      <td>0.03</td>\n",
       "    </tr>\n",
       "    <tr>\n",
       "      <th>T</th>\n",
       "      <td>0.03</td>\n",
       "    </tr>\n",
       "  </tbody>\n",
       "</table>\n",
       "</div>"
      ],
      "text/plain": [
       "        na_sales\n",
       "rating          \n",
       "M           0.08\n",
       "E10+        0.05\n",
       "E           0.03\n",
       "T           0.03"
      ]
     },
     "execution_count": 37,
     "metadata": {},
     "output_type": "execute_result"
    }
   ],
   "source": [
    "games_norm_2015.pivot_table(index='rating', values='na_sales', aggfunc='median')\\\n",
    "    .sort_values(by='na_sales', ascending=False)"
   ]
  },
  {
   "cell_type": "markdown",
   "metadata": {},
   "source": [
    "EU"
   ]
  },
  {
   "cell_type": "markdown",
   "metadata": {},
   "source": [
    "Определим 5 наиболее популярных платформ и жанров в Europe"
   ]
  },
  {
   "cell_type": "code",
   "execution_count": 38,
   "metadata": {},
   "outputs": [
    {
     "data": {
      "text/html": [
       "<div>\n",
       "<style scoped>\n",
       "    .dataframe tbody tr th:only-of-type {\n",
       "        vertical-align: middle;\n",
       "    }\n",
       "\n",
       "    .dataframe tbody tr th {\n",
       "        vertical-align: top;\n",
       "    }\n",
       "\n",
       "    .dataframe thead th {\n",
       "        text-align: right;\n",
       "    }\n",
       "</style>\n",
       "<table border=\"1\" class=\"dataframe\">\n",
       "  <thead>\n",
       "    <tr style=\"text-align: right;\">\n",
       "      <th></th>\n",
       "      <th>eu_sales</th>\n",
       "    </tr>\n",
       "    <tr>\n",
       "      <th>platform</th>\n",
       "      <th></th>\n",
       "    </tr>\n",
       "  </thead>\n",
       "  <tbody>\n",
       "    <tr>\n",
       "      <th>PS4</th>\n",
       "      <td>83.54</td>\n",
       "    </tr>\n",
       "    <tr>\n",
       "      <th>XOne</th>\n",
       "      <td>28.10</td>\n",
       "    </tr>\n",
       "    <tr>\n",
       "      <th>PC</th>\n",
       "      <td>9.10</td>\n",
       "    </tr>\n",
       "    <tr>\n",
       "      <th>3DS</th>\n",
       "      <td>7.39</td>\n",
       "    </tr>\n",
       "    <tr>\n",
       "      <th>PS3</th>\n",
       "      <td>7.30</td>\n",
       "    </tr>\n",
       "  </tbody>\n",
       "</table>\n",
       "</div>"
      ],
      "text/plain": [
       "          eu_sales\n",
       "platform          \n",
       "PS4          83.54\n",
       "XOne         28.10\n",
       "PC            9.10\n",
       "3DS           7.39\n",
       "PS3           7.30"
      ]
     },
     "execution_count": 38,
     "metadata": {},
     "output_type": "execute_result"
    }
   ],
   "source": [
    "games_norm_2015.pivot_table(index='platform', values='eu_sales', aggfunc='sum')\\\n",
    "    .sort_values(by='eu_sales', ascending=False)\\\n",
    "    .head()"
   ]
  },
  {
   "cell_type": "code",
   "execution_count": 39,
   "metadata": {
    "scrolled": true
   },
   "outputs": [
    {
     "data": {
      "text/plain": [
       "<AxesSubplot:title={'center':'Популяpные жанры в Европе'}, xlabel='genre'>"
      ]
     },
     "execution_count": 39,
     "metadata": {},
     "output_type": "execute_result"
    },
    {
     "data": {
      "image/png": "[encoded data removed]",
      "text/plain": [
       "<Figure size 432x288 with 1 Axes>"
      ]
     },
     "metadata": {
      "needs_background": "light"
     },
     "output_type": "display_data"
    }
   ],
   "source": [
    "games_norm_2015.pivot_table(index='genre', values='eu_sales', aggfunc='median')\\\n",
    "    .sort_values(by='eu_sales', ascending=False)\\\n",
    "    .plot(title=('Популяpные жанры в Европе'))"
   ]
  },
  {
   "cell_type": "code",
   "execution_count": 40,
   "metadata": {},
   "outputs": [
    {
     "data": {
      "text/html": [
       "<div>\n",
       "<style scoped>\n",
       "    .dataframe tbody tr th:only-of-type {\n",
       "        vertical-align: middle;\n",
       "    }\n",
       "\n",
       "    .dataframe tbody tr th {\n",
       "        vertical-align: top;\n",
       "    }\n",
       "\n",
       "    .dataframe thead th {\n",
       "        text-align: right;\n",
       "    }\n",
       "</style>\n",
       "<table border=\"1\" class=\"dataframe\">\n",
       "  <thead>\n",
       "    <tr style=\"text-align: right;\">\n",
       "      <th></th>\n",
       "      <th>eu_sales</th>\n",
       "    </tr>\n",
       "    <tr>\n",
       "      <th>rating</th>\n",
       "      <th></th>\n",
       "    </tr>\n",
       "  </thead>\n",
       "  <tbody>\n",
       "    <tr>\n",
       "      <th>M</th>\n",
       "      <td>0.080</td>\n",
       "    </tr>\n",
       "    <tr>\n",
       "      <th>E10+</th>\n",
       "      <td>0.060</td>\n",
       "    </tr>\n",
       "    <tr>\n",
       "      <th>E</th>\n",
       "      <td>0.040</td>\n",
       "    </tr>\n",
       "    <tr>\n",
       "      <th>T</th>\n",
       "      <td>0.035</td>\n",
       "    </tr>\n",
       "  </tbody>\n",
       "</table>\n",
       "</div>"
      ],
      "text/plain": [
       "        eu_sales\n",
       "rating          \n",
       "M          0.080\n",
       "E10+       0.060\n",
       "E          0.040\n",
       "T          0.035"
      ]
     },
     "execution_count": 40,
     "metadata": {},
     "output_type": "execute_result"
    }
   ],
   "source": [
    "games_norm_2015.pivot_table(index='rating', values='eu_sales', aggfunc='median')\\\n",
    "    .sort_values(by='eu_sales', ascending=False)"
   ]
  },
  {
   "cell_type": "markdown",
   "metadata": {},
   "source": [
    "JP"
   ]
  },
  {
   "cell_type": "markdown",
   "metadata": {},
   "source": [
    "Определим 5 наиболее популярных платформ и жанров в Japan"
   ]
  },
  {
   "cell_type": "code",
   "execution_count": 41,
   "metadata": {},
   "outputs": [
    {
     "data": {
      "text/html": [
       "<div>\n",
       "<style scoped>\n",
       "    .dataframe tbody tr th:only-of-type {\n",
       "        vertical-align: middle;\n",
       "    }\n",
       "\n",
       "    .dataframe tbody tr th {\n",
       "        vertical-align: top;\n",
       "    }\n",
       "\n",
       "    .dataframe thead th {\n",
       "        text-align: right;\n",
       "    }\n",
       "</style>\n",
       "<table border=\"1\" class=\"dataframe\">\n",
       "  <thead>\n",
       "    <tr style=\"text-align: right;\">\n",
       "      <th></th>\n",
       "      <th>jp_sales</th>\n",
       "    </tr>\n",
       "    <tr>\n",
       "      <th>platform</th>\n",
       "      <th></th>\n",
       "    </tr>\n",
       "  </thead>\n",
       "  <tbody>\n",
       "    <tr>\n",
       "      <th>3DS</th>\n",
       "      <td>23.55</td>\n",
       "    </tr>\n",
       "    <tr>\n",
       "      <th>PS4</th>\n",
       "      <td>12.05</td>\n",
       "    </tr>\n",
       "    <tr>\n",
       "      <th>PSV</th>\n",
       "      <td>8.41</td>\n",
       "    </tr>\n",
       "    <tr>\n",
       "      <th>PS3</th>\n",
       "      <td>4.97</td>\n",
       "    </tr>\n",
       "    <tr>\n",
       "      <th>WiiU</th>\n",
       "      <td>4.12</td>\n",
       "    </tr>\n",
       "  </tbody>\n",
       "</table>\n",
       "</div>"
      ],
      "text/plain": [
       "          jp_sales\n",
       "platform          \n",
       "3DS          23.55\n",
       "PS4          12.05\n",
       "PSV           8.41\n",
       "PS3           4.97\n",
       "WiiU          4.12"
      ]
     },
     "execution_count": 41,
     "metadata": {},
     "output_type": "execute_result"
    }
   ],
   "source": [
    "games_norm_2015.pivot_table(index='platform', values='jp_sales', aggfunc='sum')\\\n",
    "    .sort_values(by='jp_sales', ascending=False)\\\n",
    "    .head()"
   ]
  },
  {
   "cell_type": "code",
   "execution_count": 42,
   "metadata": {},
   "outputs": [
    {
     "data": {
      "text/plain": [
       "<AxesSubplot:title={'center':'Популяpные жанры в Японии'}, xlabel='genre'>"
      ]
     },
     "execution_count": 42,
     "metadata": {},
     "output_type": "execute_result"
    },
    {
     "data": {
      "image/png": "[encoded data removed]",
      "text/plain": [
       "<Figure size 432x288 with 1 Axes>"
      ]
     },
     "metadata": {
      "needs_background": "light"
     },
     "output_type": "display_data"
    }
   ],
   "source": [
    "games_norm_2015.pivot_table(index='genre', values='jp_sales', aggfunc='median')\\\n",
    "    .sort_values(by='jp_sales', ascending=False)\\\n",
    "    .plot(title=('Популяpные жанры в Японии'))"
   ]
  },
  {
   "cell_type": "code",
   "execution_count": 43,
   "metadata": {},
   "outputs": [
    {
     "data": {
      "text/html": [
       "<div>\n",
       "<style scoped>\n",
       "    .dataframe tbody tr th:only-of-type {\n",
       "        vertical-align: middle;\n",
       "    }\n",
       "\n",
       "    .dataframe tbody tr th {\n",
       "        vertical-align: top;\n",
       "    }\n",
       "\n",
       "    .dataframe thead th {\n",
       "        text-align: right;\n",
       "    }\n",
       "</style>\n",
       "<table border=\"1\" class=\"dataframe\">\n",
       "  <thead>\n",
       "    <tr style=\"text-align: right;\">\n",
       "      <th></th>\n",
       "      <th>jp_sales</th>\n",
       "    </tr>\n",
       "    <tr>\n",
       "      <th>rating</th>\n",
       "      <th></th>\n",
       "    </tr>\n",
       "  </thead>\n",
       "  <tbody>\n",
       "    <tr>\n",
       "      <th>E</th>\n",
       "      <td>0.0</td>\n",
       "    </tr>\n",
       "    <tr>\n",
       "      <th>E10+</th>\n",
       "      <td>0.0</td>\n",
       "    </tr>\n",
       "    <tr>\n",
       "      <th>M</th>\n",
       "      <td>0.0</td>\n",
       "    </tr>\n",
       "    <tr>\n",
       "      <th>T</th>\n",
       "      <td>0.0</td>\n",
       "    </tr>\n",
       "  </tbody>\n",
       "</table>\n",
       "</div>"
      ],
      "text/plain": [
       "        jp_sales\n",
       "rating          \n",
       "E            0.0\n",
       "E10+         0.0\n",
       "M            0.0\n",
       "T            0.0"
      ]
     },
     "execution_count": 43,
     "metadata": {},
     "output_type": "execute_result"
    }
   ],
   "source": [
    "games_norm_2015.pivot_table(index='rating', values='jp_sales', aggfunc='median')\\\n",
    "    .sort_values(by='jp_sales', ascending=False)"
   ]
  },
  {
   "cell_type": "markdown",
   "metadata": {},
   "source": [
    "Таким образом, во всех трех регионах можно выделить свои особенности:\n",
    "    1) в Северной Америке и Европе жанровые предпочтения похожи. Самый популярный жанр - Shuter. В Японии самым востребованным жанром является - Role-Playing. Следующий жанр - Misc.\n",
    "    2) Самой предпочитаемой платформой в трех регионах являются - PS4, 3DS. В Европе и Америке еще популярна XOne.\n",
    "    3) рейтинг также влияет на продажи. Е, Т, М и Е10+ - самый востребованный рейтинг.\n",
    "    "
   ]
  },
  {
   "cell_type": "markdown",
   "metadata": {},
   "source": [
    "**Проверим гипотезы**"
   ]
  },
  {
   "cell_type": "markdown",
   "metadata": {},
   "source": [
    "Подготовим таблицу для проверки гипотез. Исключим пропуски из столбца 'user_score'. Данные возьмем за два предыдущих года - 2015 и 2016."
   ]
  },
  {
   "cell_type": "code",
   "execution_count": 44,
   "metadata": {
    "scrolled": true
   },
   "outputs": [],
   "source": [
    "games_norm_1 = games_norm_2015.dropna(subset=['user_score'])"
   ]
  },
  {
   "cell_type": "markdown",
   "metadata": {},
   "source": [
    "1.Средние пользовательские рейтинги платформ Xbox One и PC одинаковые.\n",
    "Нулевая гипотеза - Средние пользовательские рейтинги платформ Xbox One и PC равны между собой."
   ]
  },
  {
   "cell_type": "markdown",
   "metadata": {},
   "source": [
    "Нулевая гипотеза - Средние пользовательские рейтинги платформ Xbox One и PC равны между собой.\n",
    "Альтернативная гипотеза - Средние пользовательские рейтинги платформ Xbox One и PC не равны между собой."
   ]
  },
  {
   "cell_type": "code",
   "execution_count": 45,
   "metadata": {},
   "outputs": [
    {
     "name": "stdout",
     "output_type": "stream",
     "text": [
      "р-значение: 0.2946308864003345\n",
      "Не получилось отвергнуть нулевую гипотезу\n"
     ]
    }
   ],
   "source": [
    "from scipy import stats as st\n",
    "games_xone = games_norm_1.query('platform == \"XOne\"')\n",
    "games_pc = games_norm_1.query('platform == \"PC\" ')\n",
    "alpha = 0.05\n",
    "results = st.ttest_ind(games_xone['user_score'], games_pc['user_score'], equal_var = False)\n",
    "print('р-значение:', results.pvalue)\n",
    "if results.pvalue < alpha:\n",
    "    print('Отвергаем нулевую гипотезу')\n",
    "else:\n",
    "    print('Не получилось отвергнуть нулевую гипотезу')"
   ]
  },
  {
   "cell_type": "markdown",
   "metadata": {},
   "source": [
    "Попробуем проверить и выведем среднее значение пользовательского рейтинга по этим двум платформам"
   ]
  },
  {
   "cell_type": "code",
   "execution_count": 46,
   "metadata": {},
   "outputs": [
    {
     "name": "stdout",
     "output_type": "stream",
     "text": [
      "Средний пользовательский рейтинг XOne 6.542148760330578\n",
      "Средний пользовательский рейтинг PC 6.29642857142857\n"
     ]
    }
   ],
   "source": [
    "print('Средний пользовательский рейтинг XOne', games_norm_1[games_norm_1['platform'] == \"XOne\"]['user_score'].mean())\n",
    "print('Средний пользовательский рейтинг PC', games_norm_1[games_norm_1['platform'] == \"PC\"]['user_score'].mean())"
   ]
  },
  {
   "cell_type": "markdown",
   "metadata": {},
   "source": [
    "Вывод: Средние пользовательские рейтинги платформ Xbox One и PC одинаковые."
   ]
  },
  {
   "cell_type": "markdown",
   "metadata": {},
   "source": [
    "2. Средние пользовательские рейтинги жанров Action и Sports разные\n",
    "Нулевая гипотеза - Средние пользовательские рейтинги жанров Action и Sports равны между собой"
   ]
  },
  {
   "cell_type": "markdown",
   "metadata": {},
   "source": [
    "Нулевая гипотеза - Средние пользовательские рейтинги жанров Action и Sports равны между собой\n",
    "Альтернативная гипотеза - Средние пользовательские рейтинги жанров Action и Sports разные"
   ]
  },
  {
   "cell_type": "code",
   "execution_count": 48,
   "metadata": {},
   "outputs": [
    {
     "name": "stdout",
     "output_type": "stream",
     "text": [
      "р-значение: 5.97163549920592e-10\n",
      "Отвергаем нулевую гипотезу\n"
     ]
    }
   ],
   "source": [
    "games_action = games_norm_1.query('genre == \"Action\"')\n",
    "games_sports = games_norm_1.query('genre == \"Sports\" ')\n",
    "alpha = 0.05\n",
    "results = st.ttest_ind(games_action['user_score'], games_sports['user_score'], equal_var = False)\n",
    "print('р-значение:', results.pvalue)\n",
    "if results.pvalue < alpha:\n",
    "    print('Отвергаем нулевую гипотезу')\n",
    "else:\n",
    "    print('Не получилось отвергнуть нулевую гипотезу')"
   ]
  },
  {
   "cell_type": "markdown",
   "metadata": {},
   "source": [
    "Попробуем проверить и выведем среднее значение пользовательского рейтинга по этим двум жанрам"
   ]
  },
  {
   "cell_type": "code",
   "execution_count": 49,
   "metadata": {},
   "outputs": [
    {
     "name": "stdout",
     "output_type": "stream",
     "text": [
      "Средний пользовательский рейтинг Action 6.808290155440415\n",
      "Средний пользовательский рейтинг Sports 5.198780487804878\n"
     ]
    }
   ],
   "source": [
    "print('Средний пользовательский рейтинг Action', games_norm_1[games_norm_1['genre'] == \"Action\"]['user_score'].mean())\n",
    "print('Средний пользовательский рейтинг Sports', games_norm_1[games_norm_1['genre'] == \"Sports\"]['user_score'].mean())"
   ]
  },
  {
   "cell_type": "markdown",
   "metadata": {},
   "source": [
    "Вывод: Средние пользовательские рейтинги жанров Action и Sports разные."
   ]
  },
  {
   "cell_type": "markdown",
   "metadata": {},
   "source": [
    "**Общий вывод**"
   ]
  },
  {
   "cell_type": "markdown",
   "metadata": {},
   "source": [
    "    Для исследования нам была предоставлена таблица с данными, начиная с 1980 года. Согласно этим данным с 2000 года наблюдается рост в продаже компьютерных игр. Пик продаж приходится на 2007-2010 годы. С 2010 наблюдается спад популярности. Поэтому для исследовательского анализа нам подходит период с 2000 года.\n",
    "    Самыми популярными платформами по продаже игр в этот период были: PS2, X360, PS3, Wii, DS.\n",
    "    В 2016 году самыми продаваемыми платформами являются: PS4, XOne, 3DS, PC. Из них РС - дольше всех на рынке. Не было ярких взлетов и падений, показывают стабильный результат.\n",
    "    Что касается жанра. Игры с высокими продажами - это жанры - Shooter, Platform, Sports. Игры с самыми низкими продажами - это Adventure, Puzzle, Strategy. При анализе конкретных регионов и учете данных за два последних года - картина несколько меняется. В Северной Америке и Европе самыми популярным жанром являются - Shuter, Racing (в Европе), Sports (в Америке), в Японии - Role-Playing. А также Adventure входит в топ-5 во всех трех регионах.\n",
    "    Оценки пользователей никак не влияют на продажи, тогда как оценки критиков - имеют незначительное влияние.\n",
    "    Востребованные ретинги: М, Е, Т, Е10.\n",
    "    \n",
    "    Таким образом, можно предположить, что в 2017 году будут популярны игры, выпущенные на платформах: PS4, XOne, 3DS, PC, в жанре - Shuter, Sports. Жанр Role-Playing - ориентировать на японскую публику. Рейтинг Е10 или М. Также возможно появление новой платформы PSVI, после того как продажи PSV пошли на спад.\n"
   ]
  }
 ],
 "metadata": {
  "ExecuteTimeLog": [
   {
    "duration": 548,
    "start_time": "2023-03-14T07:36:24.701Z"
   },
   {
    "duration": 26,
    "start_time": "2023-03-14T07:36:41.694Z"
   },
   {
    "duration": 13,
    "start_time": "2023-03-14T07:36:53.091Z"
   },
   {
    "duration": 72,
    "start_time": "2023-03-14T07:42:56.894Z"
   },
   {
    "duration": 7,
    "start_time": "2023-03-14T07:43:12.170Z"
   },
   {
    "duration": 70,
    "start_time": "2023-03-14T07:44:06.105Z"
   },
   {
    "duration": 17,
    "start_time": "2023-03-14T07:45:39.725Z"
   },
   {
    "duration": 14,
    "start_time": "2023-03-14T07:47:32.003Z"
   },
   {
    "duration": 79,
    "start_time": "2023-03-14T07:47:40.105Z"
   },
   {
    "duration": 12,
    "start_time": "2023-03-14T07:47:46.413Z"
   },
   {
    "duration": 9,
    "start_time": "2023-03-14T07:50:41.172Z"
   },
   {
    "duration": 3,
    "start_time": "2023-03-14T07:51:23.435Z"
   },
   {
    "duration": 18,
    "start_time": "2023-03-14T07:51:43.043Z"
   },
   {
    "duration": 17,
    "start_time": "2023-03-14T07:58:53.509Z"
   },
   {
    "duration": 8,
    "start_time": "2023-03-14T07:59:08.742Z"
   },
   {
    "duration": 9,
    "start_time": "2023-03-14T08:00:02.552Z"
   },
   {
    "duration": 10,
    "start_time": "2023-03-14T08:00:16.796Z"
   },
   {
    "duration": 7,
    "start_time": "2023-03-14T08:02:32.775Z"
   },
   {
    "duration": 27,
    "start_time": "2023-03-14T08:03:40.311Z"
   },
   {
    "duration": 18,
    "start_time": "2023-03-14T08:04:10.743Z"
   },
   {
    "duration": 17,
    "start_time": "2023-03-14T08:04:28.143Z"
   },
   {
    "duration": 28,
    "start_time": "2023-03-14T08:05:15.005Z"
   },
   {
    "duration": 205,
    "start_time": "2023-03-14T08:06:28.118Z"
   },
   {
    "duration": 17,
    "start_time": "2023-03-14T08:06:28.325Z"
   },
   {
    "duration": 15,
    "start_time": "2023-03-14T08:06:28.343Z"
   },
   {
    "duration": 12,
    "start_time": "2023-03-14T08:06:28.360Z"
   },
   {
    "duration": 3,
    "start_time": "2023-03-14T08:06:28.374Z"
   },
   {
    "duration": 40,
    "start_time": "2023-03-14T08:06:28.378Z"
   },
   {
    "duration": 38,
    "start_time": "2023-03-14T08:09:18.697Z"
   },
   {
    "duration": 10,
    "start_time": "2023-03-14T08:09:55.843Z"
   },
   {
    "duration": 7,
    "start_time": "2023-03-14T08:10:22.311Z"
   },
   {
    "duration": 6,
    "start_time": "2023-03-14T08:10:34.047Z"
   },
   {
    "duration": 12,
    "start_time": "2023-03-14T08:15:27.449Z"
   },
   {
    "duration": 11,
    "start_time": "2023-03-14T08:17:15.655Z"
   },
   {
    "duration": 10,
    "start_time": "2023-03-14T08:17:44.174Z"
   },
   {
    "duration": 11,
    "start_time": "2023-03-14T08:18:07.600Z"
   },
   {
    "duration": 22,
    "start_time": "2023-03-14T08:18:45.890Z"
   },
   {
    "duration": 15,
    "start_time": "2023-03-14T08:19:01.647Z"
   },
   {
    "duration": 51,
    "start_time": "2023-03-17T08:20:48.907Z"
   },
   {
    "duration": 543,
    "start_time": "2023-03-17T08:20:57.658Z"
   },
   {
    "duration": 26,
    "start_time": "2023-03-17T08:20:58.204Z"
   },
   {
    "duration": 22,
    "start_time": "2023-03-17T08:20:58.232Z"
   },
   {
    "duration": 16,
    "start_time": "2023-03-17T08:20:58.255Z"
   },
   {
    "duration": 3,
    "start_time": "2023-03-17T08:20:58.273Z"
   },
   {
    "duration": 26,
    "start_time": "2023-03-17T08:20:58.278Z"
   },
   {
    "duration": 34,
    "start_time": "2023-03-17T08:21:01.446Z"
   },
   {
    "duration": 8,
    "start_time": "2023-03-17T08:25:14.710Z"
   },
   {
    "duration": 14,
    "start_time": "2023-03-17T08:25:31.843Z"
   },
   {
    "duration": 10,
    "start_time": "2023-03-17T08:26:43.641Z"
   },
   {
    "duration": 3,
    "start_time": "2023-03-17T08:28:17.716Z"
   },
   {
    "duration": 14,
    "start_time": "2023-03-17T08:28:42.115Z"
   },
   {
    "duration": 13,
    "start_time": "2023-03-17T08:31:12.618Z"
   },
   {
    "duration": 10,
    "start_time": "2023-03-17T08:31:51.165Z"
   },
   {
    "duration": 4,
    "start_time": "2023-03-17T08:33:09.048Z"
   },
   {
    "duration": 25,
    "start_time": "2023-03-17T08:33:35.193Z"
   },
   {
    "duration": 21,
    "start_time": "2023-03-17T08:33:57.039Z"
   },
   {
    "duration": 12,
    "start_time": "2023-03-17T08:34:15.463Z"
   },
   {
    "duration": 11,
    "start_time": "2023-03-17T08:38:57.353Z"
   },
   {
    "duration": 4,
    "start_time": "2023-03-17T08:40:15.642Z"
   },
   {
    "duration": 4,
    "start_time": "2023-03-17T08:42:18.584Z"
   },
   {
    "duration": 13,
    "start_time": "2023-03-17T08:42:20.462Z"
   },
   {
    "duration": 3,
    "start_time": "2023-03-17T08:42:47.217Z"
   },
   {
    "duration": 2,
    "start_time": "2023-03-17T08:42:50.379Z"
   },
   {
    "duration": 14,
    "start_time": "2023-03-17T08:42:50.862Z"
   },
   {
    "duration": 5,
    "start_time": "2023-03-17T09:44:36.461Z"
   },
   {
    "duration": 14,
    "start_time": "2023-03-17T09:44:39.374Z"
   },
   {
    "duration": 117,
    "start_time": "2023-03-17T09:44:47.161Z"
   },
   {
    "duration": 21,
    "start_time": "2023-03-17T09:44:47.280Z"
   },
   {
    "duration": 20,
    "start_time": "2023-03-17T09:44:47.302Z"
   },
   {
    "duration": 16,
    "start_time": "2023-03-17T09:44:47.324Z"
   },
   {
    "duration": 4,
    "start_time": "2023-03-17T09:44:47.341Z"
   },
   {
    "duration": 22,
    "start_time": "2023-03-17T09:44:47.346Z"
   },
   {
    "duration": 8,
    "start_time": "2023-03-17T09:44:47.391Z"
   },
   {
    "duration": 12,
    "start_time": "2023-03-17T09:44:47.401Z"
   },
   {
    "duration": 5,
    "start_time": "2023-03-17T09:44:47.415Z"
   },
   {
    "duration": 3,
    "start_time": "2023-03-17T09:44:47.423Z"
   },
   {
    "duration": 16,
    "start_time": "2023-03-17T09:44:47.427Z"
   },
   {
    "duration": 17,
    "start_time": "2023-03-17T09:49:55.977Z"
   },
   {
    "duration": 1520,
    "start_time": "2023-03-17T09:58:01.646Z"
   },
   {
    "duration": 7,
    "start_time": "2023-03-17T11:19:12.441Z"
   },
   {
    "duration": 38,
    "start_time": "2023-03-17T11:21:41.820Z"
   },
   {
    "duration": 97,
    "start_time": "2023-03-17T11:25:29.719Z"
   },
   {
    "duration": 20,
    "start_time": "2023-03-17T11:25:29.818Z"
   },
   {
    "duration": 18,
    "start_time": "2023-03-17T11:25:29.840Z"
   },
   {
    "duration": 891,
    "start_time": "2023-03-17T11:25:29.860Z"
   },
   {
    "duration": 16,
    "start_time": "2023-03-17T11:25:30.753Z"
   },
   {
    "duration": 44,
    "start_time": "2023-03-17T11:25:30.771Z"
   },
   {
    "duration": 45,
    "start_time": "2023-03-17T11:25:30.817Z"
   },
   {
    "duration": 76,
    "start_time": "2023-03-17T11:25:30.864Z"
   },
   {
    "duration": 0,
    "start_time": "2023-03-17T11:25:30.942Z"
   },
   {
    "duration": 0,
    "start_time": "2023-03-17T11:25:30.943Z"
   },
   {
    "duration": 0,
    "start_time": "2023-03-17T11:25:30.945Z"
   },
   {
    "duration": 0,
    "start_time": "2023-03-17T11:25:30.946Z"
   },
   {
    "duration": 0,
    "start_time": "2023-03-17T11:25:30.947Z"
   },
   {
    "duration": 29,
    "start_time": "2023-03-17T11:25:49.450Z"
   },
   {
    "duration": 18,
    "start_time": "2023-03-17T11:25:58.912Z"
   },
   {
    "duration": 936,
    "start_time": "2023-03-17T11:30:00.629Z"
   },
   {
    "duration": 15,
    "start_time": "2023-03-17T11:30:09.189Z"
   },
   {
    "duration": 12,
    "start_time": "2023-03-17T11:30:47.219Z"
   },
   {
    "duration": 12,
    "start_time": "2023-03-17T11:31:27.642Z"
   },
   {
    "duration": 11,
    "start_time": "2023-03-17T11:31:59.129Z"
   },
   {
    "duration": 16,
    "start_time": "2023-03-17T11:58:09.809Z"
   },
   {
    "duration": 8,
    "start_time": "2023-03-17T11:58:39.994Z"
   },
   {
    "duration": 11,
    "start_time": "2023-03-17T11:58:40.701Z"
   },
   {
    "duration": 5,
    "start_time": "2023-03-17T11:58:41.221Z"
   },
   {
    "duration": 14,
    "start_time": "2023-03-17T11:58:42.341Z"
   },
   {
    "duration": 53,
    "start_time": "2023-03-17T12:04:56.018Z"
   },
   {
    "duration": 8,
    "start_time": "2023-03-17T12:05:03.342Z"
   },
   {
    "duration": 821,
    "start_time": "2023-03-17T12:05:06.821Z"
   },
   {
    "duration": 28,
    "start_time": "2023-03-17T12:05:07.644Z"
   },
   {
    "duration": 15,
    "start_time": "2023-03-17T12:05:07.674Z"
   },
   {
    "duration": 1450,
    "start_time": "2023-03-17T12:05:07.697Z"
   },
   {
    "duration": 27,
    "start_time": "2023-03-17T12:05:09.149Z"
   },
   {
    "duration": 17,
    "start_time": "2023-03-17T12:05:09.178Z"
   },
   {
    "duration": 30,
    "start_time": "2023-03-17T12:05:09.202Z"
   },
   {
    "duration": 6,
    "start_time": "2023-03-17T12:05:09.233Z"
   },
   {
    "duration": 10,
    "start_time": "2023-03-17T12:05:09.241Z"
   },
   {
    "duration": 19,
    "start_time": "2023-03-17T12:05:09.254Z"
   },
   {
    "duration": 28,
    "start_time": "2023-03-17T12:05:09.276Z"
   },
   {
    "duration": 21,
    "start_time": "2023-03-17T12:05:09.308Z"
   },
   {
    "duration": 31,
    "start_time": "2023-03-17T12:05:09.331Z"
   },
   {
    "duration": 1142,
    "start_time": "2023-03-17T12:06:36.212Z"
   },
   {
    "duration": 31,
    "start_time": "2023-03-17T12:06:37.356Z"
   },
   {
    "duration": 24,
    "start_time": "2023-03-17T12:06:37.389Z"
   },
   {
    "duration": 1263,
    "start_time": "2023-03-17T12:06:37.415Z"
   },
   {
    "duration": 29,
    "start_time": "2023-03-17T12:06:38.681Z"
   },
   {
    "duration": 9,
    "start_time": "2023-03-17T12:06:38.712Z"
   },
   {
    "duration": 24,
    "start_time": "2023-03-17T12:06:38.723Z"
   },
   {
    "duration": 8,
    "start_time": "2023-03-17T12:06:38.749Z"
   },
   {
    "duration": 18,
    "start_time": "2023-03-17T12:06:38.759Z"
   },
   {
    "duration": 28,
    "start_time": "2023-03-17T12:06:38.779Z"
   },
   {
    "duration": 16,
    "start_time": "2023-03-17T12:06:38.809Z"
   },
   {
    "duration": 7,
    "start_time": "2023-03-17T12:06:38.827Z"
   },
   {
    "duration": 23,
    "start_time": "2023-03-17T12:06:38.835Z"
   },
   {
    "duration": 10,
    "start_time": "2023-03-17T12:06:43.899Z"
   },
   {
    "duration": 31,
    "start_time": "2023-03-17T12:06:56.506Z"
   },
   {
    "duration": 13,
    "start_time": "2023-03-17T12:25:27.791Z"
   },
   {
    "duration": 21,
    "start_time": "2023-03-17T12:27:01.246Z"
   },
   {
    "duration": 34,
    "start_time": "2023-03-17T12:27:18.207Z"
   },
   {
    "duration": 92,
    "start_time": "2023-03-17T12:28:58.021Z"
   },
   {
    "duration": 17,
    "start_time": "2023-03-17T12:29:21.939Z"
   },
   {
    "duration": 134,
    "start_time": "2023-03-17T12:30:54.247Z"
   },
   {
    "duration": 27,
    "start_time": "2023-03-17T12:30:54.383Z"
   },
   {
    "duration": 38,
    "start_time": "2023-03-17T12:30:54.412Z"
   },
   {
    "duration": 1001,
    "start_time": "2023-03-17T12:30:54.453Z"
   },
   {
    "duration": 38,
    "start_time": "2023-03-17T12:30:55.457Z"
   },
   {
    "duration": 6,
    "start_time": "2023-03-17T12:30:55.501Z"
   },
   {
    "duration": 35,
    "start_time": "2023-03-17T12:30:55.509Z"
   },
   {
    "duration": 22,
    "start_time": "2023-03-17T12:30:55.546Z"
   },
   {
    "duration": 18,
    "start_time": "2023-03-17T12:30:55.569Z"
   },
   {
    "duration": 20,
    "start_time": "2023-03-17T12:30:55.597Z"
   },
   {
    "duration": 26,
    "start_time": "2023-03-17T12:30:55.619Z"
   },
   {
    "duration": 6,
    "start_time": "2023-03-17T12:30:55.647Z"
   },
   {
    "duration": 9,
    "start_time": "2023-03-17T12:30:55.655Z"
   },
   {
    "duration": 18,
    "start_time": "2023-03-17T12:30:55.666Z"
   },
   {
    "duration": 6,
    "start_time": "2023-03-17T12:32:03.953Z"
   },
   {
    "duration": 21,
    "start_time": "2023-03-17T12:32:20.410Z"
   },
   {
    "duration": 9,
    "start_time": "2023-03-17T12:32:29.737Z"
   },
   {
    "duration": 15,
    "start_time": "2023-03-17T12:32:48.718Z"
   },
   {
    "duration": 6,
    "start_time": "2023-03-17T12:32:59.474Z"
   },
   {
    "duration": 17,
    "start_time": "2023-03-17T12:37:28.217Z"
   },
   {
    "duration": 21,
    "start_time": "2023-03-17T12:37:39.334Z"
   },
   {
    "duration": 27,
    "start_time": "2023-03-17T12:38:36.380Z"
   },
   {
    "duration": 31,
    "start_time": "2023-03-17T12:38:58.342Z"
   },
   {
    "duration": 30,
    "start_time": "2023-03-17T12:39:26.219Z"
   },
   {
    "duration": 1089,
    "start_time": "2023-03-17T13:33:49.263Z"
   },
   {
    "duration": 29,
    "start_time": "2023-03-17T13:33:59.669Z"
   },
   {
    "duration": 7,
    "start_time": "2023-03-17T13:37:49.013Z"
   },
   {
    "duration": 35,
    "start_time": "2023-03-17T13:38:29.020Z"
   },
   {
    "duration": 8,
    "start_time": "2023-03-17T13:41:54.168Z"
   },
   {
    "duration": 5,
    "start_time": "2023-03-17T13:42:12.723Z"
   },
   {
    "duration": 24,
    "start_time": "2023-03-17T13:43:20.827Z"
   },
   {
    "duration": 25,
    "start_time": "2023-03-17T13:44:50.038Z"
   },
   {
    "duration": 21,
    "start_time": "2023-03-17T13:54:34.913Z"
   },
   {
    "duration": 56,
    "start_time": "2023-03-17T13:54:50.618Z"
   },
   {
    "duration": 14,
    "start_time": "2023-03-17T13:55:43.806Z"
   },
   {
    "duration": 34,
    "start_time": "2023-03-17T13:55:44.948Z"
   },
   {
    "duration": 45,
    "start_time": "2023-03-17T13:55:46.024Z"
   },
   {
    "duration": 18,
    "start_time": "2023-03-17T14:07:32.855Z"
   },
   {
    "duration": 22,
    "start_time": "2023-03-17T14:08:26.439Z"
   },
   {
    "duration": 23,
    "start_time": "2023-03-17T14:08:42.197Z"
   },
   {
    "duration": 22,
    "start_time": "2023-03-17T14:08:54.181Z"
   },
   {
    "duration": 20,
    "start_time": "2023-03-17T14:09:49.642Z"
   },
   {
    "duration": 164,
    "start_time": "2023-03-17T14:10:25.718Z"
   },
   {
    "duration": 24,
    "start_time": "2023-03-17T14:10:54.276Z"
   },
   {
    "duration": 16,
    "start_time": "2023-03-17T14:11:58.813Z"
   },
   {
    "duration": 56,
    "start_time": "2023-03-18T07:30:07.345Z"
   },
   {
    "duration": 541,
    "start_time": "2023-03-18T07:30:13.855Z"
   },
   {
    "duration": 29,
    "start_time": "2023-03-18T07:30:14.398Z"
   },
   {
    "duration": 15,
    "start_time": "2023-03-18T07:30:14.429Z"
   },
   {
    "duration": 1296,
    "start_time": "2023-03-18T07:30:14.446Z"
   },
   {
    "duration": 18,
    "start_time": "2023-03-18T07:30:15.744Z"
   },
   {
    "duration": 29,
    "start_time": "2023-03-18T07:30:15.764Z"
   },
   {
    "duration": 54,
    "start_time": "2023-03-18T07:30:15.795Z"
   },
   {
    "duration": 22,
    "start_time": "2023-03-18T07:30:15.851Z"
   },
   {
    "duration": 21,
    "start_time": "2023-03-18T07:30:15.875Z"
   },
   {
    "duration": 8,
    "start_time": "2023-03-18T07:30:15.956Z"
   },
   {
    "duration": 17,
    "start_time": "2023-03-18T07:30:15.986Z"
   },
   {
    "duration": 12,
    "start_time": "2023-03-18T07:30:16.005Z"
   },
   {
    "duration": 13,
    "start_time": "2023-03-18T07:30:16.019Z"
   },
   {
    "duration": 31,
    "start_time": "2023-03-18T07:30:16.034Z"
   },
   {
    "duration": 8,
    "start_time": "2023-03-18T07:30:16.067Z"
   },
   {
    "duration": 36,
    "start_time": "2023-03-18T07:30:16.077Z"
   },
   {
    "duration": 8,
    "start_time": "2023-03-18T07:30:16.115Z"
   },
   {
    "duration": 25,
    "start_time": "2023-03-18T07:30:16.125Z"
   },
   {
    "duration": 5,
    "start_time": "2023-03-18T07:30:16.152Z"
   },
   {
    "duration": 30,
    "start_time": "2023-03-18T07:30:16.159Z"
   },
   {
    "duration": 14,
    "start_time": "2023-03-18T07:30:16.191Z"
   },
   {
    "duration": 28,
    "start_time": "2023-03-18T07:30:16.207Z"
   },
   {
    "duration": 17,
    "start_time": "2023-03-18T07:33:39.510Z"
   },
   {
    "duration": 53,
    "start_time": "2023-03-18T07:35:20.088Z"
   },
   {
    "duration": 98,
    "start_time": "2023-03-18T07:35:57.605Z"
   },
   {
    "duration": 20,
    "start_time": "2023-03-18T07:35:57.705Z"
   },
   {
    "duration": 30,
    "start_time": "2023-03-18T07:35:57.727Z"
   },
   {
    "duration": 868,
    "start_time": "2023-03-18T07:35:57.759Z"
   },
   {
    "duration": 18,
    "start_time": "2023-03-18T07:35:58.629Z"
   },
   {
    "duration": 13,
    "start_time": "2023-03-18T07:35:58.648Z"
   },
   {
    "duration": 40,
    "start_time": "2023-03-18T07:35:58.663Z"
   },
   {
    "duration": 51,
    "start_time": "2023-03-18T07:35:58.705Z"
   },
   {
    "duration": 33,
    "start_time": "2023-03-18T07:35:58.758Z"
   },
   {
    "duration": 34,
    "start_time": "2023-03-18T07:35:58.794Z"
   },
   {
    "duration": 29,
    "start_time": "2023-03-18T07:35:58.830Z"
   },
   {
    "duration": 30,
    "start_time": "2023-03-18T07:35:58.861Z"
   },
   {
    "duration": 33,
    "start_time": "2023-03-18T07:35:58.893Z"
   },
   {
    "duration": 45,
    "start_time": "2023-03-18T07:35:58.927Z"
   },
   {
    "duration": 44,
    "start_time": "2023-03-18T07:35:58.974Z"
   },
   {
    "duration": 80,
    "start_time": "2023-03-18T07:35:59.020Z"
   },
   {
    "duration": 29,
    "start_time": "2023-03-18T07:35:59.102Z"
   },
   {
    "duration": 41,
    "start_time": "2023-03-18T07:35:59.133Z"
   },
   {
    "duration": 58,
    "start_time": "2023-03-18T07:35:59.176Z"
   },
   {
    "duration": 36,
    "start_time": "2023-03-18T07:35:59.236Z"
   },
   {
    "duration": 51,
    "start_time": "2023-03-18T07:35:59.274Z"
   },
   {
    "duration": 69,
    "start_time": "2023-03-18T07:36:15.775Z"
   },
   {
    "duration": 21,
    "start_time": "2023-03-18T07:36:43.977Z"
   },
   {
    "duration": 22,
    "start_time": "2023-03-18T07:37:00.986Z"
   },
   {
    "duration": 37,
    "start_time": "2023-03-18T07:37:49.802Z"
   },
   {
    "duration": 24,
    "start_time": "2023-03-18T07:38:13.440Z"
   },
   {
    "duration": 14,
    "start_time": "2023-03-18T07:38:29.943Z"
   },
   {
    "duration": 43,
    "start_time": "2023-03-18T07:39:08.757Z"
   },
   {
    "duration": 9,
    "start_time": "2023-03-18T07:40:30.738Z"
   },
   {
    "duration": 15,
    "start_time": "2023-03-18T07:40:41.044Z"
   },
   {
    "duration": 44,
    "start_time": "2023-03-18T07:40:48.356Z"
   },
   {
    "duration": 14,
    "start_time": "2023-03-18T08:11:47.687Z"
   },
   {
    "duration": 396,
    "start_time": "2023-03-18T08:16:39.038Z"
   },
   {
    "duration": 348,
    "start_time": "2023-03-18T08:16:53.020Z"
   },
   {
    "duration": 10,
    "start_time": "2023-03-18T08:17:42.714Z"
   },
   {
    "duration": 666,
    "start_time": "2023-03-18T08:17:53.255Z"
   },
   {
    "duration": 1013,
    "start_time": "2023-03-18T08:20:29.795Z"
   },
   {
    "duration": 14,
    "start_time": "2023-03-18T08:21:19.741Z"
   },
   {
    "duration": 803,
    "start_time": "2023-03-18T08:21:38.235Z"
   },
   {
    "duration": 829,
    "start_time": "2023-03-18T08:21:57.933Z"
   },
   {
    "duration": 765,
    "start_time": "2023-03-18T08:26:17.871Z"
   },
   {
    "duration": 1081,
    "start_time": "2023-03-18T08:28:39.441Z"
   },
   {
    "duration": 16964,
    "start_time": "2023-03-18T08:29:38.844Z"
   },
   {
    "duration": 70829,
    "start_time": "2023-03-18T08:31:02.139Z"
   },
   {
    "duration": 1854,
    "start_time": "2023-03-18T08:33:21.856Z"
   },
   {
    "duration": 1956,
    "start_time": "2023-03-18T08:33:56.013Z"
   },
   {
    "duration": 1981,
    "start_time": "2023-03-18T08:34:16.957Z"
   },
   {
    "duration": 56,
    "start_time": "2023-03-18T08:34:40.245Z"
   },
   {
    "duration": 62,
    "start_time": "2023-03-18T08:44:52.596Z"
   },
   {
    "duration": 40,
    "start_time": "2023-03-18T08:52:21.598Z"
   },
   {
    "duration": 20,
    "start_time": "2023-03-18T08:52:33.342Z"
   },
   {
    "duration": 41,
    "start_time": "2023-03-18T08:52:43.829Z"
   },
   {
    "duration": 16,
    "start_time": "2023-03-18T08:57:05.519Z"
   },
   {
    "duration": 1996,
    "start_time": "2023-03-18T08:58:54.113Z"
   },
   {
    "duration": 6,
    "start_time": "2023-03-18T08:59:51.728Z"
   },
   {
    "duration": 15,
    "start_time": "2023-03-18T09:00:01.816Z"
   },
   {
    "duration": 12,
    "start_time": "2023-03-18T09:02:53.049Z"
   },
   {
    "duration": 32,
    "start_time": "2023-03-18T09:03:05.693Z"
   },
   {
    "duration": 2057,
    "start_time": "2023-03-18T09:03:12.149Z"
   },
   {
    "duration": 18,
    "start_time": "2023-03-18T09:08:52.501Z"
   },
   {
    "duration": 24,
    "start_time": "2023-03-18T09:09:10.099Z"
   },
   {
    "duration": 470,
    "start_time": "2023-03-18T09:11:29.897Z"
   },
   {
    "duration": 169,
    "start_time": "2023-03-18T10:09:42.968Z"
   },
   {
    "duration": 179,
    "start_time": "2023-03-18T10:11:02.256Z"
   },
   {
    "duration": 497,
    "start_time": "2023-03-18T10:11:13.564Z"
   },
   {
    "duration": 190,
    "start_time": "2023-03-18T10:14:15.590Z"
   },
   {
    "duration": 18,
    "start_time": "2023-03-18T10:14:48.692Z"
   },
   {
    "duration": 266,
    "start_time": "2023-03-18T10:15:20.968Z"
   },
   {
    "duration": 392,
    "start_time": "2023-03-18T10:15:48.908Z"
   },
   {
    "duration": 167,
    "start_time": "2023-03-18T10:16:11.432Z"
   },
   {
    "duration": 175,
    "start_time": "2023-03-18T10:16:51.082Z"
   },
   {
    "duration": 177,
    "start_time": "2023-03-18T10:17:06.164Z"
   },
   {
    "duration": 48,
    "start_time": "2023-03-18T10:17:57.480Z"
   },
   {
    "duration": 259,
    "start_time": "2023-03-18T10:18:06.900Z"
   },
   {
    "duration": 284,
    "start_time": "2023-03-18T10:18:24.864Z"
   },
   {
    "duration": 427,
    "start_time": "2023-03-18T10:18:43.691Z"
   },
   {
    "duration": 418,
    "start_time": "2023-03-18T10:20:00.891Z"
   },
   {
    "duration": 443,
    "start_time": "2023-03-18T10:24:42.561Z"
   },
   {
    "duration": 21,
    "start_time": "2023-03-18T10:26:54.997Z"
   },
   {
    "duration": 15,
    "start_time": "2023-03-18T10:28:49.800Z"
   },
   {
    "duration": 17,
    "start_time": "2023-03-18T10:29:59.321Z"
   },
   {
    "duration": 14,
    "start_time": "2023-03-18T10:30:04.575Z"
   },
   {
    "duration": 50,
    "start_time": "2023-03-18T10:31:46.908Z"
   },
   {
    "duration": 38,
    "start_time": "2023-03-18T10:32:07.748Z"
   },
   {
    "duration": 399,
    "start_time": "2023-03-18T10:32:30.404Z"
   },
   {
    "duration": 14,
    "start_time": "2023-03-18T10:33:09.979Z"
   },
   {
    "duration": 253,
    "start_time": "2023-03-18T12:38:09.547Z"
   },
   {
    "duration": 993,
    "start_time": "2023-03-18T12:38:56.897Z"
   },
   {
    "duration": 45,
    "start_time": "2023-03-18T12:39:38.432Z"
   },
   {
    "duration": 399,
    "start_time": "2023-03-18T12:40:16.494Z"
   },
   {
    "duration": 16,
    "start_time": "2023-03-18T12:41:08.524Z"
   },
   {
    "duration": 138,
    "start_time": "2023-03-18T12:42:16.069Z"
   },
   {
    "duration": 547,
    "start_time": "2023-03-18T12:42:55.552Z"
   },
   {
    "duration": 1054,
    "start_time": "2023-03-18T12:43:32.503Z"
   },
   {
    "duration": 519,
    "start_time": "2023-03-18T12:43:46.353Z"
   },
   {
    "duration": 275,
    "start_time": "2023-03-18T12:45:19.578Z"
   },
   {
    "duration": 13,
    "start_time": "2023-03-18T12:46:16.774Z"
   },
   {
    "duration": 14,
    "start_time": "2023-03-18T12:47:21.443Z"
   },
   {
    "duration": 637,
    "start_time": "2023-03-18T12:47:58.311Z"
   },
   {
    "duration": 727,
    "start_time": "2023-03-18T12:48:29.176Z"
   },
   {
    "duration": 147,
    "start_time": "2023-03-18T12:49:06.363Z"
   },
   {
    "duration": 9,
    "start_time": "2023-03-18T12:54:46.163Z"
   },
   {
    "duration": 26,
    "start_time": "2023-03-18T12:54:52.823Z"
   },
   {
    "duration": 31,
    "start_time": "2023-03-18T12:55:12.543Z"
   },
   {
    "duration": 458,
    "start_time": "2023-03-18T12:55:16.581Z"
   },
   {
    "duration": 520,
    "start_time": "2023-03-18T12:55:23.581Z"
   },
   {
    "duration": 37,
    "start_time": "2023-03-18T12:58:02.000Z"
   },
   {
    "duration": 14,
    "start_time": "2023-03-18T12:58:13.536Z"
   },
   {
    "duration": 40,
    "start_time": "2023-03-18T12:58:15.844Z"
   },
   {
    "duration": 318,
    "start_time": "2023-03-18T13:07:54.315Z"
   },
   {
    "duration": 317,
    "start_time": "2023-03-18T13:09:13.032Z"
   },
   {
    "duration": 337,
    "start_time": "2023-03-18T13:09:57.821Z"
   },
   {
    "duration": 31,
    "start_time": "2023-03-18T13:10:08.237Z"
   },
   {
    "duration": 16,
    "start_time": "2023-03-18T13:10:52.438Z"
   },
   {
    "duration": 322,
    "start_time": "2023-03-18T13:11:11.080Z"
   },
   {
    "duration": 331,
    "start_time": "2023-03-18T13:11:58.623Z"
   },
   {
    "duration": 22,
    "start_time": "2023-03-18T13:13:56.087Z"
   },
   {
    "duration": 1133,
    "start_time": "2023-03-18T13:14:06.685Z"
   },
   {
    "duration": 20,
    "start_time": "2023-03-18T13:16:32.148Z"
   },
   {
    "duration": 465,
    "start_time": "2023-03-18T13:16:44.088Z"
   },
   {
    "duration": 453,
    "start_time": "2023-03-18T13:17:06.496Z"
   },
   {
    "duration": 15,
    "start_time": "2023-03-18T13:22:54.441Z"
   },
   {
    "duration": 17,
    "start_time": "2023-03-18T13:24:20.820Z"
   },
   {
    "duration": 22,
    "start_time": "2023-03-18T13:24:41.586Z"
   },
   {
    "duration": 20,
    "start_time": "2023-03-18T13:25:02.786Z"
   },
   {
    "duration": 24,
    "start_time": "2023-03-18T13:26:11.556Z"
   },
   {
    "duration": 25,
    "start_time": "2023-03-18T13:26:44.856Z"
   },
   {
    "duration": 24,
    "start_time": "2023-03-18T13:27:26.379Z"
   },
   {
    "duration": 411,
    "start_time": "2023-03-18T13:30:56.915Z"
   },
   {
    "duration": 288,
    "start_time": "2023-03-18T13:33:01.255Z"
   },
   {
    "duration": 49,
    "start_time": "2023-03-18T13:34:26.944Z"
   },
   {
    "duration": 3,
    "start_time": "2023-03-18T13:34:27.834Z"
   },
   {
    "duration": 14,
    "start_time": "2023-03-18T13:34:43.489Z"
   },
   {
    "duration": 317,
    "start_time": "2023-03-18T13:35:15.726Z"
   },
   {
    "duration": 5,
    "start_time": "2023-03-18T13:38:04.298Z"
   },
   {
    "duration": 4,
    "start_time": "2023-03-18T13:38:45.690Z"
   },
   {
    "duration": 297,
    "start_time": "2023-03-18T13:38:55.656Z"
   },
   {
    "duration": 302,
    "start_time": "2023-03-18T13:39:17.593Z"
   },
   {
    "duration": 21,
    "start_time": "2023-03-18T13:42:04.479Z"
   },
   {
    "duration": 35,
    "start_time": "2023-03-18T13:42:05.304Z"
   },
   {
    "duration": 394,
    "start_time": "2023-03-18T13:42:08.337Z"
   },
   {
    "duration": 21,
    "start_time": "2023-03-18T13:43:43.683Z"
   },
   {
    "duration": 49,
    "start_time": "2023-03-18T13:43:44.415Z"
   },
   {
    "duration": 366,
    "start_time": "2023-03-18T13:43:48.350Z"
   },
   {
    "duration": 50,
    "start_time": "2023-03-18T13:48:53.635Z"
   },
   {
    "duration": 23,
    "start_time": "2023-03-18T13:49:11.018Z"
   },
   {
    "duration": 27,
    "start_time": "2023-03-18T13:50:41.750Z"
   },
   {
    "duration": 30,
    "start_time": "2023-03-18T13:55:38.271Z"
   },
   {
    "duration": 14,
    "start_time": "2023-03-18T13:56:05.281Z"
   },
   {
    "duration": 143,
    "start_time": "2023-03-18T14:02:02.149Z"
   },
   {
    "duration": 134,
    "start_time": "2023-03-18T14:02:23.506Z"
   },
   {
    "duration": 15,
    "start_time": "2023-03-18T14:02:31.901Z"
   },
   {
    "duration": 14,
    "start_time": "2023-03-18T14:02:47.746Z"
   },
   {
    "duration": 16,
    "start_time": "2023-03-18T14:03:04.508Z"
   },
   {
    "duration": 46,
    "start_time": "2023-03-18T14:06:02.128Z"
   },
   {
    "duration": 372,
    "start_time": "2023-03-18T14:06:14.804Z"
   },
   {
    "duration": 509,
    "start_time": "2023-03-18T14:06:48.940Z"
   },
   {
    "duration": 676,
    "start_time": "2023-03-18T14:07:20.502Z"
   },
   {
    "duration": 477,
    "start_time": "2023-03-18T14:11:43.446Z"
   },
   {
    "duration": 15,
    "start_time": "2023-03-18T14:16:54.807Z"
   },
   {
    "duration": 13,
    "start_time": "2023-03-18T14:16:55.435Z"
   },
   {
    "duration": 340,
    "start_time": "2023-03-18T14:16:56.096Z"
   },
   {
    "duration": 14,
    "start_time": "2023-03-18T16:00:09.910Z"
   },
   {
    "duration": 7,
    "start_time": "2023-03-18T16:01:16.404Z"
   },
   {
    "duration": 13,
    "start_time": "2023-03-18T16:01:24.350Z"
   },
   {
    "duration": 27,
    "start_time": "2023-03-18T16:01:46.716Z"
   },
   {
    "duration": 155,
    "start_time": "2023-03-18T16:02:14.458Z"
   },
   {
    "duration": 9,
    "start_time": "2023-03-18T16:03:41.430Z"
   },
   {
    "duration": 12,
    "start_time": "2023-03-18T16:04:19.823Z"
   },
   {
    "duration": 170,
    "start_time": "2023-03-18T16:04:24.635Z"
   },
   {
    "duration": 10,
    "start_time": "2023-03-18T16:04:28.359Z"
   },
   {
    "duration": 241,
    "start_time": "2023-03-18T16:05:13.609Z"
   },
   {
    "duration": 34,
    "start_time": "2023-03-18T16:05:21.333Z"
   },
   {
    "duration": 23,
    "start_time": "2023-03-18T16:05:47.096Z"
   },
   {
    "duration": 199,
    "start_time": "2023-03-18T16:07:10.608Z"
   },
   {
    "duration": 186,
    "start_time": "2023-03-18T16:11:18.683Z"
   },
   {
    "duration": 166,
    "start_time": "2023-03-18T16:11:33.875Z"
   },
   {
    "duration": 164,
    "start_time": "2023-03-18T16:13:20.992Z"
   },
   {
    "duration": 153,
    "start_time": "2023-03-18T16:15:18.403Z"
   },
   {
    "duration": 9,
    "start_time": "2023-03-18T16:16:44.109Z"
   },
   {
    "duration": 182,
    "start_time": "2023-03-18T16:16:54.853Z"
   },
   {
    "duration": 178,
    "start_time": "2023-03-18T16:18:30.156Z"
   },
   {
    "duration": 176,
    "start_time": "2023-03-18T16:19:14.504Z"
   },
   {
    "duration": 171,
    "start_time": "2023-03-18T16:20:19.385Z"
   },
   {
    "duration": 171,
    "start_time": "2023-03-18T16:20:43.516Z"
   },
   {
    "duration": 181,
    "start_time": "2023-03-18T16:21:19.797Z"
   },
   {
    "duration": 151,
    "start_time": "2023-03-18T16:21:33.792Z"
   },
   {
    "duration": 14,
    "start_time": "2023-03-18T16:23:48.402Z"
   },
   {
    "duration": 15,
    "start_time": "2023-03-18T16:24:06.616Z"
   },
   {
    "duration": 202,
    "start_time": "2023-03-18T16:24:54.487Z"
   },
   {
    "duration": 167,
    "start_time": "2023-03-18T16:25:16.394Z"
   },
   {
    "duration": 172,
    "start_time": "2023-03-18T16:26:45.410Z"
   },
   {
    "duration": 231,
    "start_time": "2023-03-18T16:26:58.476Z"
   },
   {
    "duration": 35,
    "start_time": "2023-03-18T16:35:59.941Z"
   },
   {
    "duration": 10,
    "start_time": "2023-03-18T16:38:11.827Z"
   },
   {
    "duration": 26,
    "start_time": "2023-03-18T16:38:20.277Z"
   },
   {
    "duration": 5,
    "start_time": "2023-03-18T16:40:07.029Z"
   },
   {
    "duration": 18,
    "start_time": "2023-03-18T16:41:59.105Z"
   },
   {
    "duration": 32,
    "start_time": "2023-03-18T16:42:46.218Z"
   },
   {
    "duration": 12,
    "start_time": "2023-03-18T16:43:37.238Z"
   },
   {
    "duration": 5,
    "start_time": "2023-03-18T16:44:23.441Z"
   },
   {
    "duration": 7,
    "start_time": "2023-03-18T16:44:31.721Z"
   },
   {
    "duration": 5,
    "start_time": "2023-03-18T16:44:43.726Z"
   },
   {
    "duration": 4,
    "start_time": "2023-03-18T16:44:47.675Z"
   },
   {
    "duration": 44,
    "start_time": "2023-03-18T16:44:56.588Z"
   },
   {
    "duration": 41,
    "start_time": "2023-03-18T16:45:09.513Z"
   },
   {
    "duration": 25,
    "start_time": "2023-03-18T16:45:15.440Z"
   },
   {
    "duration": 24,
    "start_time": "2023-03-18T16:45:22.237Z"
   },
   {
    "duration": 22,
    "start_time": "2023-03-18T16:51:53.108Z"
   },
   {
    "duration": 166,
    "start_time": "2023-03-18T16:53:45.009Z"
   },
   {
    "duration": 44,
    "start_time": "2023-03-18T16:53:45.178Z"
   },
   {
    "duration": 38,
    "start_time": "2023-03-18T16:53:45.224Z"
   },
   {
    "duration": 1103,
    "start_time": "2023-03-18T16:53:45.264Z"
   },
   {
    "duration": 41,
    "start_time": "2023-03-18T16:53:46.369Z"
   },
   {
    "duration": 32,
    "start_time": "2023-03-18T16:53:46.412Z"
   },
   {
    "duration": 25,
    "start_time": "2023-03-18T16:53:46.446Z"
   },
   {
    "duration": 62,
    "start_time": "2023-03-18T16:53:46.473Z"
   },
   {
    "duration": 16,
    "start_time": "2023-03-18T16:53:46.538Z"
   },
   {
    "duration": 10,
    "start_time": "2023-03-18T16:53:46.558Z"
   },
   {
    "duration": 71,
    "start_time": "2023-03-18T16:53:46.570Z"
   },
   {
    "duration": 18,
    "start_time": "2023-03-18T16:53:46.644Z"
   },
   {
    "duration": 54,
    "start_time": "2023-03-18T16:53:46.664Z"
   },
   {
    "duration": 0,
    "start_time": "2023-03-18T16:53:46.720Z"
   },
   {
    "duration": 0,
    "start_time": "2023-03-18T16:53:46.721Z"
   },
   {
    "duration": 0,
    "start_time": "2023-03-18T16:53:46.723Z"
   },
   {
    "duration": 0,
    "start_time": "2023-03-18T16:53:46.724Z"
   },
   {
    "duration": 0,
    "start_time": "2023-03-18T16:53:46.725Z"
   },
   {
    "duration": 0,
    "start_time": "2023-03-18T16:53:46.728Z"
   },
   {
    "duration": 0,
    "start_time": "2023-03-18T16:53:46.729Z"
   },
   {
    "duration": 0,
    "start_time": "2023-03-18T16:53:46.731Z"
   },
   {
    "duration": 0,
    "start_time": "2023-03-18T16:53:46.733Z"
   },
   {
    "duration": 0,
    "start_time": "2023-03-18T16:53:46.736Z"
   },
   {
    "duration": 0,
    "start_time": "2023-03-18T16:53:46.737Z"
   },
   {
    "duration": 0,
    "start_time": "2023-03-18T16:53:46.740Z"
   },
   {
    "duration": 0,
    "start_time": "2023-03-18T16:53:46.742Z"
   },
   {
    "duration": 0,
    "start_time": "2023-03-18T16:53:46.744Z"
   },
   {
    "duration": 0,
    "start_time": "2023-03-18T16:53:46.746Z"
   },
   {
    "duration": 0,
    "start_time": "2023-03-18T16:53:46.748Z"
   },
   {
    "duration": 80,
    "start_time": "2023-03-18T16:54:37.149Z"
   },
   {
    "duration": 27,
    "start_time": "2023-03-18T16:54:41.613Z"
   },
   {
    "duration": 6,
    "start_time": "2023-03-18T16:54:41.642Z"
   },
   {
    "duration": 20,
    "start_time": "2023-03-18T16:54:41.650Z"
   },
   {
    "duration": 62,
    "start_time": "2023-03-18T16:54:41.672Z"
   },
   {
    "duration": 36,
    "start_time": "2023-03-18T16:54:41.737Z"
   },
   {
    "duration": 715,
    "start_time": "2023-03-18T16:54:41.775Z"
   },
   {
    "duration": 22,
    "start_time": "2023-03-18T16:54:42.496Z"
   },
   {
    "duration": 39,
    "start_time": "2023-03-18T16:54:42.522Z"
   },
   {
    "duration": 497,
    "start_time": "2023-03-18T16:54:42.563Z"
   },
   {
    "duration": 34,
    "start_time": "2023-03-18T16:54:43.063Z"
   },
   {
    "duration": 301,
    "start_time": "2023-03-18T16:54:43.100Z"
   },
   {
    "duration": 194,
    "start_time": "2023-03-18T16:54:43.407Z"
   },
   {
    "duration": 225,
    "start_time": "2023-03-18T16:54:43.605Z"
   },
   {
    "duration": 220,
    "start_time": "2023-03-18T16:54:43.834Z"
   },
   {
    "duration": 265,
    "start_time": "2023-03-18T16:54:44.056Z"
   },
   {
    "duration": 34,
    "start_time": "2023-03-18T16:54:44.323Z"
   },
   {
    "duration": 5,
    "start_time": "2023-03-18T16:55:07.642Z"
   },
   {
    "duration": 49,
    "start_time": "2023-03-18T16:55:25.912Z"
   },
   {
    "duration": 35,
    "start_time": "2023-03-18T16:55:39.140Z"
   },
   {
    "duration": 60,
    "start_time": "2023-03-18T16:55:48.012Z"
   },
   {
    "duration": 43,
    "start_time": "2023-03-18T16:56:08.405Z"
   },
   {
    "duration": 33,
    "start_time": "2023-03-18T16:56:19.720Z"
   },
   {
    "duration": 23,
    "start_time": "2023-03-18T17:44:15.237Z"
   },
   {
    "duration": 6,
    "start_time": "2023-03-18T17:44:39.516Z"
   },
   {
    "duration": 35,
    "start_time": "2023-03-18T17:44:52.427Z"
   },
   {
    "duration": 48,
    "start_time": "2023-03-18T17:45:22.042Z"
   },
   {
    "duration": 7,
    "start_time": "2023-03-18T17:47:54.506Z"
   },
   {
    "duration": 16,
    "start_time": "2023-03-18T17:48:04.014Z"
   },
   {
    "duration": 7,
    "start_time": "2023-03-18T17:48:08.518Z"
   },
   {
    "duration": 22,
    "start_time": "2023-03-18T17:48:08.528Z"
   },
   {
    "duration": 18,
    "start_time": "2023-03-18T17:48:08.553Z"
   },
   {
    "duration": 87,
    "start_time": "2023-03-18T17:48:08.574Z"
   },
   {
    "duration": 645,
    "start_time": "2023-03-18T17:48:08.664Z"
   },
   {
    "duration": 19,
    "start_time": "2023-03-18T17:48:09.314Z"
   },
   {
    "duration": 18,
    "start_time": "2023-03-18T17:48:09.335Z"
   },
   {
    "duration": 409,
    "start_time": "2023-03-18T17:48:09.355Z"
   },
   {
    "duration": 53,
    "start_time": "2023-03-18T17:48:09.766Z"
   },
   {
    "duration": 231,
    "start_time": "2023-03-18T17:48:09.821Z"
   },
   {
    "duration": 206,
    "start_time": "2023-03-18T17:48:10.055Z"
   },
   {
    "duration": 245,
    "start_time": "2023-03-18T17:48:10.263Z"
   },
   {
    "duration": 154,
    "start_time": "2023-03-18T17:48:10.510Z"
   },
   {
    "duration": 186,
    "start_time": "2023-03-18T17:48:10.667Z"
   },
   {
    "duration": 47,
    "start_time": "2023-03-18T17:48:10.855Z"
   },
   {
    "duration": 0,
    "start_time": "2023-03-18T17:48:10.909Z"
   },
   {
    "duration": 26,
    "start_time": "2023-03-18T17:49:37.832Z"
   },
   {
    "duration": 15,
    "start_time": "2023-03-18T17:51:16.643Z"
   },
   {
    "duration": 14,
    "start_time": "2023-03-18T17:51:47.345Z"
   },
   {
    "duration": 25,
    "start_time": "2023-03-18T17:52:14.963Z"
   },
   {
    "duration": 128,
    "start_time": "2023-03-18T17:54:34.470Z"
   },
   {
    "duration": 6,
    "start_time": "2023-03-18T17:54:44.220Z"
   },
   {
    "duration": 21,
    "start_time": "2023-03-18T17:57:49.375Z"
   },
   {
    "duration": 2315,
    "start_time": "2023-03-18T18:01:32.927Z"
   },
   {
    "duration": 2275,
    "start_time": "2023-03-18T18:02:33.296Z"
   },
   {
    "duration": 2033,
    "start_time": "2023-03-18T18:03:29.972Z"
   },
   {
    "duration": 2049,
    "start_time": "2023-03-18T18:04:07.897Z"
   },
   {
    "duration": 2047,
    "start_time": "2023-03-18T18:04:17.003Z"
   },
   {
    "duration": 2329,
    "start_time": "2023-03-18T18:07:20.026Z"
   },
   {
    "duration": 3505,
    "start_time": "2023-03-18T18:08:27.210Z"
   },
   {
    "duration": 2206,
    "start_time": "2023-03-18T18:08:59.419Z"
   },
   {
    "duration": 12,
    "start_time": "2023-03-18T18:12:04.533Z"
   },
   {
    "duration": 19,
    "start_time": "2023-03-18T18:12:46.794Z"
   },
   {
    "duration": 12,
    "start_time": "2023-03-18T18:12:46.815Z"
   },
   {
    "duration": 11,
    "start_time": "2023-03-18T18:12:46.958Z"
   },
   {
    "duration": 4,
    "start_time": "2023-03-18T18:14:16.031Z"
   },
   {
    "duration": 19,
    "start_time": "2023-03-18T18:15:36.854Z"
   },
   {
    "duration": 16,
    "start_time": "2023-03-18T18:38:25.598Z"
   },
   {
    "duration": 20,
    "start_time": "2023-03-18T18:39:20.018Z"
   },
   {
    "duration": 6,
    "start_time": "2023-03-19T07:21:25.251Z"
   },
   {
    "duration": 19,
    "start_time": "2023-03-19T07:21:25.971Z"
   },
   {
    "duration": 7,
    "start_time": "2023-03-19T07:21:31.843Z"
   },
   {
    "duration": 21,
    "start_time": "2023-03-19T07:21:32.632Z"
   },
   {
    "duration": 191,
    "start_time": "2023-03-19T07:21:55.619Z"
   },
   {
    "duration": 27,
    "start_time": "2023-03-19T07:21:55.812Z"
   },
   {
    "duration": 42,
    "start_time": "2023-03-19T07:21:55.842Z"
   },
   {
    "duration": 1112,
    "start_time": "2023-03-19T07:21:55.894Z"
   },
   {
    "duration": 27,
    "start_time": "2023-03-19T07:21:57.010Z"
   },
   {
    "duration": 11,
    "start_time": "2023-03-19T07:21:57.039Z"
   },
   {
    "duration": 54,
    "start_time": "2023-03-19T07:21:57.053Z"
   },
   {
    "duration": 47,
    "start_time": "2023-03-19T07:21:57.110Z"
   },
   {
    "duration": 21,
    "start_time": "2023-03-19T07:21:57.161Z"
   },
   {
    "duration": 17,
    "start_time": "2023-03-19T07:21:57.186Z"
   },
   {
    "duration": 28,
    "start_time": "2023-03-19T07:21:57.205Z"
   },
   {
    "duration": 11,
    "start_time": "2023-03-19T07:21:57.235Z"
   },
   {
    "duration": 11,
    "start_time": "2023-03-19T07:21:57.248Z"
   },
   {
    "duration": 32,
    "start_time": "2023-03-19T07:21:57.261Z"
   },
   {
    "duration": 23,
    "start_time": "2023-03-19T07:21:57.297Z"
   },
   {
    "duration": 18,
    "start_time": "2023-03-19T07:21:57.322Z"
   },
   {
    "duration": 9,
    "start_time": "2023-03-19T07:21:57.343Z"
   },
   {
    "duration": 46,
    "start_time": "2023-03-19T07:21:57.355Z"
   },
   {
    "duration": 647,
    "start_time": "2023-03-19T07:21:57.406Z"
   },
   {
    "duration": 27,
    "start_time": "2023-03-19T07:21:58.055Z"
   },
   {
    "duration": 37,
    "start_time": "2023-03-19T07:21:58.085Z"
   },
   {
    "duration": 426,
    "start_time": "2023-03-19T07:21:58.124Z"
   },
   {
    "duration": 54,
    "start_time": "2023-03-19T07:21:58.552Z"
   },
   {
    "duration": 242,
    "start_time": "2023-03-19T07:21:58.608Z"
   },
   {
    "duration": 231,
    "start_time": "2023-03-19T07:21:58.855Z"
   },
   {
    "duration": 166,
    "start_time": "2023-03-19T07:21:59.091Z"
   },
   {
    "duration": 186,
    "start_time": "2023-03-19T07:21:59.259Z"
   },
   {
    "duration": 277,
    "start_time": "2023-03-19T07:21:59.449Z"
   },
   {
    "duration": 2505,
    "start_time": "2023-03-19T07:21:59.729Z"
   },
   {
    "duration": 11,
    "start_time": "2023-03-19T07:22:02.236Z"
   },
   {
    "duration": 29,
    "start_time": "2023-03-19T07:22:02.249Z"
   },
   {
    "duration": 30,
    "start_time": "2023-03-19T07:22:02.280Z"
   },
   {
    "duration": 23,
    "start_time": "2023-03-19T07:22:02.312Z"
   },
   {
    "duration": 32,
    "start_time": "2023-03-19T07:22:02.338Z"
   },
   {
    "duration": 16,
    "start_time": "2023-03-19T07:48:23.542Z"
   },
   {
    "duration": 5,
    "start_time": "2023-03-19T07:51:05.262Z"
   },
   {
    "duration": 4,
    "start_time": "2023-03-19T07:54:17.600Z"
   },
   {
    "duration": 15,
    "start_time": "2023-03-19T08:01:47.210Z"
   },
   {
    "duration": 17,
    "start_time": "2023-03-19T08:04:55.605Z"
   },
   {
    "duration": 131,
    "start_time": "2023-03-19T08:08:50.394Z"
   },
   {
    "duration": 60,
    "start_time": "2023-03-19T08:09:17.765Z"
   },
   {
    "duration": 15,
    "start_time": "2023-03-19T08:10:00.292Z"
   },
   {
    "duration": 20,
    "start_time": "2023-03-19T08:11:43.052Z"
   },
   {
    "duration": 5,
    "start_time": "2023-03-19T08:20:03.760Z"
   },
   {
    "duration": 17,
    "start_time": "2023-03-19T08:20:21.537Z"
   },
   {
    "duration": 20,
    "start_time": "2023-03-19T08:21:26.125Z"
   },
   {
    "duration": 21,
    "start_time": "2023-03-19T08:23:27.290Z"
   },
   {
    "duration": 14,
    "start_time": "2023-03-19T08:26:19.971Z"
   },
   {
    "duration": 5,
    "start_time": "2023-03-19T08:26:36.650Z"
   },
   {
    "duration": 45,
    "start_time": "2023-03-19T08:27:03.526Z"
   },
   {
    "duration": 15,
    "start_time": "2023-03-19T08:27:10.728Z"
   },
   {
    "duration": 17,
    "start_time": "2023-03-19T08:40:04.808Z"
   },
   {
    "duration": 22,
    "start_time": "2023-03-19T08:44:30.984Z"
   },
   {
    "duration": 16,
    "start_time": "2023-03-19T08:44:38.760Z"
   },
   {
    "duration": 17,
    "start_time": "2023-03-19T08:44:49.323Z"
   },
   {
    "duration": 16,
    "start_time": "2023-03-19T08:46:04.442Z"
   },
   {
    "duration": 15,
    "start_time": "2023-03-19T08:47:22.092Z"
   },
   {
    "duration": 19,
    "start_time": "2023-03-19T08:48:02.649Z"
   },
   {
    "duration": 17,
    "start_time": "2023-03-19T08:49:30.534Z"
   },
   {
    "duration": 23,
    "start_time": "2023-03-19T08:49:36.068Z"
   },
   {
    "duration": 15,
    "start_time": "2023-03-19T08:49:40.892Z"
   },
   {
    "duration": 7,
    "start_time": "2023-03-19T12:52:40.187Z"
   },
   {
    "duration": 5,
    "start_time": "2023-03-19T12:52:50.695Z"
   },
   {
    "duration": 5,
    "start_time": "2023-03-19T12:53:14.502Z"
   },
   {
    "duration": 6,
    "start_time": "2023-03-19T12:54:03.687Z"
   },
   {
    "duration": 17,
    "start_time": "2023-03-19T13:36:37.033Z"
   },
   {
    "duration": 18,
    "start_time": "2023-03-19T13:36:47.812Z"
   },
   {
    "duration": 20,
    "start_time": "2023-03-19T13:37:06.918Z"
   },
   {
    "duration": 14,
    "start_time": "2023-03-19T13:38:22.396Z"
   },
   {
    "duration": 12,
    "start_time": "2023-03-19T13:38:49.301Z"
   },
   {
    "duration": 52,
    "start_time": "2023-03-19T13:42:07.979Z"
   },
   {
    "duration": 6,
    "start_time": "2023-03-19T13:42:49.912Z"
   },
   {
    "duration": 16,
    "start_time": "2023-03-19T13:43:21.264Z"
   },
   {
    "duration": 21,
    "start_time": "2023-03-19T13:44:40.072Z"
   },
   {
    "duration": 7,
    "start_time": "2023-03-19T13:45:36.276Z"
   },
   {
    "duration": 10,
    "start_time": "2023-03-19T13:47:08.112Z"
   },
   {
    "duration": 12,
    "start_time": "2023-03-19T13:47:45.755Z"
   },
   {
    "duration": 19,
    "start_time": "2023-03-19T13:48:16.978Z"
   },
   {
    "duration": 14,
    "start_time": "2023-03-19T13:48:42.152Z"
   },
   {
    "duration": 182,
    "start_time": "2023-03-19T13:49:04.049Z"
   },
   {
    "duration": 21,
    "start_time": "2023-03-19T13:49:04.233Z"
   },
   {
    "duration": 22,
    "start_time": "2023-03-19T13:49:04.256Z"
   },
   {
    "duration": 1025,
    "start_time": "2023-03-19T13:49:04.280Z"
   },
   {
    "duration": 17,
    "start_time": "2023-03-19T13:49:05.307Z"
   },
   {
    "duration": 6,
    "start_time": "2023-03-19T13:49:05.326Z"
   },
   {
    "duration": 44,
    "start_time": "2023-03-19T13:49:05.334Z"
   },
   {
    "duration": 22,
    "start_time": "2023-03-19T13:49:05.380Z"
   },
   {
    "duration": 16,
    "start_time": "2023-03-19T13:49:05.404Z"
   },
   {
    "duration": 16,
    "start_time": "2023-03-19T13:49:05.423Z"
   },
   {
    "duration": 11,
    "start_time": "2023-03-19T13:49:05.441Z"
   },
   {
    "duration": 23,
    "start_time": "2023-03-19T13:49:05.454Z"
   },
   {
    "duration": 6,
    "start_time": "2023-03-19T13:49:05.481Z"
   },
   {
    "duration": 31,
    "start_time": "2023-03-19T13:49:05.489Z"
   },
   {
    "duration": 68,
    "start_time": "2023-03-19T13:49:05.522Z"
   },
   {
    "duration": 22,
    "start_time": "2023-03-19T13:49:05.591Z"
   },
   {
    "duration": 15,
    "start_time": "2023-03-19T13:49:05.615Z"
   },
   {
    "duration": 579,
    "start_time": "2023-03-19T13:49:05.632Z"
   },
   {
    "duration": 14,
    "start_time": "2023-03-19T13:49:06.213Z"
   },
   {
    "duration": 23,
    "start_time": "2023-03-19T13:49:06.229Z"
   },
   {
    "duration": 390,
    "start_time": "2023-03-19T13:49:06.254Z"
   },
   {
    "duration": 38,
    "start_time": "2023-03-19T13:49:06.646Z"
   },
   {
    "duration": 202,
    "start_time": "2023-03-19T13:49:06.687Z"
   },
   {
    "duration": 189,
    "start_time": "2023-03-19T13:49:06.891Z"
   },
   {
    "duration": 161,
    "start_time": "2023-03-19T13:49:07.082Z"
   },
   {
    "duration": 212,
    "start_time": "2023-03-19T13:49:07.245Z"
   },
   {
    "duration": 265,
    "start_time": "2023-03-19T13:49:07.460Z"
   },
   {
    "duration": 2326,
    "start_time": "2023-03-19T13:49:07.731Z"
   },
   {
    "duration": 20,
    "start_time": "2023-03-19T13:49:10.059Z"
   },
   {
    "duration": 76,
    "start_time": "2023-03-19T13:49:10.080Z"
   },
   {
    "duration": 72,
    "start_time": "2023-03-19T13:49:10.158Z"
   },
   {
    "duration": 57,
    "start_time": "2023-03-19T13:49:10.232Z"
   },
   {
    "duration": 48,
    "start_time": "2023-03-19T13:49:10.291Z"
   },
   {
    "duration": 50,
    "start_time": "2023-03-19T13:49:10.342Z"
   },
   {
    "duration": 71,
    "start_time": "2023-03-19T13:49:10.394Z"
   },
   {
    "duration": 42,
    "start_time": "2023-03-19T13:49:10.467Z"
   },
   {
    "duration": 58,
    "start_time": "2023-03-19T13:49:10.511Z"
   },
   {
    "duration": 32,
    "start_time": "2023-03-19T13:49:10.571Z"
   },
   {
    "duration": 49,
    "start_time": "2023-03-19T13:49:10.604Z"
   },
   {
    "duration": 37,
    "start_time": "2023-03-19T13:49:10.654Z"
   },
   {
    "duration": 18,
    "start_time": "2023-03-19T13:49:10.693Z"
   },
   {
    "duration": 0,
    "start_time": "2023-03-19T13:49:10.713Z"
   },
   {
    "duration": 0,
    "start_time": "2023-03-19T13:49:10.716Z"
   },
   {
    "duration": 0,
    "start_time": "2023-03-19T13:49:10.717Z"
   },
   {
    "duration": 0,
    "start_time": "2023-03-19T13:49:10.717Z"
   },
   {
    "duration": 17,
    "start_time": "2023-03-19T13:49:26.113Z"
   },
   {
    "duration": 17,
    "start_time": "2023-03-19T13:49:26.133Z"
   },
   {
    "duration": 15,
    "start_time": "2023-03-19T13:49:26.152Z"
   },
   {
    "duration": 26,
    "start_time": "2023-03-19T13:49:26.170Z"
   },
   {
    "duration": 0,
    "start_time": "2023-03-19T13:49:26.198Z"
   },
   {
    "duration": 19,
    "start_time": "2023-03-19T13:51:09.267Z"
   },
   {
    "duration": 19,
    "start_time": "2023-03-19T13:51:27.968Z"
   },
   {
    "duration": 10,
    "start_time": "2023-03-19T13:51:59.931Z"
   },
   {
    "duration": 18,
    "start_time": "2023-03-19T13:52:19.574Z"
   },
   {
    "duration": 12,
    "start_time": "2023-03-19T13:52:44.955Z"
   },
   {
    "duration": 16,
    "start_time": "2023-03-19T13:54:36.736Z"
   },
   {
    "duration": 111,
    "start_time": "2023-03-19T14:00:13.386Z"
   },
   {
    "duration": 20,
    "start_time": "2023-03-19T14:00:13.499Z"
   },
   {
    "duration": 18,
    "start_time": "2023-03-19T14:00:13.521Z"
   },
   {
    "duration": 903,
    "start_time": "2023-03-19T14:00:13.542Z"
   },
   {
    "duration": 30,
    "start_time": "2023-03-19T14:00:14.447Z"
   },
   {
    "duration": 4,
    "start_time": "2023-03-19T14:00:14.479Z"
   },
   {
    "duration": 24,
    "start_time": "2023-03-19T14:00:14.485Z"
   },
   {
    "duration": 19,
    "start_time": "2023-03-19T14:00:14.511Z"
   },
   {
    "duration": 12,
    "start_time": "2023-03-19T14:00:14.532Z"
   },
   {
    "duration": 7,
    "start_time": "2023-03-19T14:00:14.577Z"
   },
   {
    "duration": 10,
    "start_time": "2023-03-19T14:00:14.586Z"
   },
   {
    "duration": 6,
    "start_time": "2023-03-19T14:00:14.597Z"
   },
   {
    "duration": 8,
    "start_time": "2023-03-19T14:00:14.604Z"
   },
   {
    "duration": 16,
    "start_time": "2023-03-19T14:00:14.613Z"
   },
   {
    "duration": 7,
    "start_time": "2023-03-19T14:00:14.631Z"
   },
   {
    "duration": 9,
    "start_time": "2023-03-19T14:00:14.640Z"
   },
   {
    "duration": 7,
    "start_time": "2023-03-19T14:00:14.678Z"
   },
   {
    "duration": 506,
    "start_time": "2023-03-19T14:00:14.686Z"
   },
   {
    "duration": 15,
    "start_time": "2023-03-19T14:00:15.194Z"
   },
   {
    "duration": 16,
    "start_time": "2023-03-19T14:00:15.211Z"
   },
   {
    "duration": 331,
    "start_time": "2023-03-19T14:00:15.228Z"
   },
   {
    "duration": 32,
    "start_time": "2023-03-19T14:00:15.561Z"
   },
   {
    "duration": 161,
    "start_time": "2023-03-19T14:00:15.595Z"
   },
   {
    "duration": 159,
    "start_time": "2023-03-19T14:00:15.758Z"
   },
   {
    "duration": 166,
    "start_time": "2023-03-19T14:00:15.919Z"
   },
   {
    "duration": 161,
    "start_time": "2023-03-19T14:00:16.087Z"
   },
   {
    "duration": 169,
    "start_time": "2023-03-19T14:00:16.250Z"
   },
   {
    "duration": 2134,
    "start_time": "2023-03-19T14:00:16.424Z"
   },
   {
    "duration": 22,
    "start_time": "2023-03-19T14:00:18.561Z"
   },
   {
    "duration": 10,
    "start_time": "2023-03-19T14:00:18.585Z"
   },
   {
    "duration": 10,
    "start_time": "2023-03-19T14:00:18.597Z"
   },
   {
    "duration": 15,
    "start_time": "2023-03-19T14:00:18.609Z"
   },
   {
    "duration": 19,
    "start_time": "2023-03-19T14:00:18.626Z"
   },
   {
    "duration": 14,
    "start_time": "2023-03-19T14:00:18.678Z"
   },
   {
    "duration": 23,
    "start_time": "2023-03-19T14:00:18.694Z"
   },
   {
    "duration": 134,
    "start_time": "2023-03-19T14:00:18.719Z"
   },
   {
    "duration": 44,
    "start_time": "2023-03-19T14:00:18.855Z"
   },
   {
    "duration": 17,
    "start_time": "2023-03-19T14:00:18.900Z"
   },
   {
    "duration": 17,
    "start_time": "2023-03-19T14:00:18.919Z"
   },
   {
    "duration": 40,
    "start_time": "2023-03-19T14:00:18.938Z"
   },
   {
    "duration": 46,
    "start_time": "2023-03-19T14:00:18.981Z"
   },
   {
    "duration": 18,
    "start_time": "2023-03-19T14:00:19.030Z"
   },
   {
    "duration": 16,
    "start_time": "2023-03-19T14:00:19.050Z"
   },
   {
    "duration": 15,
    "start_time": "2023-03-19T14:00:19.068Z"
   },
   {
    "duration": 12,
    "start_time": "2023-03-19T14:00:19.085Z"
   },
   {
    "duration": 10,
    "start_time": "2023-03-19T14:02:34.429Z"
   },
   {
    "duration": 7,
    "start_time": "2023-03-19T14:09:30.424Z"
   },
   {
    "duration": 12,
    "start_time": "2023-03-19T14:11:51.987Z"
   },
   {
    "duration": 11,
    "start_time": "2023-03-19T14:12:53.538Z"
   },
   {
    "duration": 11,
    "start_time": "2023-03-20T07:21:17.007Z"
   },
   {
    "duration": 12,
    "start_time": "2023-03-20T07:21:37.417Z"
   },
   {
    "duration": 15,
    "start_time": "2023-03-20T07:22:41.226Z"
   },
   {
    "duration": 23,
    "start_time": "2023-03-20T07:22:55.164Z"
   },
   {
    "duration": 136,
    "start_time": "2023-03-20T07:23:09.411Z"
   },
   {
    "duration": 28,
    "start_time": "2023-03-20T07:23:09.550Z"
   },
   {
    "duration": 74,
    "start_time": "2023-03-20T07:23:09.579Z"
   },
   {
    "duration": 1042,
    "start_time": "2023-03-20T07:23:09.655Z"
   },
   {
    "duration": 19,
    "start_time": "2023-03-20T07:23:10.699Z"
   },
   {
    "duration": 16,
    "start_time": "2023-03-20T07:23:10.720Z"
   },
   {
    "duration": 42,
    "start_time": "2023-03-20T07:23:10.738Z"
   },
   {
    "duration": 32,
    "start_time": "2023-03-20T07:23:10.783Z"
   },
   {
    "duration": 25,
    "start_time": "2023-03-20T07:23:10.817Z"
   },
   {
    "duration": 19,
    "start_time": "2023-03-20T07:23:10.846Z"
   },
   {
    "duration": 28,
    "start_time": "2023-03-20T07:23:10.868Z"
   },
   {
    "duration": 22,
    "start_time": "2023-03-20T07:23:10.898Z"
   },
   {
    "duration": 32,
    "start_time": "2023-03-20T07:23:10.923Z"
   },
   {
    "duration": 41,
    "start_time": "2023-03-20T07:23:10.958Z"
   },
   {
    "duration": 51,
    "start_time": "2023-03-20T07:23:11.001Z"
   },
   {
    "duration": 70,
    "start_time": "2023-03-20T07:23:11.055Z"
   },
   {
    "duration": 118,
    "start_time": "2023-03-20T07:23:11.127Z"
   },
   {
    "duration": 108,
    "start_time": "2023-03-20T07:23:11.247Z"
   },
   {
    "duration": 640,
    "start_time": "2023-03-20T07:23:11.358Z"
   },
   {
    "duration": 18,
    "start_time": "2023-03-20T07:23:12.001Z"
   },
   {
    "duration": 23,
    "start_time": "2023-03-20T07:23:12.021Z"
   },
   {
    "duration": 416,
    "start_time": "2023-03-20T07:23:12.046Z"
   },
   {
    "duration": 38,
    "start_time": "2023-03-20T07:23:12.465Z"
   },
   {
    "duration": 229,
    "start_time": "2023-03-20T07:23:12.506Z"
   },
   {
    "duration": 220,
    "start_time": "2023-03-20T07:23:12.737Z"
   },
   {
    "duration": 203,
    "start_time": "2023-03-20T07:23:12.959Z"
   },
   {
    "duration": 184,
    "start_time": "2023-03-20T07:23:13.164Z"
   },
   {
    "duration": 200,
    "start_time": "2023-03-20T07:23:13.352Z"
   },
   {
    "duration": 2465,
    "start_time": "2023-03-20T07:23:13.554Z"
   },
   {
    "duration": 15,
    "start_time": "2023-03-20T07:23:16.023Z"
   },
   {
    "duration": 35,
    "start_time": "2023-03-20T07:23:16.040Z"
   },
   {
    "duration": 39,
    "start_time": "2023-03-20T07:23:16.078Z"
   },
   {
    "duration": 17,
    "start_time": "2023-03-20T07:23:16.120Z"
   },
   {
    "duration": 28,
    "start_time": "2023-03-20T07:23:16.138Z"
   },
   {
    "duration": 34,
    "start_time": "2023-03-20T07:23:16.168Z"
   },
   {
    "duration": 29,
    "start_time": "2023-03-20T07:23:16.204Z"
   },
   {
    "duration": 18,
    "start_time": "2023-03-20T07:23:16.235Z"
   },
   {
    "duration": 30,
    "start_time": "2023-03-20T07:23:16.255Z"
   },
   {
    "duration": 25,
    "start_time": "2023-03-20T07:23:16.290Z"
   },
   {
    "duration": 15,
    "start_time": "2023-03-20T07:23:16.317Z"
   },
   {
    "duration": 23,
    "start_time": "2023-03-20T07:23:16.334Z"
   },
   {
    "duration": 28,
    "start_time": "2023-03-20T07:23:16.359Z"
   },
   {
    "duration": 36,
    "start_time": "2023-03-20T07:23:16.388Z"
   },
   {
    "duration": 20,
    "start_time": "2023-03-20T07:23:16.426Z"
   },
   {
    "duration": 16,
    "start_time": "2023-03-20T07:23:16.448Z"
   },
   {
    "duration": 27,
    "start_time": "2023-03-20T07:23:16.466Z"
   },
   {
    "duration": 27,
    "start_time": "2023-03-20T07:23:16.496Z"
   },
   {
    "duration": 17,
    "start_time": "2023-03-20T07:23:16.525Z"
   },
   {
    "duration": 9,
    "start_time": "2023-03-20T08:02:24.422Z"
   },
   {
    "duration": 218,
    "start_time": "2023-03-20T08:22:04.946Z"
   },
   {
    "duration": 16,
    "start_time": "2023-03-20T08:22:31.541Z"
   },
   {
    "duration": 220,
    "start_time": "2023-03-20T08:25:40.478Z"
   },
   {
    "duration": 92,
    "start_time": "2023-03-20T08:26:33.633Z"
   },
   {
    "duration": 199,
    "start_time": "2023-03-20T08:27:14.306Z"
   },
   {
    "duration": 198,
    "start_time": "2023-03-20T08:28:51.403Z"
   },
   {
    "duration": 7,
    "start_time": "2023-03-20T08:32:27.317Z"
   },
   {
    "duration": 515,
    "start_time": "2023-03-20T08:33:07.354Z"
   },
   {
    "duration": 19,
    "start_time": "2023-03-20T08:35:43.710Z"
   },
   {
    "duration": 14,
    "start_time": "2023-03-20T08:35:44.710Z"
   },
   {
    "duration": 114,
    "start_time": "2023-03-20T08:36:17.140Z"
   },
   {
    "duration": 34,
    "start_time": "2023-03-20T08:36:17.256Z"
   },
   {
    "duration": 40,
    "start_time": "2023-03-20T08:36:17.292Z"
   },
   {
    "duration": 992,
    "start_time": "2023-03-20T08:36:17.335Z"
   },
   {
    "duration": 15,
    "start_time": "2023-03-20T08:36:18.329Z"
   },
   {
    "duration": 4,
    "start_time": "2023-03-20T08:36:18.346Z"
   },
   {
    "duration": 46,
    "start_time": "2023-03-20T08:36:18.352Z"
   },
   {
    "duration": 7,
    "start_time": "2023-03-20T08:36:18.400Z"
   },
   {
    "duration": 14,
    "start_time": "2023-03-20T08:36:18.409Z"
   },
   {
    "duration": 17,
    "start_time": "2023-03-20T08:36:18.425Z"
   },
   {
    "duration": 13,
    "start_time": "2023-03-20T08:36:18.444Z"
   },
   {
    "duration": 32,
    "start_time": "2023-03-20T08:36:18.459Z"
   },
   {
    "duration": 12,
    "start_time": "2023-03-20T08:36:18.493Z"
   },
   {
    "duration": 201,
    "start_time": "2023-03-20T08:36:18.509Z"
   },
   {
    "duration": 8,
    "start_time": "2023-03-20T08:36:18.711Z"
   },
   {
    "duration": 522,
    "start_time": "2023-03-20T08:36:18.720Z"
   },
   {
    "duration": 17,
    "start_time": "2023-03-20T08:36:19.244Z"
   },
   {
    "duration": 33,
    "start_time": "2023-03-20T08:36:19.263Z"
   },
   {
    "duration": 406,
    "start_time": "2023-03-20T08:36:19.298Z"
   },
   {
    "duration": 30,
    "start_time": "2023-03-20T08:36:19.705Z"
   },
   {
    "duration": 201,
    "start_time": "2023-03-20T08:36:19.737Z"
   },
   {
    "duration": 202,
    "start_time": "2023-03-20T08:36:19.940Z"
   },
   {
    "duration": 180,
    "start_time": "2023-03-20T08:36:20.144Z"
   },
   {
    "duration": 179,
    "start_time": "2023-03-20T08:36:20.326Z"
   },
   {
    "duration": 214,
    "start_time": "2023-03-20T08:36:20.508Z"
   },
   {
    "duration": 2674,
    "start_time": "2023-03-20T08:36:20.724Z"
   },
   {
    "duration": 12,
    "start_time": "2023-03-20T08:36:23.401Z"
   },
   {
    "duration": 14,
    "start_time": "2023-03-20T08:36:23.415Z"
   },
   {
    "duration": 16,
    "start_time": "2023-03-20T08:36:23.430Z"
   },
   {
    "duration": 38,
    "start_time": "2023-03-20T08:36:23.448Z"
   },
   {
    "duration": 44,
    "start_time": "2023-03-20T08:36:23.488Z"
   },
   {
    "duration": 20,
    "start_time": "2023-03-20T08:36:23.534Z"
   },
   {
    "duration": 30,
    "start_time": "2023-03-20T08:36:23.555Z"
   },
   {
    "duration": 22,
    "start_time": "2023-03-20T08:36:23.587Z"
   },
   {
    "duration": 22,
    "start_time": "2023-03-20T08:36:23.611Z"
   },
   {
    "duration": 17,
    "start_time": "2023-03-20T08:36:23.635Z"
   },
   {
    "duration": 40,
    "start_time": "2023-03-20T08:36:23.654Z"
   },
   {
    "duration": 19,
    "start_time": "2023-03-20T08:36:23.696Z"
   },
   {
    "duration": 16,
    "start_time": "2023-03-20T08:36:23.717Z"
   },
   {
    "duration": 16,
    "start_time": "2023-03-20T08:36:23.735Z"
   },
   {
    "duration": 36,
    "start_time": "2023-03-20T08:36:23.755Z"
   },
   {
    "duration": 20,
    "start_time": "2023-03-20T08:36:23.793Z"
   },
   {
    "duration": 13,
    "start_time": "2023-03-20T08:36:23.815Z"
   },
   {
    "duration": 29,
    "start_time": "2023-03-20T08:36:23.829Z"
   },
   {
    "duration": 13,
    "start_time": "2023-03-20T08:36:23.860Z"
   },
   {
    "duration": 43,
    "start_time": "2023-03-20T08:37:30.440Z"
   },
   {
    "duration": 33,
    "start_time": "2023-03-20T08:37:42.088Z"
   },
   {
    "duration": 8,
    "start_time": "2023-03-20T08:37:50.194Z"
   },
   {
    "duration": 421,
    "start_time": "2023-03-20T08:47:01.895Z"
   },
   {
    "duration": 18,
    "start_time": "2023-03-20T09:57:51.946Z"
   },
   {
    "duration": 365,
    "start_time": "2023-03-20T09:57:53.598Z"
   },
   {
    "duration": 22,
    "start_time": "2023-03-20T09:58:36.066Z"
   },
   {
    "duration": 378,
    "start_time": "2023-03-20T09:58:38.149Z"
   },
   {
    "duration": 409,
    "start_time": "2023-03-20T09:58:49.600Z"
   },
   {
    "duration": 28,
    "start_time": "2023-03-20T10:14:06.352Z"
   },
   {
    "duration": 42,
    "start_time": "2023-03-20T10:15:55.931Z"
   },
   {
    "duration": 40,
    "start_time": "2023-03-20T10:23:39.708Z"
   },
   {
    "duration": 44,
    "start_time": "2023-03-20T10:24:46.816Z"
   },
   {
    "duration": 24,
    "start_time": "2023-03-20T10:25:46.633Z"
   },
   {
    "duration": 17,
    "start_time": "2023-03-20T10:26:44.856Z"
   },
   {
    "duration": 18,
    "start_time": "2023-03-20T10:27:53.985Z"
   },
   {
    "duration": 60,
    "start_time": "2023-03-20T10:28:50.124Z"
   },
   {
    "duration": 36,
    "start_time": "2023-03-20T10:29:17.339Z"
   },
   {
    "duration": 13,
    "start_time": "2023-03-20T10:29:22.375Z"
   },
   {
    "duration": 228,
    "start_time": "2023-03-20T10:29:42.569Z"
   },
   {
    "duration": 196,
    "start_time": "2023-03-20T10:30:45.328Z"
   },
   {
    "duration": 180,
    "start_time": "2023-03-20T10:31:12.772Z"
   },
   {
    "duration": 174,
    "start_time": "2023-03-20T10:32:14.416Z"
   },
   {
    "duration": 10,
    "start_time": "2023-03-20T10:32:49.504Z"
   },
   {
    "duration": 189,
    "start_time": "2023-03-20T10:32:58.672Z"
   },
   {
    "duration": 3801,
    "start_time": "2023-03-20T12:02:46.010Z"
   },
   {
    "duration": 2385,
    "start_time": "2023-03-20T12:06:13.402Z"
   },
   {
    "duration": 52,
    "start_time": "2023-03-20T12:11:38.946Z"
   },
   {
    "duration": 2213,
    "start_time": "2023-03-20T12:11:51.126Z"
   },
   {
    "duration": 2243,
    "start_time": "2023-03-20T12:14:49.828Z"
   },
   {
    "duration": 2293,
    "start_time": "2023-03-20T12:16:03.733Z"
   },
   {
    "duration": 53,
    "start_time": "2023-03-20T12:16:38.815Z"
   },
   {
    "duration": 2124,
    "start_time": "2023-03-20T12:16:46.828Z"
   },
   {
    "duration": 2240,
    "start_time": "2023-03-20T12:18:21.190Z"
   },
   {
    "duration": 2159,
    "start_time": "2023-03-20T12:18:56.070Z"
   },
   {
    "duration": 11,
    "start_time": "2023-03-20T12:20:34.960Z"
   },
   {
    "duration": 164,
    "start_time": "2023-03-20T12:22:29.542Z"
   },
   {
    "duration": 12,
    "start_time": "2023-03-20T12:23:35.013Z"
   },
   {
    "duration": 11,
    "start_time": "2023-03-20T12:23:50.148Z"
   },
   {
    "duration": 13,
    "start_time": "2023-03-20T12:25:50.258Z"
   },
   {
    "duration": 10,
    "start_time": "2023-03-20T12:26:09.149Z"
   },
   {
    "duration": 10,
    "start_time": "2023-03-20T12:27:32.255Z"
   },
   {
    "duration": 10,
    "start_time": "2023-03-20T12:27:43.660Z"
   },
   {
    "duration": 19,
    "start_time": "2023-03-20T12:34:20.422Z"
   },
   {
    "duration": 17,
    "start_time": "2023-03-20T12:39:17.367Z"
   },
   {
    "duration": 14,
    "start_time": "2023-03-20T12:39:30.910Z"
   },
   {
    "duration": 13,
    "start_time": "2023-03-20T12:41:25.442Z"
   },
   {
    "duration": 13,
    "start_time": "2023-03-20T12:41:31.357Z"
   },
   {
    "duration": 11,
    "start_time": "2023-03-20T12:41:37.825Z"
   },
   {
    "duration": 14,
    "start_time": "2023-03-20T12:41:58.638Z"
   },
   {
    "duration": 18,
    "start_time": "2023-03-20T12:42:00.876Z"
   },
   {
    "duration": 17,
    "start_time": "2023-03-20T12:44:23.237Z"
   },
   {
    "duration": 17,
    "start_time": "2023-03-20T12:46:13.736Z"
   },
   {
    "duration": 12,
    "start_time": "2023-03-20T12:46:48.568Z"
   },
   {
    "duration": 7,
    "start_time": "2023-03-20T12:51:40.161Z"
   },
   {
    "duration": 12,
    "start_time": "2023-03-20T12:51:52.367Z"
   },
   {
    "duration": 14,
    "start_time": "2023-03-20T12:52:36.464Z"
   },
   {
    "duration": 7,
    "start_time": "2023-03-20T12:54:46.396Z"
   },
   {
    "duration": 13,
    "start_time": "2023-03-20T12:55:03.171Z"
   },
   {
    "duration": 17,
    "start_time": "2023-03-20T12:55:20.349Z"
   },
   {
    "duration": 15,
    "start_time": "2023-03-20T12:55:37.211Z"
   },
   {
    "duration": 15,
    "start_time": "2023-03-20T12:57:26.699Z"
   },
   {
    "duration": 15,
    "start_time": "2023-03-20T12:59:11.473Z"
   },
   {
    "duration": 13,
    "start_time": "2023-03-20T13:04:10.403Z"
   },
   {
    "duration": 16,
    "start_time": "2023-03-20T13:04:33.341Z"
   },
   {
    "duration": 17,
    "start_time": "2023-03-20T13:30:32.048Z"
   },
   {
    "duration": 17,
    "start_time": "2023-03-20T13:30:47.424Z"
   },
   {
    "duration": 15,
    "start_time": "2023-03-20T13:32:53.430Z"
   },
   {
    "duration": 16,
    "start_time": "2023-03-20T13:33:52.735Z"
   },
   {
    "duration": 14,
    "start_time": "2023-03-20T13:34:39.920Z"
   },
   {
    "duration": 184,
    "start_time": "2023-03-20T13:39:01.216Z"
   },
   {
    "duration": 15,
    "start_time": "2023-03-20T13:39:15.786Z"
   },
   {
    "duration": 163,
    "start_time": "2023-03-20T13:39:30.320Z"
   },
   {
    "duration": 164,
    "start_time": "2023-03-20T13:40:38.137Z"
   },
   {
    "duration": 18,
    "start_time": "2023-03-20T13:40:50.042Z"
   },
   {
    "duration": 15,
    "start_time": "2023-03-20T13:41:26.531Z"
   },
   {
    "duration": 15,
    "start_time": "2023-03-20T13:41:41.071Z"
   },
   {
    "duration": 17,
    "start_time": "2023-03-20T13:41:57.845Z"
   },
   {
    "duration": 16,
    "start_time": "2023-03-20T13:42:08.509Z"
   },
   {
    "duration": 14,
    "start_time": "2023-03-20T13:42:23.554Z"
   },
   {
    "duration": 182,
    "start_time": "2023-03-20T13:42:38.762Z"
   },
   {
    "duration": 187,
    "start_time": "2023-03-20T13:42:55.267Z"
   },
   {
    "duration": 15,
    "start_time": "2023-03-20T13:43:07.626Z"
   },
   {
    "duration": 40,
    "start_time": "2023-03-20T14:10:38.804Z"
   },
   {
    "duration": 389,
    "start_time": "2023-03-20T14:10:39.518Z"
   },
   {
    "duration": 369,
    "start_time": "2023-03-20T14:10:52.422Z"
   },
   {
    "duration": 18,
    "start_time": "2023-03-20T14:11:15.453Z"
   },
   {
    "duration": 367,
    "start_time": "2023-03-20T14:11:16.006Z"
   },
   {
    "duration": 175,
    "start_time": "2023-03-20T14:22:14.915Z"
   },
   {
    "duration": 197,
    "start_time": "2023-03-20T14:24:00.868Z"
   },
   {
    "duration": 178,
    "start_time": "2023-03-20T16:49:02.707Z"
   },
   {
    "duration": 184,
    "start_time": "2023-03-20T16:49:22.799Z"
   },
   {
    "duration": 15,
    "start_time": "2023-03-20T16:57:15.440Z"
   },
   {
    "duration": 16,
    "start_time": "2023-03-20T16:57:43.046Z"
   },
   {
    "duration": 8,
    "start_time": "2023-03-20T17:11:12.810Z"
   },
   {
    "duration": 23,
    "start_time": "2023-03-20T17:11:22.305Z"
   },
   {
    "duration": 20,
    "start_time": "2023-03-20T17:11:54.999Z"
   },
   {
    "duration": 21,
    "start_time": "2023-03-20T17:12:23.160Z"
   },
   {
    "duration": 18,
    "start_time": "2023-03-20T17:13:20.219Z"
   },
   {
    "duration": 18,
    "start_time": "2023-03-20T17:13:29.512Z"
   },
   {
    "duration": 20,
    "start_time": "2023-03-20T17:13:47.957Z"
   },
   {
    "duration": 20,
    "start_time": "2023-03-20T17:13:59.335Z"
   },
   {
    "duration": 184,
    "start_time": "2023-03-20T17:14:19.890Z"
   },
   {
    "duration": 5,
    "start_time": "2023-03-20T17:15:56.755Z"
   },
   {
    "duration": 14,
    "start_time": "2023-03-20T17:16:01.919Z"
   },
   {
    "duration": 14,
    "start_time": "2023-03-20T17:16:15.340Z"
   },
   {
    "duration": 14,
    "start_time": "2023-03-20T17:17:08.575Z"
   },
   {
    "duration": 173,
    "start_time": "2023-03-20T17:17:26.579Z"
   },
   {
    "duration": 17,
    "start_time": "2023-03-20T17:17:43.003Z"
   },
   {
    "duration": 14,
    "start_time": "2023-03-20T17:17:53.116Z"
   },
   {
    "duration": 167,
    "start_time": "2023-03-20T17:18:02.204Z"
   },
   {
    "duration": 15,
    "start_time": "2023-03-20T17:18:15.796Z"
   },
   {
    "duration": 22,
    "start_time": "2023-03-20T17:18:48.691Z"
   },
   {
    "duration": 17,
    "start_time": "2023-03-20T17:18:52.515Z"
   },
   {
    "duration": 200,
    "start_time": "2023-03-20T17:18:55.249Z"
   },
   {
    "duration": 6,
    "start_time": "2023-03-20T17:19:43.415Z"
   },
   {
    "duration": 14,
    "start_time": "2023-03-20T17:19:45.830Z"
   },
   {
    "duration": 160,
    "start_time": "2023-03-20T17:19:52.952Z"
   },
   {
    "duration": 15,
    "start_time": "2023-03-20T17:20:33.384Z"
   },
   {
    "duration": 14,
    "start_time": "2023-03-20T17:20:36.639Z"
   },
   {
    "duration": 184,
    "start_time": "2023-03-20T17:20:39.651Z"
   },
   {
    "duration": 16,
    "start_time": "2023-03-20T17:20:44.185Z"
   },
   {
    "duration": 16,
    "start_time": "2023-03-20T17:20:47.628Z"
   },
   {
    "duration": 178,
    "start_time": "2023-03-20T17:20:48.539Z"
   },
   {
    "duration": 20,
    "start_time": "2023-03-20T17:20:56.055Z"
   },
   {
    "duration": 45,
    "start_time": "2023-03-20T17:29:28.098Z"
   },
   {
    "duration": 41,
    "start_time": "2023-03-20T17:32:06.061Z"
   },
   {
    "duration": 75,
    "start_time": "2023-03-20T17:34:41.288Z"
   },
   {
    "duration": 18,
    "start_time": "2023-03-20T17:43:21.233Z"
   },
   {
    "duration": 17,
    "start_time": "2023-03-20T17:43:32.684Z"
   },
   {
    "duration": 20,
    "start_time": "2023-03-20T17:43:42.477Z"
   },
   {
    "duration": 6,
    "start_time": "2023-03-20T17:45:01.551Z"
   },
   {
    "duration": 12,
    "start_time": "2023-03-20T17:46:17.879Z"
   },
   {
    "duration": 12,
    "start_time": "2023-03-20T17:48:34.704Z"
   },
   {
    "duration": 13,
    "start_time": "2023-03-20T17:49:44.488Z"
   },
   {
    "duration": 10,
    "start_time": "2023-03-20T17:49:57.029Z"
   },
   {
    "duration": 12,
    "start_time": "2023-03-20T17:50:12.787Z"
   },
   {
    "duration": 47,
    "start_time": "2023-03-20T17:50:21.712Z"
   },
   {
    "duration": 63,
    "start_time": "2023-03-20T18:18:50.780Z"
   },
   {
    "duration": 15,
    "start_time": "2023-03-20T18:36:07.715Z"
   },
   {
    "duration": 7,
    "start_time": "2023-03-20T18:36:23.383Z"
   },
   {
    "duration": 14,
    "start_time": "2023-03-20T18:36:33.171Z"
   },
   {
    "duration": 170,
    "start_time": "2023-03-20T18:36:49.016Z"
   },
   {
    "duration": 19,
    "start_time": "2023-03-20T18:37:05.592Z"
   },
   {
    "duration": 16,
    "start_time": "2023-03-20T18:37:20.436Z"
   },
   {
    "duration": 174,
    "start_time": "2023-03-20T18:37:33.048Z"
   },
   {
    "duration": 22,
    "start_time": "2023-03-20T18:37:52.291Z"
   },
   {
    "duration": 14,
    "start_time": "2023-03-20T18:38:01.067Z"
   },
   {
    "duration": 184,
    "start_time": "2023-03-20T18:38:20.081Z"
   },
   {
    "duration": 19,
    "start_time": "2023-03-20T18:38:29.094Z"
   },
   {
    "duration": 11,
    "start_time": "2023-03-20T18:42:20.893Z"
   },
   {
    "duration": 11,
    "start_time": "2023-03-20T18:42:23.972Z"
   },
   {
    "duration": 11,
    "start_time": "2023-03-20T18:42:51.929Z"
   },
   {
    "duration": 99,
    "start_time": "2023-03-20T19:08:31.508Z"
   },
   {
    "duration": 22,
    "start_time": "2023-03-20T19:08:31.609Z"
   },
   {
    "duration": 42,
    "start_time": "2023-03-20T19:08:31.633Z"
   },
   {
    "duration": 1036,
    "start_time": "2023-03-20T19:08:31.678Z"
   },
   {
    "duration": 18,
    "start_time": "2023-03-20T19:08:32.716Z"
   },
   {
    "duration": 10,
    "start_time": "2023-03-20T19:08:32.736Z"
   },
   {
    "duration": 33,
    "start_time": "2023-03-20T19:08:32.748Z"
   },
   {
    "duration": 17,
    "start_time": "2023-03-20T19:08:32.782Z"
   },
   {
    "duration": 24,
    "start_time": "2023-03-20T19:08:32.801Z"
   },
   {
    "duration": 12,
    "start_time": "2023-03-20T19:08:32.828Z"
   },
   {
    "duration": 30,
    "start_time": "2023-03-20T19:08:32.841Z"
   },
   {
    "duration": 21,
    "start_time": "2023-03-20T19:08:32.873Z"
   },
   {
    "duration": 8,
    "start_time": "2023-03-20T19:08:32.896Z"
   },
   {
    "duration": 186,
    "start_time": "2023-03-20T19:08:32.906Z"
   },
   {
    "duration": 7,
    "start_time": "2023-03-20T19:08:33.097Z"
   },
   {
    "duration": 466,
    "start_time": "2023-03-20T19:08:33.106Z"
   },
   {
    "duration": 23,
    "start_time": "2023-03-20T19:08:33.574Z"
   },
   {
    "duration": 391,
    "start_time": "2023-03-20T19:08:33.599Z"
   },
   {
    "duration": 39,
    "start_time": "2023-03-20T19:08:33.992Z"
   },
   {
    "duration": 178,
    "start_time": "2023-03-20T19:08:34.033Z"
   },
   {
    "duration": 177,
    "start_time": "2023-03-20T19:08:34.213Z"
   },
   {
    "duration": 156,
    "start_time": "2023-03-20T19:08:34.392Z"
   },
   {
    "duration": 153,
    "start_time": "2023-03-20T19:08:34.550Z"
   },
   {
    "duration": 45,
    "start_time": "2023-03-20T19:08:34.705Z"
   },
   {
    "duration": 0,
    "start_time": "2023-03-20T19:08:34.752Z"
   },
   {
    "duration": 0,
    "start_time": "2023-03-20T19:08:34.754Z"
   },
   {
    "duration": 0,
    "start_time": "2023-03-20T19:08:34.755Z"
   },
   {
    "duration": 0,
    "start_time": "2023-03-20T19:08:34.757Z"
   },
   {
    "duration": 0,
    "start_time": "2023-03-20T19:08:34.758Z"
   },
   {
    "duration": 0,
    "start_time": "2023-03-20T19:08:34.759Z"
   },
   {
    "duration": 0,
    "start_time": "2023-03-20T19:08:34.760Z"
   },
   {
    "duration": 1,
    "start_time": "2023-03-20T19:08:34.760Z"
   },
   {
    "duration": 0,
    "start_time": "2023-03-20T19:08:34.761Z"
   },
   {
    "duration": 0,
    "start_time": "2023-03-20T19:08:34.763Z"
   },
   {
    "duration": 0,
    "start_time": "2023-03-20T19:08:34.764Z"
   },
   {
    "duration": 0,
    "start_time": "2023-03-20T19:08:34.765Z"
   },
   {
    "duration": 0,
    "start_time": "2023-03-20T19:08:34.765Z"
   },
   {
    "duration": 0,
    "start_time": "2023-03-20T19:08:34.767Z"
   },
   {
    "duration": 0,
    "start_time": "2023-03-20T19:08:34.768Z"
   },
   {
    "duration": 0,
    "start_time": "2023-03-20T19:08:34.770Z"
   },
   {
    "duration": 0,
    "start_time": "2023-03-20T19:08:34.771Z"
   },
   {
    "duration": 0,
    "start_time": "2023-03-20T19:08:34.772Z"
   },
   {
    "duration": 0,
    "start_time": "2023-03-20T19:08:34.773Z"
   },
   {
    "duration": 0,
    "start_time": "2023-03-20T19:08:34.775Z"
   },
   {
    "duration": 0,
    "start_time": "2023-03-20T19:08:34.776Z"
   },
   {
    "duration": 2361,
    "start_time": "2023-03-20T19:09:05.643Z"
   },
   {
    "duration": 10,
    "start_time": "2023-03-20T19:09:08.006Z"
   },
   {
    "duration": 52,
    "start_time": "2023-03-20T19:09:08.018Z"
   },
   {
    "duration": 16,
    "start_time": "2023-03-20T19:09:08.072Z"
   },
   {
    "duration": 16,
    "start_time": "2023-03-20T19:09:08.090Z"
   },
   {
    "duration": 13,
    "start_time": "2023-03-20T19:09:08.108Z"
   },
   {
    "duration": 203,
    "start_time": "2023-03-20T19:09:08.123Z"
   },
   {
    "duration": 55,
    "start_time": "2023-03-20T19:09:08.328Z"
   },
   {
    "duration": 0,
    "start_time": "2023-03-20T19:09:08.385Z"
   },
   {
    "duration": 0,
    "start_time": "2023-03-20T19:09:08.386Z"
   },
   {
    "duration": 1,
    "start_time": "2023-03-20T19:09:08.387Z"
   },
   {
    "duration": 0,
    "start_time": "2023-03-20T19:09:08.389Z"
   },
   {
    "duration": 0,
    "start_time": "2023-03-20T19:09:08.390Z"
   },
   {
    "duration": 0,
    "start_time": "2023-03-20T19:09:08.391Z"
   },
   {
    "duration": 0,
    "start_time": "2023-03-20T19:09:08.392Z"
   },
   {
    "duration": 0,
    "start_time": "2023-03-20T19:09:08.393Z"
   },
   {
    "duration": 0,
    "start_time": "2023-03-20T19:09:08.394Z"
   },
   {
    "duration": 0,
    "start_time": "2023-03-20T19:09:08.395Z"
   },
   {
    "duration": 0,
    "start_time": "2023-03-20T19:09:08.396Z"
   },
   {
    "duration": 0,
    "start_time": "2023-03-20T19:09:08.397Z"
   },
   {
    "duration": 0,
    "start_time": "2023-03-20T19:09:08.398Z"
   },
   {
    "duration": 6,
    "start_time": "2023-03-20T19:09:45.289Z"
   },
   {
    "duration": 21,
    "start_time": "2023-03-20T19:09:45.297Z"
   },
   {
    "duration": 147,
    "start_time": "2023-03-20T19:09:45.320Z"
   },
   {
    "duration": 12,
    "start_time": "2023-03-20T19:09:45.469Z"
   },
   {
    "duration": 24,
    "start_time": "2023-03-20T19:09:45.482Z"
   },
   {
    "duration": 169,
    "start_time": "2023-03-20T19:09:45.508Z"
   },
   {
    "duration": 21,
    "start_time": "2023-03-20T19:09:45.679Z"
   },
   {
    "duration": 15,
    "start_time": "2023-03-20T19:09:45.702Z"
   },
   {
    "duration": 157,
    "start_time": "2023-03-20T19:09:45.719Z"
   },
   {
    "duration": 19,
    "start_time": "2023-03-20T19:09:45.878Z"
   },
   {
    "duration": 7,
    "start_time": "2023-03-20T19:09:45.899Z"
   },
   {
    "duration": 15,
    "start_time": "2023-03-20T19:09:45.908Z"
   },
   {
    "duration": 16,
    "start_time": "2023-03-20T19:09:45.925Z"
   },
   {
    "duration": 939,
    "start_time": "2023-03-20T20:51:18.450Z"
   },
   {
    "duration": 71,
    "start_time": "2023-03-20T20:51:19.391Z"
   },
   {
    "duration": 79,
    "start_time": "2023-03-20T20:51:19.465Z"
   },
   {
    "duration": 2105,
    "start_time": "2023-03-20T20:51:19.546Z"
   },
   {
    "duration": 18,
    "start_time": "2023-03-20T20:51:21.653Z"
   },
   {
    "duration": 4,
    "start_time": "2023-03-20T20:51:21.673Z"
   },
   {
    "duration": 20,
    "start_time": "2023-03-20T20:51:21.740Z"
   },
   {
    "duration": 12,
    "start_time": "2023-03-20T20:51:21.762Z"
   },
   {
    "duration": 72,
    "start_time": "2023-03-20T20:51:21.775Z"
   },
   {
    "duration": 9,
    "start_time": "2023-03-20T20:51:21.850Z"
   },
   {
    "duration": 86,
    "start_time": "2023-03-20T20:51:21.860Z"
   },
   {
    "duration": 19,
    "start_time": "2023-03-20T20:51:21.948Z"
   },
   {
    "duration": 9,
    "start_time": "2023-03-20T20:51:21.969Z"
   },
   {
    "duration": 387,
    "start_time": "2023-03-20T20:51:21.980Z"
   },
   {
    "duration": 9,
    "start_time": "2023-03-20T20:51:22.368Z"
   },
   {
    "duration": 1090,
    "start_time": "2023-03-20T20:51:22.379Z"
   },
   {
    "duration": 70,
    "start_time": "2023-03-20T20:51:23.471Z"
   },
   {
    "duration": 815,
    "start_time": "2023-03-20T20:51:23.543Z"
   },
   {
    "duration": 97,
    "start_time": "2023-03-20T20:51:24.359Z"
   },
   {
    "duration": 405,
    "start_time": "2023-03-20T20:51:24.458Z"
   },
   {
    "duration": 300,
    "start_time": "2023-03-20T20:51:24.865Z"
   },
   {
    "duration": 283,
    "start_time": "2023-03-20T20:51:25.167Z"
   },
   {
    "duration": 304,
    "start_time": "2023-03-20T20:51:25.453Z"
   },
   {
    "duration": 226,
    "start_time": "2023-03-20T20:51:25.759Z"
   },
   {
    "duration": 0,
    "start_time": "2023-03-20T20:51:25.988Z"
   },
   {
    "duration": 0,
    "start_time": "2023-03-20T20:51:26.041Z"
   },
   {
    "duration": 0,
    "start_time": "2023-03-20T20:51:26.043Z"
   },
   {
    "duration": 0,
    "start_time": "2023-03-20T20:51:26.044Z"
   },
   {
    "duration": 0,
    "start_time": "2023-03-20T20:51:26.046Z"
   },
   {
    "duration": 0,
    "start_time": "2023-03-20T20:51:26.048Z"
   },
   {
    "duration": 0,
    "start_time": "2023-03-20T20:51:26.049Z"
   },
   {
    "duration": 0,
    "start_time": "2023-03-20T20:51:26.051Z"
   },
   {
    "duration": 0,
    "start_time": "2023-03-20T20:51:26.052Z"
   },
   {
    "duration": 0,
    "start_time": "2023-03-20T20:51:26.053Z"
   },
   {
    "duration": 0,
    "start_time": "2023-03-20T20:51:26.054Z"
   },
   {
    "duration": 0,
    "start_time": "2023-03-20T20:51:26.055Z"
   },
   {
    "duration": 0,
    "start_time": "2023-03-20T20:51:26.056Z"
   },
   {
    "duration": 0,
    "start_time": "2023-03-20T20:51:26.058Z"
   },
   {
    "duration": 0,
    "start_time": "2023-03-20T20:51:26.059Z"
   },
   {
    "duration": 0,
    "start_time": "2023-03-20T20:51:26.060Z"
   },
   {
    "duration": 0,
    "start_time": "2023-03-20T20:51:26.062Z"
   },
   {
    "duration": 0,
    "start_time": "2023-03-20T20:51:26.063Z"
   },
   {
    "duration": 0,
    "start_time": "2023-03-20T20:51:26.068Z"
   },
   {
    "duration": 75,
    "start_time": "2023-03-21T06:17:58.876Z"
   },
   {
    "duration": 1454,
    "start_time": "2023-03-21T06:21:25.688Z"
   },
   {
    "duration": 185,
    "start_time": "2023-03-21T06:21:32.602Z"
   },
   {
    "duration": 22,
    "start_time": "2023-03-21T06:21:32.789Z"
   },
   {
    "duration": 13,
    "start_time": "2023-03-21T06:21:32.813Z"
   },
   {
    "duration": 668,
    "start_time": "2023-03-21T06:21:32.829Z"
   },
   {
    "duration": 15,
    "start_time": "2023-03-21T06:21:33.499Z"
   },
   {
    "duration": 4,
    "start_time": "2023-03-21T06:21:33.515Z"
   },
   {
    "duration": 29,
    "start_time": "2023-03-21T06:21:33.521Z"
   },
   {
    "duration": 7,
    "start_time": "2023-03-21T06:21:33.551Z"
   },
   {
    "duration": 10,
    "start_time": "2023-03-21T06:21:33.560Z"
   },
   {
    "duration": 13,
    "start_time": "2023-03-21T06:21:33.572Z"
   },
   {
    "duration": 7,
    "start_time": "2023-03-21T06:21:33.587Z"
   },
   {
    "duration": 7,
    "start_time": "2023-03-21T06:21:33.595Z"
   },
   {
    "duration": 7,
    "start_time": "2023-03-21T06:21:33.603Z"
   },
   {
    "duration": 159,
    "start_time": "2023-03-21T06:21:33.611Z"
   },
   {
    "duration": 6,
    "start_time": "2023-03-21T06:21:33.772Z"
   },
   {
    "duration": 447,
    "start_time": "2023-03-21T06:21:33.779Z"
   },
   {
    "duration": 16,
    "start_time": "2023-03-21T06:21:34.228Z"
   },
   {
    "duration": 298,
    "start_time": "2023-03-21T06:21:34.245Z"
   },
   {
    "duration": 52,
    "start_time": "2023-03-21T06:21:34.545Z"
   },
   {
    "duration": 150,
    "start_time": "2023-03-21T06:21:34.599Z"
   },
   {
    "duration": 213,
    "start_time": "2023-03-21T06:21:34.750Z"
   },
   {
    "duration": 151,
    "start_time": "2023-03-21T06:21:34.965Z"
   },
   {
    "duration": 130,
    "start_time": "2023-03-21T06:21:35.118Z"
   },
   {
    "duration": 1404,
    "start_time": "2023-03-21T06:21:35.250Z"
   },
   {
    "duration": 12,
    "start_time": "2023-03-21T06:21:36.656Z"
   },
   {
    "duration": 10,
    "start_time": "2023-03-21T06:21:36.670Z"
   },
   {
    "duration": 10,
    "start_time": "2023-03-21T06:21:36.682Z"
   },
   {
    "duration": 46,
    "start_time": "2023-03-21T06:21:36.696Z"
   },
   {
    "duration": 15,
    "start_time": "2023-03-21T06:21:36.744Z"
   },
   {
    "duration": 165,
    "start_time": "2023-03-21T06:21:36.761Z"
   },
   {
    "duration": 5,
    "start_time": "2023-03-21T06:21:36.927Z"
   },
   {
    "duration": 12,
    "start_time": "2023-03-21T06:21:36.939Z"
   },
   {
    "duration": 124,
    "start_time": "2023-03-21T06:21:36.952Z"
   },
   {
    "duration": 13,
    "start_time": "2023-03-21T06:21:37.077Z"
   },
   {
    "duration": 11,
    "start_time": "2023-03-21T06:21:37.091Z"
   },
   {
    "duration": 213,
    "start_time": "2023-03-21T06:21:37.104Z"
   },
   {
    "duration": 12,
    "start_time": "2023-03-21T06:21:37.318Z"
   },
   {
    "duration": 12,
    "start_time": "2023-03-21T06:21:37.340Z"
   },
   {
    "duration": 124,
    "start_time": "2023-03-21T06:21:37.353Z"
   },
   {
    "duration": 11,
    "start_time": "2023-03-21T06:21:37.479Z"
   },
   {
    "duration": 5,
    "start_time": "2023-03-21T06:21:37.491Z"
   },
   {
    "duration": 9,
    "start_time": "2023-03-21T06:21:37.497Z"
   },
   {
    "duration": 33,
    "start_time": "2023-03-21T06:21:37.508Z"
   },
   {
    "duration": 66,
    "start_time": "2023-03-22T06:48:02.576Z"
   },
   {
    "duration": 613,
    "start_time": "2023-03-22T06:48:10.138Z"
   },
   {
    "duration": 27,
    "start_time": "2023-03-22T06:48:10.753Z"
   },
   {
    "duration": 22,
    "start_time": "2023-03-22T06:48:10.784Z"
   },
   {
    "duration": 1336,
    "start_time": "2023-03-22T06:48:10.809Z"
   },
   {
    "duration": 17,
    "start_time": "2023-03-22T06:48:12.147Z"
   },
   {
    "duration": 3,
    "start_time": "2023-03-22T06:48:12.166Z"
   },
   {
    "duration": 39,
    "start_time": "2023-03-22T06:48:12.171Z"
   },
   {
    "duration": 7,
    "start_time": "2023-03-22T06:48:12.211Z"
   },
   {
    "duration": 10,
    "start_time": "2023-03-22T06:48:12.220Z"
   },
   {
    "duration": 84,
    "start_time": "2023-03-22T06:48:12.232Z"
   },
   {
    "duration": 9,
    "start_time": "2023-03-22T06:48:12.317Z"
   },
   {
    "duration": 5,
    "start_time": "2023-03-22T06:48:12.327Z"
   },
   {
    "duration": 4,
    "start_time": "2023-03-22T06:48:12.334Z"
   },
   {
    "duration": 198,
    "start_time": "2023-03-22T06:48:12.340Z"
   },
   {
    "duration": 84,
    "start_time": "2023-03-22T06:50:13.468Z"
   },
   {
    "duration": 36,
    "start_time": "2023-03-22T06:51:26.406Z"
   },
   {
    "duration": 137,
    "start_time": "2023-03-22T06:51:34.207Z"
   },
   {
    "duration": 20,
    "start_time": "2023-03-22T06:51:34.346Z"
   },
   {
    "duration": 16,
    "start_time": "2023-03-22T06:51:34.367Z"
   },
   {
    "duration": 860,
    "start_time": "2023-03-22T06:51:34.385Z"
   },
   {
    "duration": 17,
    "start_time": "2023-03-22T06:51:35.247Z"
   },
   {
    "duration": 3,
    "start_time": "2023-03-22T06:51:35.265Z"
   },
   {
    "duration": 40,
    "start_time": "2023-03-22T06:51:35.270Z"
   },
   {
    "duration": 9,
    "start_time": "2023-03-22T06:51:35.311Z"
   },
   {
    "duration": 22,
    "start_time": "2023-03-22T06:51:35.322Z"
   },
   {
    "duration": 10,
    "start_time": "2023-03-22T06:51:35.345Z"
   },
   {
    "duration": 30,
    "start_time": "2023-03-22T06:51:35.356Z"
   },
   {
    "duration": 12,
    "start_time": "2023-03-22T06:51:35.388Z"
   },
   {
    "duration": 23,
    "start_time": "2023-03-22T06:51:35.402Z"
   },
   {
    "duration": 183,
    "start_time": "2023-03-22T06:51:35.428Z"
   },
   {
    "duration": 8,
    "start_time": "2023-03-22T06:51:35.613Z"
   },
   {
    "duration": 155,
    "start_time": "2023-03-22T06:51:36.338Z"
   },
   {
    "duration": 702,
    "start_time": "2023-03-22T06:51:47.205Z"
   },
   {
    "duration": 242,
    "start_time": "2023-03-22T06:52:19.132Z"
   },
   {
    "duration": 11,
    "start_time": "2023-03-22T06:56:50.243Z"
   },
   {
    "duration": 133,
    "start_time": "2023-03-22T06:56:57.739Z"
   },
   {
    "duration": 30,
    "start_time": "2023-03-22T06:56:57.874Z"
   },
   {
    "duration": 15,
    "start_time": "2023-03-22T06:56:57.906Z"
   },
   {
    "duration": 955,
    "start_time": "2023-03-22T06:56:57.924Z"
   },
   {
    "duration": 22,
    "start_time": "2023-03-22T06:56:58.890Z"
   },
   {
    "duration": 32,
    "start_time": "2023-03-22T06:56:58.914Z"
   },
   {
    "duration": 57,
    "start_time": "2023-03-22T06:56:58.948Z"
   },
   {
    "duration": 64,
    "start_time": "2023-03-22T06:56:59.007Z"
   },
   {
    "duration": 46,
    "start_time": "2023-03-22T06:56:59.072Z"
   },
   {
    "duration": 32,
    "start_time": "2023-03-22T06:56:59.122Z"
   },
   {
    "duration": 31,
    "start_time": "2023-03-22T06:56:59.156Z"
   },
   {
    "duration": 40,
    "start_time": "2023-03-22T06:56:59.194Z"
   },
   {
    "duration": 67,
    "start_time": "2023-03-22T06:56:59.236Z"
   },
   {
    "duration": 208,
    "start_time": "2023-03-22T06:56:59.306Z"
   },
   {
    "duration": 8,
    "start_time": "2023-03-22T06:56:59.515Z"
   },
   {
    "duration": 280,
    "start_time": "2023-03-22T06:56:59.525Z"
   },
   {
    "duration": 18,
    "start_time": "2023-03-22T06:56:59.806Z"
   },
   {
    "duration": 424,
    "start_time": "2023-03-22T06:56:59.826Z"
   },
   {
    "duration": 63,
    "start_time": "2023-03-22T06:57:00.252Z"
   },
   {
    "duration": 273,
    "start_time": "2023-03-22T06:57:00.317Z"
   },
   {
    "duration": 186,
    "start_time": "2023-03-22T06:57:00.593Z"
   },
   {
    "duration": 158,
    "start_time": "2023-03-22T06:57:00.781Z"
   },
   {
    "duration": 174,
    "start_time": "2023-03-22T06:57:00.941Z"
   },
   {
    "duration": 2271,
    "start_time": "2023-03-22T06:57:01.117Z"
   },
   {
    "duration": 19,
    "start_time": "2023-03-22T06:57:03.390Z"
   },
   {
    "duration": 10,
    "start_time": "2023-03-22T06:57:03.412Z"
   },
   {
    "duration": 47,
    "start_time": "2023-03-22T06:57:03.424Z"
   },
   {
    "duration": 16,
    "start_time": "2023-03-22T06:57:07.247Z"
   },
   {
    "duration": 21,
    "start_time": "2023-03-22T06:58:02.679Z"
   },
   {
    "duration": 15,
    "start_time": "2023-03-22T06:58:16.246Z"
   },
   {
    "duration": 14,
    "start_time": "2023-03-22T06:58:33.304Z"
   },
   {
    "duration": 177,
    "start_time": "2023-03-22T06:58:45.237Z"
   },
   {
    "duration": 337,
    "start_time": "2023-03-22T06:59:22.610Z"
   },
   {
    "duration": 191,
    "start_time": "2023-03-22T06:59:31.734Z"
   },
   {
    "duration": 205,
    "start_time": "2023-03-22T07:00:25.533Z"
   },
   {
    "duration": 266,
    "start_time": "2023-03-22T07:00:40.383Z"
   },
   {
    "duration": 123,
    "start_time": "2023-03-22T07:31:59.797Z"
   },
   {
    "duration": 2,
    "start_time": "2023-03-22T07:32:49.189Z"
   },
   {
    "duration": 940,
    "start_time": "2023-03-22T07:59:57.536Z"
   },
   {
    "duration": 88,
    "start_time": "2023-03-22T08:01:37.231Z"
   },
   {
    "duration": 55,
    "start_time": "2023-03-22T08:02:28.550Z"
   },
   {
    "duration": 19,
    "start_time": "2023-03-22T08:02:52.183Z"
   },
   {
    "duration": 1353,
    "start_time": "2023-03-22T08:05:56.723Z"
   },
   {
    "duration": 1427,
    "start_time": "2023-03-22T08:06:06.836Z"
   },
   {
    "duration": 4,
    "start_time": "2023-03-22T08:06:12.484Z"
   },
   {
    "duration": 469,
    "start_time": "2023-03-22T08:06:12.494Z"
   },
   {
    "duration": 35,
    "start_time": "2023-03-22T08:06:12.966Z"
   },
   {
    "duration": 22,
    "start_time": "2023-03-22T08:06:13.007Z"
   },
   {
    "duration": 906,
    "start_time": "2023-03-22T08:06:13.032Z"
   },
   {
    "duration": 18,
    "start_time": "2023-03-22T08:06:13.940Z"
   },
   {
    "duration": 4,
    "start_time": "2023-03-22T08:06:13.960Z"
   },
   {
    "duration": 44,
    "start_time": "2023-03-22T08:06:13.966Z"
   },
   {
    "duration": 11,
    "start_time": "2023-03-22T08:06:14.012Z"
   },
   {
    "duration": 26,
    "start_time": "2023-03-22T08:06:14.025Z"
   },
   {
    "duration": 8,
    "start_time": "2023-03-22T08:06:14.053Z"
   },
   {
    "duration": 8,
    "start_time": "2023-03-22T08:06:14.063Z"
   },
   {
    "duration": 19,
    "start_time": "2023-03-22T08:06:14.073Z"
   },
   {
    "duration": 8,
    "start_time": "2023-03-22T08:06:14.097Z"
   },
   {
    "duration": 206,
    "start_time": "2023-03-22T08:06:14.110Z"
   },
   {
    "duration": 8,
    "start_time": "2023-03-22T08:06:14.318Z"
   },
   {
    "duration": 421,
    "start_time": "2023-03-22T08:06:14.327Z"
   },
   {
    "duration": 20,
    "start_time": "2023-03-22T08:06:14.750Z"
   },
   {
    "duration": 396,
    "start_time": "2023-03-22T08:06:14.773Z"
   },
   {
    "duration": 55,
    "start_time": "2023-03-22T08:06:15.171Z"
   },
   {
    "duration": 182,
    "start_time": "2023-03-22T08:06:15.228Z"
   },
   {
    "duration": 151,
    "start_time": "2023-03-22T08:06:15.412Z"
   },
   {
    "duration": 164,
    "start_time": "2023-03-22T08:06:15.564Z"
   },
   {
    "duration": 148,
    "start_time": "2023-03-22T08:06:15.730Z"
   },
   {
    "duration": 1983,
    "start_time": "2023-03-22T08:06:15.880Z"
   },
   {
    "duration": 10,
    "start_time": "2023-03-22T08:06:17.865Z"
   },
   {
    "duration": 28,
    "start_time": "2023-03-22T08:06:17.877Z"
   },
   {
    "duration": 16,
    "start_time": "2023-03-22T08:06:17.907Z"
   },
   {
    "duration": 27,
    "start_time": "2023-03-22T08:06:17.925Z"
   },
   {
    "duration": 17,
    "start_time": "2023-03-22T08:06:17.954Z"
   },
   {
    "duration": 196,
    "start_time": "2023-03-22T08:06:17.989Z"
   },
   {
    "duration": 7,
    "start_time": "2023-03-22T08:06:18.190Z"
   },
   {
    "duration": 20,
    "start_time": "2023-03-22T08:06:18.200Z"
   },
   {
    "duration": 195,
    "start_time": "2023-03-22T08:06:18.222Z"
   },
   {
    "duration": 15,
    "start_time": "2023-03-22T08:06:18.418Z"
   },
   {
    "duration": 18,
    "start_time": "2023-03-22T08:06:18.434Z"
   },
   {
    "duration": 225,
    "start_time": "2023-03-22T08:06:18.454Z"
   },
   {
    "duration": 23,
    "start_time": "2023-03-22T08:06:18.681Z"
   },
   {
    "duration": 17,
    "start_time": "2023-03-22T08:06:18.706Z"
   },
   {
    "duration": 178,
    "start_time": "2023-03-22T08:06:18.724Z"
   },
   {
    "duration": 18,
    "start_time": "2023-03-22T08:06:18.907Z"
   },
   {
    "duration": 6,
    "start_time": "2023-03-22T08:06:18.927Z"
   },
   {
    "duration": 22,
    "start_time": "2023-03-22T08:06:18.935Z"
   },
   {
    "duration": 33,
    "start_time": "2023-03-22T08:06:18.962Z"
   },
   {
    "duration": 38,
    "start_time": "2023-03-22T08:06:22.890Z"
   },
   {
    "duration": 5,
    "start_time": "2023-03-22T08:07:32.135Z"
   },
   {
    "duration": 23,
    "start_time": "2023-03-22T08:07:53.108Z"
   },
   {
    "duration": 175,
    "start_time": "2023-03-22T08:08:56.684Z"
   },
   {
    "duration": 388,
    "start_time": "2023-03-22T08:09:09.183Z"
   },
   {
    "duration": 228,
    "start_time": "2023-03-22T08:10:02.966Z"
   },
   {
    "duration": 246,
    "start_time": "2023-03-22T08:10:32.493Z"
   },
   {
    "duration": 227,
    "start_time": "2023-03-22T08:11:03.335Z"
   },
   {
    "duration": 104,
    "start_time": "2023-03-22T08:56:07.349Z"
   },
   {
    "duration": 19,
    "start_time": "2023-03-22T09:01:22.367Z"
   },
   {
    "duration": 1027,
    "start_time": "2023-03-22T09:02:02.836Z"
   },
   {
    "duration": 1211,
    "start_time": "2023-03-22T09:02:25.448Z"
   },
   {
    "duration": 1101,
    "start_time": "2023-03-22T10:10:19.580Z"
   },
   {
    "duration": 888,
    "start_time": "2023-03-22T10:12:10.123Z"
   },
   {
    "duration": 869,
    "start_time": "2023-03-22T10:12:26.087Z"
   },
   {
    "duration": 883,
    "start_time": "2023-03-22T10:13:32.685Z"
   },
   {
    "duration": 499,
    "start_time": "2023-03-22T10:20:25.560Z"
   },
   {
    "duration": 688,
    "start_time": "2023-03-22T10:22:03.176Z"
   },
   {
    "duration": 484,
    "start_time": "2023-03-22T10:24:06.030Z"
   },
   {
    "duration": 515,
    "start_time": "2023-03-22T10:25:54.315Z"
   },
   {
    "duration": 566,
    "start_time": "2023-03-22T10:26:17.526Z"
   },
   {
    "duration": 496,
    "start_time": "2023-03-22T10:26:43.747Z"
   },
   {
    "duration": 602,
    "start_time": "2023-03-22T10:27:20.635Z"
   },
   {
    "duration": 688,
    "start_time": "2023-03-22T10:28:02.522Z"
   },
   {
    "duration": 702,
    "start_time": "2023-03-22T10:28:37.103Z"
   },
   {
    "duration": 847,
    "start_time": "2023-03-22T10:29:01.651Z"
   },
   {
    "duration": 721,
    "start_time": "2023-03-22T10:29:07.635Z"
   },
   {
    "duration": 691,
    "start_time": "2023-03-22T10:29:42.444Z"
   },
   {
    "duration": 685,
    "start_time": "2023-03-22T10:31:15.377Z"
   },
   {
    "duration": 607,
    "start_time": "2023-03-22T10:32:08.291Z"
   },
   {
    "duration": 793,
    "start_time": "2023-03-22T10:32:30.576Z"
   },
   {
    "duration": 681,
    "start_time": "2023-03-22T10:33:08.545Z"
   },
   {
    "duration": 910,
    "start_time": "2023-03-22T10:33:29.340Z"
   },
   {
    "duration": 78,
    "start_time": "2023-03-22T10:35:39.343Z"
   },
   {
    "duration": 10,
    "start_time": "2023-03-22T10:36:20.481Z"
   },
   {
    "duration": 274,
    "start_time": "2023-03-22T10:36:27.079Z"
   },
   {
    "duration": 458,
    "start_time": "2023-03-22T10:43:19.024Z"
   },
   {
    "duration": 684,
    "start_time": "2023-03-22T10:43:35.069Z"
   },
   {
    "duration": 690,
    "start_time": "2023-03-22T10:45:24.061Z"
   },
   {
    "duration": 663,
    "start_time": "2023-03-22T10:45:41.127Z"
   },
   {
    "duration": 689,
    "start_time": "2023-03-22T10:48:05.410Z"
   },
   {
    "duration": 934,
    "start_time": "2023-03-22T10:48:24.378Z"
   },
   {
    "duration": 1304,
    "start_time": "2023-03-22T10:48:54.102Z"
   },
   {
    "duration": 958,
    "start_time": "2023-03-22T10:49:07.589Z"
   },
   {
    "duration": 853,
    "start_time": "2023-03-22T10:50:03.492Z"
   },
   {
    "duration": 71,
    "start_time": "2023-03-22T10:50:32.507Z"
   },
   {
    "duration": 846,
    "start_time": "2023-03-22T10:50:44.589Z"
   },
   {
    "duration": 919,
    "start_time": "2023-03-22T10:51:00.979Z"
   },
   {
    "duration": 948,
    "start_time": "2023-03-22T10:51:49.614Z"
   },
   {
    "duration": 1133,
    "start_time": "2023-03-22T10:52:04.478Z"
   },
   {
    "duration": 899,
    "start_time": "2023-03-22T10:52:14.645Z"
   },
   {
    "duration": 881,
    "start_time": "2023-03-22T10:52:24.661Z"
   },
   {
    "duration": 673,
    "start_time": "2023-03-22T10:54:25.226Z"
   },
   {
    "duration": 721,
    "start_time": "2023-03-22T10:55:40.838Z"
   },
   {
    "duration": 859,
    "start_time": "2023-03-22T10:56:58.117Z"
   },
   {
    "duration": 833,
    "start_time": "2023-03-22T10:57:21.016Z"
   },
   {
    "duration": 846,
    "start_time": "2023-03-22T10:58:04.547Z"
   },
   {
    "duration": 915,
    "start_time": "2023-03-22T10:58:30.417Z"
   },
   {
    "duration": 758,
    "start_time": "2023-03-22T10:58:51.361Z"
   },
   {
    "duration": 881,
    "start_time": "2023-03-22T11:00:03.655Z"
   },
   {
    "duration": 959,
    "start_time": "2023-03-22T11:00:17.087Z"
   },
   {
    "duration": 77,
    "start_time": "2023-03-22T11:00:47.594Z"
   },
   {
    "duration": 161,
    "start_time": "2023-03-22T11:09:28.782Z"
   },
   {
    "duration": 4,
    "start_time": "2023-03-22T11:10:42.752Z"
   },
   {
    "duration": 334,
    "start_time": "2023-03-22T11:10:43.280Z"
   },
   {
    "duration": 172,
    "start_time": "2023-03-22T11:11:02.683Z"
   },
   {
    "duration": 2154,
    "start_time": "2023-03-22T11:11:17.492Z"
   },
   {
    "duration": 18,
    "start_time": "2023-03-22T11:12:24.379Z"
   },
   {
    "duration": 10,
    "start_time": "2023-03-22T11:12:33.958Z"
   },
   {
    "duration": 380,
    "start_time": "2023-03-22T11:13:20.725Z"
   },
   {
    "duration": 1795,
    "start_time": "2023-03-22T11:14:28.700Z"
   },
   {
    "duration": 12,
    "start_time": "2023-03-22T11:15:31.883Z"
   },
   {
    "duration": 1924,
    "start_time": "2023-03-22T11:15:47.708Z"
   },
   {
    "duration": 2181,
    "start_time": "2023-03-22T11:16:20.052Z"
   },
   {
    "duration": 2124,
    "start_time": "2023-03-22T11:19:19.009Z"
   },
   {
    "duration": 131,
    "start_time": "2023-03-22T11:21:36.441Z"
   },
   {
    "duration": 139,
    "start_time": "2023-03-22T11:22:15.052Z"
   },
   {
    "duration": 1996,
    "start_time": "2023-03-22T11:22:27.256Z"
   },
   {
    "duration": 128,
    "start_time": "2023-03-22T11:23:06.611Z"
   },
   {
    "duration": 1880,
    "start_time": "2023-03-22T11:24:51.621Z"
   },
   {
    "duration": 2056,
    "start_time": "2023-03-22T11:25:15.246Z"
   },
   {
    "duration": 1807,
    "start_time": "2023-03-22T11:26:08.483Z"
   },
   {
    "duration": 1825,
    "start_time": "2023-03-22T11:26:26.201Z"
   },
   {
    "duration": 42,
    "start_time": "2023-03-22T11:27:05.935Z"
   },
   {
    "duration": 1936,
    "start_time": "2023-03-22T11:28:06.381Z"
   },
   {
    "duration": 1778,
    "start_time": "2023-03-22T11:28:27.503Z"
   },
   {
    "duration": 1939,
    "start_time": "2023-03-22T11:32:37.290Z"
   },
   {
    "duration": 1664,
    "start_time": "2023-03-22T11:34:16.191Z"
   },
   {
    "duration": 4634,
    "start_time": "2023-03-22T11:40:06.297Z"
   },
   {
    "duration": 243,
    "start_time": "2023-03-22T11:40:41.393Z"
   },
   {
    "duration": 194,
    "start_time": "2023-03-22T11:41:48.948Z"
   },
   {
    "duration": 18,
    "start_time": "2023-03-22T11:42:46.541Z"
   },
   {
    "duration": 18,
    "start_time": "2023-03-22T11:43:28.029Z"
   },
   {
    "duration": 5,
    "start_time": "2023-03-22T11:47:51.341Z"
   },
   {
    "duration": 18,
    "start_time": "2023-03-22T11:48:07.552Z"
   },
   {
    "duration": 6,
    "start_time": "2023-03-22T11:48:45.647Z"
   },
   {
    "duration": 22,
    "start_time": "2023-03-22T11:48:46.896Z"
   },
   {
    "duration": 1846,
    "start_time": "2023-03-22T11:52:06.205Z"
   },
   {
    "duration": 18,
    "start_time": "2023-03-22T11:52:37.443Z"
   },
   {
    "duration": 19,
    "start_time": "2023-03-22T11:52:46.623Z"
   },
   {
    "duration": 1750,
    "start_time": "2023-03-22T11:53:04.724Z"
   },
   {
    "duration": 2099,
    "start_time": "2023-03-22T11:53:23.042Z"
   },
   {
    "duration": 1741,
    "start_time": "2023-03-22T11:53:54.235Z"
   },
   {
    "duration": 1985,
    "start_time": "2023-03-22T11:55:05.609Z"
   },
   {
    "duration": 1829,
    "start_time": "2023-03-22T11:55:22.917Z"
   },
   {
    "duration": 1790,
    "start_time": "2023-03-22T11:57:05.614Z"
   },
   {
    "duration": 1872,
    "start_time": "2023-03-22T11:58:18.501Z"
   },
   {
    "duration": 1797,
    "start_time": "2023-03-22T11:58:38.666Z"
   },
   {
    "duration": 81,
    "start_time": "2023-03-22T11:58:53.750Z"
   },
   {
    "duration": 2482,
    "start_time": "2023-03-22T11:59:03.741Z"
   },
   {
    "duration": 1886,
    "start_time": "2023-03-22T11:59:31.058Z"
   },
   {
    "duration": 1913,
    "start_time": "2023-03-22T11:59:40.258Z"
   },
   {
    "duration": 2210,
    "start_time": "2023-03-22T12:01:08.460Z"
   },
   {
    "duration": 2196,
    "start_time": "2023-03-22T12:01:36.034Z"
   },
   {
    "duration": 2606,
    "start_time": "2023-03-22T12:01:52.703Z"
   },
   {
    "duration": 2055,
    "start_time": "2023-03-22T12:02:04.028Z"
   },
   {
    "duration": 2339,
    "start_time": "2023-03-22T12:03:35.050Z"
   },
   {
    "duration": 2619,
    "start_time": "2023-03-22T12:03:55.147Z"
   },
   {
    "duration": 2066,
    "start_time": "2023-03-22T12:04:40.314Z"
   },
   {
    "duration": 2694,
    "start_time": "2023-03-22T12:06:26.984Z"
   },
   {
    "duration": 1796,
    "start_time": "2023-03-22T12:06:50.353Z"
   },
   {
    "duration": 2037,
    "start_time": "2023-03-22T12:07:09.130Z"
   },
   {
    "duration": 17,
    "start_time": "2023-03-22T12:08:35.454Z"
   },
   {
    "duration": 426,
    "start_time": "2023-03-22T12:08:57.290Z"
   },
   {
    "duration": 1266,
    "start_time": "2023-03-22T12:10:19.617Z"
   },
   {
    "duration": 167,
    "start_time": "2023-03-22T12:10:52.096Z"
   },
   {
    "duration": 176,
    "start_time": "2023-03-22T12:11:57.207Z"
   },
   {
    "duration": 179,
    "start_time": "2023-03-22T12:12:19.345Z"
   },
   {
    "duration": 165,
    "start_time": "2023-03-22T12:13:01.362Z"
   },
   {
    "duration": 185,
    "start_time": "2023-03-22T12:13:12.110Z"
   },
   {
    "duration": 30,
    "start_time": "2023-03-22T12:13:54.576Z"
   },
   {
    "duration": 194,
    "start_time": "2023-03-22T12:14:21.159Z"
   },
   {
    "duration": 14,
    "start_time": "2023-03-22T12:14:46.815Z"
   },
   {
    "duration": 192,
    "start_time": "2023-03-22T12:15:01.012Z"
   },
   {
    "duration": 207,
    "start_time": "2023-03-22T12:16:18.709Z"
   },
   {
    "duration": 222,
    "start_time": "2023-03-22T12:17:02.241Z"
   },
   {
    "duration": 2546,
    "start_time": "2023-03-22T12:17:37.748Z"
   },
   {
    "duration": 2695,
    "start_time": "2023-03-22T12:18:07.496Z"
   },
   {
    "duration": 2551,
    "start_time": "2023-03-22T12:18:27.613Z"
   },
   {
    "duration": 2591,
    "start_time": "2023-03-22T12:18:39.407Z"
   },
   {
    "duration": 2294,
    "start_time": "2023-03-22T12:18:54.657Z"
   },
   {
    "duration": 15,
    "start_time": "2023-03-22T12:19:13.017Z"
   },
   {
    "duration": 15,
    "start_time": "2023-03-22T12:19:36.349Z"
   },
   {
    "duration": 14,
    "start_time": "2023-03-22T12:21:54.713Z"
   },
   {
    "duration": 13,
    "start_time": "2023-03-22T12:22:15.962Z"
   },
   {
    "duration": 715,
    "start_time": "2023-03-22T12:30:19.742Z"
   },
   {
    "duration": 367,
    "start_time": "2023-03-22T12:31:58.669Z"
   },
   {
    "duration": 4,
    "start_time": "2023-03-22T12:33:34.544Z"
   },
   {
    "duration": 3062,
    "start_time": "2023-03-22T12:34:04.318Z"
   },
   {
    "duration": 24,
    "start_time": "2023-03-22T12:36:11.883Z"
   },
   {
    "duration": 4,
    "start_time": "2023-03-22T12:39:27.445Z"
   },
   {
    "duration": 6,
    "start_time": "2023-03-22T12:39:38.325Z"
   },
   {
    "duration": 12,
    "start_time": "2023-03-22T12:41:39.517Z"
   },
   {
    "duration": 9,
    "start_time": "2023-03-22T12:42:02.221Z"
   },
   {
    "duration": 10,
    "start_time": "2023-03-22T12:42:12.818Z"
   },
   {
    "duration": 9,
    "start_time": "2023-03-22T13:10:47.345Z"
   },
   {
    "duration": 6,
    "start_time": "2023-03-22T13:14:43.915Z"
   },
   {
    "duration": 244,
    "start_time": "2023-03-22T14:21:27.527Z"
   },
   {
    "duration": 26,
    "start_time": "2023-03-22T14:31:39.716Z"
   },
   {
    "duration": 3,
    "start_time": "2023-03-22T14:31:46.970Z"
   },
   {
    "duration": 208,
    "start_time": "2023-03-22T14:31:46.975Z"
   },
   {
    "duration": 33,
    "start_time": "2023-03-22T14:31:47.185Z"
   },
   {
    "duration": 21,
    "start_time": "2023-03-22T14:31:47.220Z"
   },
   {
    "duration": 1217,
    "start_time": "2023-03-22T14:31:47.244Z"
   },
   {
    "duration": 34,
    "start_time": "2023-03-22T14:31:48.463Z"
   },
   {
    "duration": 5,
    "start_time": "2023-03-22T14:31:48.501Z"
   },
   {
    "duration": 24,
    "start_time": "2023-03-22T14:31:48.508Z"
   },
   {
    "duration": 8,
    "start_time": "2023-03-22T14:31:48.534Z"
   },
   {
    "duration": 13,
    "start_time": "2023-03-22T14:31:48.543Z"
   },
   {
    "duration": 39,
    "start_time": "2023-03-22T14:31:48.558Z"
   },
   {
    "duration": 21,
    "start_time": "2023-03-22T14:31:48.601Z"
   },
   {
    "duration": 15,
    "start_time": "2023-03-22T14:31:48.624Z"
   },
   {
    "duration": 12,
    "start_time": "2023-03-22T14:31:48.641Z"
   },
   {
    "duration": 7,
    "start_time": "2023-03-22T14:31:48.656Z"
   },
   {
    "duration": 1075,
    "start_time": "2023-03-22T14:31:48.665Z"
   },
   {
    "duration": 8,
    "start_time": "2023-03-22T14:31:49.742Z"
   },
   {
    "duration": 289,
    "start_time": "2023-03-22T14:31:49.751Z"
   },
   {
    "duration": 11,
    "start_time": "2023-03-22T14:31:50.042Z"
   },
   {
    "duration": 367,
    "start_time": "2023-03-22T14:31:50.054Z"
   },
   {
    "duration": 1006,
    "start_time": "2023-03-22T14:31:50.426Z"
   },
   {
    "duration": 44,
    "start_time": "2023-03-22T14:31:51.434Z"
   },
   {
    "duration": 187,
    "start_time": "2023-03-22T14:31:51.490Z"
   },
   {
    "duration": 193,
    "start_time": "2023-03-22T14:31:51.679Z"
   },
   {
    "duration": 184,
    "start_time": "2023-03-22T14:31:51.874Z"
   },
   {
    "duration": 181,
    "start_time": "2023-03-22T14:31:52.061Z"
   },
   {
    "duration": 2222,
    "start_time": "2023-03-22T14:31:52.243Z"
   },
   {
    "duration": 2177,
    "start_time": "2023-03-22T14:31:54.466Z"
   },
   {
    "duration": 2312,
    "start_time": "2023-03-22T14:31:56.648Z"
   },
   {
    "duration": 2313,
    "start_time": "2023-03-22T14:31:58.962Z"
   },
   {
    "duration": 30,
    "start_time": "2023-03-22T14:32:01.277Z"
   },
   {
    "duration": 43,
    "start_time": "2023-03-22T14:32:01.309Z"
   },
   {
    "duration": 25,
    "start_time": "2023-03-22T14:32:01.353Z"
   },
   {
    "duration": 48,
    "start_time": "2023-03-22T14:32:01.380Z"
   },
   {
    "duration": 235,
    "start_time": "2023-03-22T14:32:01.429Z"
   },
   {
    "duration": 14,
    "start_time": "2023-03-22T14:32:01.666Z"
   },
   {
    "duration": 43,
    "start_time": "2023-03-22T14:32:01.681Z"
   },
   {
    "duration": 199,
    "start_time": "2023-03-22T14:32:01.726Z"
   },
   {
    "duration": 14,
    "start_time": "2023-03-22T14:32:01.927Z"
   },
   {
    "duration": 32,
    "start_time": "2023-03-22T14:32:01.943Z"
   },
   {
    "duration": 223,
    "start_time": "2023-03-22T14:32:01.977Z"
   },
   {
    "duration": 22,
    "start_time": "2023-03-22T14:32:02.202Z"
   },
   {
    "duration": 38,
    "start_time": "2023-03-22T14:32:02.227Z"
   },
   {
    "duration": 107,
    "start_time": "2023-03-22T14:32:02.267Z"
   },
   {
    "duration": 0,
    "start_time": "2023-03-22T14:32:02.376Z"
   },
   {
    "duration": 0,
    "start_time": "2023-03-22T14:32:02.377Z"
   },
   {
    "duration": 0,
    "start_time": "2023-03-22T14:32:02.379Z"
   },
   {
    "duration": 0,
    "start_time": "2023-03-22T14:32:02.380Z"
   },
   {
    "duration": 0,
    "start_time": "2023-03-22T14:32:02.381Z"
   },
   {
    "duration": 55,
    "start_time": "2023-05-28T13:36:01.364Z"
   },
   {
    "duration": 8,
    "start_time": "2023-05-28T13:36:19.777Z"
   },
   {
    "duration": 1383,
    "start_time": "2023-05-28T13:36:30.309Z"
   },
   {
    "duration": 282,
    "start_time": "2023-05-28T13:36:31.697Z"
   },
   {
    "duration": 29,
    "start_time": "2023-05-28T13:36:31.984Z"
   },
   {
    "duration": 68,
    "start_time": "2023-05-28T13:36:32.017Z"
   },
   {
    "duration": 999,
    "start_time": "2023-05-28T13:36:32.092Z"
   },
   {
    "duration": 17,
    "start_time": "2023-05-28T13:36:33.093Z"
   },
   {
    "duration": 4,
    "start_time": "2023-05-28T13:36:33.125Z"
   },
   {
    "duration": 27,
    "start_time": "2023-05-28T13:36:33.132Z"
   },
   {
    "duration": 10,
    "start_time": "2023-05-28T13:36:33.164Z"
   },
   {
    "duration": 14,
    "start_time": "2023-05-28T13:36:33.180Z"
   },
   {
    "duration": 7,
    "start_time": "2023-05-28T13:36:33.196Z"
   },
   {
    "duration": 31,
    "start_time": "2023-05-28T13:36:33.204Z"
   },
   {
    "duration": 56,
    "start_time": "2023-05-28T13:36:33.237Z"
   },
   {
    "duration": 46,
    "start_time": "2023-05-28T13:36:33.295Z"
   },
   {
    "duration": 57,
    "start_time": "2023-05-28T13:36:33.343Z"
   },
   {
    "duration": 235,
    "start_time": "2023-05-28T13:36:33.401Z"
   },
   {
    "duration": 24,
    "start_time": "2023-05-28T13:36:42.266Z"
   },
   {
    "duration": 48,
    "start_time": "2023-07-08T08:54:59.836Z"
   },
   {
    "duration": 1290,
    "start_time": "2023-07-08T08:55:06.799Z"
   },
   {
    "duration": 249,
    "start_time": "2023-07-08T08:55:08.091Z"
   },
   {
    "duration": 14,
    "start_time": "2023-07-08T08:55:09.353Z"
   },
   {
    "duration": 83,
    "start_time": "2023-07-08T09:12:07.009Z"
   },
   {
    "duration": 9,
    "start_time": "2023-07-08T09:12:08.134Z"
   },
   {
    "duration": 1480,
    "start_time": "2023-08-03T12:59:37.240Z"
   },
   {
    "duration": 147,
    "start_time": "2023-08-03T12:59:38.724Z"
   },
   {
    "duration": 28,
    "start_time": "2023-08-03T12:59:38.873Z"
   },
   {
    "duration": 44,
    "start_time": "2023-08-03T12:59:38.903Z"
   },
   {
    "duration": 912,
    "start_time": "2023-08-03T12:59:38.950Z"
   },
   {
    "duration": 21,
    "start_time": "2023-08-03T12:59:39.867Z"
   },
   {
    "duration": 4,
    "start_time": "2023-08-03T12:59:39.891Z"
   },
   {
    "duration": 26,
    "start_time": "2023-08-03T12:59:39.897Z"
   },
   {
    "duration": 10,
    "start_time": "2023-08-03T12:59:39.925Z"
   },
   {
    "duration": 13,
    "start_time": "2023-08-03T12:59:39.966Z"
   },
   {
    "duration": 10,
    "start_time": "2023-08-03T12:59:39.981Z"
   },
   {
    "duration": 28,
    "start_time": "2023-08-03T12:59:39.994Z"
   },
   {
    "duration": 6,
    "start_time": "2023-08-03T12:59:40.025Z"
   },
   {
    "duration": 36,
    "start_time": "2023-08-03T12:59:40.033Z"
   },
   {
    "duration": 19,
    "start_time": "2023-08-03T12:59:40.072Z"
   },
   {
    "duration": 225,
    "start_time": "2023-08-03T12:59:40.093Z"
   },
   {
    "duration": 16,
    "start_time": "2023-08-03T12:59:40.319Z"
   },
   {
    "duration": 10,
    "start_time": "2023-08-03T12:59:40.336Z"
   },
   {
    "duration": 258,
    "start_time": "2023-08-03T12:59:40.348Z"
   },
   {
    "duration": 11,
    "start_time": "2023-08-03T12:59:40.608Z"
   },
   {
    "duration": 306,
    "start_time": "2023-08-03T12:59:40.621Z"
   },
   {
    "duration": 894,
    "start_time": "2023-08-03T12:59:40.929Z"
   },
   {
    "duration": 54,
    "start_time": "2023-08-03T12:59:41.825Z"
   },
   {
    "duration": 246,
    "start_time": "2023-08-03T12:59:41.881Z"
   },
   {
    "duration": 169,
    "start_time": "2023-08-03T12:59:42.129Z"
   },
   {
    "duration": 177,
    "start_time": "2023-08-03T12:59:42.301Z"
   },
   {
    "duration": 162,
    "start_time": "2023-08-03T12:59:42.480Z"
   },
   {
    "duration": 1706,
    "start_time": "2023-08-03T12:59:42.648Z"
   },
   {
    "duration": 1711,
    "start_time": "2023-08-03T12:59:44.355Z"
   },
   {
    "duration": 1579,
    "start_time": "2023-08-03T12:59:46.068Z"
   },
   {
    "duration": 1779,
    "start_time": "2023-08-03T12:59:47.649Z"
   },
   {
    "duration": 23,
    "start_time": "2023-08-03T12:59:49.431Z"
   },
   {
    "duration": 22,
    "start_time": "2023-08-03T12:59:49.467Z"
   },
   {
    "duration": 8,
    "start_time": "2023-08-03T12:59:49.491Z"
   },
   {
    "duration": 34,
    "start_time": "2023-08-03T12:59:49.502Z"
   },
   {
    "duration": 203,
    "start_time": "2023-08-03T12:59:49.538Z"
   },
   {
    "duration": 25,
    "start_time": "2023-08-03T12:59:49.743Z"
   },
   {
    "duration": 26,
    "start_time": "2023-08-03T12:59:49.770Z"
   },
   {
    "duration": 193,
    "start_time": "2023-08-03T12:59:49.798Z"
   },
   {
    "duration": 15,
    "start_time": "2023-08-03T12:59:49.993Z"
   },
   {
    "duration": 60,
    "start_time": "2023-08-03T12:59:50.011Z"
   },
   {
    "duration": 189,
    "start_time": "2023-08-03T12:59:50.073Z"
   },
   {
    "duration": 21,
    "start_time": "2023-08-03T12:59:50.264Z"
   },
   {
    "duration": 57,
    "start_time": "2023-08-03T12:59:50.288Z"
   },
   {
    "duration": 12,
    "start_time": "2023-08-03T12:59:50.347Z"
   },
   {
    "duration": 37,
    "start_time": "2023-08-03T12:59:50.361Z"
   },
   {
    "duration": 73,
    "start_time": "2023-08-03T12:59:50.400Z"
   },
   {
    "duration": 0,
    "start_time": "2023-08-03T12:59:50.476Z"
   },
   {
    "duration": 0,
    "start_time": "2023-08-03T12:59:50.477Z"
   },
   {
    "duration": 12,
    "start_time": "2023-08-03T13:01:17.721Z"
   },
   {
    "duration": 8,
    "start_time": "2023-08-03T13:01:19.017Z"
   }
  ],
  "kernelspec": {
   "display_name": "Python 3 (ipykernel)",
   "language": "python",
   "name": "python3"
  },
  "language_info": {
   "codemirror_mode": {
    "name": "ipython",
    "version": 3
   },
   "file_extension": ".py",
   "mimetype": "text/x-python",
   "name": "python",
   "nbconvert_exporter": "python",
   "pygments_lexer": "ipython3",
   "version": "3.9.5"
  },
  "toc": {
   "base_numbering": 1,
   "nav_menu": {},
   "number_sections": true,
   "sideBar": true,
   "skip_h1_title": true,
   "title_cell": "Table of Contents",
   "title_sidebar": "Contents",
   "toc_cell": false,
   "toc_position": {},
   "toc_section_display": true,
   "toc_window_display": false
  },
  "widgets": {
   "application/vnd.jupyter.widget-state+json": {
    "state": {},
    "version_major": 2,
    "version_minor": 0
   }
  }
 },
 "nbformat": 4,
 "nbformat_minor": 4
}
