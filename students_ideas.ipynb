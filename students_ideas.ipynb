{
 "cells": [
  {
   "cell_type": "markdown",
   "id": "c1c77a36-090c-4f37-b5eb-69b64e4d1d8e",
   "metadata": {},
   "source": [
    "# Проект \"Качество идей, сгенерированных студентами в рамках образовательного эксперимента\""
   ]
  },
  {
   "cell_type": "markdown",
   "id": "2dfdbc6b-2572-4996-83f3-469514e96ecf",
   "metadata": {},
   "source": [
    "**Описание проекта:**"
   ]
  },
  {
   "cell_type": "markdown",
   "id": "f42878a1-b929-4eda-94c8-bbdd81d04a1b",
   "metadata": {},
   "source": [
    "В Школе перспективных исследований ТюмГУ в рамках дисциплины Дизайн-мышление был проведен образовательный эксперимент. Гипотеза эксперимента заключается в том, что на качество идей, которые генерят студенты в рамках своих проектов, оказывает влияние ресурс, который был им обеспечен в начале этапа «генерация идей». В эксперименте одна группа студентов (17 человек) пользовалась сервисами на искусственном интеллекте, в частности ChatGPT, чтобы создать больше подходящих идей, а вторая группа (18 человек) слушала 2 лекции (40 и 90 минут) от экспертов на тему изменений, которые происходят в мире в последние 20-30 лет (технологии, отношения, рынки, бизнес, люди). Лекции напрямую не имели отношения к проектам студентов, эксперты не консультировали студентов. Остальные занятия студентов проходили идентично, группы сопоставимы по своему составу (включают как академически успешных, так и не очень успешных студентов, дисциплинированных и нет, все студенты выбирали проекты, которые для них субъективно важны, в каждой группе были и командные, и индивидуальные проекты). Идеи, которые сгенерили студенты, были собраны и оценены по шкале от 0 до 2 по критериям: новизна (0-популярная, используемая (возможно широко внедряемая) идея, 1 – обсуждаемая, но не внедренная или вторичная идея, 2 – новая идея)  и эффективность (0 – дает незначительный эффект для пользователя в соответствии с его задачами и потребностями, болями, 1 – дает заметный эффект для пользователя, 2 – существенно улучшит опыт пользователя). Необходимо определить, какой ресурс обеспечил лучшие идеи (по новизне и эффективности) и существенна ли разница.\n",
    "Данные по исследованию занесены в таблицу, которая будет использована для анализа."
   ]
  },
  {
   "cell_type": "markdown",
   "id": "f7b5e34d-6eb8-465c-9927-44527b9ce99b",
   "metadata": {},
   "source": [
    "**Цель исследования:** определить, какой ресурс(искусственный интеллект или экспертное мнение) сильнее влияет на качество генерируемых студентами идей"
   ]
  },
  {
   "cell_type": "markdown",
   "id": "bb4d01af-8503-414d-b3b3-575c03cff6be",
   "metadata": {},
   "source": [
    "**Декомпозиция:**\n",
    "   1. Загрузка данных.\n",
    "   2. Предобработка данных:\n",
    "        - переименование столбцов,\n",
    "        - проверка на дубликаты,\n",
    "        - проверка на пропуски,\n",
    "        - проверка уникальных значений в датафрейме,\n",
    "        - приведение значений к нужному типу.\n",
    "   3. Проверка гипотезы.\n",
    "   4. Исследовательский анализ данных:\n",
    "        - оценка новизны идей,\n",
    "        - оценка эффективности идей,\n",
    "        - оценка новизны решений,\n",
    "        - оценка эффективности решений.\n",
    "   5. Общий вывод."
   ]
  },
  {
   "cell_type": "markdown",
   "id": "a32bb54c-ab0b-440a-a28c-9e645d5f1887",
   "metadata": {},
   "source": [
    "## 1. Загрузка данных"
   ]
  },
  {
   "cell_type": "markdown",
   "id": "e9bbf4b4-c929-4bf6-99a2-bebd127dc3ba",
   "metadata": {
    "tags": []
   },
   "source": [
    "Импортируем нужные библиотеки"
   ]
  },
  {
   "cell_type": "code",
   "execution_count": 1,
   "id": "71a0de4a-8f12-4ba9-8677-e57f543a7726",
   "metadata": {},
   "outputs": [],
   "source": [
    "import pandas as pd\n",
    "from scipy import stats as st\n",
    "import numpy as np\n",
    "import matplotlib\n",
    "from matplotlib import pyplot as plt\n",
    "pd.set_option('display.float_format', '{:.2f}'.format)"
   ]
  },
  {
   "cell_type": "markdown",
   "id": "2ca7fed4-7ded-4bf3-93d4-4d3b250da739",
   "metadata": {},
   "source": [
    "Открываем файл"
   ]
  },
  {
   "cell_type": "code",
   "execution_count": 2,
   "id": "fd14cd5e-2ba8-48e4-829f-2d9d79997acf",
   "metadata": {},
   "outputs": [
    {
     "data": {
      "text/html": [
       "<div>\n",
       "<style scoped>\n",
       "    .dataframe tbody tr th:only-of-type {\n",
       "        vertical-align: middle;\n",
       "    }\n",
       "\n",
       "    .dataframe tbody tr th {\n",
       "        vertical-align: top;\n",
       "    }\n",
       "\n",
       "    .dataframe thead th {\n",
       "        text-align: right;\n",
       "    }\n",
       "</style>\n",
       "<table border=\"1\" class=\"dataframe\">\n",
       "  <thead>\n",
       "    <tr style=\"text-align: right;\">\n",
       "      <th></th>\n",
       "      <th>тема</th>\n",
       "      <th>ресурс</th>\n",
       "      <th>идеи</th>\n",
       "      <th>оценка новизны идеи\\n0 - популярная,  используется (возможно широко)\\n1 - вторичная, обсуждаемая, но не внедренная\\n2 - новая</th>\n",
       "      <th>оценка эффективности идеи\\n0 - даст незначительный эффект\\n1 - даст заметный эффект\\n2 - существенно улучшит опыт пользователей и/или показатели организации</th>\n",
       "      <th>решения</th>\n",
       "      <th>оценка новизны решения\\n0 - популярная,  используется (возможно широко)\\n1 - вторичная, обсуждаемая, но не внедренная\\n2 - новая</th>\n",
       "      <th>оценка эффективности решения\\n0 - даст незначительный эффект\\n1 - даст заметный эффект\\n2 - существенно улучшит опыт пользователей и/или показатели организации</th>\n",
       "    </tr>\n",
       "  </thead>\n",
       "  <tbody>\n",
       "    <tr>\n",
       "      <th>0</th>\n",
       "      <td>оценка дисциплин в SAS (COURSE EVALUATION)</td>\n",
       "      <td>ИИ</td>\n",
       "      <td>Администрация пишет комплименты и поощрения пе...</td>\n",
       "      <td>1</td>\n",
       "      <td>0</td>\n",
       "      <td>Новая страница на сайте SAS со всеми изменения...</td>\n",
       "      <td>2.00</td>\n",
       "      <td>2.00</td>\n",
       "    </tr>\n",
       "    <tr>\n",
       "      <th>1</th>\n",
       "      <td>оценка дисциплин в SAS (COURSE EVALUATION)</td>\n",
       "      <td>ИИ</td>\n",
       "      <td>Day inverse.День обратный. Учащиеся читают сво...</td>\n",
       "      <td>1</td>\n",
       "      <td>1</td>\n",
       "      <td>Коллекционирование лягушек: геймификация</td>\n",
       "      <td>0.00</td>\n",
       "      <td>1.00</td>\n",
       "    </tr>\n",
       "    <tr>\n",
       "      <th>2</th>\n",
       "      <td>оценка дисциплин в SAS (COURSE EVALUATION)</td>\n",
       "      <td>ИИ</td>\n",
       "      <td>Концерт</td>\n",
       "      <td>2</td>\n",
       "      <td>1</td>\n",
       "      <td>Новая Teaching Policy: заполнение в классе</td>\n",
       "      <td>0.00</td>\n",
       "      <td>0.00</td>\n",
       "    </tr>\n",
       "    <tr>\n",
       "      <th>3</th>\n",
       "      <td>оценка дисциплин в SAS (COURSE EVALUATION)</td>\n",
       "      <td>ИИ</td>\n",
       "      <td>Организовывать встречи со студентами, когда ре...</td>\n",
       "      <td>0</td>\n",
       "      <td>2</td>\n",
       "      <td>Новые переформулированные вопросы и порядок во...</td>\n",
       "      <td>0.00</td>\n",
       "      <td>2.00</td>\n",
       "    </tr>\n",
       "    <tr>\n",
       "      <th>4</th>\n",
       "      <td>оценка дисциплин в SAS (COURSE EVALUATION)</td>\n",
       "      <td>ИИ</td>\n",
       "      <td>Нарисованный отчет</td>\n",
       "      <td>2</td>\n",
       "      <td>2</td>\n",
       "      <td>NaN</td>\n",
       "      <td>NaN</td>\n",
       "      <td>NaN</td>\n",
       "    </tr>\n",
       "  </tbody>\n",
       "</table>\n",
       "</div>"
      ],
      "text/plain": [
       "                                        тема  ресурс   \\\n",
       "0  оценка дисциплин в SAS (COURSE EVALUATION)      ИИ   \n",
       "1  оценка дисциплин в SAS (COURSE EVALUATION)      ИИ   \n",
       "2  оценка дисциплин в SAS (COURSE EVALUATION)      ИИ   \n",
       "3  оценка дисциплин в SAS (COURSE EVALUATION)      ИИ   \n",
       "4  оценка дисциплин в SAS (COURSE EVALUATION)      ИИ   \n",
       "\n",
       "                                                идеи  \\\n",
       "0  Администрация пишет комплименты и поощрения пе...   \n",
       "1  Day inverse.День обратный. Учащиеся читают сво...   \n",
       "2                                            Концерт   \n",
       "3  Организовывать встречи со студентами, когда ре...   \n",
       "4                                 Нарисованный отчет   \n",
       "\n",
       "   оценка новизны идеи\\n0 - популярная,  используется (возможно широко)\\n1 - вторичная, обсуждаемая, но не внедренная\\n2 - новая  \\\n",
       "0                                                  1                                                                               \n",
       "1                                                  1                                                                               \n",
       "2                                                  2                                                                               \n",
       "3                                                  0                                                                               \n",
       "4                                                  2                                                                               \n",
       "\n",
       "   оценка эффективности идеи\\n0 - даст незначительный эффект\\n1 - даст заметный эффект\\n2 - существенно улучшит опыт пользователей и/или показатели организации  \\\n",
       "0                                                  0                                                                                                              \n",
       "1                                                  1                                                                                                              \n",
       "2                                                  1                                                                                                              \n",
       "3                                                  2                                                                                                              \n",
       "4                                                  2                                                                                                              \n",
       "\n",
       "                                             решения  \\\n",
       "0  Новая страница на сайте SAS со всеми изменения...   \n",
       "1           Коллекционирование лягушек: геймификация   \n",
       "2         Новая Teaching Policy: заполнение в классе   \n",
       "3  Новые переформулированные вопросы и порядок во...   \n",
       "4                                                NaN   \n",
       "\n",
       "   оценка новизны решения\\n0 - популярная,  используется (возможно широко)\\n1 - вторичная, обсуждаемая, но не внедренная\\n2 - новая  \\\n",
       "0                                               2.00                                                                                  \n",
       "1                                               0.00                                                                                  \n",
       "2                                               0.00                                                                                  \n",
       "3                                               0.00                                                                                  \n",
       "4                                                NaN                                                                                  \n",
       "\n",
       "   оценка эффективности решения\\n0 - даст незначительный эффект\\n1 - даст заметный эффект\\n2 - существенно улучшит опыт пользователей и/или показатели организации  \n",
       "0                                               2.00                                                                                                                \n",
       "1                                               1.00                                                                                                                \n",
       "2                                               0.00                                                                                                                \n",
       "3                                               2.00                                                                                                                \n",
       "4                                                NaN                                                                                                                "
      ]
     },
     "execution_count": 2,
     "metadata": {},
     "output_type": "execute_result"
    }
   ],
   "source": [
    "data = pd.read_csv('/Users/evgeniyakoreshilova/Downloads/ideas.csv')\n",
    "data.head()"
   ]
  },
  {
   "cell_type": "markdown",
   "id": "7b2d6144-54f9-4204-88a0-9488afd5721e",
   "metadata": {},
   "source": [
    "## 2. Предобработка данных"
   ]
  },
  {
   "cell_type": "markdown",
   "id": "9f6b129e-ad94-45c7-aba8-e309ee4b5290",
   "metadata": {},
   "source": [
    "Переименуем столбцы"
   ]
  },
  {
   "cell_type": "code",
   "execution_count": 3,
   "id": "b7fdf800-8a94-4f53-a923-27dcab3cf085",
   "metadata": {},
   "outputs": [],
   "source": [
    "data.columns = ['topic', 'resource', 'idea', 'score_new_i', 'score_effect_i', 'solution', 'score_new_s', 'score_effect_s']"
   ]
  },
  {
   "cell_type": "markdown",
   "id": "0c031e32-d679-4cc7-aec4-f489405ea69a",
   "metadata": {},
   "source": [
    "Построим общие диаграммы"
   ]
  },
  {
   "cell_type": "code",
   "execution_count": 4,
   "id": "bc173043-3392-4409-ae2c-8941932c0624",
   "metadata": {},
   "outputs": [
    {
     "data": {
      "image/png": "[encoded data removed]",
      "text/plain": [
       "<Figure size 720x720 with 4 Axes>"
      ]
     },
     "metadata": {
      "needs_background": "light"
     },
     "output_type": "display_data"
    }
   ],
   "source": [
    "data.hist(figsize=(10, 10))\n",
    "plt.show()"
   ]
  },
  {
   "cell_type": "markdown",
   "id": "4eb4080c-363c-4804-a3a4-febb81a0295c",
   "metadata": {},
   "source": [
    "Вывод:\n",
    "- по количеству оценок новизны идей преобладают 0(свыше 250) и 1(около 240) оценки, оценки 2 - около 60;\n",
    "- оценка эффективности идей: \"0\" - 50, \"1\" - свыше 250, \"2\" - около 240;\n",
    "- оценка новизны решений: \"0\" - 10, \"1\" - 15, \"2\" - 7;\n",
    "- оценка эффективности решений: \"0\" - 1, \"1\" - 12, \"2\" - 18;"
   ]
  },
  {
   "cell_type": "markdown",
   "id": "d4408026-256d-43b6-acb2-357c4915acb3",
   "metadata": {},
   "source": [
    "Проверим наличие пропущенных значений"
   ]
  },
  {
   "cell_type": "code",
   "execution_count": 5,
   "id": "3c6bc960-5ad3-4808-9d61-15a60799c8be",
   "metadata": {},
   "outputs": [
    {
     "data": {
      "text/plain": [
       "topic               0\n",
       "resource           36\n",
       "idea                0\n",
       "score_new_i         0\n",
       "score_effect_i      0\n",
       "solution          527\n",
       "score_new_s       527\n",
       "score_effect_s    527\n",
       "dtype: int64"
      ]
     },
     "execution_count": 5,
     "metadata": {},
     "output_type": "execute_result"
    }
   ],
   "source": [
    "data.isna().sum()"
   ]
  },
  {
   "cell_type": "markdown",
   "id": "6c4f7bb4-4c65-4610-b5a5-90cd46c058ea",
   "metadata": {},
   "source": [
    "Пропущены значения в ресурсе. После обсуждения с заказчиком, заполняем пропущенные значения \"экспертами\""
   ]
  },
  {
   "cell_type": "code",
   "execution_count": 6,
   "id": "fb199f54-775c-40b6-aed5-412a16b9fcce",
   "metadata": {},
   "outputs": [
    {
     "data": {
      "text/plain": [
       "topic               0\n",
       "resource            0\n",
       "idea                0\n",
       "score_new_i         0\n",
       "score_effect_i      0\n",
       "solution          527\n",
       "score_new_s       527\n",
       "score_effect_s    527\n",
       "dtype: int64"
      ]
     },
     "execution_count": 6,
     "metadata": {},
     "output_type": "execute_result"
    }
   ],
   "source": [
    "data['resource'] = data['resource'].fillna('эксперты')\n",
    "data.isna().sum()"
   ]
  },
  {
   "cell_type": "markdown",
   "id": "0d662131-00f4-4ae4-b4fe-666a9a5cbf17",
   "metadata": {},
   "source": [
    "Выведем общую информацию о данных"
   ]
  },
  {
   "cell_type": "code",
   "execution_count": 7,
   "id": "9717193e-05f8-422b-b008-eefffce050e9",
   "metadata": {},
   "outputs": [
    {
     "name": "stdout",
     "output_type": "stream",
     "text": [
      "<class 'pandas.core.frame.DataFrame'>\n",
      "RangeIndex: 559 entries, 0 to 558\n",
      "Data columns (total 8 columns):\n",
      " #   Column          Non-Null Count  Dtype  \n",
      "---  ------          --------------  -----  \n",
      " 0   topic           559 non-null    object \n",
      " 1   resource        559 non-null    object \n",
      " 2   idea            559 non-null    object \n",
      " 3   score_new_i     559 non-null    int64  \n",
      " 4   score_effect_i  559 non-null    int64  \n",
      " 5   solution        32 non-null     object \n",
      " 6   score_new_s     32 non-null     float64\n",
      " 7   score_effect_s  32 non-null     float64\n",
      "dtypes: float64(2), int64(2), object(4)\n",
      "memory usage: 35.1+ KB\n"
     ]
    }
   ],
   "source": [
    "data.info()"
   ]
  },
  {
   "cell_type": "markdown",
   "id": "e08782a6-a29b-4274-941c-a193dee49f1e",
   "metadata": {},
   "source": [
    "Приведем данные к нужному типу"
   ]
  },
  {
   "cell_type": "code",
   "execution_count": 53,
   "id": "0d9766e6-e798-44fd-bf2b-62c2fd4181eb",
   "metadata": {},
   "outputs": [],
   "source": [
    "data['score_new_i'] = data['score_new_i'].astype('int')\n",
    "data['score_effect_i'] = data['score_effect_i'].astype('int')"
   ]
  },
  {
   "cell_type": "markdown",
   "id": "44d63094-80a9-4859-9d75-34a8ab81ebab",
   "metadata": {},
   "source": [
    "Проверим наличие явных дубликатов"
   ]
  },
  {
   "cell_type": "code",
   "execution_count": 10,
   "id": "8e0f693d-56fa-420b-bb1e-4ef59c870494",
   "metadata": {},
   "outputs": [
    {
     "data": {
      "text/plain": [
       "0"
      ]
     },
     "execution_count": 10,
     "metadata": {},
     "output_type": "execute_result"
    }
   ],
   "source": [
    "data.duplicated().sum()"
   ]
  },
  {
   "cell_type": "markdown",
   "id": "fcfae9dd-6ffd-42df-aef0-fc33b2d2a3d4",
   "metadata": {},
   "source": [
    "Проверим наличие неявных дубликатов"
   ]
  },
  {
   "cell_type": "code",
   "execution_count": 11,
   "id": "dfdb14ff-b4e2-4890-ae10-2cb496f0908e",
   "metadata": {},
   "outputs": [
    {
     "data": {
      "text/plain": [
       "array(['ИИ', 'эксперты', 'эксперты '], dtype=object)"
      ]
     },
     "execution_count": 11,
     "metadata": {},
     "output_type": "execute_result"
    }
   ],
   "source": [
    "data['resource'].unique()"
   ]
  },
  {
   "cell_type": "code",
   "execution_count": 12,
   "id": "7ac31bce-98d9-4799-96ab-4569f914225e",
   "metadata": {},
   "outputs": [
    {
     "data": {
      "text/plain": [
       "array(['ИИ', 'эксперты'], dtype=object)"
      ]
     },
     "execution_count": 12,
     "metadata": {},
     "output_type": "execute_result"
    }
   ],
   "source": [
    "data = data.replace('эксперты ', 'эксперты')#заменим содержимое\n",
    "data['resource'].unique()"
   ]
  },
  {
   "cell_type": "markdown",
   "id": "7a40ae4f-196c-4910-8960-f35f1c96005d",
   "metadata": {},
   "source": [
    "**Вывод:**\n",
    "в ходе предварительной работы было сделано:\n",
    "- переименованы столбцы,\n",
    "- содержимое ячеек приведено к общему значению,\n",
    "- изменен тип данных,\n",
    "- построена общая гистограмма, которая показала, что:\n",
    "    - по количеству оценок новизны идей преобладают 0(свыше 250) и 1(около 240) оценки, оценки 2 - около 60;\n",
    "    - оценка эффективности идей: \"0\" - 50, \"1\" - свыше 250, \"2\" - около 240;\n",
    "    - оценка новизны решений: \"0\" - 10, \"1\" - 15, \"2\" - 7;\n",
    "    - оценка эффективности решений: \"0\" - 1, \"1\" - 12, \"2\" - 18."
   ]
  },
  {
   "cell_type": "markdown",
   "id": "21f7d8b9-204a-4cdf-8db7-3fa9e06221f0",
   "metadata": {},
   "source": [
    "## 3. Проверка гипотезы"
   ]
  },
  {
   "cell_type": "markdown",
   "id": "cf0dacf3-5142-4082-bc75-3dea400f47aa",
   "metadata": {},
   "source": [
    "Проверим гипотезу, что качество идей, сгенерированных при помощи экспертов выше, чем качество идей, сгенерированных при помощи искусственного интеллекта."
   ]
  },
  {
   "cell_type": "markdown",
   "id": "cced5452-6fec-4254-85a0-7e3dd9d34c3a",
   "metadata": {},
   "source": [
    "Посмотрим на средние значения в группах ИИ и эксперты"
   ]
  },
  {
   "cell_type": "code",
   "execution_count": 13,
   "id": "f831b90c-7eff-4ff5-8305-70de9eea7428",
   "metadata": {},
   "outputs": [
    {
     "data": {
      "text/html": [
       "<div>\n",
       "<style scoped>\n",
       "    .dataframe tbody tr th:only-of-type {\n",
       "        vertical-align: middle;\n",
       "    }\n",
       "\n",
       "    .dataframe tbody tr th {\n",
       "        vertical-align: top;\n",
       "    }\n",
       "\n",
       "    .dataframe thead th {\n",
       "        text-align: right;\n",
       "    }\n",
       "</style>\n",
       "<table border=\"1\" class=\"dataframe\">\n",
       "  <thead>\n",
       "    <tr style=\"text-align: right;\">\n",
       "      <th></th>\n",
       "      <th>resource</th>\n",
       "      <th>score_new_i</th>\n",
       "      <th>score_effect_i</th>\n",
       "      <th>score_new_s</th>\n",
       "      <th>score_effect_s</th>\n",
       "    </tr>\n",
       "  </thead>\n",
       "  <tbody>\n",
       "    <tr>\n",
       "      <th>0</th>\n",
       "      <td>ИИ</td>\n",
       "      <td>0.53</td>\n",
       "      <td>1.21</td>\n",
       "      <td>0.79</td>\n",
       "      <td>1.37</td>\n",
       "    </tr>\n",
       "    <tr>\n",
       "      <th>1</th>\n",
       "      <td>эксперты</td>\n",
       "      <td>0.79</td>\n",
       "      <td>1.45</td>\n",
       "      <td>1.08</td>\n",
       "      <td>1.85</td>\n",
       "    </tr>\n",
       "  </tbody>\n",
       "</table>\n",
       "</div>"
      ],
      "text/plain": [
       "   resource  score_new_i  score_effect_i  score_new_s  score_effect_s\n",
       "0        ИИ         0.53            1.21         0.79            1.37\n",
       "1  эксперты         0.79            1.45         1.08            1.85"
      ]
     },
     "execution_count": 13,
     "metadata": {},
     "output_type": "execute_result"
    }
   ],
   "source": [
    "data.groupby('resource').agg({'score_new_i' : 'mean', 'score_effect_i' : 'mean',\\\n",
    "                              'score_new_s' : 'mean', 'score_effect_s' : 'mean'})\\\n",
    "                        .reset_index()"
   ]
  },
  {
   "cell_type": "markdown",
   "id": "e66c0ea7-430f-4f97-b817-eaf9e0d87768",
   "metadata": {},
   "source": [
    "Посмотрим на количество идей и решений в группах ИИ и эксперты"
   ]
  },
  {
   "cell_type": "code",
   "execution_count": 14,
   "id": "87a4c7bd-a942-4bbe-ac7d-f29adfc2a51b",
   "metadata": {},
   "outputs": [
    {
     "data": {
      "text/html": [
       "<div>\n",
       "<style scoped>\n",
       "    .dataframe tbody tr th:only-of-type {\n",
       "        vertical-align: middle;\n",
       "    }\n",
       "\n",
       "    .dataframe tbody tr th {\n",
       "        vertical-align: top;\n",
       "    }\n",
       "\n",
       "    .dataframe thead th {\n",
       "        text-align: right;\n",
       "    }\n",
       "</style>\n",
       "<table border=\"1\" class=\"dataframe\">\n",
       "  <thead>\n",
       "    <tr style=\"text-align: right;\">\n",
       "      <th></th>\n",
       "      <th>resource</th>\n",
       "      <th>score_new_i</th>\n",
       "      <th>score_new_s</th>\n",
       "    </tr>\n",
       "  </thead>\n",
       "  <tbody>\n",
       "    <tr>\n",
       "      <th>0</th>\n",
       "      <td>ИИ</td>\n",
       "      <td>261</td>\n",
       "      <td>19</td>\n",
       "    </tr>\n",
       "    <tr>\n",
       "      <th>1</th>\n",
       "      <td>эксперты</td>\n",
       "      <td>298</td>\n",
       "      <td>13</td>\n",
       "    </tr>\n",
       "  </tbody>\n",
       "</table>\n",
       "</div>"
      ],
      "text/plain": [
       "   resource  score_new_i  score_new_s\n",
       "0        ИИ          261           19\n",
       "1  эксперты          298           13"
      ]
     },
     "execution_count": 14,
     "metadata": {},
     "output_type": "execute_result"
    }
   ],
   "source": [
    "data.groupby('resource').agg({'score_new_i' : 'count', 'score_new_s' : 'count'}).reset_index()"
   ]
  },
  {
   "cell_type": "markdown",
   "id": "18c96d4e-01fa-4a42-988f-2e9047244bc2",
   "metadata": {},
   "source": [
    "Сформируем группы для проверки наличия статистически значимой разницы между ними"
   ]
  },
  {
   "cell_type": "code",
   "execution_count": 15,
   "id": "f0584a78-3e6d-45a1-b289-51a89803ba19",
   "metadata": {},
   "outputs": [],
   "source": [
    "data_ii = data.query('resource == \"ИИ\"') # группа ИИ\n",
    "data_exp = data.query('resource != \"ИИ\"') # группа экспертов"
   ]
  },
  {
   "cell_type": "code",
   "execution_count": 16,
   "id": "0716fe62-c6b8-4bb1-aa4e-99be19a73864",
   "metadata": {},
   "outputs": [],
   "source": [
    "data_ii_new_i, data_ii_ef_i = data_ii['score_new_i'], data_ii['score_effect_i']\n",
    "data_exp_new_i, data_exp_ef_i = data_exp['score_new_i'], data_exp['score_effect_i']"
   ]
  },
  {
   "cell_type": "code",
   "execution_count": 17,
   "id": "48034a16-0bc2-4513-a2b9-aca2f7dfe247",
   "metadata": {},
   "outputs": [],
   "source": [
    "data_ii_new_s, data_ii_ef_s = data_ii['score_new_s'], data_ii['score_effect_s']\n",
    "data_exp_new_s, data_exp_ef_s = data_exp['score_new_s'], data_exp['score_effect_s']"
   ]
  },
  {
   "cell_type": "markdown",
   "id": "b861df37-b5a2-4f11-b1d5-617e60493b65",
   "metadata": {},
   "source": [
    "Сформулируем гипотезы:\n",
    "- Н0: средние показатели оценки новизны идей в группах равны,\n",
    "- Н1: средние показатели оценки новизны идей в группах не равны"
   ]
  },
  {
   "cell_type": "code",
   "execution_count": 18,
   "id": "4bf2cac1-2b2b-409a-92cc-09311d2554d9",
   "metadata": {},
   "outputs": [
    {
     "name": "stdout",
     "output_type": "stream",
     "text": [
      "p-значение: 8.207265589833157e-06\n",
      "Отвергаем нулевую гипотезу\n"
     ]
    }
   ],
   "source": [
    "alpha = 0.05/2 #уровень стат. значимости\n",
    "\n",
    "results = st.ttest_ind(data_ii_new_i, data_exp_new_i) # проводим стат. тест о равенстве оценок новизны идей, которые получили обе группы\n",
    "\n",
    "# вывод на экран получившееся p-значение\n",
    "print('p-значение:', results.pvalue)\n",
    "\n",
    "if results.pvalue < alpha: # сравнение p-значение с alpha\n",
    "    print('Отвергаем нулевую гипотезу')\n",
    "else:\n",
    "    print('Не получилось отвергнуть нулевую гипотезу')"
   ]
  },
  {
   "cell_type": "markdown",
   "id": "f09f5a18-ea00-4346-8657-b68e2ed65b6f",
   "metadata": {},
   "source": [
    "Сформулируем гипотезы:\n",
    "- Н0: средние показатели оценки эффективности идей в группах равны,\n",
    "- Н1: средние показатели оценки эффективности идей в группах не равны"
   ]
  },
  {
   "cell_type": "code",
   "execution_count": 19,
   "id": "f6108437-0fe9-45ec-ab8c-e06ad9e57062",
   "metadata": {},
   "outputs": [
    {
     "name": "stdout",
     "output_type": "stream",
     "text": [
      "p-значение: 5.297254139822363e-06\n",
      "Отвергаем нулевую гипотезу\n"
     ]
    }
   ],
   "source": [
    "alpha = 0.05/2 #уровень стат. значимости\n",
    "\n",
    "results = st.ttest_ind(data_ii_ef_i, data_exp_ef_i) # проводим стат. тест о равенстве оценок эффективности идей, которые получили обе группы\n",
    "\n",
    "# вывод на экран получившееся p-значение\n",
    "print('p-значение:', results.pvalue)\n",
    "\n",
    "if results.pvalue < alpha: # сравним p-значение с alpha\n",
    "    print('Отвергаем нулевую гипотезу')\n",
    "else:\n",
    "    print('Не получилось отвергнуть нулевую гипотезу')"
   ]
  },
  {
   "cell_type": "markdown",
   "id": "b0b3a1d9-3186-430a-a7ec-5a4be1c8e9ea",
   "metadata": {},
   "source": [
    "**Вывод:** в ходе статистических проверок гипотез мы отвергли нулевые гипотезы о равенстве средних показателей в группах, то есть между группами \"экспертов\" и \"ИИ\" в оценке новизны и эффективности идей есть статистически значимая разница."
   ]
  },
  {
   "cell_type": "markdown",
   "id": "a6b144b2-0da0-4864-ab6e-5eed09d8c07d",
   "metadata": {},
   "source": [
    "## 4. Исследовательский анализ данных"
   ]
  },
  {
   "cell_type": "markdown",
   "id": "05b7d62f-ef8c-4f7f-82eb-4b1703419668",
   "metadata": {},
   "source": [
    "Сгруппируем информацию и построим графики"
   ]
  },
  {
   "cell_type": "code",
   "execution_count": 20,
   "id": "5353c506-f093-429f-b1b5-7ddbd860776a",
   "metadata": {},
   "outputs": [],
   "source": [
    "data_grouped = data.groupby('topic').agg({'resource' : 'unique', 'score_new_i' : 'mean', 'score_effect_i' : 'mean', 'idea' : 'count'}).reset_index().sort_values(by='idea')"
   ]
  },
  {
   "cell_type": "code",
   "execution_count": 21,
   "id": "9cd7cfcf-574d-4feb-89ae-d4ac1544698e",
   "metadata": {},
   "outputs": [
    {
     "data": {
      "text/html": [
       "<div>\n",
       "<style scoped>\n",
       "    .dataframe tbody tr th:only-of-type {\n",
       "        vertical-align: middle;\n",
       "    }\n",
       "\n",
       "    .dataframe tbody tr th {\n",
       "        vertical-align: top;\n",
       "    }\n",
       "\n",
       "    .dataframe thead th {\n",
       "        text-align: right;\n",
       "    }\n",
       "</style>\n",
       "<table border=\"1\" class=\"dataframe\">\n",
       "  <thead>\n",
       "    <tr style=\"text-align: right;\">\n",
       "      <th></th>\n",
       "      <th>topic</th>\n",
       "      <th>resource</th>\n",
       "      <th>score_new_i</th>\n",
       "      <th>score_effect_i</th>\n",
       "      <th>idea</th>\n",
       "      <th>sum</th>\n",
       "    </tr>\n",
       "  </thead>\n",
       "  <tbody>\n",
       "    <tr>\n",
       "      <th>1</th>\n",
       "      <td>Входная группа SAS</td>\n",
       "      <td>[ИИ]</td>\n",
       "      <td>0.17</td>\n",
       "      <td>1.03</td>\n",
       "      <td>36</td>\n",
       "      <td>1.19</td>\n",
       "    </tr>\n",
       "    <tr>\n",
       "      <th>2</th>\n",
       "      <td>Здоровая еда</td>\n",
       "      <td>[ИИ]</td>\n",
       "      <td>0.44</td>\n",
       "      <td>0.92</td>\n",
       "      <td>36</td>\n",
       "      <td>1.36</td>\n",
       "    </tr>\n",
       "    <tr>\n",
       "      <th>4</th>\n",
       "      <td>Обучение английскому языку</td>\n",
       "      <td>[эксперты]</td>\n",
       "      <td>0.30</td>\n",
       "      <td>1.38</td>\n",
       "      <td>37</td>\n",
       "      <td>1.68</td>\n",
       "    </tr>\n",
       "    <tr>\n",
       "      <th>9</th>\n",
       "      <td>оценка дисциплин в SAS (COURSE EVALUATION)</td>\n",
       "      <td>[ИИ]</td>\n",
       "      <td>0.63</td>\n",
       "      <td>1.05</td>\n",
       "      <td>57</td>\n",
       "      <td>1.68</td>\n",
       "    </tr>\n",
       "    <tr>\n",
       "      <th>7</th>\n",
       "      <td>вход в общежитие</td>\n",
       "      <td>[эксперты]</td>\n",
       "      <td>0.38</td>\n",
       "      <td>1.32</td>\n",
       "      <td>40</td>\n",
       "      <td>1.70</td>\n",
       "    </tr>\n",
       "    <tr>\n",
       "      <th>10</th>\n",
       "      <td>посещение поликлиники</td>\n",
       "      <td>[эксперты]</td>\n",
       "      <td>0.51</td>\n",
       "      <td>1.30</td>\n",
       "      <td>37</td>\n",
       "      <td>1.81</td>\n",
       "    </tr>\n",
       "    <tr>\n",
       "      <th>0</th>\n",
       "      <td>Академическая деятельность студентов</td>\n",
       "      <td>[ИИ]</td>\n",
       "      <td>0.56</td>\n",
       "      <td>1.35</td>\n",
       "      <td>66</td>\n",
       "      <td>1.91</td>\n",
       "    </tr>\n",
       "    <tr>\n",
       "      <th>11</th>\n",
       "      <td>услуги по созданию сайтов</td>\n",
       "      <td>[эксперты]</td>\n",
       "      <td>0.50</td>\n",
       "      <td>1.59</td>\n",
       "      <td>44</td>\n",
       "      <td>2.09</td>\n",
       "    </tr>\n",
       "    <tr>\n",
       "      <th>5</th>\n",
       "      <td>Опыт жизни в общежитии</td>\n",
       "      <td>[ИИ]</td>\n",
       "      <td>0.81</td>\n",
       "      <td>1.30</td>\n",
       "      <td>27</td>\n",
       "      <td>2.11</td>\n",
       "    </tr>\n",
       "    <tr>\n",
       "      <th>3</th>\n",
       "      <td>Модеус</td>\n",
       "      <td>[ИИ]</td>\n",
       "      <td>0.56</td>\n",
       "      <td>1.59</td>\n",
       "      <td>39</td>\n",
       "      <td>2.15</td>\n",
       "    </tr>\n",
       "    <tr>\n",
       "      <th>8</th>\n",
       "      <td>выбор элективов</td>\n",
       "      <td>[эксперты]</td>\n",
       "      <td>1.17</td>\n",
       "      <td>1.50</td>\n",
       "      <td>111</td>\n",
       "      <td>2.67</td>\n",
       "    </tr>\n",
       "    <tr>\n",
       "      <th>6</th>\n",
       "      <td>Электросамокаты</td>\n",
       "      <td>[эксперты]</td>\n",
       "      <td>1.31</td>\n",
       "      <td>1.55</td>\n",
       "      <td>29</td>\n",
       "      <td>2.86</td>\n",
       "    </tr>\n",
       "  </tbody>\n",
       "</table>\n",
       "</div>"
      ],
      "text/plain": [
       "                                         topic    resource  score_new_i  \\\n",
       "1                           Входная группа SAS        [ИИ]         0.17   \n",
       "2                                 Здоровая еда        [ИИ]         0.44   \n",
       "4                   Обучение английскому языку  [эксперты]         0.30   \n",
       "9   оценка дисциплин в SAS (COURSE EVALUATION)        [ИИ]         0.63   \n",
       "7                            вход в общежитие   [эксперты]         0.38   \n",
       "10                      посещение поликлиники   [эксперты]         0.51   \n",
       "0         Академическая деятельность студентов        [ИИ]         0.56   \n",
       "11                   услуги по созданию сайтов  [эксперты]         0.50   \n",
       "5                       Опыт жизни в общежитии        [ИИ]         0.81   \n",
       "3                                       Модеус        [ИИ]         0.56   \n",
       "8                              выбор элективов  [эксперты]         1.17   \n",
       "6                              Электросамокаты  [эксперты]         1.31   \n",
       "\n",
       "    score_effect_i  idea  sum  \n",
       "1             1.03    36 1.19  \n",
       "2             0.92    36 1.36  \n",
       "4             1.38    37 1.68  \n",
       "9             1.05    57 1.68  \n",
       "7             1.32    40 1.70  \n",
       "10            1.30    37 1.81  \n",
       "0             1.35    66 1.91  \n",
       "11            1.59    44 2.09  \n",
       "5             1.30    27 2.11  \n",
       "3             1.59    39 2.15  \n",
       "8             1.50   111 2.67  \n",
       "6             1.55    29 2.86  "
      ]
     },
     "execution_count": 21,
     "metadata": {},
     "output_type": "execute_result"
    }
   ],
   "source": [
    "data_grouped['sum'] = data_grouped['score_new_i'] + data_grouped['score_effect_i']\n",
    "data_grouped.sort_values(by='sum')"
   ]
  },
  {
   "cell_type": "markdown",
   "id": "29f96db1-93c2-48a7-b08b-8b27f40b379f",
   "metadata": {},
   "source": [
    "**Посмотрим на оценку новизны идей при разделении на группы ИИ и экспертов**"
   ]
  },
  {
   "cell_type": "code",
   "execution_count": 22,
   "id": "c459ce77-383f-48d6-afeb-40309bfd9b6b",
   "metadata": {},
   "outputs": [
    {
     "data": {
      "text/html": [
       "<div>\n",
       "<style scoped>\n",
       "    .dataframe tbody tr th:only-of-type {\n",
       "        vertical-align: middle;\n",
       "    }\n",
       "\n",
       "    .dataframe tbody tr th {\n",
       "        vertical-align: top;\n",
       "    }\n",
       "\n",
       "    .dataframe thead th {\n",
       "        text-align: right;\n",
       "    }\n",
       "</style>\n",
       "<table border=\"1\" class=\"dataframe\">\n",
       "  <thead>\n",
       "    <tr style=\"text-align: right;\">\n",
       "      <th></th>\n",
       "      <th>resource</th>\n",
       "      <th>score_new_i</th>\n",
       "    </tr>\n",
       "  </thead>\n",
       "  <tbody>\n",
       "    <tr>\n",
       "      <th>0</th>\n",
       "      <td>ИИ</td>\n",
       "      <td>142</td>\n",
       "    </tr>\n",
       "    <tr>\n",
       "      <th>1</th>\n",
       "      <td>эксперты</td>\n",
       "      <td>111</td>\n",
       "    </tr>\n",
       "  </tbody>\n",
       "</table>\n",
       "</div>"
      ],
      "text/plain": [
       "   resource  score_new_i\n",
       "0        ИИ          142\n",
       "1  эксперты          111"
      ]
     },
     "execution_count": 22,
     "metadata": {},
     "output_type": "execute_result"
    }
   ],
   "source": [
    "data_score_new_i_0 = data.query('score_new_i == 0').groupby('resource').agg({'score_new_i' : 'count'}).reset_index()\n",
    "data_score_new_i_0"
   ]
  },
  {
   "cell_type": "code",
   "execution_count": 23,
   "id": "b803e3b5-2ba6-496e-8b81-05b7ea5f557e",
   "metadata": {},
   "outputs": [
    {
     "data": {
      "text/html": [
       "<div>\n",
       "<style scoped>\n",
       "    .dataframe tbody tr th:only-of-type {\n",
       "        vertical-align: middle;\n",
       "    }\n",
       "\n",
       "    .dataframe tbody tr th {\n",
       "        vertical-align: top;\n",
       "    }\n",
       "\n",
       "    .dataframe thead th {\n",
       "        text-align: right;\n",
       "    }\n",
       "</style>\n",
       "<table border=\"1\" class=\"dataframe\">\n",
       "  <thead>\n",
       "    <tr style=\"text-align: right;\">\n",
       "      <th></th>\n",
       "      <th>resource</th>\n",
       "      <th>score_new_i</th>\n",
       "    </tr>\n",
       "  </thead>\n",
       "  <tbody>\n",
       "    <tr>\n",
       "      <th>0</th>\n",
       "      <td>ИИ</td>\n",
       "      <td>99</td>\n",
       "    </tr>\n",
       "    <tr>\n",
       "      <th>1</th>\n",
       "      <td>эксперты</td>\n",
       "      <td>139</td>\n",
       "    </tr>\n",
       "  </tbody>\n",
       "</table>\n",
       "</div>"
      ],
      "text/plain": [
       "   resource  score_new_i\n",
       "0        ИИ           99\n",
       "1  эксперты          139"
      ]
     },
     "execution_count": 23,
     "metadata": {},
     "output_type": "execute_result"
    }
   ],
   "source": [
    "data_score_new_i_1 = data.query('score_new_i == 1').groupby('resource').agg({'score_new_i' : 'count'}).reset_index()\n",
    "data_score_new_i_1"
   ]
  },
  {
   "cell_type": "code",
   "execution_count": 24,
   "id": "a1ba74d5-b811-45b4-9474-3beb39343d98",
   "metadata": {},
   "outputs": [
    {
     "data": {
      "text/html": [
       "<div>\n",
       "<style scoped>\n",
       "    .dataframe tbody tr th:only-of-type {\n",
       "        vertical-align: middle;\n",
       "    }\n",
       "\n",
       "    .dataframe tbody tr th {\n",
       "        vertical-align: top;\n",
       "    }\n",
       "\n",
       "    .dataframe thead th {\n",
       "        text-align: right;\n",
       "    }\n",
       "</style>\n",
       "<table border=\"1\" class=\"dataframe\">\n",
       "  <thead>\n",
       "    <tr style=\"text-align: right;\">\n",
       "      <th></th>\n",
       "      <th>resource</th>\n",
       "      <th>score_new_i</th>\n",
       "    </tr>\n",
       "  </thead>\n",
       "  <tbody>\n",
       "    <tr>\n",
       "      <th>0</th>\n",
       "      <td>ИИ</td>\n",
       "      <td>20</td>\n",
       "    </tr>\n",
       "    <tr>\n",
       "      <th>1</th>\n",
       "      <td>эксперты</td>\n",
       "      <td>48</td>\n",
       "    </tr>\n",
       "  </tbody>\n",
       "</table>\n",
       "</div>"
      ],
      "text/plain": [
       "   resource  score_new_i\n",
       "0        ИИ           20\n",
       "1  эксперты           48"
      ]
     },
     "execution_count": 24,
     "metadata": {},
     "output_type": "execute_result"
    }
   ],
   "source": [
    "data_score_new_i_2 = data.query('score_new_i == 2').groupby('resource').agg({'score_new_i' : 'count'}).reset_index()\n",
    "data_score_new_i_2"
   ]
  },
  {
   "cell_type": "code",
   "execution_count": 25,
   "id": "d1a02c0f-d760-47dc-a91c-6b409e46d584",
   "metadata": {},
   "outputs": [
    {
     "data": {
      "image/png": "[encoded data removed]",
      "text/plain": [
       "<Figure size 1800x720 with 3 Axes>"
      ]
     },
     "metadata": {},
     "output_type": "display_data"
    }
   ],
   "source": [
    "colors = ['#FFE4E1', '#F08080'] #установим цвета\n",
    "labels=['ИИ', 'эксперты'] #установим названия для осей\n",
    "\n",
    "\n",
    "fig, ax = plt.subplots(1, 3)\n",
    "ax[0].pie(data_score_new_i_0['score_new_i'], labels=labels, colors=colors, labeldistance=1.1,\\\n",
    "        wedgeprops={'linewidth' : 2, 'edgecolor' : 'white'}, autopct='%1.1f%%')\n",
    "ax[0].set_title('Соотношение популярный идей') #установим название графика\n",
    "\n",
    "ax[1].pie(data_score_new_i_1['score_new_i'], labels=labels, colors=colors, labeldistance=1.1,\\\n",
    "        wedgeprops={'linewidth' : 2, 'edgecolor' : 'white'}, autopct='%1.1f%%')\n",
    "ax[1].set_title('Соотношение вторичных идей') #установим название графика\n",
    "\n",
    "ax[2].pie(data_score_new_i_2['score_new_i'], labels=labels, colors=colors, labeldistance=1.1,\\\n",
    "        wedgeprops={'linewidth' : 2, 'edgecolor' : 'white'}, autopct='%1.1f%%')\n",
    "ax[2].set_title('Соотношение новых идей') #установим название графика\n",
    "\n",
    "fig.set_size_inches(25, 10)\n",
    "\n",
    "plt.show()"
   ]
  },
  {
   "cell_type": "markdown",
   "id": "b23dcef8-ca2c-4799-aab8-bf53e3b3ef11",
   "metadata": {},
   "source": [
    "Вывод: \n",
    "- доля новых идей(новизна идей = 2) в группе \"экспертов\" превышает долю идей в группе \"ИИ\" больше чем в два раза: 71% vs 29% (в количественном соотношении 48 vs 20);\n",
    "- доля вторичных идей: \"эксперты\" 58%, \"ИИ\" 42% (в количественном соотношении 139 vs 99);\n",
    "- доля популярных идей: \"эксперты\" 44%, \"ИИ\" 56% (в количественном соотношении 111 vs 142)."
   ]
  },
  {
   "cell_type": "markdown",
   "id": "d365cd30-5f5c-46d3-85a4-77a7a7e99b33",
   "metadata": {},
   "source": [
    "**Посмотрим, как распределяются идеи внутри групп \"ИИ\" и \"экспертов\" при оценке новизны**"
   ]
  },
  {
   "cell_type": "markdown",
   "id": "91a2891f-b831-4589-8097-b76f53884a54",
   "metadata": {},
   "source": [
    "Оценка новизны идей"
   ]
  },
  {
   "cell_type": "code",
   "execution_count": 26,
   "id": "3400e93b-06c1-4a7c-9f75-4fa2f9244780",
   "metadata": {},
   "outputs": [
    {
     "data": {
      "text/html": [
       "<div>\n",
       "<style scoped>\n",
       "    .dataframe tbody tr th:only-of-type {\n",
       "        vertical-align: middle;\n",
       "    }\n",
       "\n",
       "    .dataframe tbody tr th {\n",
       "        vertical-align: top;\n",
       "    }\n",
       "\n",
       "    .dataframe thead th {\n",
       "        text-align: right;\n",
       "    }\n",
       "</style>\n",
       "<table border=\"1\" class=\"dataframe\">\n",
       "  <thead>\n",
       "    <tr style=\"text-align: right;\">\n",
       "      <th></th>\n",
       "      <th>resource</th>\n",
       "      <th>score_new_i</th>\n",
       "      <th>topic</th>\n",
       "    </tr>\n",
       "  </thead>\n",
       "  <tbody>\n",
       "    <tr>\n",
       "      <th>0</th>\n",
       "      <td>ИИ</td>\n",
       "      <td>0</td>\n",
       "      <td>142</td>\n",
       "    </tr>\n",
       "    <tr>\n",
       "      <th>1</th>\n",
       "      <td>ИИ</td>\n",
       "      <td>1</td>\n",
       "      <td>99</td>\n",
       "    </tr>\n",
       "    <tr>\n",
       "      <th>2</th>\n",
       "      <td>ИИ</td>\n",
       "      <td>2</td>\n",
       "      <td>20</td>\n",
       "    </tr>\n",
       "    <tr>\n",
       "      <th>3</th>\n",
       "      <td>эксперты</td>\n",
       "      <td>0</td>\n",
       "      <td>111</td>\n",
       "    </tr>\n",
       "    <tr>\n",
       "      <th>4</th>\n",
       "      <td>эксперты</td>\n",
       "      <td>1</td>\n",
       "      <td>139</td>\n",
       "    </tr>\n",
       "    <tr>\n",
       "      <th>5</th>\n",
       "      <td>эксперты</td>\n",
       "      <td>2</td>\n",
       "      <td>48</td>\n",
       "    </tr>\n",
       "  </tbody>\n",
       "</table>\n",
       "</div>"
      ],
      "text/plain": [
       "   resource  score_new_i  topic\n",
       "0        ИИ            0    142\n",
       "1        ИИ            1     99\n",
       "2        ИИ            2     20\n",
       "3  эксперты            0    111\n",
       "4  эксперты            1    139\n",
       "5  эксперты            2     48"
      ]
     },
     "execution_count": 26,
     "metadata": {},
     "output_type": "execute_result"
    }
   ],
   "source": [
    "data.groupby(['resource', 'score_new_i'])['topic'].count().reset_index()"
   ]
  },
  {
   "cell_type": "code",
   "execution_count": 27,
   "id": "a10bee8e-deef-423e-9a01-4d24e6231638",
   "metadata": {},
   "outputs": [],
   "source": [
    "data_ii = data.query('resource == \"ИИ\"')\n",
    "data_ii_new = data_ii.groupby('score_new_i')['topic'].count()\n",
    "data_ii_effect = data_ii.groupby('score_effect_i')['topic'].count()"
   ]
  },
  {
   "cell_type": "code",
   "execution_count": 28,
   "id": "694ceb5a-fd9d-4ac9-acfc-00f98f764420",
   "metadata": {},
   "outputs": [],
   "source": [
    "data_exp = data.query('resource == \"эксперты\"')\n",
    "data_exp_new = data_exp.groupby('score_new_i')['topic'].count()\n",
    "data_exp_effect = data_exp.groupby('score_effect_i')['topic'].count()"
   ]
  },
  {
   "cell_type": "code",
   "execution_count": 29,
   "id": "4f24ef54-f934-4540-8a11-6a3acebbecaa",
   "metadata": {},
   "outputs": [
    {
     "data": {
      "image/png": "[encoded data removed]",
      "text/plain": [
       "<Figure size 1080x1080 with 2 Axes>"
      ]
     },
     "metadata": {},
     "output_type": "display_data"
    }
   ],
   "source": [
    "colors = ['#FFE4E1', '#F08080', '#8EB897'] #установим цвета\n",
    "labels=['Популярные идеи', 'Вторичные идеи', 'Новые идеи'] #установим названия для осей\n",
    "\n",
    "\n",
    "fig, ax = plt.subplots(1, 2)\n",
    "ax[0].pie(data_ii_new, labels=labels, colors=colors, labeldistance=1.1,\\\n",
    "        wedgeprops={'linewidth' : 2, 'edgecolor' : 'white'}, autopct='%1.1f%%')\n",
    "ax[0].set_title('Оценка новизны идей, сгенерированных при помощи ИИ') #установим название графика\n",
    "\n",
    "ax[1].pie(data_exp_new, labels=labels, colors=colors, labeldistance=1.1,\\\n",
    "        wedgeprops={'linewidth' : 2, 'edgecolor' : 'white'}, autopct='%1.1f%%')\n",
    "ax[1].set_title('Оценка новизны идей, сгенерированных при помощи экспертов') #установим название графика\n",
    "fig.set_size_inches(15, 15)\n",
    "\n",
    "plt.show()"
   ]
  },
  {
   "cell_type": "markdown",
   "id": "a668c467-509b-458a-8bb0-627ee07400d9",
   "metadata": {},
   "source": [
    "Вывод: доля новых идей в группе \"экспертов\" составляет 16% от общего количества идей в группе, в группе \"ИИ\" - 8%."
   ]
  },
  {
   "cell_type": "markdown",
   "id": "67fdc315-7269-42c5-a9a5-80b4715c06b2",
   "metadata": {},
   "source": [
    "**Посмотрим на оценку эффективности идей при разделении на группы \"ИИ\" и \"экспертов\"**"
   ]
  },
  {
   "cell_type": "code",
   "execution_count": 30,
   "id": "efb75afc-4e79-4ec3-8b6d-a32a16a8ccf9",
   "metadata": {},
   "outputs": [],
   "source": [
    "data_score_effect_i_0 = data.query('score_effect_i == 0').groupby('resource').agg({'score_effect_i' : 'count'}).reset_index()\n",
    "data_score_effect_i_1 = data.query('score_effect_i == 1').groupby('resource').agg({'score_effect_i' : 'count'}).reset_index()\n",
    "data_score_effect_i_2 = data.query('score_effect_i == 2').groupby('resource').agg({'score_effect_i' : 'count'}).reset_index()"
   ]
  },
  {
   "cell_type": "code",
   "execution_count": 31,
   "id": "ad00778e-d0e5-427f-a36e-32a578eaecbf",
   "metadata": {},
   "outputs": [
    {
     "data": {
      "text/html": [
       "<div>\n",
       "<style scoped>\n",
       "    .dataframe tbody tr th:only-of-type {\n",
       "        vertical-align: middle;\n",
       "    }\n",
       "\n",
       "    .dataframe tbody tr th {\n",
       "        vertical-align: top;\n",
       "    }\n",
       "\n",
       "    .dataframe thead th {\n",
       "        text-align: right;\n",
       "    }\n",
       "</style>\n",
       "<table border=\"1\" class=\"dataframe\">\n",
       "  <thead>\n",
       "    <tr style=\"text-align: right;\">\n",
       "      <th></th>\n",
       "      <th>resource</th>\n",
       "      <th>score_effect_i</th>\n",
       "    </tr>\n",
       "  </thead>\n",
       "  <tbody>\n",
       "    <tr>\n",
       "      <th>0</th>\n",
       "      <td>ИИ</td>\n",
       "      <td>30</td>\n",
       "    </tr>\n",
       "    <tr>\n",
       "      <th>1</th>\n",
       "      <td>эксперты</td>\n",
       "      <td>19</td>\n",
       "    </tr>\n",
       "  </tbody>\n",
       "</table>\n",
       "</div>"
      ],
      "text/plain": [
       "   resource  score_effect_i\n",
       "0        ИИ              30\n",
       "1  эксперты              19"
      ]
     },
     "metadata": {},
     "output_type": "display_data"
    },
    {
     "data": {
      "text/html": [
       "<div>\n",
       "<style scoped>\n",
       "    .dataframe tbody tr th:only-of-type {\n",
       "        vertical-align: middle;\n",
       "    }\n",
       "\n",
       "    .dataframe tbody tr th {\n",
       "        vertical-align: top;\n",
       "    }\n",
       "\n",
       "    .dataframe thead th {\n",
       "        text-align: right;\n",
       "    }\n",
       "</style>\n",
       "<table border=\"1\" class=\"dataframe\">\n",
       "  <thead>\n",
       "    <tr style=\"text-align: right;\">\n",
       "      <th></th>\n",
       "      <th>resource</th>\n",
       "      <th>score_effect_i</th>\n",
       "    </tr>\n",
       "  </thead>\n",
       "  <tbody>\n",
       "    <tr>\n",
       "      <th>0</th>\n",
       "      <td>ИИ</td>\n",
       "      <td>146</td>\n",
       "    </tr>\n",
       "    <tr>\n",
       "      <th>1</th>\n",
       "      <td>эксперты</td>\n",
       "      <td>125</td>\n",
       "    </tr>\n",
       "  </tbody>\n",
       "</table>\n",
       "</div>"
      ],
      "text/plain": [
       "   resource  score_effect_i\n",
       "0        ИИ             146\n",
       "1  эксперты             125"
      ]
     },
     "metadata": {},
     "output_type": "display_data"
    },
    {
     "data": {
      "text/html": [
       "<div>\n",
       "<style scoped>\n",
       "    .dataframe tbody tr th:only-of-type {\n",
       "        vertical-align: middle;\n",
       "    }\n",
       "\n",
       "    .dataframe tbody tr th {\n",
       "        vertical-align: top;\n",
       "    }\n",
       "\n",
       "    .dataframe thead th {\n",
       "        text-align: right;\n",
       "    }\n",
       "</style>\n",
       "<table border=\"1\" class=\"dataframe\">\n",
       "  <thead>\n",
       "    <tr style=\"text-align: right;\">\n",
       "      <th></th>\n",
       "      <th>resource</th>\n",
       "      <th>score_effect_i</th>\n",
       "    </tr>\n",
       "  </thead>\n",
       "  <tbody>\n",
       "    <tr>\n",
       "      <th>0</th>\n",
       "      <td>ИИ</td>\n",
       "      <td>85</td>\n",
       "    </tr>\n",
       "    <tr>\n",
       "      <th>1</th>\n",
       "      <td>эксперты</td>\n",
       "      <td>154</td>\n",
       "    </tr>\n",
       "  </tbody>\n",
       "</table>\n",
       "</div>"
      ],
      "text/plain": [
       "   resource  score_effect_i\n",
       "0        ИИ              85\n",
       "1  эксперты             154"
      ]
     },
     "metadata": {},
     "output_type": "display_data"
    }
   ],
   "source": [
    "display(data_score_effect_i_0, data_score_effect_i_1, data_score_effect_i_2)"
   ]
  },
  {
   "cell_type": "code",
   "execution_count": 32,
   "id": "25887c7b-9e43-46eb-8406-db83fabb1d38",
   "metadata": {},
   "outputs": [
    {
     "data": {
      "image/png": "[encoded data removed]",
      "text/plain": [
       "<Figure size 1800x720 with 3 Axes>"
      ]
     },
     "metadata": {},
     "output_type": "display_data"
    }
   ],
   "source": [
    "colors = ['#FFE4E1', '#F08080'] #установим цвета\n",
    "labels=['ИИ', 'эксперты'] #установим названия для осей\n",
    "\n",
    "\n",
    "fig, ax = plt.subplots(1, 3)\n",
    "ax[0].pie(data_score_effect_i_0['score_effect_i'], labels=labels, colors=colors, labeldistance=1.1,\\\n",
    "        wedgeprops={'linewidth' : 2, 'edgecolor' : 'white'}, autopct='%1.1f%%')\n",
    "ax[0].set_title('Соотношение идей с незначительным эффектом') #установим название графика\n",
    "\n",
    "ax[1].pie(data_score_effect_i_1['score_effect_i'], labels=labels, colors=colors, labeldistance=1.1,\\\n",
    "        wedgeprops={'linewidth' : 2, 'edgecolor' : 'white'}, autopct='%1.1f%%')\n",
    "ax[1].set_title('Соотношение идей с заметным результатом') #установим название графика\n",
    "\n",
    "ax[2].pie(data_score_effect_i_2['score_effect_i'], labels=labels, colors=colors, labeldistance=1.1,\\\n",
    "        wedgeprops={'linewidth' : 2, 'edgecolor' : 'white'}, autopct='%1.1f%%')\n",
    "ax[2].set_title('Соотношение идей, существенно улучшающих опыт пользователей') #установим название графика\n",
    "\n",
    "fig.set_size_inches(25, 10)\n",
    "\n",
    "plt.show()"
   ]
  },
  {
   "cell_type": "markdown",
   "id": "a2493c25-e134-49fa-bf94-bfa91cbd836a",
   "metadata": {},
   "source": [
    "Вывод: \n",
    "- доля идей, существенно улучшающих опыт пользователей, в группе \"эксперты\" - 64%, в группе \"ИИ\" - 36% (в количественном соотношении: 154 vs 85);\n",
    "- доля идей с заметным результатом: \"эксперты\" - 46%, \"ИИ\" - 54% (в количественном соотношении: 125 vs 146);\n",
    "- доля идей с незначительным эффектом: \"эксперты\" - 39%, \"ИИ\" - 61% (в количественном соотношении: 19 vs 30)"
   ]
  },
  {
   "cell_type": "markdown",
   "id": "f85125a5-b044-439a-af9e-20aab767c253",
   "metadata": {},
   "source": [
    "**Посмотрим, как распределяются идеи внутри групп \"ИИ\" и \"экспертов\" при оценке эффективности**"
   ]
  },
  {
   "cell_type": "code",
   "execution_count": 33,
   "id": "b4f5b32f-adf4-4214-adfe-d4decd2fa911",
   "metadata": {},
   "outputs": [
    {
     "data": {
      "text/html": [
       "<div>\n",
       "<style scoped>\n",
       "    .dataframe tbody tr th:only-of-type {\n",
       "        vertical-align: middle;\n",
       "    }\n",
       "\n",
       "    .dataframe tbody tr th {\n",
       "        vertical-align: top;\n",
       "    }\n",
       "\n",
       "    .dataframe thead th {\n",
       "        text-align: right;\n",
       "    }\n",
       "</style>\n",
       "<table border=\"1\" class=\"dataframe\">\n",
       "  <thead>\n",
       "    <tr style=\"text-align: right;\">\n",
       "      <th></th>\n",
       "      <th>resource</th>\n",
       "      <th>score_effect_i</th>\n",
       "      <th>topic</th>\n",
       "    </tr>\n",
       "  </thead>\n",
       "  <tbody>\n",
       "    <tr>\n",
       "      <th>0</th>\n",
       "      <td>ИИ</td>\n",
       "      <td>0</td>\n",
       "      <td>30</td>\n",
       "    </tr>\n",
       "    <tr>\n",
       "      <th>1</th>\n",
       "      <td>ИИ</td>\n",
       "      <td>1</td>\n",
       "      <td>146</td>\n",
       "    </tr>\n",
       "    <tr>\n",
       "      <th>2</th>\n",
       "      <td>ИИ</td>\n",
       "      <td>2</td>\n",
       "      <td>85</td>\n",
       "    </tr>\n",
       "    <tr>\n",
       "      <th>3</th>\n",
       "      <td>эксперты</td>\n",
       "      <td>0</td>\n",
       "      <td>19</td>\n",
       "    </tr>\n",
       "    <tr>\n",
       "      <th>4</th>\n",
       "      <td>эксперты</td>\n",
       "      <td>1</td>\n",
       "      <td>125</td>\n",
       "    </tr>\n",
       "    <tr>\n",
       "      <th>5</th>\n",
       "      <td>эксперты</td>\n",
       "      <td>2</td>\n",
       "      <td>154</td>\n",
       "    </tr>\n",
       "  </tbody>\n",
       "</table>\n",
       "</div>"
      ],
      "text/plain": [
       "   resource  score_effect_i  topic\n",
       "0        ИИ               0     30\n",
       "1        ИИ               1    146\n",
       "2        ИИ               2     85\n",
       "3  эксперты               0     19\n",
       "4  эксперты               1    125\n",
       "5  эксперты               2    154"
      ]
     },
     "execution_count": 33,
     "metadata": {},
     "output_type": "execute_result"
    }
   ],
   "source": [
    "data.groupby(['resource', 'score_effect_i'])['topic'].count().reset_index()"
   ]
  },
  {
   "cell_type": "code",
   "execution_count": 34,
   "id": "289b4239-e2da-447a-b6ee-4dd537e0af4a",
   "metadata": {},
   "outputs": [
    {
     "data": {
      "image/png": "[encoded data removed]",
      "text/plain": [
       "<Figure size 1080x1080 with 2 Axes>"
      ]
     },
     "metadata": {},
     "output_type": "display_data"
    }
   ],
   "source": [
    "colors = ['#FFE4E1', '#F08080', '#8EB897'] #установим цвета\n",
    "labels=['Незначительный эффект', 'Заметный результат', 'Существенно улучшающие опыт'] #установим названия для осей\n",
    "\n",
    "\n",
    "fig, ax = plt.subplots(1, 2)\n",
    "ax[0].pie(data_ii_effect, labels=labels, colors=colors, labeldistance=1.1,\\\n",
    "        wedgeprops={'linewidth' : 2, 'edgecolor' : 'white'}, autopct='%1.1f%%')\n",
    "ax[0].set_title('Оценка эффективности идей, сгенерированных при помощи ИИ') #установим название графика\n",
    "\n",
    "ax[1].pie(data_exp_effect, labels=labels, colors=colors, labeldistance=1.1,\\\n",
    "        wedgeprops={'linewidth' : 2, 'edgecolor' : 'white'}, autopct='%1.1f%%')\n",
    "ax[1].set_title('Оценка эффективности идей, сгенерированных при помощи экспертов') #установим название графика\n",
    "fig.set_size_inches(15, 15)\n",
    "\n",
    "plt.show()"
   ]
  },
  {
   "cell_type": "markdown",
   "id": "820844f7-ca6d-4edd-a8f9-23934ea4ebd3",
   "metadata": {},
   "source": [
    "Вывод: доля идей, существенно улучшающих опыт, в группе \"эксперты\" составляет 52%, в группе \"ИИ\" - 33%."
   ]
  },
  {
   "cell_type": "markdown",
   "id": "58debd9c-d80c-4808-ad9a-8642d28b30bf",
   "metadata": {},
   "source": [
    "**Посмотрим на оценку новизны решений при разделении на группы ИИ и экспертов**"
   ]
  },
  {
   "cell_type": "code",
   "execution_count": 35,
   "id": "cb3a8236-2571-4080-8cb0-263d33661a82",
   "metadata": {},
   "outputs": [],
   "source": [
    "data_score_new_s_0 = data.query('score_new_s == 0').groupby('resource').agg({'score_new_s' : 'count'}).reset_index()\n",
    "data_score_new_s_1 = data.query('score_new_s == 1').groupby('resource').agg({'score_new_s' : 'count'}).reset_index()\n",
    "data_score_new_s_2 = data.query('score_new_s == 2').groupby('resource').agg({'score_new_s' : 'count'}).reset_index()"
   ]
  },
  {
   "cell_type": "code",
   "execution_count": 36,
   "id": "11399268-8400-482c-aa38-5b3a90c59250",
   "metadata": {},
   "outputs": [
    {
     "data": {
      "text/html": [
       "<div>\n",
       "<style scoped>\n",
       "    .dataframe tbody tr th:only-of-type {\n",
       "        vertical-align: middle;\n",
       "    }\n",
       "\n",
       "    .dataframe tbody tr th {\n",
       "        vertical-align: top;\n",
       "    }\n",
       "\n",
       "    .dataframe thead th {\n",
       "        text-align: right;\n",
       "    }\n",
       "</style>\n",
       "<table border=\"1\" class=\"dataframe\">\n",
       "  <thead>\n",
       "    <tr style=\"text-align: right;\">\n",
       "      <th></th>\n",
       "      <th>resource</th>\n",
       "      <th>score_new_s</th>\n",
       "    </tr>\n",
       "  </thead>\n",
       "  <tbody>\n",
       "    <tr>\n",
       "      <th>0</th>\n",
       "      <td>ИИ</td>\n",
       "      <td>9</td>\n",
       "    </tr>\n",
       "    <tr>\n",
       "      <th>1</th>\n",
       "      <td>эксперты</td>\n",
       "      <td>1</td>\n",
       "    </tr>\n",
       "  </tbody>\n",
       "</table>\n",
       "</div>"
      ],
      "text/plain": [
       "   resource  score_new_s\n",
       "0        ИИ            9\n",
       "1  эксперты            1"
      ]
     },
     "metadata": {},
     "output_type": "display_data"
    },
    {
     "data": {
      "text/html": [
       "<div>\n",
       "<style scoped>\n",
       "    .dataframe tbody tr th:only-of-type {\n",
       "        vertical-align: middle;\n",
       "    }\n",
       "\n",
       "    .dataframe tbody tr th {\n",
       "        vertical-align: top;\n",
       "    }\n",
       "\n",
       "    .dataframe thead th {\n",
       "        text-align: right;\n",
       "    }\n",
       "</style>\n",
       "<table border=\"1\" class=\"dataframe\">\n",
       "  <thead>\n",
       "    <tr style=\"text-align: right;\">\n",
       "      <th></th>\n",
       "      <th>resource</th>\n",
       "      <th>score_new_s</th>\n",
       "    </tr>\n",
       "  </thead>\n",
       "  <tbody>\n",
       "    <tr>\n",
       "      <th>0</th>\n",
       "      <td>ИИ</td>\n",
       "      <td>5</td>\n",
       "    </tr>\n",
       "    <tr>\n",
       "      <th>1</th>\n",
       "      <td>эксперты</td>\n",
       "      <td>10</td>\n",
       "    </tr>\n",
       "  </tbody>\n",
       "</table>\n",
       "</div>"
      ],
      "text/plain": [
       "   resource  score_new_s\n",
       "0        ИИ            5\n",
       "1  эксперты           10"
      ]
     },
     "metadata": {},
     "output_type": "display_data"
    },
    {
     "data": {
      "text/html": [
       "<div>\n",
       "<style scoped>\n",
       "    .dataframe tbody tr th:only-of-type {\n",
       "        vertical-align: middle;\n",
       "    }\n",
       "\n",
       "    .dataframe tbody tr th {\n",
       "        vertical-align: top;\n",
       "    }\n",
       "\n",
       "    .dataframe thead th {\n",
       "        text-align: right;\n",
       "    }\n",
       "</style>\n",
       "<table border=\"1\" class=\"dataframe\">\n",
       "  <thead>\n",
       "    <tr style=\"text-align: right;\">\n",
       "      <th></th>\n",
       "      <th>resource</th>\n",
       "      <th>score_new_s</th>\n",
       "    </tr>\n",
       "  </thead>\n",
       "  <tbody>\n",
       "    <tr>\n",
       "      <th>0</th>\n",
       "      <td>ИИ</td>\n",
       "      <td>5</td>\n",
       "    </tr>\n",
       "    <tr>\n",
       "      <th>1</th>\n",
       "      <td>эксперты</td>\n",
       "      <td>2</td>\n",
       "    </tr>\n",
       "  </tbody>\n",
       "</table>\n",
       "</div>"
      ],
      "text/plain": [
       "   resource  score_new_s\n",
       "0        ИИ            5\n",
       "1  эксперты            2"
      ]
     },
     "metadata": {},
     "output_type": "display_data"
    }
   ],
   "source": [
    "display(data_score_new_s_0, data_score_new_s_1, data_score_new_s_2)"
   ]
  },
  {
   "cell_type": "code",
   "execution_count": 37,
   "id": "6fcdf80d-3689-452b-bbbf-b6ed415c23a5",
   "metadata": {},
   "outputs": [
    {
     "data": {
      "image/png": "[encoded data removed]",
      "text/plain": [
       "<Figure size 1800x720 with 3 Axes>"
      ]
     },
     "metadata": {},
     "output_type": "display_data"
    }
   ],
   "source": [
    "colors = ['#FFE4E1', '#F08080'] #установим цвета\n",
    "labels=['ИИ', 'эксперты'] #установим названия для осей\n",
    "\n",
    "\n",
    "fig, ax = plt.subplots(1, 3)\n",
    "ax[0].pie(data_score_new_s_0['score_new_s'], labels=labels, colors=colors, labeldistance=1.1,\\\n",
    "        wedgeprops={'linewidth' : 2, 'edgecolor' : 'white'}, autopct='%1.1f%%')\n",
    "ax[0].set_title('Соотношение популярныx решений') #установим название графика\n",
    "\n",
    "ax[1].pie(data_score_new_s_1['score_new_s'], labels=labels, colors=colors, labeldistance=1.1,\\\n",
    "        wedgeprops={'linewidth' : 2, 'edgecolor' : 'white'}, autopct='%1.1f%%')\n",
    "ax[1].set_title('Соотношение вторичных решений') #установим название графика\n",
    "\n",
    "ax[2].pie(data_score_new_s_2['score_new_s'], labels=labels, colors=colors, labeldistance=1.1,\\\n",
    "        wedgeprops={'linewidth' : 2, 'edgecolor' : 'white'}, autopct='%1.1f%%')\n",
    "ax[2].set_title('Соотношение новых решений') #установим название графика\n",
    "\n",
    "fig.set_size_inches(25, 10)\n",
    "\n",
    "plt.show()"
   ]
  },
  {
   "cell_type": "markdown",
   "id": "4c7ff623-5c3a-4a77-9195-e3bfad2afc0f",
   "metadata": {},
   "source": [
    "Вывод: \n",
    "- доля новых решений (оценка новизны = 2) в группе \"эксперты\" - 29%, в группе \"ИИ\" - 71% (в количественном соотношении: 2 vs 5);\n",
    "- доля вторичных решений: \"эксперты\" - 67%, \"ИИ\" - 33% (в количественном соотношении: 10 vs 5);\n",
    "- доля популярных решений: \"эксперты\" - 10%, \"ИИ\" - 90% (в количественном соотношении: 1 vs 9)"
   ]
  },
  {
   "cell_type": "markdown",
   "id": "21a93964-eac3-408e-92c6-21dd90054648",
   "metadata": {},
   "source": [
    "**Посмотрим, как распределяются решения внутри групп \"ИИ\" и \"экспертов\" при оценке новизны**"
   ]
  },
  {
   "cell_type": "code",
   "execution_count": 38,
   "id": "9b3fe3f0-84e2-446c-96e6-6723029b40ad",
   "metadata": {},
   "outputs": [],
   "source": [
    "data_ii_new_s = data_ii.groupby('score_new_s')['topic'].count()\n",
    "data_ii_effect_s = data_ii.groupby('score_effect_s')['topic'].count()"
   ]
  },
  {
   "cell_type": "code",
   "execution_count": 39,
   "id": "5260db89-decc-4fed-af3d-75253be660ff",
   "metadata": {},
   "outputs": [],
   "source": [
    "data_exp_new_s = data_exp.groupby('score_new_s')['topic'].count()\n",
    "data_exp_effect_s = data_exp.groupby('score_effect_s')['topic'].count()"
   ]
  },
  {
   "cell_type": "markdown",
   "id": "fffb9147-2123-4223-931c-74a006dee934",
   "metadata": {},
   "source": [
    "Оценка новизны решений"
   ]
  },
  {
   "cell_type": "code",
   "execution_count": 40,
   "id": "79fc9f12-708f-4677-85c2-60b7092a9813",
   "metadata": {},
   "outputs": [
    {
     "data": {
      "text/html": [
       "<div>\n",
       "<style scoped>\n",
       "    .dataframe tbody tr th:only-of-type {\n",
       "        vertical-align: middle;\n",
       "    }\n",
       "\n",
       "    .dataframe tbody tr th {\n",
       "        vertical-align: top;\n",
       "    }\n",
       "\n",
       "    .dataframe thead th {\n",
       "        text-align: right;\n",
       "    }\n",
       "</style>\n",
       "<table border=\"1\" class=\"dataframe\">\n",
       "  <thead>\n",
       "    <tr style=\"text-align: right;\">\n",
       "      <th></th>\n",
       "      <th>resource</th>\n",
       "      <th>score_new_s</th>\n",
       "      <th>topic</th>\n",
       "    </tr>\n",
       "  </thead>\n",
       "  <tbody>\n",
       "    <tr>\n",
       "      <th>0</th>\n",
       "      <td>ИИ</td>\n",
       "      <td>0.00</td>\n",
       "      <td>9</td>\n",
       "    </tr>\n",
       "    <tr>\n",
       "      <th>1</th>\n",
       "      <td>ИИ</td>\n",
       "      <td>1.00</td>\n",
       "      <td>5</td>\n",
       "    </tr>\n",
       "    <tr>\n",
       "      <th>2</th>\n",
       "      <td>ИИ</td>\n",
       "      <td>2.00</td>\n",
       "      <td>5</td>\n",
       "    </tr>\n",
       "    <tr>\n",
       "      <th>3</th>\n",
       "      <td>эксперты</td>\n",
       "      <td>0.00</td>\n",
       "      <td>1</td>\n",
       "    </tr>\n",
       "    <tr>\n",
       "      <th>4</th>\n",
       "      <td>эксперты</td>\n",
       "      <td>1.00</td>\n",
       "      <td>10</td>\n",
       "    </tr>\n",
       "    <tr>\n",
       "      <th>5</th>\n",
       "      <td>эксперты</td>\n",
       "      <td>2.00</td>\n",
       "      <td>2</td>\n",
       "    </tr>\n",
       "  </tbody>\n",
       "</table>\n",
       "</div>"
      ],
      "text/plain": [
       "   resource  score_new_s  topic\n",
       "0        ИИ         0.00      9\n",
       "1        ИИ         1.00      5\n",
       "2        ИИ         2.00      5\n",
       "3  эксперты         0.00      1\n",
       "4  эксперты         1.00     10\n",
       "5  эксперты         2.00      2"
      ]
     },
     "execution_count": 40,
     "metadata": {},
     "output_type": "execute_result"
    }
   ],
   "source": [
    "data.groupby(['resource', 'score_new_s'])['topic'].count().reset_index()"
   ]
  },
  {
   "cell_type": "code",
   "execution_count": 41,
   "id": "14359265-0fe6-41b1-b727-4b5c54727eb5",
   "metadata": {},
   "outputs": [
    {
     "data": {
      "image/png": "[encoded data removed]",
      "text/plain": [
       "<Figure size 1080x1080 with 2 Axes>"
      ]
     },
     "metadata": {},
     "output_type": "display_data"
    }
   ],
   "source": [
    "colors = ['#FFE4E1', '#F08080', '#8EB897'] #установим цвета\n",
    "labels=['Популярные решения', 'Вторичные решения', 'Новые решения'] #установим названия для осей\n",
    "\n",
    "\n",
    "fig, ax = plt.subplots(1, 2)\n",
    "ax[0].pie(data_ii_new_s, labels=labels, colors=colors, labeldistance=1.1,\\\n",
    "        wedgeprops={'linewidth' : 2, 'edgecolor' : 'white'}, autopct='%1.1f%%')\n",
    "ax[0].set_title('Оценка новизны решений группы \"ИИ\"') #установим название графика\n",
    "\n",
    "ax[1].pie(data_exp_new_s, labels=labels, colors=colors, labeldistance=1.1,\\\n",
    "        wedgeprops={'linewidth' : 2, 'edgecolor' : 'white'}, autopct='%1.1f%%')\n",
    "ax[1].set_title('Оценка новизны решений группы \"эксперты\"') #установим название графика\n",
    "fig.set_size_inches(15, 15)\n",
    "\n",
    "plt.show()"
   ]
  },
  {
   "cell_type": "markdown",
   "id": "6c3ed78a-a09d-4e28-8c5f-2dd5bf9efc02",
   "metadata": {},
   "source": [
    "Вывод: доля новых решений в группе \"экспертов\" составляет 15%, в группе \"ИИ\" - 26%."
   ]
  },
  {
   "cell_type": "markdown",
   "id": "b6bf427b-f5e7-4455-a082-72041ce1592a",
   "metadata": {},
   "source": [
    "**Посмотрим на оценку эффективности решений при разделении на группы ИИ и экспертов**"
   ]
  },
  {
   "cell_type": "code",
   "execution_count": 42,
   "id": "46db3949-3f2f-48a4-90fc-abe33462a9f8",
   "metadata": {},
   "outputs": [],
   "source": [
    "data_score_effect_s_0 = data.query('score_effect_s == 0').groupby('resource').agg({'score_effect_s' : 'count'}).reset_index()\n",
    "data_score_effect_s_1 = data.query('score_effect_s == 1').groupby('resource').agg({'score_effect_s' : 'count'}).reset_index()\n",
    "data_score_effect_s_2 = data.query('score_effect_s == 2').groupby('resource').agg({'score_effect_s' : 'count'}).reset_index()"
   ]
  },
  {
   "cell_type": "code",
   "execution_count": 43,
   "id": "1148d0e0-0ba5-4a33-91cc-f5d217e356d9",
   "metadata": {},
   "outputs": [
    {
     "data": {
      "text/html": [
       "<div>\n",
       "<style scoped>\n",
       "    .dataframe tbody tr th:only-of-type {\n",
       "        vertical-align: middle;\n",
       "    }\n",
       "\n",
       "    .dataframe tbody tr th {\n",
       "        vertical-align: top;\n",
       "    }\n",
       "\n",
       "    .dataframe thead th {\n",
       "        text-align: right;\n",
       "    }\n",
       "</style>\n",
       "<table border=\"1\" class=\"dataframe\">\n",
       "  <thead>\n",
       "    <tr style=\"text-align: right;\">\n",
       "      <th></th>\n",
       "      <th>resource</th>\n",
       "      <th>score_effect_s</th>\n",
       "    </tr>\n",
       "  </thead>\n",
       "  <tbody>\n",
       "    <tr>\n",
       "      <th>0</th>\n",
       "      <td>ИИ</td>\n",
       "      <td>1</td>\n",
       "    </tr>\n",
       "  </tbody>\n",
       "</table>\n",
       "</div>"
      ],
      "text/plain": [
       "  resource  score_effect_s\n",
       "0       ИИ               1"
      ]
     },
     "metadata": {},
     "output_type": "display_data"
    },
    {
     "data": {
      "text/html": [
       "<div>\n",
       "<style scoped>\n",
       "    .dataframe tbody tr th:only-of-type {\n",
       "        vertical-align: middle;\n",
       "    }\n",
       "\n",
       "    .dataframe tbody tr th {\n",
       "        vertical-align: top;\n",
       "    }\n",
       "\n",
       "    .dataframe thead th {\n",
       "        text-align: right;\n",
       "    }\n",
       "</style>\n",
       "<table border=\"1\" class=\"dataframe\">\n",
       "  <thead>\n",
       "    <tr style=\"text-align: right;\">\n",
       "      <th></th>\n",
       "      <th>resource</th>\n",
       "      <th>score_effect_s</th>\n",
       "    </tr>\n",
       "  </thead>\n",
       "  <tbody>\n",
       "    <tr>\n",
       "      <th>0</th>\n",
       "      <td>ИИ</td>\n",
       "      <td>10</td>\n",
       "    </tr>\n",
       "    <tr>\n",
       "      <th>1</th>\n",
       "      <td>эксперты</td>\n",
       "      <td>2</td>\n",
       "    </tr>\n",
       "  </tbody>\n",
       "</table>\n",
       "</div>"
      ],
      "text/plain": [
       "   resource  score_effect_s\n",
       "0        ИИ              10\n",
       "1  эксперты               2"
      ]
     },
     "metadata": {},
     "output_type": "display_data"
    },
    {
     "data": {
      "text/html": [
       "<div>\n",
       "<style scoped>\n",
       "    .dataframe tbody tr th:only-of-type {\n",
       "        vertical-align: middle;\n",
       "    }\n",
       "\n",
       "    .dataframe tbody tr th {\n",
       "        vertical-align: top;\n",
       "    }\n",
       "\n",
       "    .dataframe thead th {\n",
       "        text-align: right;\n",
       "    }\n",
       "</style>\n",
       "<table border=\"1\" class=\"dataframe\">\n",
       "  <thead>\n",
       "    <tr style=\"text-align: right;\">\n",
       "      <th></th>\n",
       "      <th>resource</th>\n",
       "      <th>score_effect_s</th>\n",
       "    </tr>\n",
       "  </thead>\n",
       "  <tbody>\n",
       "    <tr>\n",
       "      <th>0</th>\n",
       "      <td>ИИ</td>\n",
       "      <td>8</td>\n",
       "    </tr>\n",
       "    <tr>\n",
       "      <th>1</th>\n",
       "      <td>эксперты</td>\n",
       "      <td>11</td>\n",
       "    </tr>\n",
       "  </tbody>\n",
       "</table>\n",
       "</div>"
      ],
      "text/plain": [
       "   resource  score_effect_s\n",
       "0        ИИ               8\n",
       "1  эксперты              11"
      ]
     },
     "metadata": {},
     "output_type": "display_data"
    }
   ],
   "source": [
    "display(data_score_effect_s_0, data_score_effect_s_1, data_score_effect_s_2)"
   ]
  },
  {
   "cell_type": "code",
   "execution_count": 44,
   "id": "28db0dd9-84d6-47f8-a406-8389ee064f9c",
   "metadata": {},
   "outputs": [
    {
     "data": {
      "image/png": "[encoded data removed]",
      "text/plain": [
       "<Figure size 1800x720 with 3 Axes>"
      ]
     },
     "metadata": {},
     "output_type": "display_data"
    }
   ],
   "source": [
    "colors = ['#FFE4E1', '#F08080'] #установим цвета\n",
    "labels=['ИИ', 'эксперты'] #установим названия для осей\n",
    "colors2 = ['#FFE4E1']\n",
    "labels2 = ['ИИ']\n",
    "\n",
    "fig, ax = plt.subplots(1, 3)\n",
    "ax[0].pie(data_score_effect_s_0['score_effect_s'], labels=labels2, colors=colors2, labeldistance=1.1,\\\n",
    "        wedgeprops={'linewidth' : 2, 'edgecolor' : 'white'}, autopct='%1.1f%%')\n",
    "ax[0].set_title('Соотношение решений с незначительным эффектом') #установим название графика\n",
    "\n",
    "ax[1].pie(data_score_effect_s_1['score_effect_s'], labels=labels, colors=colors, labeldistance=1.1,\\\n",
    "        wedgeprops={'linewidth' : 2, 'edgecolor' : 'white'}, autopct='%1.1f%%')\n",
    "ax[1].set_title('Соотношение решений с заметным результатом') #установим название графика\n",
    "\n",
    "ax[2].pie(data_score_effect_s_2['score_effect_s'], labels=labels, colors=colors, labeldistance=1.1,\\\n",
    "        wedgeprops={'linewidth' : 2, 'edgecolor' : 'white'}, autopct='%1.1f%%')\n",
    "ax[2].set_title('Соотношение решений, существенно улучшающих опыт пользователей') #установим название графика\n",
    "\n",
    "fig.set_size_inches(25, 10)\n",
    "\n",
    "plt.show()"
   ]
  },
  {
   "cell_type": "markdown",
   "id": "1eb7fec1-0827-4cf2-b215-bbaa188b79ac",
   "metadata": {},
   "source": [
    "Вывод: \n",
    "- доля решений, существенно улучшающих опыт пользователей, в группе \"экспертов\" составляет - 58%, в группе \"ИИ\" - 42% (в количественном соотношении: 11 vs 8);\n",
    "- доля решений с заметным результатом: \"эксперты\" - 17%, \"ИИ\" - 83% (в количественном соотношении: 2 vs 10);\n",
    "- доля решений с незначительным эффектом: \"эксперты\" - 0%, \"ИИ\" - 100% (в количественном соотношении: 0 vs 1)"
   ]
  },
  {
   "cell_type": "markdown",
   "id": "ce129e2c-8af4-493f-ae17-a436dce3e611",
   "metadata": {},
   "source": [
    "**Посмотрим, как распределяются решения внутри групп \"ИИ\" и \"экспертов\" при оценке эффективности**"
   ]
  },
  {
   "cell_type": "code",
   "execution_count": 45,
   "id": "9ab50281-d9d9-4ad2-92e7-7cf71d60ad01",
   "metadata": {},
   "outputs": [
    {
     "data": {
      "text/html": [
       "<div>\n",
       "<style scoped>\n",
       "    .dataframe tbody tr th:only-of-type {\n",
       "        vertical-align: middle;\n",
       "    }\n",
       "\n",
       "    .dataframe tbody tr th {\n",
       "        vertical-align: top;\n",
       "    }\n",
       "\n",
       "    .dataframe thead th {\n",
       "        text-align: right;\n",
       "    }\n",
       "</style>\n",
       "<table border=\"1\" class=\"dataframe\">\n",
       "  <thead>\n",
       "    <tr style=\"text-align: right;\">\n",
       "      <th></th>\n",
       "      <th>resource</th>\n",
       "      <th>score_effect_s</th>\n",
       "      <th>topic</th>\n",
       "    </tr>\n",
       "  </thead>\n",
       "  <tbody>\n",
       "    <tr>\n",
       "      <th>0</th>\n",
       "      <td>ИИ</td>\n",
       "      <td>0.00</td>\n",
       "      <td>1</td>\n",
       "    </tr>\n",
       "    <tr>\n",
       "      <th>1</th>\n",
       "      <td>ИИ</td>\n",
       "      <td>1.00</td>\n",
       "      <td>10</td>\n",
       "    </tr>\n",
       "    <tr>\n",
       "      <th>2</th>\n",
       "      <td>ИИ</td>\n",
       "      <td>2.00</td>\n",
       "      <td>8</td>\n",
       "    </tr>\n",
       "    <tr>\n",
       "      <th>3</th>\n",
       "      <td>эксперты</td>\n",
       "      <td>1.00</td>\n",
       "      <td>2</td>\n",
       "    </tr>\n",
       "    <tr>\n",
       "      <th>4</th>\n",
       "      <td>эксперты</td>\n",
       "      <td>2.00</td>\n",
       "      <td>11</td>\n",
       "    </tr>\n",
       "  </tbody>\n",
       "</table>\n",
       "</div>"
      ],
      "text/plain": [
       "   resource  score_effect_s  topic\n",
       "0        ИИ            0.00      1\n",
       "1        ИИ            1.00     10\n",
       "2        ИИ            2.00      8\n",
       "3  эксперты            1.00      2\n",
       "4  эксперты            2.00     11"
      ]
     },
     "execution_count": 45,
     "metadata": {},
     "output_type": "execute_result"
    }
   ],
   "source": [
    "data.groupby(['resource', 'score_effect_s'])['topic'].count().reset_index()"
   ]
  },
  {
   "cell_type": "code",
   "execution_count": 46,
   "id": "87bf58f2-5dc2-404b-8fc9-97a506090915",
   "metadata": {},
   "outputs": [
    {
     "data": {
      "image/png": "[encoded data removed]",
      "text/plain": [
       "<Figure size 1080x1080 with 2 Axes>"
      ]
     },
     "metadata": {},
     "output_type": "display_data"
    }
   ],
   "source": [
    "colors1 = ['#FFE4E1', '#F08080', '#8EB897']\n",
    "colors2 = ['#F08080', '#8EB897']#установим цвета\n",
    "labels1=['Незначительный эффект', 'Заметный результат', 'Существенно улучшающие опыт'] #установим названия для осей\n",
    "labels2=['Заметный результат', 'Существенно улучшающие опыт']\n",
    "\n",
    "fig, ax = plt.subplots(1, 2)\n",
    "ax[0].pie(data_ii_effect_s, labels=labels1, colors=colors1, labeldistance=1.1,\\\n",
    "        wedgeprops={'linewidth' : 2, 'edgecolor' : 'white'}, autopct='%1.1f%%')\n",
    "ax[0].set_title('Оценка эффективности решений, соданных в группе ИИ') #установим название графика\n",
    "\n",
    "ax[1].pie(data_exp_effect_s, labels=labels2, colors=colors2, labeldistance=1.1,\\\n",
    "        wedgeprops={'linewidth' : 2, 'edgecolor' : 'white'}, autopct='%1.1f%%')\n",
    "ax[1].set_title('Оценка эффективности решений, созданных в группе экспертов') #установим название графика\n",
    "fig.set_size_inches(15, 15)\n",
    "\n",
    "plt.show()"
   ]
  },
  {
   "cell_type": "markdown",
   "id": "af3f8f7f-8cf9-44b7-9370-efda341c2389",
   "metadata": {},
   "source": [
    "Вывод: доля решений, существенно улучшающих опыт пользователей, в группе \"экспертов\" составляет 85%, в группе \"ИИ\" - 42%."
   ]
  },
  {
   "cell_type": "code",
   "execution_count": 51,
   "id": "75cd3174-8391-43fe-83a7-404b146f042d",
   "metadata": {},
   "outputs": [
    {
     "data": {
      "text/html": [
       "<div>\n",
       "<style scoped>\n",
       "    .dataframe tbody tr th:only-of-type {\n",
       "        vertical-align: middle;\n",
       "    }\n",
       "\n",
       "    .dataframe tbody tr th {\n",
       "        vertical-align: top;\n",
       "    }\n",
       "\n",
       "    .dataframe thead th {\n",
       "        text-align: right;\n",
       "    }\n",
       "</style>\n",
       "<table border=\"1\" class=\"dataframe\">\n",
       "  <thead>\n",
       "    <tr style=\"text-align: right;\">\n",
       "      <th></th>\n",
       "      <th>topic</th>\n",
       "      <th>resource</th>\n",
       "      <th>idea</th>\n",
       "      <th>score_new_i</th>\n",
       "      <th>score_effect_i</th>\n",
       "      <th>solution</th>\n",
       "      <th>score_new_s</th>\n",
       "      <th>score_effect_s</th>\n",
       "    </tr>\n",
       "  </thead>\n",
       "  <tbody>\n",
       "    <tr>\n",
       "      <th>0</th>\n",
       "      <td>оценка дисциплин в SAS (COURSE EVALUATION)</td>\n",
       "      <td>ИИ</td>\n",
       "      <td>Администрация пишет комплименты и поощрения пе...</td>\n",
       "      <td>1</td>\n",
       "      <td>0</td>\n",
       "      <td>Новая страница на сайте SAS со всеми изменения...</td>\n",
       "      <td>2.00</td>\n",
       "      <td>2.00</td>\n",
       "    </tr>\n",
       "    <tr>\n",
       "      <th>1</th>\n",
       "      <td>оценка дисциплин в SAS (COURSE EVALUATION)</td>\n",
       "      <td>ИИ</td>\n",
       "      <td>Day inverse.День обратный. Учащиеся читают сво...</td>\n",
       "      <td>1</td>\n",
       "      <td>1</td>\n",
       "      <td>Коллекционирование лягушек: геймификация</td>\n",
       "      <td>0.00</td>\n",
       "      <td>1.00</td>\n",
       "    </tr>\n",
       "    <tr>\n",
       "      <th>2</th>\n",
       "      <td>оценка дисциплин в SAS (COURSE EVALUATION)</td>\n",
       "      <td>ИИ</td>\n",
       "      <td>Концерт</td>\n",
       "      <td>2</td>\n",
       "      <td>1</td>\n",
       "      <td>Новая Teaching Policy: заполнение в классе</td>\n",
       "      <td>0.00</td>\n",
       "      <td>0.00</td>\n",
       "    </tr>\n",
       "    <tr>\n",
       "      <th>3</th>\n",
       "      <td>оценка дисциплин в SAS (COURSE EVALUATION)</td>\n",
       "      <td>ИИ</td>\n",
       "      <td>Организовывать встречи со студентами, когда ре...</td>\n",
       "      <td>0</td>\n",
       "      <td>2</td>\n",
       "      <td>Новые переформулированные вопросы и порядок во...</td>\n",
       "      <td>0.00</td>\n",
       "      <td>2.00</td>\n",
       "    </tr>\n",
       "    <tr>\n",
       "      <th>4</th>\n",
       "      <td>оценка дисциплин в SAS (COURSE EVALUATION)</td>\n",
       "      <td>ИИ</td>\n",
       "      <td>Нарисованный отчет</td>\n",
       "      <td>2</td>\n",
       "      <td>2</td>\n",
       "      <td>NaN</td>\n",
       "      <td>NaN</td>\n",
       "      <td>NaN</td>\n",
       "    </tr>\n",
       "    <tr>\n",
       "      <th>...</th>\n",
       "      <td>...</td>\n",
       "      <td>...</td>\n",
       "      <td>...</td>\n",
       "      <td>...</td>\n",
       "      <td>...</td>\n",
       "      <td>...</td>\n",
       "      <td>...</td>\n",
       "      <td>...</td>\n",
       "    </tr>\n",
       "    <tr>\n",
       "      <th>554</th>\n",
       "      <td>Опыт жизни в общежитии</td>\n",
       "      <td>ИИ</td>\n",
       "      <td>обязанность клининг-сервиса</td>\n",
       "      <td>1</td>\n",
       "      <td>1</td>\n",
       "      <td>NaN</td>\n",
       "      <td>NaN</td>\n",
       "      <td>NaN</td>\n",
       "    </tr>\n",
       "    <tr>\n",
       "      <th>555</th>\n",
       "      <td>Опыт жизни в общежитии</td>\n",
       "      <td>ИИ</td>\n",
       "      <td>увеличить количество (время) рабочих часов</td>\n",
       "      <td>0</td>\n",
       "      <td>1</td>\n",
       "      <td>NaN</td>\n",
       "      <td>NaN</td>\n",
       "      <td>NaN</td>\n",
       "    </tr>\n",
       "    <tr>\n",
       "      <th>556</th>\n",
       "      <td>Опыт жизни в общежитии</td>\n",
       "      <td>ИИ</td>\n",
       "      <td>разрешить брать сразу 2 комплекта</td>\n",
       "      <td>0</td>\n",
       "      <td>0</td>\n",
       "      <td>NaN</td>\n",
       "      <td>NaN</td>\n",
       "      <td>NaN</td>\n",
       "    </tr>\n",
       "    <tr>\n",
       "      <th>557</th>\n",
       "      <td>Опыт жизни в общежитии</td>\n",
       "      <td>ИИ</td>\n",
       "      <td>личная доверенность для гостей общежития</td>\n",
       "      <td>0</td>\n",
       "      <td>1</td>\n",
       "      <td>NaN</td>\n",
       "      <td>NaN</td>\n",
       "      <td>NaN</td>\n",
       "    </tr>\n",
       "    <tr>\n",
       "      <th>558</th>\n",
       "      <td>Опыт жизни в общежитии</td>\n",
       "      <td>ИИ</td>\n",
       "      <td>- “одноразовый” пропуск</td>\n",
       "      <td>1</td>\n",
       "      <td>2</td>\n",
       "      <td>NaN</td>\n",
       "      <td>NaN</td>\n",
       "      <td>NaN</td>\n",
       "    </tr>\n",
       "  </tbody>\n",
       "</table>\n",
       "<p>559 rows × 8 columns</p>\n",
       "</div>"
      ],
      "text/plain": [
       "                                          topic resource  \\\n",
       "0    оценка дисциплин в SAS (COURSE EVALUATION)       ИИ   \n",
       "1    оценка дисциплин в SAS (COURSE EVALUATION)       ИИ   \n",
       "2    оценка дисциплин в SAS (COURSE EVALUATION)       ИИ   \n",
       "3    оценка дисциплин в SAS (COURSE EVALUATION)       ИИ   \n",
       "4    оценка дисциплин в SAS (COURSE EVALUATION)       ИИ   \n",
       "..                                          ...      ...   \n",
       "554                      Опыт жизни в общежитии       ИИ   \n",
       "555                      Опыт жизни в общежитии       ИИ   \n",
       "556                      Опыт жизни в общежитии       ИИ   \n",
       "557                      Опыт жизни в общежитии       ИИ   \n",
       "558                      Опыт жизни в общежитии       ИИ   \n",
       "\n",
       "                                                  idea  score_new_i  \\\n",
       "0    Администрация пишет комплименты и поощрения пе...            1   \n",
       "1    Day inverse.День обратный. Учащиеся читают сво...            1   \n",
       "2                                              Концерт            2   \n",
       "3    Организовывать встречи со студентами, когда ре...            0   \n",
       "4                                   Нарисованный отчет            2   \n",
       "..                                                 ...          ...   \n",
       "554                        обязанность клининг-сервиса            1   \n",
       "555         увеличить количество (время) рабочих часов            0   \n",
       "556                  разрешить брать сразу 2 комплекта            0   \n",
       "557           личная доверенность для гостей общежития            0   \n",
       "558                            - “одноразовый” пропуск            1   \n",
       "\n",
       "     score_effect_i                                           solution  \\\n",
       "0                 0  Новая страница на сайте SAS со всеми изменения...   \n",
       "1                 1           Коллекционирование лягушек: геймификация   \n",
       "2                 1         Новая Teaching Policy: заполнение в классе   \n",
       "3                 2  Новые переформулированные вопросы и порядок во...   \n",
       "4                 2                                                NaN   \n",
       "..              ...                                                ...   \n",
       "554               1                                                NaN   \n",
       "555               1                                                NaN   \n",
       "556               0                                                NaN   \n",
       "557               1                                                NaN   \n",
       "558               2                                                NaN   \n",
       "\n",
       "     score_new_s  score_effect_s  \n",
       "0           2.00            2.00  \n",
       "1           0.00            1.00  \n",
       "2           0.00            0.00  \n",
       "3           0.00            2.00  \n",
       "4            NaN             NaN  \n",
       "..           ...             ...  \n",
       "554          NaN             NaN  \n",
       "555          NaN             NaN  \n",
       "556          NaN             NaN  \n",
       "557          NaN             NaN  \n",
       "558          NaN             NaN  \n",
       "\n",
       "[559 rows x 8 columns]"
      ]
     },
     "execution_count": 51,
     "metadata": {},
     "output_type": "execute_result"
    }
   ],
   "source": [
    "data"
   ]
  },
  {
   "cell_type": "markdown",
   "id": "ffc6be58-f71f-4eda-916b-ed6cb28ee837",
   "metadata": {},
   "source": [
    "**Посмотрим на корреляцию между новизной идей и решений**"
   ]
  },
  {
   "cell_type": "code",
   "execution_count": 49,
   "id": "e9d1e0e2-bb7c-4574-b00b-3da4ffb1881e",
   "metadata": {},
   "outputs": [
    {
     "data": {
      "text/plain": [
       "0.3244933745945566"
      ]
     },
     "execution_count": 49,
     "metadata": {},
     "output_type": "execute_result"
    }
   ],
   "source": [
    "data['score_new_i'].corr(data['score_new_s'])"
   ]
  },
  {
   "cell_type": "markdown",
   "id": "3add11e8-454c-4735-88bb-a14eecff4d6c",
   "metadata": {},
   "source": [
    "**Посмотрим на корреляцию между эффективностью идей и решений**"
   ]
  },
  {
   "cell_type": "code",
   "execution_count": 52,
   "id": "3e7a4188-d63a-498e-94f1-1177a9dadced",
   "metadata": {},
   "outputs": [
    {
     "data": {
      "text/plain": [
       "0.29931715330852116"
      ]
     },
     "execution_count": 52,
     "metadata": {},
     "output_type": "execute_result"
    }
   ],
   "source": [
    "data['score_effect_i'].corr(data['score_effect_s'])"
   ]
  },
  {
   "cell_type": "markdown",
   "id": "d232e01f-a5a9-484c-8308-4b226492c4cd",
   "metadata": {},
   "source": [
    "## 5. Общий вывод"
   ]
  },
  {
   "cell_type": "markdown",
   "id": "f9c66ba1-5d1a-437c-87a2-980b40d8d883",
   "metadata": {},
   "source": [
    "В ходе работы над проектом нами сделано:\n",
    "1. Построена общая гистограмма, показывающая, что:\n",
    "    - по количеству оценок новизны идей преобладают \"0\"(свыше 250) и \"1\"(около 240) оценки, оценки \"2\" - около 60;\n",
    "    - оценка эффективности идей: \"0\" - 50, \"1\" - свыше 250, \"2\" - около 240;\n",
    "    - оценка новизны решений: \"0\" - 10, \"1\" - 15, \"2\" - 7;\n",
    "    - оценка эффективности решений: \"0\" - 1, \"1\" - 12, \"2\" - 18.\n",
    "        \n",
    "2. Проверена гипотеза, что качество идей, сгенерированных при помощи экспертов выше, чем качество идей, сгенерированных при помощи искусственного интеллекта.\n",
    "После проведения t-теста отвергнуты нулевые гипотезы о равенстве средних показателей в группах, то есть между группами \"экспертов\" и \"ИИ\" в оценке новизны и эффективности идей есть статистически значимая разница.\n",
    "\n",
    "3. Исследовано соотношение новизны идей:\n",
    "- доля новых идей(новизна идей = 2) в группе \"экспертов\" превышает долю идей в группе \"ИИ\" больше чем в два раза: 71% vs 29% (в количественном соотношении 48 vs 20);\n",
    "- доля вторичных идей: \"эксперты\" 58%, \"ИИ\" 42% (в количественном соотношении 139 vs 99);\n",
    "- доля популярных идей: \"эксперты\" 44%, \"ИИ\" 56% (в количественном соотношении 111 vs 142).\n",
    "\n",
    "А также, что доля новых идей в группе \"экспертов\" составляет 16% от общего количества идей в группе, в группе \"ИИ\" - 8%.\n",
    "\n",
    "4. Исследовано соотношение эффективности идей:\n",
    "- доля идей, существенно улучшающих опыт пользователей, в группе \"эксперты\" - 64%, в группе \"ИИ\" - 36% (в количественном соотношении: 154 vs 85);\n",
    "- доля идей с заметным результатом: \"эксперты\" - 46%, \"ИИ\" - 54% (в количественном соотношении: 125 vs 146);\n",
    "- доля идей с незначительным эффектом: \"эксперты\" - 39%, \"ИИ\" - 61% (в количественном соотношении: 19 vs 30)\n",
    "\n",
    "А также, что доля идей, существенно улучшающих опыт пользователей, в группе \"эксперты\" составляет 52%, в группе \"ИИ\" - 33%.\n",
    "\n",
    "5. Исследовано соотношение новизны решений:\n",
    "- доля новых решений (оценка новизны = 2) в группе \"эксперты\" - 29%, в группе \"ИИ\" - 71% (в количественном соотношении: 2 vs 5);\n",
    "- доля вторичных решений: \"эксперты\" - 67%, \"ИИ\" - 33% (в количественном соотношении: 10 vs 5);\n",
    "- доля популярных решений: \"эксперты\" - 10%, \"ИИ\" - 90% (в количественном соотношении: 1 vs 9)\n",
    "\n",
    "А также, что доля новых решений в группе \"экспертов\" составляет 15%, в группе \"ИИ\" - 26%.\n",
    "\n",
    "6. Исследовано соотношение эффективности решений:\n",
    "- доля решений, существенно улучшающих опыт пользователей, в группе \"экспертов\" составляет - 58%, в группе \"ИИ\" - 42% (в количественном соотношении: 11 vs 8);\n",
    "- доля решений с заметным результатом: \"эксперты\" - 17%, \"ИИ\" - 83% (в количественном соотношении: 2 vs 10);\n",
    "- доля решений с незначительным эффектом: \"эксперты\" - 0%, \"ИИ\" - 100% (в количественном соотношении: 0 vs 1)\n",
    "\n",
    "\n",
    "А также, доля решений, существенно улучшающих опыт пользователей, в группе \"экспертов\" составляет 85%, в группе \"ИИ\" - 42%.\n",
    "\n",
    "7. Корреляция между новизной идей и новизной решений составляет - 0.324. Корреляция между эффективностью идей и эффективностью решений составляет - 0.299.\n"
   ]
  },
  {
   "cell_type": "code",
   "execution_count": null,
   "id": "010503f0-6a6f-4501-be35-b80ffcf900a0",
   "metadata": {},
   "outputs": [],
   "source": []
  }
 ],
 "metadata": {
  "kernelspec": {
   "display_name": "Python 3 (ipykernel)",
   "language": "python",
   "name": "python3"
  },
  "language_info": {
   "codemirror_mode": {
    "name": "ipython",
    "version": 3
   },
   "file_extension": ".py",
   "mimetype": "text/x-python",
   "name": "python",
   "nbconvert_exporter": "python",
   "pygments_lexer": "ipython3",
   "version": "3.9.5"
  },
  "widgets": {
   "application/vnd.jupyter.widget-state+json": {
    "state": {},
    "version_major": 2,
    "version_minor": 0
   }
  }
 },
 "nbformat": 4,
 "nbformat_minor": 5
}
